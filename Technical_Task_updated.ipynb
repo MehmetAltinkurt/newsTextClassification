{
  "cells": [
    {
      "cell_type": "markdown",
      "metadata": {
        "id": "MYTf_R7vg3Qd"
      },
      "source": [
        "# Hybrid Core Technical Task"
      ]
    },
    {
      "cell_type": "markdown",
      "metadata": {
        "id": "hVYQq_fkg3Qf"
      },
      "source": [
        "### Import libraries and load the data"
      ]
    },
    {
      "cell_type": "code",
      "execution_count": 1,
      "metadata": {
        "id": "g64rujgVg3Qf"
      },
      "outputs": [],
      "source": [
        "import numpy as np\n",
        "import pandas as pd\n",
        "\n",
        "import nltk\n",
        "from nltk.corpus import stopwords\n",
        "from nltk.stem import WordNetLemmatizer\n",
        "\n",
        "from sklearn.model_selection import train_test_split\n",
        "from sklearn.model_selection import GridSearchCV\n",
        "from sklearn.metrics import confusion_matrix, classification_report, f1_score, recall_score, accuracy_score\n",
        "\n",
        "from sklearn.feature_extraction.text import TfidfVectorizer\n",
        "\n",
        "import pickle"
      ]
    },
    {
      "cell_type": "code",
      "execution_count": 3,
      "metadata": {
        "id": "_Ihr21sAg3Qg"
      },
      "outputs": [],
      "source": [
        "df=pd.read_excel(\"Task Data.xlsx\")"
      ]
    },
    {
      "cell_type": "code",
      "execution_count": 4,
      "metadata": {
        "colab": {
          "base_uri": "https://localhost:8080/",
          "height": 693
        },
        "id": "oI-a96K5g3Qh",
        "outputId": "f14d97d3-8005-4c45-8972-215fae7e3657"
      },
      "outputs": [
        {
          "data": {
            "text/html": [
              "<div>\n",
              "<style scoped>\n",
              "    .dataframe tbody tr th:only-of-type {\n",
              "        vertical-align: middle;\n",
              "    }\n",
              "\n",
              "    .dataframe tbody tr th {\n",
              "        vertical-align: top;\n",
              "    }\n",
              "\n",
              "    .dataframe thead th {\n",
              "        text-align: right;\n",
              "    }\n",
              "</style>\n",
              "<table border=\"1\" class=\"dataframe\">\n",
              "  <thead>\n",
              "    <tr style=\"text-align: right;\">\n",
              "      <th></th>\n",
              "      <th>DocumentId</th>\n",
              "      <th>Locations</th>\n",
              "      <th>Headline</th>\n",
              "      <th>Abstract</th>\n",
              "      <th>First Part</th>\n",
              "      <th>Event Category</th>\n",
              "      <th>1st Level Sub Category</th>\n",
              "      <th>2nd Level Sub Category</th>\n",
              "      <th>3rd Level Sub Category</th>\n",
              "    </tr>\n",
              "  </thead>\n",
              "  <tbody>\n",
              "    <tr>\n",
              "      <th>139</th>\n",
              "      <td>ConflictDocId105</td>\n",
              "      <td>['Tripoli', 'Tunis', 'Libya', 'Misrata']</td>\n",
              "      <td>Tripoli airport closes again after rocket fire</td>\n",
              "      <td>TRIPOLI (Reuters) - The only functioning airpo...</td>\n",
              "      <td>Mitiga had only reopened on Jan. 14 after mont...</td>\n",
              "      <td>conflicts</td>\n",
              "      <td>armedConflicts</td>\n",
              "      <td>explosionsRemoteViolence</td>\n",
              "      <td>NaN</td>\n",
              "    </tr>\n",
              "    <tr>\n",
              "      <th>0</th>\n",
              "      <td>AgreementsDocId1</td>\n",
              "      <td>['Italy', 'Libya', 'Tripoli']</td>\n",
              "      <td>Al-Sarraj reviews with Eni officials support f...</td>\n",
              "      <td>The Head of the Libyan Presidential Council Fa...</td>\n",
              "      <td>The meeting was held in the presence of Eni CE...</td>\n",
              "      <td>agreements</td>\n",
              "      <td>governmentPrivateActorAgreements</td>\n",
              "      <td>Energy agreements / meetings / visits</td>\n",
              "      <td>NaN</td>\n",
              "    </tr>\n",
              "    <tr>\n",
              "      <th>371</th>\n",
              "      <td>PoliticalDocId12</td>\n",
              "      <td>Libya</td>\n",
              "      <td>POLITICAL INSTABILITY AFFECTING CREDIT ACCESS ...</td>\n",
              "      <td>The monetary crisis currently entangling Libya...</td>\n",
              "      <td>One of the main factors that has contributed t...</td>\n",
              "      <td>politicalEvents</td>\n",
              "      <td>badGovernance</td>\n",
              "      <td>NaN</td>\n",
              "      <td>NaN</td>\n",
              "    </tr>\n",
              "    <tr>\n",
              "      <th>432</th>\n",
              "      <td>TerrorDocId2</td>\n",
              "      <td>Benghazi</td>\n",
              "      <td>Wide condemnation of assassination of female l...</td>\n",
              "      <td>There has been wide condemnation of yesterday'...</td>\n",
              "      <td>The EU, UK and German Embassies also condemned...</td>\n",
              "      <td>terror</td>\n",
              "      <td>assassination</td>\n",
              "      <td>NaN</td>\n",
              "      <td>NaN</td>\n",
              "    </tr>\n",
              "    <tr>\n",
              "      <th>49</th>\n",
              "      <td>ConflictDocId20</td>\n",
              "      <td>['Libya', 'Tripoli', 'Cairo', 'Turkey', 'Syria...</td>\n",
              "      <td>Libyan gov't abducts anticorruption official i...</td>\n",
              "      <td>CAIRO (AP) -- One of Libya's top anti-corrupti...</td>\n",
              "      <td>The audit bureau is an independent body appoin...</td>\n",
              "      <td>conflicts</td>\n",
              "      <td>armedConflicts</td>\n",
              "      <td>violenceAgainstCivilians</td>\n",
              "      <td>Abduction/forced disappearance</td>\n",
              "    </tr>\n",
              "    <tr>\n",
              "      <th>226</th>\n",
              "      <td>DiplomaticDocId64</td>\n",
              "      <td>['Libya', 'Maio, Cape Verde', 'Egypt', 'Italy'...</td>\n",
              "      <td>Egypt, Italy FMs discuss achieving comprehensi...</td>\n",
              "      <td>According to an official statement, Egyptian f...</td>\n",
              "      <td>The two ministers also discussed the latest de...</td>\n",
              "      <td>diplomatic</td>\n",
              "      <td>diplomaticAgreements</td>\n",
              "      <td>NaN</td>\n",
              "      <td>NaN</td>\n",
              "    </tr>\n",
              "    <tr>\n",
              "      <th>205</th>\n",
              "      <td>DiplomaticDocId39</td>\n",
              "      <td>['United Kingdom', 'Libya', 'Tripoli']</td>\n",
              "      <td>CBL governor, UK ambassador discuss return of ...</td>\n",
              "      <td>The Governor of the Central Bank of Libya (CBL...</td>\n",
              "      <td>The meeting also touched on ways to activate t...</td>\n",
              "      <td>diplomatic</td>\n",
              "      <td>diplomaticAgreements</td>\n",
              "      <td>Economic agreements / meetings / visits</td>\n",
              "      <td>NaN</td>\n",
              "    </tr>\n",
              "    <tr>\n",
              "      <th>36</th>\n",
              "      <td>ConflictDocId9</td>\n",
              "      <td>['United Arab Emirates', 'Libya']</td>\n",
              "      <td>Two Russian air defense systems destroyed in A...</td>\n",
              "      <td>Haftar's militias</td>\n",
              "      <td>The second Russian-made Pantsir anti-aircraft ...</td>\n",
              "      <td>conflicts</td>\n",
              "      <td>armedConflicts</td>\n",
              "      <td>explosionsRemoteViolence</td>\n",
              "      <td>Air/drone attack / air defence</td>\n",
              "    </tr>\n",
              "    <tr>\n",
              "      <th>468</th>\n",
              "      <td>TerrorDocId34</td>\n",
              "      <td>al-Ghani oil field near Zalla</td>\n",
              "      <td>IS Takes Foreign Hostages at Oilfield</td>\n",
              "      <td>Nine foreigners working for the Malta-based Au...</td>\n",
              "      <td>They were working at the al-Ghani oil field (p...</td>\n",
              "      <td>terror</td>\n",
              "      <td>hostageTaking</td>\n",
              "      <td>NaN</td>\n",
              "      <td>NaN</td>\n",
              "    </tr>\n",
              "    <tr>\n",
              "      <th>126</th>\n",
              "      <td>ConflictDocId92</td>\n",
              "      <td>['Moscow', 'Turkey', 'Russia', 'Libya', 'Tripo...</td>\n",
              "      <td>Russia throws down the gauntlet in Libya with ...</td>\n",
              "      <td>Russia has upped the stakes in Libya after dep...</td>\n",
              "      <td>\"It is a big play for Russia, doing it in broa...</td>\n",
              "      <td>conflicts</td>\n",
              "      <td>nonViolentConflicts</td>\n",
              "      <td>militaryPreparations</td>\n",
              "      <td>NaN</td>\n",
              "    </tr>\n",
              "  </tbody>\n",
              "</table>\n",
              "</div>"
            ],
            "text/plain": [
              "            DocumentId                                          Locations  \\\n",
              "139   ConflictDocId105           ['Tripoli', 'Tunis', 'Libya', 'Misrata']   \n",
              "0     AgreementsDocId1                      ['Italy', 'Libya', 'Tripoli']   \n",
              "371   PoliticalDocId12                                              Libya   \n",
              "432       TerrorDocId2                                           Benghazi   \n",
              "49     ConflictDocId20  ['Libya', 'Tripoli', 'Cairo', 'Turkey', 'Syria...   \n",
              "226  DiplomaticDocId64  ['Libya', 'Maio, Cape Verde', 'Egypt', 'Italy'...   \n",
              "205  DiplomaticDocId39             ['United Kingdom', 'Libya', 'Tripoli']   \n",
              "36      ConflictDocId9                  ['United Arab Emirates', 'Libya']   \n",
              "468      TerrorDocId34                      al-Ghani oil field near Zalla   \n",
              "126    ConflictDocId92  ['Moscow', 'Turkey', 'Russia', 'Libya', 'Tripo...   \n",
              "\n",
              "                                              Headline  \\\n",
              "139     Tripoli airport closes again after rocket fire   \n",
              "0    Al-Sarraj reviews with Eni officials support f...   \n",
              "371  POLITICAL INSTABILITY AFFECTING CREDIT ACCESS ...   \n",
              "432  Wide condemnation of assassination of female l...   \n",
              "49   Libyan gov't abducts anticorruption official i...   \n",
              "226  Egypt, Italy FMs discuss achieving comprehensi...   \n",
              "205  CBL governor, UK ambassador discuss return of ...   \n",
              "36   Two Russian air defense systems destroyed in A...   \n",
              "468              IS Takes Foreign Hostages at Oilfield   \n",
              "126  Russia throws down the gauntlet in Libya with ...   \n",
              "\n",
              "                                              Abstract  \\\n",
              "139  TRIPOLI (Reuters) - The only functioning airpo...   \n",
              "0    The Head of the Libyan Presidential Council Fa...   \n",
              "371  The monetary crisis currently entangling Libya...   \n",
              "432  There has been wide condemnation of yesterday'...   \n",
              "49   CAIRO (AP) -- One of Libya's top anti-corrupti...   \n",
              "226  According to an official statement, Egyptian f...   \n",
              "205  The Governor of the Central Bank of Libya (CBL...   \n",
              "36                                   Haftar's militias   \n",
              "468  Nine foreigners working for the Malta-based Au...   \n",
              "126  Russia has upped the stakes in Libya after dep...   \n",
              "\n",
              "                                            First Part   Event Category  \\\n",
              "139  Mitiga had only reopened on Jan. 14 after mont...        conflicts   \n",
              "0    The meeting was held in the presence of Eni CE...       agreements   \n",
              "371  One of the main factors that has contributed t...  politicalEvents   \n",
              "432  The EU, UK and German Embassies also condemned...           terror   \n",
              "49   The audit bureau is an independent body appoin...        conflicts   \n",
              "226  The two ministers also discussed the latest de...       diplomatic   \n",
              "205  The meeting also touched on ways to activate t...       diplomatic   \n",
              "36   The second Russian-made Pantsir anti-aircraft ...        conflicts   \n",
              "468  They were working at the al-Ghani oil field (p...           terror   \n",
              "126  \"It is a big play for Russia, doing it in broa...        conflicts   \n",
              "\n",
              "               1st Level Sub Category  \\\n",
              "139                    armedConflicts   \n",
              "0    governmentPrivateActorAgreements   \n",
              "371                     badGovernance   \n",
              "432                     assassination   \n",
              "49                     armedConflicts   \n",
              "226              diplomaticAgreements   \n",
              "205              diplomaticAgreements   \n",
              "36                     armedConflicts   \n",
              "468                     hostageTaking   \n",
              "126               nonViolentConflicts   \n",
              "\n",
              "                      2nd Level Sub Category          3rd Level Sub Category  \n",
              "139                 explosionsRemoteViolence                             NaN  \n",
              "0      Energy agreements / meetings / visits                             NaN  \n",
              "371                                      NaN                             NaN  \n",
              "432                                      NaN                             NaN  \n",
              "49                  violenceAgainstCivilians  Abduction/forced disappearance  \n",
              "226                                      NaN                             NaN  \n",
              "205  Economic agreements / meetings / visits                             NaN  \n",
              "36                  explosionsRemoteViolence  Air/drone attack / air defence  \n",
              "468                                      NaN                             NaN  \n",
              "126                     militaryPreparations                             NaN  "
            ]
          },
          "execution_count": 4,
          "metadata": {},
          "output_type": "execute_result"
        }
      ],
      "source": [
        "df.sample(10)"
      ]
    },
    {
      "cell_type": "markdown",
      "metadata": {
        "id": "d2xTvBgzg3Qh"
      },
      "source": [
        "### Exploratory Data Analysis"
      ]
    },
    {
      "cell_type": "code",
      "execution_count": 5,
      "metadata": {
        "colab": {
          "base_uri": "https://localhost:8080/"
        },
        "id": "R5sun-E-g3Qi",
        "outputId": "82b6fb20-899b-4b70-f886-cff9a604fc3e"
      },
      "outputs": [
        {
          "name": "stdout",
          "output_type": "stream",
          "text": [
            "<class 'pandas.core.frame.DataFrame'>\n",
            "RangeIndex: 489 entries, 0 to 488\n",
            "Data columns (total 9 columns):\n",
            " #   Column                  Non-Null Count  Dtype \n",
            "---  ------                  --------------  ----- \n",
            " 0   DocumentId              463 non-null    object\n",
            " 1   Locations               436 non-null    object\n",
            " 2   Headline                462 non-null    object\n",
            " 3   Abstract                458 non-null    object\n",
            " 4   First Part              449 non-null    object\n",
            " 5   Event Category          462 non-null    object\n",
            " 6   1st Level Sub Category  462 non-null    object\n",
            " 7   2nd Level Sub Category  249 non-null    object\n",
            " 8   3rd Level Sub Category  103 non-null    object\n",
            "dtypes: object(9)\n",
            "memory usage: 34.5+ KB\n"
          ]
        }
      ],
      "source": [
        "df.info()"
      ]
    },
    {
      "cell_type": "markdown",
      "metadata": {
        "id": "m1U1mB2ng3Qi"
      },
      "source": [
        "We have 489 examples of data with a lot of missing values"
      ]
    },
    {
      "cell_type": "code",
      "execution_count": 6,
      "metadata": {
        "id": "4YUjVKuMg3Qi"
      },
      "outputs": [],
      "source": [
        "# Since DocumentId is a Unique for all examples (documents) we can drop this feature.\n",
        "df.drop(\"DocumentId\", axis=1, inplace=True)"
      ]
    },
    {
      "cell_type": "code",
      "execution_count": 7,
      "metadata": {
        "colab": {
          "base_uri": "https://localhost:8080/"
        },
        "id": "CeEYOwzIg3Qi",
        "outputId": "9833b5e9-317f-40a5-b29c-22b6eb6c41d2"
      },
      "outputs": [
        {
          "data": {
            "text/plain": [
              "27"
            ]
          },
          "execution_count": 7,
          "metadata": {},
          "output_type": "execute_result"
        }
      ],
      "source": [
        "#let's see how many documents have all null values\n",
        "sum(df.isnull().all(axis=1))"
      ]
    },
    {
      "cell_type": "markdown",
      "metadata": {
        "id": "6Y-__bdFg3Qi"
      },
      "source": [
        "27 documents have all null values"
      ]
    },
    {
      "cell_type": "code",
      "execution_count": 8,
      "metadata": {
        "id": "T1wpZy-cg3Qj"
      },
      "outputs": [],
      "source": [
        "# Drop the documents with all null values\n",
        "df.drop(df.index[df.isnull().all(axis=1)], inplace=True)"
      ]
    },
    {
      "cell_type": "code",
      "execution_count": 9,
      "metadata": {
        "colab": {
          "base_uri": "https://localhost:8080/"
        },
        "id": "Qv6nY_YSg3Qj",
        "outputId": "43fedb43-df17-451e-cbda-97d1855da9db"
      },
      "outputs": [
        {
          "name": "stdout",
          "output_type": "stream",
          "text": [
            "<class 'pandas.core.frame.DataFrame'>\n",
            "Int64Index: 462 entries, 0 to 488\n",
            "Data columns (total 8 columns):\n",
            " #   Column                  Non-Null Count  Dtype \n",
            "---  ------                  --------------  ----- \n",
            " 0   Locations               436 non-null    object\n",
            " 1   Headline                462 non-null    object\n",
            " 2   Abstract                458 non-null    object\n",
            " 3   First Part              449 non-null    object\n",
            " 4   Event Category          462 non-null    object\n",
            " 5   1st Level Sub Category  462 non-null    object\n",
            " 6   2nd Level Sub Category  249 non-null    object\n",
            " 7   3rd Level Sub Category  103 non-null    object\n",
            "dtypes: object(8)\n",
            "memory usage: 32.5+ KB\n"
          ]
        }
      ],
      "source": [
        "df.info()"
      ]
    },
    {
      "cell_type": "markdown",
      "metadata": {
        "id": "1ZPhnY8Dg3Qj"
      },
      "source": [
        "We have 462 documents remaining"
      ]
    },
    {
      "cell_type": "code",
      "execution_count": 10,
      "metadata": {
        "colab": {
          "base_uri": "https://localhost:8080/"
        },
        "id": "JvIzcZuIg3Qj",
        "outputId": "4d7c0c60-5b93-4337-e832-f39d7fd1f7f6"
      },
      "outputs": [
        {
          "data": {
            "text/plain": [
              "Locations                                     ['Italy', 'Libya', 'Tripoli']\n",
              "Headline                  Al-Sarraj reviews with Eni officials support f...\n",
              "Abstract                  The Head of the Libyan Presidential Council Fa...\n",
              "First Part                The meeting was held in the presence of Eni CE...\n",
              "Event Category                                                   agreements\n",
              "1st Level Sub Category                     governmentPrivateActorAgreements\n",
              "2nd Level Sub Category                Energy agreements / meetings / visits\n",
              "3rd Level Sub Category                                                  NaN\n",
              "Name: 0, dtype: object"
            ]
          },
          "execution_count": 10,
          "metadata": {},
          "output_type": "execute_result"
        }
      ],
      "source": [
        "df.iloc[0]"
      ]
    },
    {
      "cell_type": "markdown",
      "metadata": {
        "id": "9G7yU07Gg3Qk"
      },
      "source": [
        "Location feature is a list of locations.\n",
        "\n",
        "Let's see how many items in Location feature."
      ]
    },
    {
      "cell_type": "code",
      "execution_count": 11,
      "metadata": {
        "colab": {
          "base_uri": "https://localhost:8080/"
        },
        "id": "I6wUUmGeg3Qk",
        "outputId": "35f8958b-2a11-470e-aac4-be18f1d0aedd"
      },
      "outputs": [
        {
          "data": {
            "text/plain": [
              "0      3\n",
              "1      2\n",
              "2      3\n",
              "3      4\n",
              "4      4\n",
              "      ..\n",
              "483    7\n",
              "484    3\n",
              "486    9\n",
              "487    3\n",
              "488    2\n",
              "Name: Locations, Length: 462, dtype: int64"
            ]
          },
          "execution_count": 11,
          "metadata": {},
          "output_type": "execute_result"
        }
      ],
      "source": [
        "def countitems(s):\n",
        "    s=str(s)\n",
        "    return len(s.strip('][').split(', '))\n",
        "\n",
        "lcount=df.Locations.apply(lambda x: countitems(x))\n",
        "lcount"
      ]
    },
    {
      "cell_type": "code",
      "execution_count": 12,
      "metadata": {
        "colab": {
          "base_uri": "https://localhost:8080/"
        },
        "id": "iSOJdd5IJuJ6",
        "outputId": "c20c7020-4c65-49be-8c51-90c457b26456"
      },
      "outputs": [
        {
          "data": {
            "text/plain": [
              "0                                [Italy, Libya, Tripoli]\n",
              "1                                         [Italy, Libya]\n",
              "2                                [Libya, Tripoli, Sirte]\n",
              "3                         [Libya, Sweden, France, Brega]\n",
              "4                [\"Ras Lanuf\", Tripoli, Benghazi, Libya]\n",
              "                             ...                        \n",
              "483    [Sirte, Tripoli, Benghazi, Libya, Russia, Egyp...\n",
              "484                           [Tripoli, Libya, Benghazi]\n",
              "486    [Benghazi, Tripoli, Libya, Turkey, Russia, Egy...\n",
              "487                                 [Chad, Sudan, Libya]\n",
              "488                                     [Marj, Benghazi]\n",
              "Name: Locations, Length: 462, dtype: object"
            ]
          },
          "execution_count": 12,
          "metadata": {},
          "output_type": "execute_result"
        }
      ],
      "source": [
        "def loclist(s):\n",
        "    s=str(s)\n",
        "    return s.strip('][').replace(\"'\",\"\").split(', ')\n",
        "\n",
        "loc=df.Locations.apply(lambda x: loclist(x))\n",
        "loc"
      ]
    },
    {
      "cell_type": "code",
      "execution_count": 13,
      "metadata": {
        "colab": {
          "base_uri": "https://localhost:8080/"
        },
        "id": "skuv9bWvvxDP",
        "outputId": "4d054bbc-ce45-438d-d714-2fc4a7d59edf"
      },
      "outputs": [
        {
          "data": {
            "text/plain": [
              "124"
            ]
          },
          "execution_count": 13,
          "metadata": {},
          "output_type": "execute_result"
        }
      ],
      "source": [
        "sum(lcount==1)"
      ]
    },
    {
      "cell_type": "code",
      "execution_count": 14,
      "metadata": {
        "colab": {
          "base_uri": "https://localhost:8080/"
        },
        "id": "r0rTYjRJ-WHt",
        "outputId": "3e0a82f6-17fc-4ae2-c454-733baa33ad36"
      },
      "outputs": [
        {
          "data": {
            "text/plain": [
              "Locations                                                               NaN\n",
              "Headline                  Libya's Fragmentation: Structure and Process i...\n",
              "Abstract                  After the overthrow of the Qadhafi regime in 2...\n",
              "First Part                Rarely does internal division and political fr...\n",
              "Event Category                                              politicalEvents\n",
              "1st Level Sub Category                                        badGovernance\n",
              "2nd Level Sub Category                                                  NaN\n",
              "3rd Level Sub Category                                                  NaN\n",
              "Name: 375, dtype: object"
            ]
          },
          "execution_count": 14,
          "metadata": {},
          "output_type": "execute_result"
        }
      ],
      "source": [
        "df.loc[375]"
      ]
    },
    {
      "cell_type": "code",
      "execution_count": 15,
      "metadata": {
        "colab": {
          "base_uri": "https://localhost:8080/"
        },
        "id": "ZffIcHh8KBEb",
        "outputId": "9ddae263-024a-4df9-f8fd-a0aa2ebbb2fe"
      },
      "outputs": [
        {
          "data": {
            "text/plain": [
              "['Benghazi', 'Tripoli', 'Libya', 'Turkey', 'Russia']"
            ]
          },
          "execution_count": 15,
          "metadata": {},
          "output_type": "execute_result"
        }
      ],
      "source": [
        "loc[87]"
      ]
    },
    {
      "cell_type": "code",
      "execution_count": 17,
      "metadata": {
        "colab": {
          "base_uri": "https://localhost:8080/"
        },
        "id": "Wx_WxqPDg3Qk",
        "outputId": "1c27eee0-a1a8-470d-c8cc-80de0ddfe31f"
      },
      "outputs": [
        {
          "name": "stdout",
          "output_type": "stream",
          "text": [
            "Maximum location count: 20\n",
            "Minimum location count: 1\n",
            "Average location count: 3.7510822510822512\n",
            "Median of the location counts: 3.0\n"
          ]
        }
      ],
      "source": [
        "print(\"Maximum location count:\",max(lcount))\n",
        "print(\"Minimum location count:\",min(lcount))\n",
        "print(\"Average location count:\",np.mean(lcount))\n",
        "print(\"Median of the location counts:\",np.median(lcount))\n"
      ]
    },
    {
      "cell_type": "markdown",
      "metadata": {
        "id": "BgYvnh8sg3Qk"
      },
      "source": [
        "Average location count is 3.75\n",
        "\n",
        "Let's see how many words there are in Headline feature"
      ]
    },
    {
      "cell_type": "code",
      "execution_count": 18,
      "metadata": {
        "id": "ew2mbkT_g3Qk"
      },
      "outputs": [],
      "source": [
        "hwcount=df.Headline.apply(lambda x: len(x.split()))"
      ]
    },
    {
      "cell_type": "code",
      "execution_count": 19,
      "metadata": {
        "colab": {
          "base_uri": "https://localhost:8080/"
        },
        "id": "Q1wH5m13g3Ql",
        "outputId": "bb6dc713-6426-467f-aceb-ce432ec78b36"
      },
      "outputs": [
        {
          "data": {
            "text/plain": [
              "10    83\n",
              "8     79\n",
              "9     79\n",
              "11    51\n",
              "7     42\n",
              "12    38\n",
              "6     30\n",
              "13    18\n",
              "15    11\n",
              "14     7\n",
              "4      5\n",
              "5      3\n",
              "16     3\n",
              "17     3\n",
              "18     3\n",
              "20     2\n",
              "3      2\n",
              "19     1\n",
              "22     1\n",
              "23     1\n",
              "Name: Headline, dtype: int64"
            ]
          },
          "execution_count": 19,
          "metadata": {},
          "output_type": "execute_result"
        }
      ],
      "source": [
        "hwcount.value_counts()"
      ]
    },
    {
      "cell_type": "markdown",
      "metadata": {
        "id": "4x2Ga3zDg3Ql"
      },
      "source": [
        "Average word count in Headline feature is 9.65"
      ]
    },
    {
      "cell_type": "code",
      "execution_count": 20,
      "metadata": {
        "id": "-Ydwiy2tg3Ql"
      },
      "outputs": [],
      "source": [
        "def notnullwordcount(x):\n",
        "    if type(x)==float:\n",
        "        return 0\n",
        "    else:\n",
        "        return len(x.split())"
      ]
    },
    {
      "cell_type": "code",
      "execution_count": 21,
      "metadata": {
        "id": "I6lfVU0fg3Ql"
      },
      "outputs": [],
      "source": [
        "awcount=df.Abstract.apply(lambda x: notnullwordcount(x))"
      ]
    },
    {
      "cell_type": "code",
      "execution_count": 22,
      "metadata": {
        "colab": {
          "base_uri": "https://localhost:8080/"
        },
        "id": "lUBNWjIZg3Ql",
        "outputId": "a7ed4f47-9043-47e1-fe00-777067f54444"
      },
      "outputs": [
        {
          "data": {
            "text/plain": [
              "59.27272727272727"
            ]
          },
          "execution_count": 22,
          "metadata": {},
          "output_type": "execute_result"
        }
      ],
      "source": [
        "awcount.mean()"
      ]
    },
    {
      "cell_type": "markdown",
      "metadata": {
        "id": "YzYSw2XWg3Ql"
      },
      "source": [
        "Average word count in Abstract feature is 59.27"
      ]
    },
    {
      "cell_type": "code",
      "execution_count": 23,
      "metadata": {
        "id": "7aBCzBvTg3Ql"
      },
      "outputs": [],
      "source": [
        "fpwcount=df[\"First Part\"].apply(lambda x: notnullwordcount(x))"
      ]
    },
    {
      "cell_type": "code",
      "execution_count": 24,
      "metadata": {
        "colab": {
          "base_uri": "https://localhost:8080/"
        },
        "id": "KLnVp5Gqg3Qm",
        "outputId": "b46c7ca6-4522-43d6-83bd-ed044863900f"
      },
      "outputs": [
        {
          "data": {
            "text/plain": [
              "88.94155844155844"
            ]
          },
          "execution_count": 24,
          "metadata": {},
          "output_type": "execute_result"
        }
      ],
      "source": [
        "fpwcount.mean()"
      ]
    },
    {
      "cell_type": "code",
      "execution_count": 25,
      "metadata": {
        "colab": {
          "base_uri": "https://localhost:8080/"
        },
        "id": "uXeFcYSUOfG0",
        "outputId": "9cfaf269-d5d2-41dd-891a-ebbfdfbde614"
      },
      "outputs": [
        {
          "name": "stdout",
          "output_type": "stream",
          "text": [
            "Maksimum Kelime Sayıları: 23 140 221\n",
            "Ortalama Kelime Sayıları: 9.651515151515152 59.27272727272727 88.94155844155844\n"
          ]
        }
      ],
      "source": [
        "print(\"Maximum word counts:\",max(hwcount),max(awcount),max(fpwcount))\n",
        "print(\"Average word counts:\",np.mean(hwcount),np.mean(awcount),np.mean(fpwcount))"
      ]
    },
    {
      "cell_type": "code",
      "execution_count": 26,
      "metadata": {
        "colab": {
          "base_uri": "https://localhost:8080/"
        },
        "id": "cXFzRQIPg3Qm",
        "outputId": "dfa3ab04-e77b-4663-8eb2-163f2c48e6e5"
      },
      "outputs": [
        {
          "data": {
            "text/plain": [
              "10"
            ]
          },
          "execution_count": 26,
          "metadata": {},
          "output_type": "execute_result"
        }
      ],
      "source": [
        "df[\"Event Category\"].nunique()"
      ]
    },
    {
      "cell_type": "code",
      "execution_count": 27,
      "metadata": {
        "colab": {
          "base_uri": "https://localhost:8080/"
        },
        "id": "JukbFoNdg3Qm",
        "outputId": "e31cde0f-7b0b-4d06-be0b-cc1548f9f626"
      },
      "outputs": [
        {
          "data": {
            "text/plain": [
              "conflicts                 133\n",
              "diplomatic                 77\n",
              "economicEvents             54\n",
              "naturalDisasters           49\n",
              "terror                     39\n",
              "societalChallenges         36\n",
              "politicalEvents            33\n",
              "agreements                 25\n",
              "uprising                   10\n",
              "technologicalDisasters      6\n",
              "Name: Event Category, dtype: int64"
            ]
          },
          "execution_count": 27,
          "metadata": {},
          "output_type": "execute_result"
        }
      ],
      "source": [
        "df[\"Event Category\"].value_counts(dropna=False)"
      ]
    },
    {
      "cell_type": "markdown",
      "metadata": {
        "id": "q1Pl53RUg3Qm"
      },
      "source": [
        "\"Event Category\" and \"1st Level Sub Category\" features has no missing values"
      ]
    },
    {
      "cell_type": "code",
      "execution_count": 28,
      "metadata": {
        "colab": {
          "base_uri": "https://localhost:8080/"
        },
        "id": "J5fxoaKOg3Qm",
        "outputId": "5ab726d5-0cc2-4f23-8576-be1cf297ed9e"
      },
      "outputs": [
        {
          "data": {
            "text/plain": [
              "Index(['conflicts', 'diplomatic', 'economicEvents', 'naturalDisasters',\n",
              "       'terror', 'societalChallenges', 'politicalEvents', 'agreements',\n",
              "       'uprising', 'technologicalDisasters'],\n",
              "      dtype='object')"
            ]
          },
          "execution_count": 28,
          "metadata": {},
          "output_type": "execute_result"
        }
      ],
      "source": [
        "df[\"Event Category\"].value_counts(dropna=False).index"
      ]
    },
    {
      "cell_type": "markdown",
      "metadata": {
        "id": "B4DE2Rbbg3Qw"
      },
      "source": [
        "### Classification for \"Event Category\""
      ]
    },
    {
      "cell_type": "markdown",
      "metadata": {
        "id": "KpBfYMzbg3Qx"
      },
      "source": [
        "#### Data preparation"
      ]
    },
    {
      "cell_type": "markdown",
      "metadata": {
        "id": "-2Nn6Bmvg3Qx"
      },
      "source": [
        "We need to convert the data that machine can understand."
      ]
    },
    {
      "cell_type": "code",
      "execution_count": 29,
      "metadata": {
        "colab": {
          "base_uri": "https://localhost:8080/"
        },
        "id": "a1V9-OXng3Qx",
        "outputId": "8060de01-bb42-479d-e7f3-8316e5acdd4f"
      },
      "outputs": [
        {
          "name": "stdout",
          "output_type": "stream",
          "text": [
            "Headline:\n",
            " Al-Sarraj reviews with Eni officials support for Libya's electricity\n",
            "Abstract:\n",
            " The Head of the Libyan Presidential Council Fayez Al-Sarraj discussed Monday with Italian oil giant Eni officials possible investments of the Italian company in Libya in development projects in areas where the company operates and support the electricity sector. The discussion came in a meeting in Tripoli where Eni officials and Al-Sarraj reviewed the work of the Italian company.\n",
            "First Part:\n",
            " The meeting was held in the presence of Eni CEO Claudio Descalzi and other officials from the Italian company, in addition to the Chairman of the National Oil Corporation Mustafa Sanallah.\n"
          ]
        }
      ],
      "source": [
        "print(\"Headline:\\n\",df.iloc[0,1])\n",
        "print(\"Abstract:\\n\",df.iloc[0,2])\n",
        "print(\"First Part:\\n\",df.iloc[0,3])"
      ]
    },
    {
      "cell_type": "markdown",
      "metadata": {
        "id": "adcKN3NAg3Qx"
      },
      "source": [
        "We have three text features to classify the data. We may concatinate them to have bigger data."
      ]
    },
    {
      "cell_type": "code",
      "execution_count": 31,
      "metadata": {
        "id": "yJsRQX7wg3Qx"
      },
      "outputs": [],
      "source": [
        "df[\"texts\"]=df['Headline'] + \" \" + df['Abstract'].fillna(\"\") + \" \" + df['First Part'].fillna(\"\")"
      ]
    },
    {
      "cell_type": "markdown",
      "metadata": {
        "id": "k-hp837fg3Qx"
      },
      "source": [
        "In this approach we relate word counts with categorization. We use NLTK library for this process."
      ]
    },
    {
      "cell_type": "code",
      "execution_count": 32,
      "metadata": {
        "colab": {
          "base_uri": "https://localhost:8080/"
        },
        "id": "aL-mcRYig3Qx",
        "outputId": "23b40be3-c11a-45a9-b936-57d913490bb7"
      },
      "outputs": [
        {
          "name": "stderr",
          "output_type": "stream",
          "text": [
            "[nltk_data] Downloading package stopwords to\n",
            "[nltk_data]     C:\\Users\\mehme\\AppData\\Roaming\\nltk_data...\n",
            "[nltk_data]   Package stopwords is already up-to-date!\n",
            "[nltk_data] Downloading package wordnet to\n",
            "[nltk_data]     C:\\Users\\mehme\\AppData\\Roaming\\nltk_data...\n",
            "[nltk_data]   Package wordnet is already up-to-date!\n"
          ]
        },
        {
          "data": {
            "text/plain": [
              "True"
            ]
          },
          "execution_count": 32,
          "metadata": {},
          "output_type": "execute_result"
        }
      ],
      "source": [
        "nltk.download('stopwords')\n",
        "nltk.download('wordnet')"
      ]
    },
    {
      "cell_type": "markdown",
      "metadata": {
        "id": "k0wYPY9Qg3Qx"
      },
      "source": [
        "We should follow these steps for data cleaning:\n",
        "<br> 1. We should make all letters lower case. We don't want to count book and Book seperately.\n",
        "<br> 2. We should get rid of the panctuations.\n",
        "<br> 3. We should get rid of the stop words. Stop words are the words that are used a lot but not directly related with the meaning.\n",
        "<br> 4. We should count all the words in the root form. We don't want to count book and books seperately."
      ]
    },
    {
      "cell_type": "code",
      "execution_count": 33,
      "metadata": {
        "id": "oliQ-BiNg3Qy"
      },
      "outputs": [],
      "source": [
        "stop_words = stopwords.words('english')"
      ]
    },
    {
      "cell_type": "code",
      "execution_count": 34,
      "metadata": {
        "id": "ERpFJ5esg3Qy"
      },
      "outputs": [],
      "source": [
        "def cleantext(text):\n",
        "    import re\n",
        "\n",
        "    #Convert to lower case\n",
        "    text=text.lower()\n",
        "\n",
        "    # Get rid of the punctuations\n",
        "    text_without_punc = re.sub(r'[^\\w\\s]', '', text)\n",
        "\n",
        "    # Get rid of the numbers\n",
        "    text_without_num=re.sub(r'[0-9]', '', text_without_punc)\n",
        "\n",
        "    #Remove Stopwords\n",
        "    text_without_sw = [t for t in text_without_num.split() if t not in stop_words]\n",
        "\n",
        "    # Find the roots\n",
        "    lemmatized= [WordNetLemmatizer().lemmatize(t) for t in text_without_sw]\n",
        "\n",
        "    #Join words again\n",
        "    return \" \".join(lemmatized)"
      ]
    },
    {
      "cell_type": "code",
      "execution_count": 35,
      "metadata": {
        "id": "ZtrGlrt7g3Qy"
      },
      "outputs": [],
      "source": [
        "df[\"cleaned_text\"]=df[\"texts\"].apply(cleantext)"
      ]
    },
    {
      "cell_type": "code",
      "execution_count": 36,
      "metadata": {
        "colab": {
          "base_uri": "https://localhost:8080/"
        },
        "id": "ba9lPHKAg3Qy",
        "outputId": "e7852ca6-eb8a-4ccd-ef16-70a714bfda53"
      },
      "outputs": [
        {
          "data": {
            "text/plain": [
              "0      alsarraj review eni official support libya ele...\n",
              "1      noc eni review resuming stalled project chairm...\n",
              "2      halliburton discus increased cooperation noc i...\n",
              "3      libya say total mull investment nation oil fie...\n",
              "4      zallaf noc discus new south refinery wide rang...\n",
              "                             ...                        \n",
              "483    protester dispersed gunfire libya capital trip...\n",
              "484    libyan protestors torch eastern government off...\n",
              "486    protest flare libya benghazi power cut living ...\n",
              "487    protest hun haftar mercenary kill local citize...\n",
              "488    eastern libya demonstrator shot burn state bui...\n",
              "Name: cleaned_text, Length: 462, dtype: object"
            ]
          },
          "execution_count": 36,
          "metadata": {},
          "output_type": "execute_result"
        }
      ],
      "source": [
        "df[\"cleaned_text\"]"
      ]
    },
    {
      "cell_type": "markdown",
      "metadata": {
        "id": "B1tTJtiog3Qy"
      },
      "source": [
        "#### Vectorization"
      ]
    },
    {
      "cell_type": "markdown",
      "metadata": {
        "id": "MYxA9MsIg3Qz"
      },
      "source": [
        "After cleainin the text we should convert the words to numbers which is called vectorization. There are two types of vectorization:\n",
        "<br> *Bag of Words (BoW):* We count each word for each document.\n",
        "<br> *TFIDF Vectorizer* Term Frequency-Inverse Document Frequency: We take word counts in the whole corpus into account.\n",
        "<br> We use TFIDF for this project."
      ]
    },
    {
      "cell_type": "markdown",
      "metadata": {
        "id": "3UZvvHgKg3Qz"
      },
      "source": [
        "Since TFIDF uses the whole corpus, to prevent data leakage we should split to data first."
      ]
    },
    {
      "cell_type": "code",
      "execution_count": 37,
      "metadata": {
        "id": "7ZXY74h_g3Qz"
      },
      "outputs": [],
      "source": [
        "X = df[\"cleaned_text\"]\n",
        "y = df[\"Event Category\"]"
      ]
    },
    {
      "cell_type": "code",
      "execution_count": 38,
      "metadata": {
        "id": "0pPeJF80g3Qz"
      },
      "outputs": [],
      "source": [
        "# Since meteorological and hydrological events are so rare we use stratify=y so that test data have these types of events\n",
        "X_train, X_test, y_train, y_test = train_test_split(X, y, test_size=0.3, stratify=y, random_state=101)"
      ]
    },
    {
      "cell_type": "code",
      "execution_count": 39,
      "metadata": {
        "colab": {
          "base_uri": "https://localhost:8080/"
        },
        "id": "pkyDK4LVg3Qz",
        "outputId": "d24ab09d-dbd6-4ec5-e581-dc4f572f5e39"
      },
      "outputs": [
        {
          "data": {
            "text/plain": [
              "146           conflicts\n",
              "6            agreements\n",
              "280    naturalDisasters\n",
              "296    naturalDisasters\n",
              "241          diplomatic\n",
              "             ...       \n",
              "392     politicalEvents\n",
              "440              terror\n",
              "112           conflicts\n",
              "368     politicalEvents\n",
              "115           conflicts\n",
              "Name: Event Category, Length: 139, dtype: object"
            ]
          },
          "execution_count": 39,
          "metadata": {},
          "output_type": "execute_result"
        }
      ],
      "source": [
        "y_test"
      ]
    },
    {
      "cell_type": "code",
      "execution_count": 40,
      "metadata": {
        "id": "kzhrpWa_g3Q0"
      },
      "outputs": [],
      "source": [
        "tf_idf_vectorizer = TfidfVectorizer()\n",
        "X_train_tf_idf = tf_idf_vectorizer.fit_transform(X_train)\n",
        "X_test_tf_idf = tf_idf_vectorizer.transform(X_test)"
      ]
    },
    {
      "cell_type": "code",
      "execution_count": 42,
      "metadata": {
        "colab": {
          "base_uri": "https://localhost:8080/"
        },
        "id": "-nZlQLOLg3Q0",
        "outputId": "b49f2fb8-1aed-4d72-d11c-86c3fd42a66b"
      },
      "outputs": [
        {
          "data": {
            "text/plain": [
              "['abandoned',\n",
              " 'abc',\n",
              " 'abdalla',\n",
              " 'abdel',\n",
              " 'abdelfatah',\n",
              " 'abducted',\n",
              " 'abduction',\n",
              " 'abdul',\n",
              " 'abdullah',\n",
              " 'abdulrasoul',\n",
              " 'abdulsalam',\n",
              " 'abide',\n",
              " 'ability',\n",
              " 'ablaze',\n",
              " 'able',\n",
              " 'aboard',\n",
              " 'abortedhowever',\n",
              " 'abortive',\n",
              " 'abovementioned',\n",
              " 'abroad',\n",
              " 'abroadthe',\n",
              " 'absence',\n",
              " 'absent',\n",
              " 'absolute',\n",
              " 'abu',\n",
              " 'abuse',\n",
              " 'abuser',\n",
              " 'academy',\n",
              " 'accelerated',\n",
              " 'accelerating',\n",
              " 'accept',\n",
              " 'acceptable',\n",
              " 'accepted',\n",
              " 'accepting',\n",
              " 'accepts',\n",
              " 'access',\n",
              " 'accessory',\n",
              " 'accompanied',\n",
              " 'accompanying',\n",
              " 'accomplish',\n",
              " 'accord',\n",
              " 'accordance',\n",
              " 'according',\n",
              " 'accordviolence',\n",
              " 'account',\n",
              " 'accountability',\n",
              " 'accountable',\n",
              " 'accountableaccording',\n",
              " 'accounted',\n",
              " 'accrued',\n",
              " 'accumulating',\n",
              " 'accumulation',\n",
              " 'accuracy',\n",
              " 'accurate',\n",
              " 'accusation',\n",
              " 'accuse',\n",
              " 'accused',\n",
              " 'accuses',\n",
              " 'accusing',\n",
              " 'achieve',\n",
              " 'achieved',\n",
              " 'achievement',\n",
              " 'achieving',\n",
              " 'acid',\n",
              " 'acquiring',\n",
              " 'acquisition',\n",
              " 'across',\n",
              " 'act',\n",
              " 'acting',\n",
              " 'action',\n",
              " 'activate',\n",
              " 'active',\n",
              " 'activist',\n",
              " 'activity',\n",
              " 'actor',\n",
              " 'actually',\n",
              " 'acute',\n",
              " 'add',\n",
              " 'added',\n",
              " 'addedalwatiya',\n",
              " 'addedit',\n",
              " 'addedmeanwhile',\n",
              " 'addedthe',\n",
              " 'adding',\n",
              " 'addition',\n",
              " 'additional',\n",
              " 'address',\n",
              " 'addressed',\n",
              " 'addson',\n",
              " 'adequate',\n",
              " 'adhere',\n",
              " 'adhered',\n",
              " 'adjacent',\n",
              " 'adjusted',\n",
              " 'adjustment',\n",
              " 'administration',\n",
              " 'administrative',\n",
              " 'adopted',\n",
              " 'adopts',\n",
              " 'advance',\n",
              " 'advanced',\n",
              " 'advancement',\n",
              " 'advancing',\n",
              " 'advantage',\n",
              " 'advice',\n",
              " 'advised',\n",
              " 'adviserstensions',\n",
              " 'advisor',\n",
              " 'advisory',\n",
              " 'advocating',\n",
              " 'aerial',\n",
              " 'affair',\n",
              " 'affected',\n",
              " 'affecting',\n",
              " 'affiliate',\n",
              " 'affiliated',\n",
              " 'affirmed',\n",
              " 'afford',\n",
              " 'affordable',\n",
              " 'africa',\n",
              " 'africagovernment',\n",
              " 'africahe',\n",
              " 'african',\n",
              " 'africathe',\n",
              " 'africom',\n",
              " 'afriqiyah',\n",
              " 'afternoon',\n",
              " 'afterward',\n",
              " 'againthe',\n",
              " 'age',\n",
              " 'ageela',\n",
              " 'agency',\n",
              " 'agencya',\n",
              " 'agencyalwatiya',\n",
              " 'agencythe',\n",
              " 'agenda',\n",
              " 'aggravated',\n",
              " 'aggression',\n",
              " 'ago',\n",
              " 'agoco',\n",
              " 'agothe',\n",
              " 'agppo',\n",
              " 'agree',\n",
              " 'agreed',\n",
              " 'agreeing',\n",
              " 'agreement',\n",
              " 'agreementearlier',\n",
              " 'agrees',\n",
              " 'agricultural',\n",
              " 'agriculture',\n",
              " 'ahead',\n",
              " 'ahmad',\n",
              " 'ahmed',\n",
              " 'ahval',\n",
              " 'aid',\n",
              " 'aim',\n",
              " 'aimed',\n",
              " 'aiming',\n",
              " 'air',\n",
              " 'airbase',\n",
              " 'airbasealwatiya',\n",
              " 'airbasethe',\n",
              " 'airbus',\n",
              " 'aircraft',\n",
              " 'airfield',\n",
              " 'airforce',\n",
              " 'airlift',\n",
              " 'airline',\n",
              " 'airliner',\n",
              " 'airport',\n",
              " 'airportit',\n",
              " 'airspace',\n",
              " 'airstrike',\n",
              " 'airstrikemuhammed',\n",
              " 'airstrikes',\n",
              " 'airway',\n",
              " 'ajdabiya',\n",
              " 'aka',\n",
              " 'akar',\n",
              " 'aki',\n",
              " 'akkari',\n",
              " 'al',\n",
              " 'alabdali',\n",
              " 'alahrar',\n",
              " 'alakhdar',\n",
              " 'alandalus',\n",
              " 'alarm',\n",
              " 'alaska',\n",
              " 'alaywan',\n",
              " 'albaida',\n",
              " 'albaidha',\n",
              " 'albarassi',\n",
              " 'albashir',\n",
              " 'albay',\n",
              " 'albayda',\n",
              " 'albirkas',\n",
              " 'alburi',\n",
              " 'aldahir',\n",
              " 'aldeen',\n",
              " 'alert',\n",
              " 'alessandro',\n",
              " 'alexander',\n",
              " 'alfalah',\n",
              " 'alfatah',\n",
              " 'alfetorihaftars',\n",
              " 'alfitr',\n",
              " 'algeria',\n",
              " 'alghadab',\n",
              " 'alghani',\n",
              " 'algharyani',\n",
              " 'algiers',\n",
              " 'alhadhba',\n",
              " 'alhaleeq',\n",
              " 'alhalle',\n",
              " 'alhandasya',\n",
              " 'alharari',\n",
              " 'alharary',\n",
              " 'alhassi',\n",
              " 'alhuni',\n",
              " 'ali',\n",
              " 'aligned',\n",
              " 'alive',\n",
              " 'aljabal',\n",
              " 'aljaroushi',\n",
              " 'aljufra',\n",
              " 'aljufrah',\n",
              " 'aljumua',\n",
              " 'alkabeer',\n",
              " 'alkabir',\n",
              " 'alkani',\n",
              " 'alkanis',\n",
              " 'alkaniyat',\n",
              " 'alkhadim',\n",
              " 'allegation',\n",
              " 'alleged',\n",
              " 'allegedly',\n",
              " 'alleviates',\n",
              " 'alliance',\n",
              " 'allied',\n",
              " 'allocated',\n",
              " 'allow',\n",
              " 'allowed',\n",
              " 'allowing',\n",
              " 'allows',\n",
              " 'allshare',\n",
              " 'ally',\n",
              " 'almabrouk',\n",
              " 'almadani',\n",
              " 'almadar',\n",
              " 'almajai',\n",
              " 'almajaie',\n",
              " 'almanfi',\n",
              " 'almarj',\n",
              " 'almesmari',\n",
              " 'almishri',\n",
              " 'almismari',\n",
              " 'almismariit',\n",
              " 'almoroj',\n",
              " 'almosmari',\n",
              " 'almost',\n",
              " 'alnajjar',\n",
              " 'alone',\n",
              " 'along',\n",
              " 'alongside',\n",
              " 'alqaddafi',\n",
              " 'alqaeda',\n",
              " 'alqardabiya',\n",
              " 'alqardabiyah',\n",
              " 'alrahma',\n",
              " 'already',\n",
              " 'alreaid',\n",
              " 'alsadiq',\n",
              " 'alsaidi',\n",
              " 'alsalam',\n",
              " 'alsarraj',\n",
              " 'alsarrajduring',\n",
              " 'alserraj',\n",
              " 'alsharif',\n",
              " 'alshati',\n",
              " 'also',\n",
              " 'alsunni',\n",
              " 'alternative',\n",
              " 'although',\n",
              " 'altumi',\n",
              " 'alwadi',\n",
              " 'alwarfalli',\n",
              " 'alwasat',\n",
              " 'alwataniya',\n",
              " 'alwatiya',\n",
              " 'alwatiyahis',\n",
              " 'always',\n",
              " 'alwefaq',\n",
              " 'alzawiya',\n",
              " 'alzwai',\n",
              " 'amal',\n",
              " 'amari',\n",
              " 'ambassador',\n",
              " 'ambition',\n",
              " 'ambush',\n",
              " 'ambushed',\n",
              " 'amcham',\n",
              " 'america',\n",
              " 'american',\n",
              " 'amid',\n",
              " 'ammar',\n",
              " 'ammunition',\n",
              " 'ammunitionegyptian',\n",
              " 'ammunitionladen',\n",
              " 'ammunitionthe',\n",
              " 'amnesty',\n",
              " 'among',\n",
              " 'amongst',\n",
              " 'amount',\n",
              " 'amounted',\n",
              " 'amsterdam',\n",
              " 'anadolu',\n",
              " 'analysis',\n",
              " 'analyst',\n",
              " 'analystsmany',\n",
              " 'andalus',\n",
              " 'andrew',\n",
              " 'angela',\n",
              " 'anger',\n",
              " 'angering',\n",
              " 'angola',\n",
              " 'angry',\n",
              " 'ankara',\n",
              " 'announce',\n",
              " 'announced',\n",
              " 'announcement',\n",
              " 'announces',\n",
              " 'annulled',\n",
              " 'anonymity',\n",
              " 'anonymous',\n",
              " 'another',\n",
              " 'ansamed',\n",
              " 'answer',\n",
              " 'answering',\n",
              " 'antiaircraft',\n",
              " 'antiarmor',\n",
              " 'anticipated',\n",
              " 'anticoronavirus',\n",
              " 'anticorruption',\n",
              " 'antihaftar',\n",
              " 'antiimmigrant',\n",
              " 'antiisis',\n",
              " 'antipersonnel',\n",
              " 'antitank',\n",
              " 'antonio',\n",
              " 'antonovtype',\n",
              " 'anwar',\n",
              " 'anyone',\n",
              " 'anything',\n",
              " 'anywhere',\n",
              " 'ap',\n",
              " 'apart',\n",
              " 'apollo',\n",
              " 'app',\n",
              " 'apparatus',\n",
              " 'apparently',\n",
              " 'appeal',\n",
              " 'appealed',\n",
              " 'appealshifters',\n",
              " 'appear',\n",
              " 'appeared',\n",
              " 'appears',\n",
              " 'applying',\n",
              " 'appoint',\n",
              " 'appointed',\n",
              " 'appointment',\n",
              " 'appoints',\n",
              " 'appreciated',\n",
              " 'appreciation',\n",
              " 'approach',\n",
              " 'approval',\n",
              " 'approved',\n",
              " 'approves',\n",
              " 'approximately',\n",
              " 'april',\n",
              " 'aprildozens',\n",
              " 'apriltripoli',\n",
              " 'aqailah',\n",
              " 'aqim',\n",
              " 'arab',\n",
              " 'arabia',\n",
              " 'arabian',\n",
              " 'arabic',\n",
              " 'arbitrary',\n",
              " 'area',\n",
              " 'arealibyas',\n",
              " 'areasmeanwhile',\n",
              " 'areasthe',\n",
              " 'arising',\n",
              " 'arm',\n",
              " 'armed',\n",
              " 'armored',\n",
              " 'armoured',\n",
              " 'army',\n",
              " 'armyled',\n",
              " 'armythe',\n",
              " 'around',\n",
              " 'arrangement',\n",
              " 'arranging',\n",
              " 'array',\n",
              " 'arrest',\n",
              " 'arrested',\n",
              " 'arrival',\n",
              " 'arrive',\n",
              " 'arrived',\n",
              " 'arrives',\n",
              " 'arriving',\n",
              " 'arsenal',\n",
              " 'artery',\n",
              " 'artillery',\n",
              " 'aside',\n",
              " 'asked',\n",
              " 'asking',\n",
              " 'aspect',\n",
              " 'aspiration',\n",
              " 'aspires',\n",
              " 'ass',\n",
              " 'assassinated',\n",
              " 'assassination',\n",
              " 'assault',\n",
              " 'assaultit',\n",
              " 'assemblythe',\n",
              " 'asserted',\n",
              " 'assertively',\n",
              " 'assessing',\n",
              " 'assessment',\n",
              " 'asset',\n",
              " 'assign',\n",
              " 'assignment',\n",
              " 'assigns',\n",
              " 'assist',\n",
              " 'assistance',\n",
              " 'assistant',\n",
              " 'associate',\n",
              " 'associated',\n",
              " 'association',\n",
              " 'assumed',\n",
              " 'assures',\n",
              " 'asylum',\n",
              " 'asylumseekers',\n",
              " 'athens',\n",
              " 'attached',\n",
              " 'attack',\n",
              " 'attackaccording',\n",
              " 'attacked',\n",
              " 'attacker',\n",
              " 'attacking',\n",
              " 'attempt',\n",
              " 'attempted',\n",
              " 'attempting',\n",
              " 'attend',\n",
              " 'attended',\n",
              " 'attention',\n",
              " 'attifel',\n",
              " 'attorney',\n",
              " 'attributed',\n",
              " 'audio',\n",
              " 'audit',\n",
              " 'auditing',\n",
              " 'aug',\n",
              " 'august',\n",
              " 'auspex',\n",
              " 'australia',\n",
              " 'australian',\n",
              " 'austria',\n",
              " 'authorisation',\n",
              " 'authoritarian',\n",
              " 'authority',\n",
              " 'authorization',\n",
              " 'auto',\n",
              " 'automatic',\n",
              " 'available',\n",
              " 'aviation',\n",
              " 'avoid',\n",
              " 'await',\n",
              " 'away',\n",
              " 'ayman',\n",
              " 'azerbaijani',\n",
              " 'back',\n",
              " 'backbone',\n",
              " 'backdrop',\n",
              " 'backed',\n",
              " 'backer',\n",
              " 'background',\n",
              " 'backing',\n",
              " 'backlash',\n",
              " 'backlashforeign',\n",
              " 'backup',\n",
              " 'bad',\n",
              " 'badr',\n",
              " 'badraddin',\n",
              " 'baggage',\n",
              " 'bahr',\n",
              " 'baiyu',\n",
              " 'balance',\n",
              " 'ballot',\n",
              " 'ban',\n",
              " 'bangladeshi',\n",
              " 'bank',\n",
              " 'banking',\n",
              " 'bankruptcy',\n",
              " 'bankthe',\n",
              " 'banned',\n",
              " 'banner',\n",
              " 'banning',\n",
              " 'bar',\n",
              " 'barack',\n",
              " 'barak',\n",
              " 'barasi',\n",
              " 'barassi',\n",
              " 'barassis',\n",
              " 'barometric',\n",
              " 'barrel',\n",
              " 'barrelperday',\n",
              " 'barrick',\n",
              " 'bartolo',\n",
              " 'base',\n",
              " 'basealwatiya',\n",
              " 'based',\n",
              " 'basethe',\n",
              " 'bashaga',\n",
              " 'bashagha',\n",
              " 'bashaghas',\n",
              " 'bashir',\n",
              " 'basic',\n",
              " 'basin',\n",
              " 'basis',\n",
              " 'basket',\n",
              " 'batch',\n",
              " 'battalion',\n",
              " 'battered',\n",
              " 'battery',\n",
              " 'battle',\n",
              " 'battlefield',\n",
              " 'battlefront',\n",
              " 'battling',\n",
              " 'bawabet',\n",
              " 'bayda',\n",
              " 'bd',\n",
              " 'beach',\n",
              " 'beaten',\n",
              " 'beautiful',\n",
              " 'become',\n",
              " 'becoming',\n",
              " 'began',\n",
              " 'begin',\n",
              " 'beginning',\n",
              " 'behalf',\n",
              " 'behavior',\n",
              " 'behaviorthe',\n",
              " 'behaviour',\n",
              " 'behind',\n",
              " 'beida',\n",
              " 'beirut',\n",
              " 'beleaguered',\n",
              " 'belgrade',\n",
              " 'belief',\n",
              " 'believe',\n",
              " 'belonging',\n",
              " 'belongs',\n",
              " 'ben',\n",
              " 'benefit',\n",
              " 'benefited',\n",
              " 'benefiting',\n",
              " 'benghazi',\n",
              " 'benghaziheadquartered',\n",
              " 'benghaziwe',\n",
              " 'benina',\n",
              " 'berlin',\n",
              " 'berlinthat',\n",
              " 'berlusconi',\n",
              " 'besides',\n",
              " 'best',\n",
              " 'better',\n",
              " 'beyond',\n",
              " 'bid',\n",
              " 'big',\n",
              " 'biggest',\n",
              " 'bilateral',\n",
              " 'billion',\n",
              " 'billowing',\n",
              " 'bin',\n",
              " 'binding',\n",
              " 'bintou',\n",
              " 'biometric',\n",
              " 'black',\n",
              " 'blacklist',\n",
              " 'blacklisted',\n",
              " 'blackmarket',\n",
              " 'blackout',\n",
              " 'blackshield',\n",
              " 'blame',\n",
              " 'blamed',\n",
              " 'blaming',\n",
              " 'blanket',\n",
              " 'blast',\n",
              " 'blazesal',\n",
              " 'blend',\n",
              " 'blew',\n",
              " 'block',\n",
              " 'blockade',\n",
              " 'blockaded',\n",
              " 'blocked',\n",
              " 'blocking',\n",
              " 'bloodshed',\n",
              " 'bloody',\n",
              " 'bloomberg',\n",
              " 'blow',\n",
              " 'blown',\n",
              " 'blownup',\n",
              " 'bn',\n",
              " 'bnl',\n",
              " 'board',\n",
              " 'boat',\n",
              " 'body',\n",
              " 'boiled',\n",
              " 'bolster',\n",
              " 'bomb',\n",
              " 'bombardier',\n",
              " 'bombarding',\n",
              " 'bombardment',\n",
              " 'bombed',\n",
              " 'bomber',\n",
              " 'bombing',\n",
              " 'booby',\n",
              " 'booming',\n",
              " 'boost',\n",
              " 'boosted',\n",
              " 'boosting',\n",
              " 'border',\n",
              " 'borderaccording',\n",
              " 'bordering',\n",
              " 'borderthe',\n",
              " 'borrell',\n",
              " 'bot',\n",
              " 'botswana',\n",
              " 'bottom',\n",
              " 'boudhfira',\n",
              " 'bound',\n",
              " 'boundary',\n",
              " 'box',\n",
              " 'boy',\n",
              " 'bpd',\n",
              " 'bpmc',\n",
              " 'branch',\n",
              " 'brand',\n",
              " 'brandnew',\n",
              " 'bravery',\n",
              " 'breach',\n",
              " 'breaching',\n",
              " 'bread',\n",
              " 'break',\n",
              " 'breakaway',\n",
              " 'breakthrough',\n",
              " 'brega',\n",
              " 'bride',\n",
              " 'bridge',\n",
              " 'brief',\n",
              " 'briefing',\n",
              " 'brigade',\n",
              " 'brighter',\n",
              " 'bring',\n",
              " 'bringing',\n",
              " 'brings',\n",
              " 'britain',\n",
              " 'british',\n",
              " 'broad',\n",
              " 'broadcast',\n",
              " 'broadcaster',\n",
              " 'broaden',\n",
              " 'broadly',\n",
              " 'broke',\n",
              " 'broken',\n",
              " 'broker',\n",
              " 'brokered',\n",
              " 'brokering',\n",
              " 'brought',\n",
              " 'brushing',\n",
              " 'brussels',\n",
              " 'buccino',\n",
              " 'budget',\n",
              " 'bugesera',\n",
              " 'build',\n",
              " 'building',\n",
              " 'built',\n",
              " 'buisier',\n",
              " 'bullet',\n",
              " 'bulletin',\n",
              " 'bumtari',\n",
              " 'burden',\n",
              " 'bureau',\n",
              " 'burial',\n",
              " 'buried',\n",
              " 'burkan',\n",
              " 'burned',\n",
              " 'burning',\n",
              " 'burnt',\n",
              " 'bus',\n",
              " 'busiest',\n",
              " 'business',\n",
              " 'businessmen',\n",
              " 'busleem',\n",
              " 'busy',\n",
              " 'buy',\n",
              " 'buying',\n",
              " 'bypassing',\n",
              " 'byron',\n",
              " 'cache',\n",
              " 'cadet',\n",
              " 'cadre',\n",
              " 'cairo',\n",
              " 'caironew',\n",
              " 'call',\n",
              " 'called',\n",
              " 'calling',\n",
              " 'calm',\n",
              " 'came',\n",
              " 'camera',\n",
              " 'camilleri',\n",
              " 'camouflage',\n",
              " 'camp',\n",
              " 'campaign',\n",
              " 'canada',\n",
              " 'canadian',\n",
              " 'cancel',\n",
              " 'cancellation',\n",
              " 'cancelled',\n",
              " 'candidacy',\n",
              " 'candidate',\n",
              " 'candle',\n",
              " 'cannon',\n",
              " 'cannot',\n",
              " 'capability',\n",
              " 'capacity',\n",
              " 'capital',\n",
              " 'capitalas',\n",
              " 'capitallibyan',\n",
              " 'capitalthe',\n",
              " 'capitalthere',\n",
              " 'capsized',\n",
              " 'captive',\n",
              " 'capture',\n",
              " 'captured',\n",
              " 'capturing',\n",
              " 'car',\n",
              " 'card',\n",
              " 'care',\n",
              " 'cargo',\n",
              " 'caring',\n",
              " 'carried',\n",
              " 'carrier',\n",
              " 'carry',\n",
              " 'carrying',\n",
              " 'carthage',\n",
              " 'case',\n",
              " 'casesearlier',\n",
              " 'casesit',\n",
              " 'casesthe',\n",
              " 'cash',\n",
              " 'cashbased',\n",
              " 'casualtiesgna',\n",
              " 'casualty',\n",
              " 'catastrophe',\n",
              " 'caught',\n",
              " 'cause',\n",
              " 'caused',\n",
              " 'causing',\n",
              " 'caution',\n",
              " 'cavusoglu',\n",
              " 'cba',\n",
              " 'cbl',\n",
              " 'cbls',\n",
              " 'cboe',\n",
              " 'ccmce',\n",
              " 'cease',\n",
              " 'ceased',\n",
              " 'ceasefire',\n",
              " 'ceasefireboth',\n",
              " 'ceasefirein',\n",
              " 'ceasefirethe',\n",
              " 'ceasefiretoday',\n",
              " 'cement',\n",
              " 'cenovus',\n",
              " 'censad',\n",
              " 'center',\n",
              " 'centerbridge',\n",
              " 'centered',\n",
              " 'centerthe',\n",
              " 'central',\n",
              " 'centre',\n",
              " 'century',\n",
              " 'ceo',\n",
              " 'ceremony',\n",
              " 'certain',\n",
              " 'cessation',\n",
              " 'chad',\n",
              " 'chadian',\n",
              " 'chair',\n",
              " 'chaired',\n",
              " 'chairman',\n",
              " 'challenge',\n",
              " 'challenger',\n",
              " 'challenging',\n",
              " 'chamber',\n",
              " 'chance',\n",
              " 'chancellor',\n",
              " 'change',\n",
              " 'changed',\n",
              " 'changing',\n",
              " 'channel',\n",
              " 'chaos',\n",
              " 'chapter',\n",
              " 'characterized',\n",
              " 'charge',\n",
              " 'charged',\n",
              " 'charles',\n",
              " 'charred',\n",
              " 'charter',\n",
              " 'chase',\n",
              " 'chasing',\n",
              " 'check',\n",
              " 'checking',\n",
              " 'checkpoint',\n",
              " 'chemist',\n",
              " 'chest',\n",
              " 'chief',\n",
              " 'child',\n",
              " 'childrens',\n",
              " 'china',\n",
              " 'chinese',\n",
              " 'chinesemade',\n",
              " 'choose',\n",
              " 'chosen',\n",
              " 'chronic',\n",
              " 'chunk',\n",
              " 'cia',\n",
              " 'circulated',\n",
              " 'circumstance',\n",
              " 'circumvent',\n",
              " 'cited',\n",
              " 'citing',\n",
              " 'citizen',\n",
              " 'city',\n",
              " 'citywe',\n",
              " 'civil',\n",
              " 'civilian',\n",
              " 'civiliansthe',\n",
              " 'cl',\n",
              " 'claim',\n",
              " 'claimed',\n",
              " 'claiming',\n",
              " 'clarified',\n",
              " 'clarifying',\n",
              " 'clarity',\n",
              " 'clash',\n",
              " 'clashed',\n",
              " 'clashing',\n",
              " 'classified',\n",
              " 'claudio',\n",
              " 'clean',\n",
              " 'cleaning',\n",
              " 'clear',\n",
              " 'clearance',\n",
              " 'cleared',\n",
              " 'clearing',\n",
              " 'clearlibya',\n",
              " 'clearly',\n",
              " 'client',\n",
              " 'climate',\n",
              " 'climb',\n",
              " 'climbed',\n",
              " 'clinched',\n",
              " 'close',\n",
              " 'closed',\n",
              " 'closer',\n",
              " 'closing',\n",
              " 'closure',\n",
              " 'clothes',\n",
              " 'clothing',\n",
              " 'cluster',\n",
              " 'cmwg',\n",
              " 'co',\n",
              " 'coalition',\n",
              " 'coast',\n",
              " 'coastal',\n",
              " 'coastline',\n",
              " 'coastthe',\n",
              " 'cochairs',\n",
              " 'code',\n",
              " 'codenamed',\n",
              " 'coercion',\n",
              " 'cohesion',\n",
              " 'col',\n",
              " 'colby',\n",
              " 'collaboration',\n",
              " 'collapse',\n",
              " 'collapsed',\n",
              " 'collapsing',\n",
              " 'collate',\n",
              " 'collateral',\n",
              " 'colleaguesrussia',\n",
              " 'collection',\n",
              " 'collective',\n",
              " 'colonel',\n",
              " 'colonial',\n",
              " 'column',\n",
              " 'combat',\n",
              " 'combatant',\n",
              " 'combating',\n",
              " 'combination',\n",
              " 'come',\n",
              " 'coming',\n",
              " 'command',\n",
              " 'commanded',\n",
              " 'commander',\n",
              " 'commanderinchief',\n",
              " 'commence',\n",
              " 'commending',\n",
              " 'comment',\n",
              " 'commented',\n",
              " 'commentin',\n",
              " 'commenting',\n",
              " 'commerce',\n",
              " 'commercial',\n",
              " 'commission',\n",
              " 'commissioner',\n",
              " 'commit',\n",
              " 'commitment',\n",
              " 'commits',\n",
              " 'committed',\n",
              " 'committee',\n",
              " 'common',\n",
              " 'communication',\n",
              " 'communique',\n",
              " 'community',\n",
              " 'company',\n",
              " 'comparable',\n",
              " 'comparative',\n",
              " 'compared',\n",
              " 'compensation',\n",
              " 'competence',\n",
              " 'competency',\n",
              " 'competing',\n",
              " 'competition',\n",
              " 'complain',\n",
              " 'complementary',\n",
              " 'complete',\n",
              " 'completed',\n",
              " 'completedlast',\n",
              " 'completely',\n",
              " 'completing',\n",
              " 'completion',\n",
              " 'complex',\n",
              " 'compliance',\n",
              " 'compound',\n",
              " 'comprehensive',\n",
              " 'comprised',\n",
              " 'con',\n",
              " 'conceal',\n",
              " 'concern',\n",
              " 'concerned',\n",
              " 'concert',\n",
              " 'concession',\n",
              " 'concluded',\n",
              " 'conclusion',\n",
              " 'conclusionsmeanwhile',\n",
              " 'concrete',\n",
              " 'condemnation',\n",
              " 'condemned',\n",
              " 'condemning',\n",
              " 'condemns',\n",
              " 'condensate',\n",
              " 'condition',\n",
              " 'conditionally',\n",
              " 'conduct',\n",
              " 'conducted',\n",
              " 'conducting',\n",
              " 'conference',\n",
              " 'conferenceborrell',\n",
              " 'confidence',\n",
              " 'confidential',\n",
              " 'confirm',\n",
              " 'confirmed',\n",
              " 'confirmediraq',\n",
              " 'confirming',\n",
              " 'confirms',\n",
              " 'confiscate',\n",
              " 'conflict',\n",
              " 'conflictgerman',\n",
              " 'conflicting',\n",
              " 'conflictour',\n",
              " 'conflictseveral',\n",
              " 'conflicttorn',\n",
              " 'conflictwell',\n",
              " 'conflictwracked',\n",
              " 'conform',\n",
              " ...]"
            ]
          },
          "execution_count": 42,
          "metadata": {},
          "output_type": "execute_result"
        }
      ],
      "source": [
        "# Unique tokens:\n",
        "tf_idf_vectorizer.get_feature_names()"
      ]
    },
    {
      "cell_type": "code",
      "execution_count": 44,
      "metadata": {
        "colab": {
          "base_uri": "https://localhost:8080/",
          "height": 424
        },
        "id": "9arfTQ6kg3Q0",
        "outputId": "80422c1b-577f-49ba-fdb7-52d93c6c83ee"
      },
      "outputs": [
        {
          "data": {
            "text/html": [
              "<div>\n",
              "<style scoped>\n",
              "    .dataframe tbody tr th:only-of-type {\n",
              "        vertical-align: middle;\n",
              "    }\n",
              "\n",
              "    .dataframe tbody tr th {\n",
              "        vertical-align: top;\n",
              "    }\n",
              "\n",
              "    .dataframe thead th {\n",
              "        text-align: right;\n",
              "    }\n",
              "</style>\n",
              "<table border=\"1\" class=\"dataframe\">\n",
              "  <thead>\n",
              "    <tr style=\"text-align: right;\">\n",
              "      <th></th>\n",
              "      <th>abandoned</th>\n",
              "      <th>abc</th>\n",
              "      <th>abdalla</th>\n",
              "      <th>abdel</th>\n",
              "      <th>abdelfatah</th>\n",
              "      <th>abducted</th>\n",
              "      <th>abduction</th>\n",
              "      <th>abdul</th>\n",
              "      <th>abdullah</th>\n",
              "      <th>abdulrasoul</th>\n",
              "      <th>...</th>\n",
              "      <th>zawiya</th>\n",
              "      <th>zayed</th>\n",
              "      <th>zela</th>\n",
              "      <th>zero</th>\n",
              "      <th>zintan</th>\n",
              "      <th>ziyad</th>\n",
              "      <th>zliten</th>\n",
              "      <th>zone</th>\n",
              "      <th>zueitina</th>\n",
              "      <th>zvezda</th>\n",
              "    </tr>\n",
              "  </thead>\n",
              "  <tbody>\n",
              "    <tr>\n",
              "      <th>347</th>\n",
              "      <td>0.0</td>\n",
              "      <td>0.0</td>\n",
              "      <td>0.0</td>\n",
              "      <td>0.0</td>\n",
              "      <td>0.0</td>\n",
              "      <td>0.0</td>\n",
              "      <td>0.0</td>\n",
              "      <td>0.0</td>\n",
              "      <td>0.000000</td>\n",
              "      <td>0.0</td>\n",
              "      <td>...</td>\n",
              "      <td>0.0</td>\n",
              "      <td>0.0</td>\n",
              "      <td>0.0</td>\n",
              "      <td>0.115598</td>\n",
              "      <td>0.0</td>\n",
              "      <td>0.0</td>\n",
              "      <td>0.0</td>\n",
              "      <td>0.0</td>\n",
              "      <td>0.000000</td>\n",
              "      <td>0.0</td>\n",
              "    </tr>\n",
              "    <tr>\n",
              "      <th>252</th>\n",
              "      <td>0.0</td>\n",
              "      <td>0.0</td>\n",
              "      <td>0.0</td>\n",
              "      <td>0.0</td>\n",
              "      <td>0.0</td>\n",
              "      <td>0.0</td>\n",
              "      <td>0.0</td>\n",
              "      <td>0.0</td>\n",
              "      <td>0.000000</td>\n",
              "      <td>0.0</td>\n",
              "      <td>...</td>\n",
              "      <td>0.0</td>\n",
              "      <td>0.0</td>\n",
              "      <td>0.0</td>\n",
              "      <td>0.000000</td>\n",
              "      <td>0.0</td>\n",
              "      <td>0.0</td>\n",
              "      <td>0.0</td>\n",
              "      <td>0.0</td>\n",
              "      <td>0.377404</td>\n",
              "      <td>0.0</td>\n",
              "    </tr>\n",
              "    <tr>\n",
              "      <th>316</th>\n",
              "      <td>0.0</td>\n",
              "      <td>0.0</td>\n",
              "      <td>0.0</td>\n",
              "      <td>0.0</td>\n",
              "      <td>0.0</td>\n",
              "      <td>0.0</td>\n",
              "      <td>0.0</td>\n",
              "      <td>0.0</td>\n",
              "      <td>0.000000</td>\n",
              "      <td>0.0</td>\n",
              "      <td>...</td>\n",
              "      <td>0.0</td>\n",
              "      <td>0.0</td>\n",
              "      <td>0.0</td>\n",
              "      <td>0.000000</td>\n",
              "      <td>0.0</td>\n",
              "      <td>0.0</td>\n",
              "      <td>0.0</td>\n",
              "      <td>0.0</td>\n",
              "      <td>0.000000</td>\n",
              "      <td>0.0</td>\n",
              "    </tr>\n",
              "    <tr>\n",
              "      <th>360</th>\n",
              "      <td>0.0</td>\n",
              "      <td>0.0</td>\n",
              "      <td>0.0</td>\n",
              "      <td>0.0</td>\n",
              "      <td>0.0</td>\n",
              "      <td>0.0</td>\n",
              "      <td>0.0</td>\n",
              "      <td>0.0</td>\n",
              "      <td>0.156773</td>\n",
              "      <td>0.0</td>\n",
              "      <td>...</td>\n",
              "      <td>0.0</td>\n",
              "      <td>0.0</td>\n",
              "      <td>0.0</td>\n",
              "      <td>0.000000</td>\n",
              "      <td>0.0</td>\n",
              "      <td>0.0</td>\n",
              "      <td>0.0</td>\n",
              "      <td>0.0</td>\n",
              "      <td>0.000000</td>\n",
              "      <td>0.0</td>\n",
              "    </tr>\n",
              "    <tr>\n",
              "      <th>19</th>\n",
              "      <td>0.0</td>\n",
              "      <td>0.0</td>\n",
              "      <td>0.0</td>\n",
              "      <td>0.0</td>\n",
              "      <td>0.0</td>\n",
              "      <td>0.0</td>\n",
              "      <td>0.0</td>\n",
              "      <td>0.0</td>\n",
              "      <td>0.000000</td>\n",
              "      <td>0.0</td>\n",
              "      <td>...</td>\n",
              "      <td>0.0</td>\n",
              "      <td>0.0</td>\n",
              "      <td>0.0</td>\n",
              "      <td>0.000000</td>\n",
              "      <td>0.0</td>\n",
              "      <td>0.0</td>\n",
              "      <td>0.0</td>\n",
              "      <td>0.0</td>\n",
              "      <td>0.000000</td>\n",
              "      <td>0.0</td>\n",
              "    </tr>\n",
              "    <tr>\n",
              "      <th>...</th>\n",
              "      <td>...</td>\n",
              "      <td>...</td>\n",
              "      <td>...</td>\n",
              "      <td>...</td>\n",
              "      <td>...</td>\n",
              "      <td>...</td>\n",
              "      <td>...</td>\n",
              "      <td>...</td>\n",
              "      <td>...</td>\n",
              "      <td>...</td>\n",
              "      <td>...</td>\n",
              "      <td>...</td>\n",
              "      <td>...</td>\n",
              "      <td>...</td>\n",
              "      <td>...</td>\n",
              "      <td>...</td>\n",
              "      <td>...</td>\n",
              "      <td>...</td>\n",
              "      <td>...</td>\n",
              "      <td>...</td>\n",
              "      <td>...</td>\n",
              "    </tr>\n",
              "    <tr>\n",
              "      <th>190</th>\n",
              "      <td>0.0</td>\n",
              "      <td>0.0</td>\n",
              "      <td>0.0</td>\n",
              "      <td>0.0</td>\n",
              "      <td>0.0</td>\n",
              "      <td>0.0</td>\n",
              "      <td>0.0</td>\n",
              "      <td>0.0</td>\n",
              "      <td>0.000000</td>\n",
              "      <td>0.0</td>\n",
              "      <td>...</td>\n",
              "      <td>0.0</td>\n",
              "      <td>0.0</td>\n",
              "      <td>0.0</td>\n",
              "      <td>0.000000</td>\n",
              "      <td>0.0</td>\n",
              "      <td>0.0</td>\n",
              "      <td>0.0</td>\n",
              "      <td>0.0</td>\n",
              "      <td>0.000000</td>\n",
              "      <td>0.0</td>\n",
              "    </tr>\n",
              "    <tr>\n",
              "      <th>53</th>\n",
              "      <td>0.0</td>\n",
              "      <td>0.0</td>\n",
              "      <td>0.0</td>\n",
              "      <td>0.0</td>\n",
              "      <td>0.0</td>\n",
              "      <td>0.0</td>\n",
              "      <td>0.0</td>\n",
              "      <td>0.0</td>\n",
              "      <td>0.000000</td>\n",
              "      <td>0.0</td>\n",
              "      <td>...</td>\n",
              "      <td>0.0</td>\n",
              "      <td>0.0</td>\n",
              "      <td>0.0</td>\n",
              "      <td>0.000000</td>\n",
              "      <td>0.0</td>\n",
              "      <td>0.0</td>\n",
              "      <td>0.0</td>\n",
              "      <td>0.0</td>\n",
              "      <td>0.000000</td>\n",
              "      <td>0.0</td>\n",
              "    </tr>\n",
              "    <tr>\n",
              "      <th>365</th>\n",
              "      <td>0.0</td>\n",
              "      <td>0.0</td>\n",
              "      <td>0.0</td>\n",
              "      <td>0.0</td>\n",
              "      <td>0.0</td>\n",
              "      <td>0.0</td>\n",
              "      <td>0.0</td>\n",
              "      <td>0.0</td>\n",
              "      <td>0.000000</td>\n",
              "      <td>0.0</td>\n",
              "      <td>...</td>\n",
              "      <td>0.0</td>\n",
              "      <td>0.0</td>\n",
              "      <td>0.0</td>\n",
              "      <td>0.000000</td>\n",
              "      <td>0.0</td>\n",
              "      <td>0.0</td>\n",
              "      <td>0.0</td>\n",
              "      <td>0.0</td>\n",
              "      <td>0.000000</td>\n",
              "      <td>0.0</td>\n",
              "    </tr>\n",
              "    <tr>\n",
              "      <th>481</th>\n",
              "      <td>0.0</td>\n",
              "      <td>0.0</td>\n",
              "      <td>0.0</td>\n",
              "      <td>0.0</td>\n",
              "      <td>0.0</td>\n",
              "      <td>0.0</td>\n",
              "      <td>0.0</td>\n",
              "      <td>0.0</td>\n",
              "      <td>0.000000</td>\n",
              "      <td>0.0</td>\n",
              "      <td>...</td>\n",
              "      <td>0.0</td>\n",
              "      <td>0.0</td>\n",
              "      <td>0.0</td>\n",
              "      <td>0.000000</td>\n",
              "      <td>0.0</td>\n",
              "      <td>0.0</td>\n",
              "      <td>0.0</td>\n",
              "      <td>0.0</td>\n",
              "      <td>0.000000</td>\n",
              "      <td>0.0</td>\n",
              "    </tr>\n",
              "    <tr>\n",
              "      <th>79</th>\n",
              "      <td>0.0</td>\n",
              "      <td>0.0</td>\n",
              "      <td>0.0</td>\n",
              "      <td>0.0</td>\n",
              "      <td>0.0</td>\n",
              "      <td>0.0</td>\n",
              "      <td>0.0</td>\n",
              "      <td>0.0</td>\n",
              "      <td>0.000000</td>\n",
              "      <td>0.0</td>\n",
              "      <td>...</td>\n",
              "      <td>0.0</td>\n",
              "      <td>0.0</td>\n",
              "      <td>0.0</td>\n",
              "      <td>0.000000</td>\n",
              "      <td>0.0</td>\n",
              "      <td>0.0</td>\n",
              "      <td>0.0</td>\n",
              "      <td>0.0</td>\n",
              "      <td>0.000000</td>\n",
              "      <td>0.0</td>\n",
              "    </tr>\n",
              "  </tbody>\n",
              "</table>\n",
              "<p>323 rows × 5196 columns</p>\n",
              "</div>"
            ],
            "text/plain": [
              "     abandoned  abc  abdalla  abdel  abdelfatah  abducted  abduction  abdul  \\\n",
              "347        0.0  0.0      0.0    0.0         0.0       0.0        0.0    0.0   \n",
              "252        0.0  0.0      0.0    0.0         0.0       0.0        0.0    0.0   \n",
              "316        0.0  0.0      0.0    0.0         0.0       0.0        0.0    0.0   \n",
              "360        0.0  0.0      0.0    0.0         0.0       0.0        0.0    0.0   \n",
              "19         0.0  0.0      0.0    0.0         0.0       0.0        0.0    0.0   \n",
              "..         ...  ...      ...    ...         ...       ...        ...    ...   \n",
              "190        0.0  0.0      0.0    0.0         0.0       0.0        0.0    0.0   \n",
              "53         0.0  0.0      0.0    0.0         0.0       0.0        0.0    0.0   \n",
              "365        0.0  0.0      0.0    0.0         0.0       0.0        0.0    0.0   \n",
              "481        0.0  0.0      0.0    0.0         0.0       0.0        0.0    0.0   \n",
              "79         0.0  0.0      0.0    0.0         0.0       0.0        0.0    0.0   \n",
              "\n",
              "     abdullah  abdulrasoul  ...  zawiya  zayed  zela      zero  zintan  ziyad  \\\n",
              "347  0.000000          0.0  ...     0.0    0.0   0.0  0.115598     0.0    0.0   \n",
              "252  0.000000          0.0  ...     0.0    0.0   0.0  0.000000     0.0    0.0   \n",
              "316  0.000000          0.0  ...     0.0    0.0   0.0  0.000000     0.0    0.0   \n",
              "360  0.156773          0.0  ...     0.0    0.0   0.0  0.000000     0.0    0.0   \n",
              "19   0.000000          0.0  ...     0.0    0.0   0.0  0.000000     0.0    0.0   \n",
              "..        ...          ...  ...     ...    ...   ...       ...     ...    ...   \n",
              "190  0.000000          0.0  ...     0.0    0.0   0.0  0.000000     0.0    0.0   \n",
              "53   0.000000          0.0  ...     0.0    0.0   0.0  0.000000     0.0    0.0   \n",
              "365  0.000000          0.0  ...     0.0    0.0   0.0  0.000000     0.0    0.0   \n",
              "481  0.000000          0.0  ...     0.0    0.0   0.0  0.000000     0.0    0.0   \n",
              "79   0.000000          0.0  ...     0.0    0.0   0.0  0.000000     0.0    0.0   \n",
              "\n",
              "     zliten  zone  zueitina  zvezda  \n",
              "347     0.0   0.0  0.000000     0.0  \n",
              "252     0.0   0.0  0.377404     0.0  \n",
              "316     0.0   0.0  0.000000     0.0  \n",
              "360     0.0   0.0  0.000000     0.0  \n",
              "19      0.0   0.0  0.000000     0.0  \n",
              "..      ...   ...       ...     ...  \n",
              "190     0.0   0.0  0.000000     0.0  \n",
              "53      0.0   0.0  0.000000     0.0  \n",
              "365     0.0   0.0  0.000000     0.0  \n",
              "481     0.0   0.0  0.000000     0.0  \n",
              "79      0.0   0.0  0.000000     0.0  \n",
              "\n",
              "[323 rows x 5196 columns]"
            ]
          },
          "execution_count": 44,
          "metadata": {},
          "output_type": "execute_result"
        }
      ],
      "source": [
        "# TFIDF Vectors\n",
        "df_train_tfidf = pd.DataFrame(X_train_tf_idf.toarray(), columns = tf_idf_vectorizer.get_feature_names(),\n",
        "                              index= X_train.index)\n",
        "df_train_tfidf"
      ]
    },
    {
      "cell_type": "code",
      "execution_count": 159,
      "metadata": {},
      "outputs": [],
      "source": [
        "with open('vectorizer.pickle', 'wb') as fin:\n",
        "  pickle.dump(df_train_tfidf, fin)"
      ]
    },
    {
      "cell_type": "markdown",
      "metadata": {
        "id": "aYBBMgKwg3Q0"
      },
      "source": [
        "#### Training the Models"
      ]
    },
    {
      "cell_type": "markdown",
      "metadata": {
        "id": "kzDuLe4Ig3Q0"
      },
      "source": [
        "The data is so imbalanced and so few.It is better to use f1_score for imbalanced data but since we have 3 category and just 2 samples are from 2 categories. Precision and recall will most probably be 0 for those categories. So we use accuracy for demonstration purposes\n",
        "<br>First we build an evaluation function to standardize the results\n",
        "<br> We use GridSearchCV with 10 fold cross validation for hyperparameter tuning"
      ]
    },
    {
      "cell_type": "code",
      "execution_count": 45,
      "metadata": {
        "id": "6cg2Ix9Sg3Q0"
      },
      "outputs": [],
      "source": [
        "def eval(model, X_train, X_test):\n",
        "    y_pred = model.predict(X_test)\n",
        "    y_pred_train = model.predict(X_train)\n",
        "    print(confusion_matrix(y_test, y_pred))\n",
        "    print(\"Test_Set\")\n",
        "    print(classification_report(y_test,y_pred))\n",
        "    print(\"Train_Set\")\n",
        "    print(classification_report(y_train,y_pred_train))"
      ]
    },
    {
      "cell_type": "markdown",
      "metadata": {
        "id": "RTDzUDHXg3Q1"
      },
      "source": [
        "##### Naive Bayes"
      ]
    },
    {
      "cell_type": "code",
      "execution_count": 47,
      "metadata": {},
      "outputs": [],
      "source": [
        "from sklearn.naive_bayes import MultinomialNB"
      ]
    },
    {
      "cell_type": "code",
      "execution_count": 52,
      "metadata": {
        "colab": {
          "base_uri": "https://localhost:8080/",
          "height": 152
        },
        "id": "LIeGKjuUg3Q1",
        "outputId": "7daf82eb-2f3e-4741-8dec-a66737fa9fb5"
      },
      "outputs": [
        {
          "name": "stderr",
          "output_type": "stream",
          "text": [
            "/usr/local/lib/python3.10/dist-packages/sklearn/model_selection/_split.py:700: UserWarning: The least populated class in y has only 4 members, which is less than n_splits=10.\n",
            "  warnings.warn(\n"
          ]
        },
        {
          "data": {
            "text/html": [
              "<style>#sk-container-id-4 {color: black;background-color: white;}#sk-container-id-4 pre{padding: 0;}#sk-container-id-4 div.sk-toggleable {background-color: white;}#sk-container-id-4 label.sk-toggleable__label {cursor: pointer;display: block;width: 100%;margin-bottom: 0;padding: 0.3em;box-sizing: border-box;text-align: center;}#sk-container-id-4 label.sk-toggleable__label-arrow:before {content: \"▸\";float: left;margin-right: 0.25em;color: #696969;}#sk-container-id-4 label.sk-toggleable__label-arrow:hover:before {color: black;}#sk-container-id-4 div.sk-estimator:hover label.sk-toggleable__label-arrow:before {color: black;}#sk-container-id-4 div.sk-toggleable__content {max-height: 0;max-width: 0;overflow: hidden;text-align: left;background-color: #f0f8ff;}#sk-container-id-4 div.sk-toggleable__content pre {margin: 0.2em;color: black;border-radius: 0.25em;background-color: #f0f8ff;}#sk-container-id-4 input.sk-toggleable__control:checked~div.sk-toggleable__content {max-height: 200px;max-width: 100%;overflow: auto;}#sk-container-id-4 input.sk-toggleable__control:checked~label.sk-toggleable__label-arrow:before {content: \"▾\";}#sk-container-id-4 div.sk-estimator input.sk-toggleable__control:checked~label.sk-toggleable__label {background-color: #d4ebff;}#sk-container-id-4 div.sk-label input.sk-toggleable__control:checked~label.sk-toggleable__label {background-color: #d4ebff;}#sk-container-id-4 input.sk-hidden--visually {border: 0;clip: rect(1px 1px 1px 1px);clip: rect(1px, 1px, 1px, 1px);height: 1px;margin: -1px;overflow: hidden;padding: 0;position: absolute;width: 1px;}#sk-container-id-4 div.sk-estimator {font-family: monospace;background-color: #f0f8ff;border: 1px dotted black;border-radius: 0.25em;box-sizing: border-box;margin-bottom: 0.5em;}#sk-container-id-4 div.sk-estimator:hover {background-color: #d4ebff;}#sk-container-id-4 div.sk-parallel-item::after {content: \"\";width: 100%;border-bottom: 1px solid gray;flex-grow: 1;}#sk-container-id-4 div.sk-label:hover label.sk-toggleable__label {background-color: #d4ebff;}#sk-container-id-4 div.sk-serial::before {content: \"\";position: absolute;border-left: 1px solid gray;box-sizing: border-box;top: 0;bottom: 0;left: 50%;z-index: 0;}#sk-container-id-4 div.sk-serial {display: flex;flex-direction: column;align-items: center;background-color: white;padding-right: 0.2em;padding-left: 0.2em;position: relative;}#sk-container-id-4 div.sk-item {position: relative;z-index: 1;}#sk-container-id-4 div.sk-parallel {display: flex;align-items: stretch;justify-content: center;background-color: white;position: relative;}#sk-container-id-4 div.sk-item::before, #sk-container-id-4 div.sk-parallel-item::before {content: \"\";position: absolute;border-left: 1px solid gray;box-sizing: border-box;top: 0;bottom: 0;left: 50%;z-index: -1;}#sk-container-id-4 div.sk-parallel-item {display: flex;flex-direction: column;z-index: 1;position: relative;background-color: white;}#sk-container-id-4 div.sk-parallel-item:first-child::after {align-self: flex-end;width: 50%;}#sk-container-id-4 div.sk-parallel-item:last-child::after {align-self: flex-start;width: 50%;}#sk-container-id-4 div.sk-parallel-item:only-child::after {width: 0;}#sk-container-id-4 div.sk-dashed-wrapped {border: 1px dashed gray;margin: 0 0.4em 0.5em 0.4em;box-sizing: border-box;padding-bottom: 0.4em;background-color: white;}#sk-container-id-4 div.sk-label label {font-family: monospace;font-weight: bold;display: inline-block;line-height: 1.2em;}#sk-container-id-4 div.sk-label-container {text-align: center;}#sk-container-id-4 div.sk-container {/* jupyter's `normalize.less` sets `[hidden] { display: none; }` but bootstrap.min.css set `[hidden] { display: none !important; }` so we also need the `!important` here to be able to override the default hidden behavior on the sphinx rendered scikit-learn.org. See: https://github.com/scikit-learn/scikit-learn/issues/21755 */display: inline-block !important;position: relative;}#sk-container-id-4 div.sk-text-repr-fallback {display: none;}</style><div id=\"sk-container-id-4\" class=\"sk-top-container\"><div class=\"sk-text-repr-fallback\"><pre>GridSearchCV(cv=10, estimator=MultinomialNB(),\n",
              "             param_grid={&#x27;alpha&#x27;: [1e-05, 0.0001, 0.001, 0.1, 1, 10, 100,\n",
              "                                   1000]},\n",
              "             return_train_score=True, scoring=&#x27;accuracy&#x27;)</pre><b>In a Jupyter environment, please rerun this cell to show the HTML representation or trust the notebook. <br />On GitHub, the HTML representation is unable to render, please try loading this page with nbviewer.org.</b></div><div class=\"sk-container\" hidden><div class=\"sk-item sk-dashed-wrapped\"><div class=\"sk-label-container\"><div class=\"sk-label sk-toggleable\"><input class=\"sk-toggleable__control sk-hidden--visually\" id=\"sk-estimator-id-8\" type=\"checkbox\" ><label for=\"sk-estimator-id-8\" class=\"sk-toggleable__label sk-toggleable__label-arrow\">GridSearchCV</label><div class=\"sk-toggleable__content\"><pre>GridSearchCV(cv=10, estimator=MultinomialNB(),\n",
              "             param_grid={&#x27;alpha&#x27;: [1e-05, 0.0001, 0.001, 0.1, 1, 10, 100,\n",
              "                                   1000]},\n",
              "             return_train_score=True, scoring=&#x27;accuracy&#x27;)</pre></div></div></div><div class=\"sk-parallel\"><div class=\"sk-parallel-item\"><div class=\"sk-item\"><div class=\"sk-label-container\"><div class=\"sk-label sk-toggleable\"><input class=\"sk-toggleable__control sk-hidden--visually\" id=\"sk-estimator-id-9\" type=\"checkbox\" ><label for=\"sk-estimator-id-9\" class=\"sk-toggleable__label sk-toggleable__label-arrow\">estimator: MultinomialNB</label><div class=\"sk-toggleable__content\"><pre>MultinomialNB()</pre></div></div></div><div class=\"sk-serial\"><div class=\"sk-item\"><div class=\"sk-estimator sk-toggleable\"><input class=\"sk-toggleable__control sk-hidden--visually\" id=\"sk-estimator-id-10\" type=\"checkbox\" ><label for=\"sk-estimator-id-10\" class=\"sk-toggleable__label sk-toggleable__label-arrow\">MultinomialNB</label><div class=\"sk-toggleable__content\"><pre>MultinomialNB()</pre></div></div></div></div></div></div></div></div></div></div>"
            ],
            "text/plain": [
              "GridSearchCV(cv=10, estimator=MultinomialNB(),\n",
              "             param_grid={'alpha': [1e-05, 0.0001, 0.001, 0.1, 1, 10, 100,\n",
              "                                   1000]},\n",
              "             return_train_score=True, scoring='accuracy')"
            ]
          },
          "execution_count": 52,
          "metadata": {},
          "output_type": "execute_result"
        }
      ],
      "source": [
        "# Cross Validation takes long time\n",
        "nb = MultinomialNB()\n",
        "param={'alpha': [0.00001, 0.0001, 0.001, 0.1, 1, 10, 100,1000]}\n",
        "clf=GridSearchCV(nb,param,scoring='accuracy',cv=10,return_train_score=True)\n",
        "clf.fit(X_train_tf_idf,y_train)"
      ]
    },
    {
      "cell_type": "code",
      "execution_count": 53,
      "metadata": {
        "colab": {
          "base_uri": "https://localhost:8080/"
        },
        "id": "WfpW5sXzg3Q1",
        "outputId": "5b4e5cff-595e-4cce-bea3-225b6337cd50"
      },
      "outputs": [
        {
          "data": {
            "text/plain": [
              "{'alpha': 0.0001}"
            ]
          },
          "execution_count": 53,
          "metadata": {},
          "output_type": "execute_result"
        }
      ],
      "source": [
        "clf.best_params_"
      ]
    },
    {
      "cell_type": "code",
      "execution_count": 48,
      "metadata": {
        "colab": {
          "base_uri": "https://localhost:8080/",
          "height": 75
        },
        "id": "sMHtJsPog3Q1",
        "outputId": "f3e34959-b8fc-45e9-f1f5-5f7ad27980d3"
      },
      "outputs": [
        {
          "data": {
            "text/plain": [
              "MultinomialNB(alpha=0.0001)"
            ]
          },
          "execution_count": 48,
          "metadata": {},
          "output_type": "execute_result"
        }
      ],
      "source": [
        "nb = MultinomialNB(alpha=0.0001)\n",
        "nb.fit(X_train_tf_idf,y_train)"
      ]
    },
    {
      "cell_type": "code",
      "execution_count": 49,
      "metadata": {
        "colab": {
          "base_uri": "https://localhost:8080/"
        },
        "id": "DvxE-KJXg3Q1",
        "outputId": "377bf878-4633-490d-900c-469ee29c038c"
      },
      "outputs": [
        {
          "name": "stdout",
          "output_type": "stream",
          "text": [
            "NAIVE BAYES MODEL\n",
            "[[ 3  0  3  1  0  0  0  0  0  0]\n",
            " [ 0 37  2  1  0  0  0  0  0  0]\n",
            " [ 0  5 16  0  1  0  1  0  0  0]\n",
            " [ 1  0  2 12  0  0  1  0  0  0]\n",
            " [ 0  1  0  0 10  0  4  0  0  0]\n",
            " [ 0  3  2  0  0  5  0  0  0  0]\n",
            " [ 1  2  0  1  3  0  3  1  0  0]\n",
            " [ 0  2  0  0  0  0  0  0  0  0]\n",
            " [ 0  1  0  0  0  0  0  0 11  0]\n",
            " [ 0  2  0  0  0  0  0  0  0  1]]\n",
            "Test_Set\n",
            "                        precision    recall  f1-score   support\n",
            "\n",
            "            agreements       0.60      0.43      0.50         7\n",
            "             conflicts       0.70      0.93      0.80        40\n",
            "            diplomatic       0.64      0.70      0.67        23\n",
            "        economicEvents       0.80      0.75      0.77        16\n",
            "      naturalDisasters       0.71      0.67      0.69        15\n",
            "       politicalEvents       1.00      0.50      0.67        10\n",
            "    societalChallenges       0.33      0.27      0.30        11\n",
            "technologicalDisasters       0.00      0.00      0.00         2\n",
            "                terror       1.00      0.92      0.96        12\n",
            "              uprising       1.00      0.33      0.50         3\n",
            "\n",
            "              accuracy                           0.71       139\n",
            "             macro avg       0.68      0.55      0.58       139\n",
            "          weighted avg       0.71      0.71      0.69       139\n",
            "\n",
            "Train_Set\n",
            "                        precision    recall  f1-score   support\n",
            "\n",
            "            agreements       1.00      1.00      1.00        18\n",
            "             conflicts       1.00      0.99      0.99        93\n",
            "            diplomatic       1.00      1.00      1.00        54\n",
            "        economicEvents       1.00      1.00      1.00        38\n",
            "      naturalDisasters       0.94      1.00      0.97        34\n",
            "       politicalEvents       0.96      1.00      0.98        23\n",
            "    societalChallenges       1.00      0.92      0.96        25\n",
            "technologicalDisasters       1.00      1.00      1.00         4\n",
            "                terror       1.00      1.00      1.00        27\n",
            "              uprising       1.00      1.00      1.00         7\n",
            "\n",
            "              accuracy                           0.99       323\n",
            "             macro avg       0.99      0.99      0.99       323\n",
            "          weighted avg       0.99      0.99      0.99       323\n",
            "\n"
          ]
        }
      ],
      "source": [
        "print(\"NAIVE BAYES MODEL\")\n",
        "eval(nb, X_train_tf_idf, X_test_tf_idf)"
      ]
    },
    {
      "cell_type": "markdown",
      "metadata": {
        "id": "vUycBJOQg3Q2"
      },
      "source": [
        "##### Logistic Regression"
      ]
    },
    {
      "cell_type": "code",
      "execution_count": 51,
      "metadata": {},
      "outputs": [],
      "source": [
        "from sklearn.linear_model import LogisticRegression"
      ]
    },
    {
      "cell_type": "code",
      "execution_count": 62,
      "metadata": {
        "colab": {
          "base_uri": "https://localhost:8080/",
          "height": 152
        },
        "id": "ahBsEswRg3Q2",
        "outputId": "20dfe9dc-92fe-43c3-9ab4-1dd255f9a81d"
      },
      "outputs": [
        {
          "name": "stderr",
          "output_type": "stream",
          "text": [
            "/usr/local/lib/python3.10/dist-packages/sklearn/model_selection/_split.py:700: UserWarning: The least populated class in y has only 4 members, which is less than n_splits=10.\n",
            "  warnings.warn(\n"
          ]
        },
        {
          "data": {
            "text/html": [
              "<style>#sk-container-id-10 {color: black;background-color: white;}#sk-container-id-10 pre{padding: 0;}#sk-container-id-10 div.sk-toggleable {background-color: white;}#sk-container-id-10 label.sk-toggleable__label {cursor: pointer;display: block;width: 100%;margin-bottom: 0;padding: 0.3em;box-sizing: border-box;text-align: center;}#sk-container-id-10 label.sk-toggleable__label-arrow:before {content: \"▸\";float: left;margin-right: 0.25em;color: #696969;}#sk-container-id-10 label.sk-toggleable__label-arrow:hover:before {color: black;}#sk-container-id-10 div.sk-estimator:hover label.sk-toggleable__label-arrow:before {color: black;}#sk-container-id-10 div.sk-toggleable__content {max-height: 0;max-width: 0;overflow: hidden;text-align: left;background-color: #f0f8ff;}#sk-container-id-10 div.sk-toggleable__content pre {margin: 0.2em;color: black;border-radius: 0.25em;background-color: #f0f8ff;}#sk-container-id-10 input.sk-toggleable__control:checked~div.sk-toggleable__content {max-height: 200px;max-width: 100%;overflow: auto;}#sk-container-id-10 input.sk-toggleable__control:checked~label.sk-toggleable__label-arrow:before {content: \"▾\";}#sk-container-id-10 div.sk-estimator input.sk-toggleable__control:checked~label.sk-toggleable__label {background-color: #d4ebff;}#sk-container-id-10 div.sk-label input.sk-toggleable__control:checked~label.sk-toggleable__label {background-color: #d4ebff;}#sk-container-id-10 input.sk-hidden--visually {border: 0;clip: rect(1px 1px 1px 1px);clip: rect(1px, 1px, 1px, 1px);height: 1px;margin: -1px;overflow: hidden;padding: 0;position: absolute;width: 1px;}#sk-container-id-10 div.sk-estimator {font-family: monospace;background-color: #f0f8ff;border: 1px dotted black;border-radius: 0.25em;box-sizing: border-box;margin-bottom: 0.5em;}#sk-container-id-10 div.sk-estimator:hover {background-color: #d4ebff;}#sk-container-id-10 div.sk-parallel-item::after {content: \"\";width: 100%;border-bottom: 1px solid gray;flex-grow: 1;}#sk-container-id-10 div.sk-label:hover label.sk-toggleable__label {background-color: #d4ebff;}#sk-container-id-10 div.sk-serial::before {content: \"\";position: absolute;border-left: 1px solid gray;box-sizing: border-box;top: 0;bottom: 0;left: 50%;z-index: 0;}#sk-container-id-10 div.sk-serial {display: flex;flex-direction: column;align-items: center;background-color: white;padding-right: 0.2em;padding-left: 0.2em;position: relative;}#sk-container-id-10 div.sk-item {position: relative;z-index: 1;}#sk-container-id-10 div.sk-parallel {display: flex;align-items: stretch;justify-content: center;background-color: white;position: relative;}#sk-container-id-10 div.sk-item::before, #sk-container-id-10 div.sk-parallel-item::before {content: \"\";position: absolute;border-left: 1px solid gray;box-sizing: border-box;top: 0;bottom: 0;left: 50%;z-index: -1;}#sk-container-id-10 div.sk-parallel-item {display: flex;flex-direction: column;z-index: 1;position: relative;background-color: white;}#sk-container-id-10 div.sk-parallel-item:first-child::after {align-self: flex-end;width: 50%;}#sk-container-id-10 div.sk-parallel-item:last-child::after {align-self: flex-start;width: 50%;}#sk-container-id-10 div.sk-parallel-item:only-child::after {width: 0;}#sk-container-id-10 div.sk-dashed-wrapped {border: 1px dashed gray;margin: 0 0.4em 0.5em 0.4em;box-sizing: border-box;padding-bottom: 0.4em;background-color: white;}#sk-container-id-10 div.sk-label label {font-family: monospace;font-weight: bold;display: inline-block;line-height: 1.2em;}#sk-container-id-10 div.sk-label-container {text-align: center;}#sk-container-id-10 div.sk-container {/* jupyter's `normalize.less` sets `[hidden] { display: none; }` but bootstrap.min.css set `[hidden] { display: none !important; }` so we also need the `!important` here to be able to override the default hidden behavior on the sphinx rendered scikit-learn.org. See: https://github.com/scikit-learn/scikit-learn/issues/21755 */display: inline-block !important;position: relative;}#sk-container-id-10 div.sk-text-repr-fallback {display: none;}</style><div id=\"sk-container-id-10\" class=\"sk-top-container\"><div class=\"sk-text-repr-fallback\"><pre>GridSearchCV(cv=10,\n",
              "             estimator=LogisticRegression(max_iter=1000,\n",
              "                                          multi_class=&#x27;multinomial&#x27;),\n",
              "             param_grid={&#x27;C&#x27;: [0.0001, 0.001, 0.01, 0.1, 1.0]},\n",
              "             return_train_score=True, scoring=&#x27;accuracy&#x27;)</pre><b>In a Jupyter environment, please rerun this cell to show the HTML representation or trust the notebook. <br />On GitHub, the HTML representation is unable to render, please try loading this page with nbviewer.org.</b></div><div class=\"sk-container\" hidden><div class=\"sk-item sk-dashed-wrapped\"><div class=\"sk-label-container\"><div class=\"sk-label sk-toggleable\"><input class=\"sk-toggleable__control sk-hidden--visually\" id=\"sk-estimator-id-22\" type=\"checkbox\" ><label for=\"sk-estimator-id-22\" class=\"sk-toggleable__label sk-toggleable__label-arrow\">GridSearchCV</label><div class=\"sk-toggleable__content\"><pre>GridSearchCV(cv=10,\n",
              "             estimator=LogisticRegression(max_iter=1000,\n",
              "                                          multi_class=&#x27;multinomial&#x27;),\n",
              "             param_grid={&#x27;C&#x27;: [0.0001, 0.001, 0.01, 0.1, 1.0]},\n",
              "             return_train_score=True, scoring=&#x27;accuracy&#x27;)</pre></div></div></div><div class=\"sk-parallel\"><div class=\"sk-parallel-item\"><div class=\"sk-item\"><div class=\"sk-label-container\"><div class=\"sk-label sk-toggleable\"><input class=\"sk-toggleable__control sk-hidden--visually\" id=\"sk-estimator-id-23\" type=\"checkbox\" ><label for=\"sk-estimator-id-23\" class=\"sk-toggleable__label sk-toggleable__label-arrow\">estimator: LogisticRegression</label><div class=\"sk-toggleable__content\"><pre>LogisticRegression(max_iter=1000, multi_class=&#x27;multinomial&#x27;)</pre></div></div></div><div class=\"sk-serial\"><div class=\"sk-item\"><div class=\"sk-estimator sk-toggleable\"><input class=\"sk-toggleable__control sk-hidden--visually\" id=\"sk-estimator-id-24\" type=\"checkbox\" ><label for=\"sk-estimator-id-24\" class=\"sk-toggleable__label sk-toggleable__label-arrow\">LogisticRegression</label><div class=\"sk-toggleable__content\"><pre>LogisticRegression(max_iter=1000, multi_class=&#x27;multinomial&#x27;)</pre></div></div></div></div></div></div></div></div></div></div>"
            ],
            "text/plain": [
              "GridSearchCV(cv=10,\n",
              "             estimator=LogisticRegression(max_iter=1000,\n",
              "                                          multi_class='multinomial'),\n",
              "             param_grid={'C': [0.0001, 0.001, 0.01, 0.1, 1.0]},\n",
              "             return_train_score=True, scoring='accuracy')"
            ]
          },
          "execution_count": 62,
          "metadata": {},
          "output_type": "execute_result"
        }
      ],
      "source": [
        "#Cross valitation takes long time\n",
        "log = LogisticRegression(multi_class=\"multinomial\",solver=\"lbfgs\",penalty='l2', max_iter=1000)\n",
        "param={'C': [0.0001, 0.001, 0.01, 0.1, 1.0]}\n",
        "clf=GridSearchCV(log,param,scoring='accuracy',cv=10,return_train_score=True)\n",
        "clf.fit(X_train_tf_idf,y_train)\n"
      ]
    },
    {
      "cell_type": "code",
      "execution_count": 63,
      "metadata": {
        "colab": {
          "base_uri": "https://localhost:8080/"
        },
        "id": "Ng8tH_sQg3Q2",
        "outputId": "51fc62e7-83bf-4df6-a1c1-f4caa2eb9ae2"
      },
      "outputs": [
        {
          "data": {
            "text/plain": [
              "{'C': 1.0}"
            ]
          },
          "execution_count": 63,
          "metadata": {},
          "output_type": "execute_result"
        }
      ],
      "source": [
        "clf.best_params_"
      ]
    },
    {
      "cell_type": "code",
      "execution_count": 52,
      "metadata": {
        "colab": {
          "base_uri": "https://localhost:8080/",
          "height": 75
        },
        "id": "JvDDoSoag3Q2",
        "outputId": "1f7cc8e4-7ccb-41af-aba3-9198647e3f4b"
      },
      "outputs": [
        {
          "data": {
            "text/plain": [
              "LogisticRegression(C=1, multi_class='multinomial')"
            ]
          },
          "execution_count": 52,
          "metadata": {},
          "output_type": "execute_result"
        }
      ],
      "source": [
        "log = LogisticRegression(C=1, multi_class=\"multinomial\",solver=\"lbfgs\", penalty='l2')\n",
        "log.fit(X_train_tf_idf,y_train)"
      ]
    },
    {
      "cell_type": "code",
      "execution_count": 53,
      "metadata": {
        "colab": {
          "base_uri": "https://localhost:8080/"
        },
        "id": "hA44O5jqg3Q2",
        "outputId": "3ae99eac-88d3-4962-c916-3970ff15827b"
      },
      "outputs": [
        {
          "name": "stdout",
          "output_type": "stream",
          "text": [
            "LOGISTIC REGRESSION MODEL\n",
            "[[ 0  1  3  3  0  0  0  0  0  0]\n",
            " [ 0 38  0  2  0  0  0  0  0  0]\n",
            " [ 0  8 14  0  1  0  0  0  0  0]\n",
            " [ 0  3  1 12  0  0  0  0  0  0]\n",
            " [ 0  2  0  0 11  0  2  0  0  0]\n",
            " [ 0  3  5  0  0  2  0  0  0  0]\n",
            " [ 0  6  4  0  1  0  0  0  0  0]\n",
            " [ 0  2  0  0  0  0  0  0  0  0]\n",
            " [ 0  2  0  0  0  0  0  0 10  0]\n",
            " [ 0  3  0  0  0  0  0  0  0  0]]\n",
            "Test_Set\n",
            "                        precision    recall  f1-score   support\n",
            "\n",
            "            agreements       0.00      0.00      0.00         7\n",
            "             conflicts       0.56      0.95      0.70        40\n",
            "            diplomatic       0.52      0.61      0.56        23\n",
            "        economicEvents       0.71      0.75      0.73        16\n",
            "      naturalDisasters       0.85      0.73      0.79        15\n",
            "       politicalEvents       1.00      0.20      0.33        10\n",
            "    societalChallenges       0.00      0.00      0.00        11\n",
            "technologicalDisasters       0.00      0.00      0.00         2\n",
            "                terror       1.00      0.83      0.91        12\n",
            "              uprising       0.00      0.00      0.00         3\n",
            "\n",
            "              accuracy                           0.63       139\n",
            "             macro avg       0.46      0.41      0.40       139\n",
            "          weighted avg       0.58      0.63      0.57       139\n",
            "\n",
            "Train_Set\n",
            "                        precision    recall  f1-score   support\n",
            "\n",
            "            agreements       1.00      0.78      0.88        18\n",
            "             conflicts       0.79      0.99      0.88        93\n",
            "            diplomatic       0.93      0.96      0.95        54\n",
            "        economicEvents       0.97      0.97      0.97        38\n",
            "      naturalDisasters       0.94      1.00      0.97        34\n",
            "       politicalEvents       1.00      0.74      0.85        23\n",
            "    societalChallenges       0.95      0.84      0.89        25\n",
            "technologicalDisasters       0.00      0.00      0.00         4\n",
            "                terror       1.00      0.89      0.94        27\n",
            "              uprising       0.00      0.00      0.00         7\n",
            "\n",
            "              accuracy                           0.90       323\n",
            "             macro avg       0.76      0.72      0.73       323\n",
            "          weighted avg       0.88      0.90      0.89       323\n",
            "\n"
          ]
        },
        {
          "name": "stderr",
          "output_type": "stream",
          "text": [
            "c:\\Users\\mehme\\anaconda3\\envs\\hybridcore\\lib\\site-packages\\sklearn\\metrics\\_classification.py:1245: UndefinedMetricWarning: Precision and F-score are ill-defined and being set to 0.0 in labels with no predicted samples. Use `zero_division` parameter to control this behavior.\n",
            "  _warn_prf(average, modifier, msg_start, len(result))\n",
            "c:\\Users\\mehme\\anaconda3\\envs\\hybridcore\\lib\\site-packages\\sklearn\\metrics\\_classification.py:1245: UndefinedMetricWarning: Precision and F-score are ill-defined and being set to 0.0 in labels with no predicted samples. Use `zero_division` parameter to control this behavior.\n",
            "  _warn_prf(average, modifier, msg_start, len(result))\n",
            "c:\\Users\\mehme\\anaconda3\\envs\\hybridcore\\lib\\site-packages\\sklearn\\metrics\\_classification.py:1245: UndefinedMetricWarning: Precision and F-score are ill-defined and being set to 0.0 in labels with no predicted samples. Use `zero_division` parameter to control this behavior.\n",
            "  _warn_prf(average, modifier, msg_start, len(result))\n",
            "c:\\Users\\mehme\\anaconda3\\envs\\hybridcore\\lib\\site-packages\\sklearn\\metrics\\_classification.py:1245: UndefinedMetricWarning: Precision and F-score are ill-defined and being set to 0.0 in labels with no predicted samples. Use `zero_division` parameter to control this behavior.\n",
            "  _warn_prf(average, modifier, msg_start, len(result))\n",
            "c:\\Users\\mehme\\anaconda3\\envs\\hybridcore\\lib\\site-packages\\sklearn\\metrics\\_classification.py:1245: UndefinedMetricWarning: Precision and F-score are ill-defined and being set to 0.0 in labels with no predicted samples. Use `zero_division` parameter to control this behavior.\n",
            "  _warn_prf(average, modifier, msg_start, len(result))\n",
            "c:\\Users\\mehme\\anaconda3\\envs\\hybridcore\\lib\\site-packages\\sklearn\\metrics\\_classification.py:1245: UndefinedMetricWarning: Precision and F-score are ill-defined and being set to 0.0 in labels with no predicted samples. Use `zero_division` parameter to control this behavior.\n",
            "  _warn_prf(average, modifier, msg_start, len(result))\n"
          ]
        }
      ],
      "source": [
        "print(\"LOGISTIC REGRESSION MODEL\")\n",
        "eval(log, X_train_tf_idf, X_test_tf_idf)"
      ]
    },
    {
      "cell_type": "markdown",
      "metadata": {
        "id": "fXnMXETCg3Q3"
      },
      "source": [
        "##### Support Vector Machines (SVM)"
      ]
    },
    {
      "cell_type": "code",
      "execution_count": 54,
      "metadata": {},
      "outputs": [],
      "source": [
        "from sklearn.svm import SVC"
      ]
    },
    {
      "cell_type": "code",
      "execution_count": 84,
      "metadata": {
        "colab": {
          "base_uri": "https://localhost:8080/",
          "height": 152
        },
        "id": "5dfrGPMlg3Q3",
        "outputId": "917b36d3-bedc-444a-9e93-0b76873862be"
      },
      "outputs": [
        {
          "name": "stderr",
          "output_type": "stream",
          "text": [
            "/usr/local/lib/python3.10/dist-packages/sklearn/model_selection/_split.py:700: UserWarning: The least populated class in y has only 4 members, which is less than n_splits=10.\n",
            "  warnings.warn(\n"
          ]
        },
        {
          "data": {
            "text/html": [
              "<style>#sk-container-id-19 {color: black;background-color: white;}#sk-container-id-19 pre{padding: 0;}#sk-container-id-19 div.sk-toggleable {background-color: white;}#sk-container-id-19 label.sk-toggleable__label {cursor: pointer;display: block;width: 100%;margin-bottom: 0;padding: 0.3em;box-sizing: border-box;text-align: center;}#sk-container-id-19 label.sk-toggleable__label-arrow:before {content: \"▸\";float: left;margin-right: 0.25em;color: #696969;}#sk-container-id-19 label.sk-toggleable__label-arrow:hover:before {color: black;}#sk-container-id-19 div.sk-estimator:hover label.sk-toggleable__label-arrow:before {color: black;}#sk-container-id-19 div.sk-toggleable__content {max-height: 0;max-width: 0;overflow: hidden;text-align: left;background-color: #f0f8ff;}#sk-container-id-19 div.sk-toggleable__content pre {margin: 0.2em;color: black;border-radius: 0.25em;background-color: #f0f8ff;}#sk-container-id-19 input.sk-toggleable__control:checked~div.sk-toggleable__content {max-height: 200px;max-width: 100%;overflow: auto;}#sk-container-id-19 input.sk-toggleable__control:checked~label.sk-toggleable__label-arrow:before {content: \"▾\";}#sk-container-id-19 div.sk-estimator input.sk-toggleable__control:checked~label.sk-toggleable__label {background-color: #d4ebff;}#sk-container-id-19 div.sk-label input.sk-toggleable__control:checked~label.sk-toggleable__label {background-color: #d4ebff;}#sk-container-id-19 input.sk-hidden--visually {border: 0;clip: rect(1px 1px 1px 1px);clip: rect(1px, 1px, 1px, 1px);height: 1px;margin: -1px;overflow: hidden;padding: 0;position: absolute;width: 1px;}#sk-container-id-19 div.sk-estimator {font-family: monospace;background-color: #f0f8ff;border: 1px dotted black;border-radius: 0.25em;box-sizing: border-box;margin-bottom: 0.5em;}#sk-container-id-19 div.sk-estimator:hover {background-color: #d4ebff;}#sk-container-id-19 div.sk-parallel-item::after {content: \"\";width: 100%;border-bottom: 1px solid gray;flex-grow: 1;}#sk-container-id-19 div.sk-label:hover label.sk-toggleable__label {background-color: #d4ebff;}#sk-container-id-19 div.sk-serial::before {content: \"\";position: absolute;border-left: 1px solid gray;box-sizing: border-box;top: 0;bottom: 0;left: 50%;z-index: 0;}#sk-container-id-19 div.sk-serial {display: flex;flex-direction: column;align-items: center;background-color: white;padding-right: 0.2em;padding-left: 0.2em;position: relative;}#sk-container-id-19 div.sk-item {position: relative;z-index: 1;}#sk-container-id-19 div.sk-parallel {display: flex;align-items: stretch;justify-content: center;background-color: white;position: relative;}#sk-container-id-19 div.sk-item::before, #sk-container-id-19 div.sk-parallel-item::before {content: \"\";position: absolute;border-left: 1px solid gray;box-sizing: border-box;top: 0;bottom: 0;left: 50%;z-index: -1;}#sk-container-id-19 div.sk-parallel-item {display: flex;flex-direction: column;z-index: 1;position: relative;background-color: white;}#sk-container-id-19 div.sk-parallel-item:first-child::after {align-self: flex-end;width: 50%;}#sk-container-id-19 div.sk-parallel-item:last-child::after {align-self: flex-start;width: 50%;}#sk-container-id-19 div.sk-parallel-item:only-child::after {width: 0;}#sk-container-id-19 div.sk-dashed-wrapped {border: 1px dashed gray;margin: 0 0.4em 0.5em 0.4em;box-sizing: border-box;padding-bottom: 0.4em;background-color: white;}#sk-container-id-19 div.sk-label label {font-family: monospace;font-weight: bold;display: inline-block;line-height: 1.2em;}#sk-container-id-19 div.sk-label-container {text-align: center;}#sk-container-id-19 div.sk-container {/* jupyter's `normalize.less` sets `[hidden] { display: none; }` but bootstrap.min.css set `[hidden] { display: none !important; }` so we also need the `!important` here to be able to override the default hidden behavior on the sphinx rendered scikit-learn.org. See: https://github.com/scikit-learn/scikit-learn/issues/21755 */display: inline-block !important;position: relative;}#sk-container-id-19 div.sk-text-repr-fallback {display: none;}</style><div id=\"sk-container-id-19\" class=\"sk-top-container\"><div class=\"sk-text-repr-fallback\"><pre>GridSearchCV(cv=10, estimator=SVC(max_iter=10000),\n",
              "             param_grid={&#x27;C&#x27;: [0.001, 0.05, 0.01, 0.1],\n",
              "                         &#x27;class_weight&#x27;: [&#x27;balanced&#x27;, None],\n",
              "                         &#x27;degree&#x27;: [2, 3, 4, 5, 6],\n",
              "                         &#x27;gamma&#x27;: [&#x27;scale&#x27;, &#x27;auto&#x27;, 0.2, 0.3, 0.5],\n",
              "                         &#x27;kernel&#x27;: [&#x27;rbf&#x27;, &#x27;linear&#x27;, &#x27;poly&#x27;]},\n",
              "             return_train_score=True, scoring=&#x27;accuracy&#x27;)</pre><b>In a Jupyter environment, please rerun this cell to show the HTML representation or trust the notebook. <br />On GitHub, the HTML representation is unable to render, please try loading this page with nbviewer.org.</b></div><div class=\"sk-container\" hidden><div class=\"sk-item sk-dashed-wrapped\"><div class=\"sk-label-container\"><div class=\"sk-label sk-toggleable\"><input class=\"sk-toggleable__control sk-hidden--visually\" id=\"sk-estimator-id-41\" type=\"checkbox\" ><label for=\"sk-estimator-id-41\" class=\"sk-toggleable__label sk-toggleable__label-arrow\">GridSearchCV</label><div class=\"sk-toggleable__content\"><pre>GridSearchCV(cv=10, estimator=SVC(max_iter=10000),\n",
              "             param_grid={&#x27;C&#x27;: [0.001, 0.05, 0.01, 0.1],\n",
              "                         &#x27;class_weight&#x27;: [&#x27;balanced&#x27;, None],\n",
              "                         &#x27;degree&#x27;: [2, 3, 4, 5, 6],\n",
              "                         &#x27;gamma&#x27;: [&#x27;scale&#x27;, &#x27;auto&#x27;, 0.2, 0.3, 0.5],\n",
              "                         &#x27;kernel&#x27;: [&#x27;rbf&#x27;, &#x27;linear&#x27;, &#x27;poly&#x27;]},\n",
              "             return_train_score=True, scoring=&#x27;accuracy&#x27;)</pre></div></div></div><div class=\"sk-parallel\"><div class=\"sk-parallel-item\"><div class=\"sk-item\"><div class=\"sk-label-container\"><div class=\"sk-label sk-toggleable\"><input class=\"sk-toggleable__control sk-hidden--visually\" id=\"sk-estimator-id-42\" type=\"checkbox\" ><label for=\"sk-estimator-id-42\" class=\"sk-toggleable__label sk-toggleable__label-arrow\">estimator: SVC</label><div class=\"sk-toggleable__content\"><pre>SVC(max_iter=10000)</pre></div></div></div><div class=\"sk-serial\"><div class=\"sk-item\"><div class=\"sk-estimator sk-toggleable\"><input class=\"sk-toggleable__control sk-hidden--visually\" id=\"sk-estimator-id-43\" type=\"checkbox\" ><label for=\"sk-estimator-id-43\" class=\"sk-toggleable__label sk-toggleable__label-arrow\">SVC</label><div class=\"sk-toggleable__content\"><pre>SVC(max_iter=10000)</pre></div></div></div></div></div></div></div></div></div></div>"
            ],
            "text/plain": [
              "GridSearchCV(cv=10, estimator=SVC(max_iter=10000),\n",
              "             param_grid={'C': [0.001, 0.05, 0.01, 0.1],\n",
              "                         'class_weight': ['balanced', None],\n",
              "                         'degree': [2, 3, 4, 5, 6],\n",
              "                         'gamma': ['scale', 'auto', 0.2, 0.3, 0.5],\n",
              "                         'kernel': ['rbf', 'linear', 'poly']},\n",
              "             return_train_score=True, scoring='accuracy')"
            ]
          },
          "execution_count": 84,
          "metadata": {},
          "output_type": "execute_result"
        }
      ],
      "source": [
        "#Cross Validation takes long time\n",
        "\n",
        "svc = SVC(max_iter=10000)\n",
        "param= {'C': [0.001, 0.05, 0.01, 0.1],\n",
        "              'gamma': [\"scale\", \"auto\", 0.2, 0.3, 0.5],\n",
        "              'kernel': ['rbf', 'linear','poly'],\n",
        "              'class_weight': [\"balanced\", None],\n",
        "              'degree':[2,3,4,5,6]}\n",
        "clf=GridSearchCV(svc,param,scoring='accuracy',cv=10,return_train_score=True)\n",
        "clf.fit(X_train_tf_idf,y_train)"
      ]
    },
    {
      "cell_type": "code",
      "execution_count": 85,
      "metadata": {
        "colab": {
          "base_uri": "https://localhost:8080/"
        },
        "id": "c0kfe3uCg3Q3",
        "outputId": "e50a2238-4461-47f2-cf3e-20f958e4da83"
      },
      "outputs": [
        {
          "data": {
            "text/plain": [
              "{'C': 0.001,\n",
              " 'class_weight': None,\n",
              " 'degree': 2,\n",
              " 'gamma': 'scale',\n",
              " 'kernel': 'rbf'}"
            ]
          },
          "execution_count": 85,
          "metadata": {},
          "output_type": "execute_result"
        }
      ],
      "source": [
        "clf.best_params_"
      ]
    },
    {
      "cell_type": "code",
      "execution_count": 55,
      "metadata": {
        "colab": {
          "base_uri": "https://localhost:8080/",
          "height": 75
        },
        "id": "mBQO6WBIg3Q3",
        "outputId": "6978fd9c-ec8c-4a27-840c-8bcb78337bfa"
      },
      "outputs": [
        {
          "data": {
            "text/plain": [
              "SVC(C=0.001, degree=2)"
            ]
          },
          "execution_count": 55,
          "metadata": {},
          "output_type": "execute_result"
        }
      ],
      "source": [
        "svc = SVC(C=0.001, class_weight= None, degree=2, gamma='scale', kernel='rbf')\n",
        "svc.fit(X_train_tf_idf,y_train)"
      ]
    },
    {
      "cell_type": "code",
      "execution_count": 56,
      "metadata": {
        "colab": {
          "base_uri": "https://localhost:8080/"
        },
        "id": "k11_6uzng3Q3",
        "outputId": "e6d4e9c1-a757-4700-d4c4-ab8bb4a2a28d"
      },
      "outputs": [
        {
          "name": "stdout",
          "output_type": "stream",
          "text": [
            "SUPPORT VECTOR MACHINES MODEL\n",
            "[[ 0  7  0  0  0  0  0  0  0  0]\n",
            " [ 0 40  0  0  0  0  0  0  0  0]\n",
            " [ 0 23  0  0  0  0  0  0  0  0]\n",
            " [ 0 16  0  0  0  0  0  0  0  0]\n",
            " [ 0 15  0  0  0  0  0  0  0  0]\n",
            " [ 0 10  0  0  0  0  0  0  0  0]\n",
            " [ 0 11  0  0  0  0  0  0  0  0]\n",
            " [ 0  2  0  0  0  0  0  0  0  0]\n",
            " [ 0 12  0  0  0  0  0  0  0  0]\n",
            " [ 0  3  0  0  0  0  0  0  0  0]]\n",
            "Test_Set\n",
            "                        precision    recall  f1-score   support\n",
            "\n",
            "            agreements       0.00      0.00      0.00         7\n",
            "             conflicts       0.29      1.00      0.45        40\n",
            "            diplomatic       0.00      0.00      0.00        23\n",
            "        economicEvents       0.00      0.00      0.00        16\n",
            "      naturalDisasters       0.00      0.00      0.00        15\n",
            "       politicalEvents       0.00      0.00      0.00        10\n",
            "    societalChallenges       0.00      0.00      0.00        11\n",
            "technologicalDisasters       0.00      0.00      0.00         2\n",
            "                terror       0.00      0.00      0.00        12\n",
            "              uprising       0.00      0.00      0.00         3\n",
            "\n",
            "              accuracy                           0.29       139\n",
            "             macro avg       0.03      0.10      0.04       139\n",
            "          weighted avg       0.08      0.29      0.13       139\n",
            "\n",
            "Train_Set\n",
            "                        precision    recall  f1-score   support\n",
            "\n",
            "            agreements       0.00      0.00      0.00        18\n",
            "             conflicts       0.29      1.00      0.45        93\n",
            "            diplomatic       0.00      0.00      0.00        54\n",
            "        economicEvents       0.00      0.00      0.00        38\n",
            "      naturalDisasters       0.00      0.00      0.00        34\n",
            "       politicalEvents       0.00      0.00      0.00        23\n",
            "    societalChallenges       0.00      0.00      0.00        25\n",
            "technologicalDisasters       0.00      0.00      0.00         4\n",
            "                terror       0.00      0.00      0.00        27\n",
            "              uprising       0.00      0.00      0.00         7\n",
            "\n",
            "              accuracy                           0.29       323\n",
            "             macro avg       0.03      0.10      0.04       323\n",
            "          weighted avg       0.08      0.29      0.13       323\n",
            "\n"
          ]
        },
        {
          "name": "stderr",
          "output_type": "stream",
          "text": [
            "c:\\Users\\mehme\\anaconda3\\envs\\hybridcore\\lib\\site-packages\\sklearn\\metrics\\_classification.py:1245: UndefinedMetricWarning: Precision and F-score are ill-defined and being set to 0.0 in labels with no predicted samples. Use `zero_division` parameter to control this behavior.\n",
            "  _warn_prf(average, modifier, msg_start, len(result))\n",
            "c:\\Users\\mehme\\anaconda3\\envs\\hybridcore\\lib\\site-packages\\sklearn\\metrics\\_classification.py:1245: UndefinedMetricWarning: Precision and F-score are ill-defined and being set to 0.0 in labels with no predicted samples. Use `zero_division` parameter to control this behavior.\n",
            "  _warn_prf(average, modifier, msg_start, len(result))\n",
            "c:\\Users\\mehme\\anaconda3\\envs\\hybridcore\\lib\\site-packages\\sklearn\\metrics\\_classification.py:1245: UndefinedMetricWarning: Precision and F-score are ill-defined and being set to 0.0 in labels with no predicted samples. Use `zero_division` parameter to control this behavior.\n",
            "  _warn_prf(average, modifier, msg_start, len(result))\n",
            "c:\\Users\\mehme\\anaconda3\\envs\\hybridcore\\lib\\site-packages\\sklearn\\metrics\\_classification.py:1245: UndefinedMetricWarning: Precision and F-score are ill-defined and being set to 0.0 in labels with no predicted samples. Use `zero_division` parameter to control this behavior.\n",
            "  _warn_prf(average, modifier, msg_start, len(result))\n",
            "c:\\Users\\mehme\\anaconda3\\envs\\hybridcore\\lib\\site-packages\\sklearn\\metrics\\_classification.py:1245: UndefinedMetricWarning: Precision and F-score are ill-defined and being set to 0.0 in labels with no predicted samples. Use `zero_division` parameter to control this behavior.\n",
            "  _warn_prf(average, modifier, msg_start, len(result))\n",
            "c:\\Users\\mehme\\anaconda3\\envs\\hybridcore\\lib\\site-packages\\sklearn\\metrics\\_classification.py:1245: UndefinedMetricWarning: Precision and F-score are ill-defined and being set to 0.0 in labels with no predicted samples. Use `zero_division` parameter to control this behavior.\n",
            "  _warn_prf(average, modifier, msg_start, len(result))\n"
          ]
        }
      ],
      "source": [
        "print(\"SUPPORT VECTOR MACHINES MODEL\")\n",
        "eval(svc, X_train_tf_idf, X_test_tf_idf)"
      ]
    },
    {
      "cell_type": "markdown",
      "metadata": {
        "id": "Dmhal7Apg3Q4"
      },
      "source": [
        "##### K-Nearest Neighbor (KNN)"
      ]
    },
    {
      "cell_type": "code",
      "execution_count": 60,
      "metadata": {},
      "outputs": [],
      "source": [
        "from sklearn.neighbors import KNeighborsClassifier"
      ]
    },
    {
      "cell_type": "code",
      "execution_count": 113,
      "metadata": {
        "colab": {
          "base_uri": "https://localhost:8080/",
          "height": 152
        },
        "id": "bHi4c1Ujg3Q4",
        "outputId": "a6794e82-6f90-4344-a67c-d9db8ef5b12c"
      },
      "outputs": [
        {
          "name": "stderr",
          "output_type": "stream",
          "text": [
            "/usr/local/lib/python3.10/dist-packages/sklearn/model_selection/_split.py:700: UserWarning: The least populated class in y has only 4 members, which is less than n_splits=10.\n",
            "  warnings.warn(\n"
          ]
        },
        {
          "data": {
            "text/html": [
              "<style>#sk-container-id-32 {color: black;background-color: white;}#sk-container-id-32 pre{padding: 0;}#sk-container-id-32 div.sk-toggleable {background-color: white;}#sk-container-id-32 label.sk-toggleable__label {cursor: pointer;display: block;width: 100%;margin-bottom: 0;padding: 0.3em;box-sizing: border-box;text-align: center;}#sk-container-id-32 label.sk-toggleable__label-arrow:before {content: \"▸\";float: left;margin-right: 0.25em;color: #696969;}#sk-container-id-32 label.sk-toggleable__label-arrow:hover:before {color: black;}#sk-container-id-32 div.sk-estimator:hover label.sk-toggleable__label-arrow:before {color: black;}#sk-container-id-32 div.sk-toggleable__content {max-height: 0;max-width: 0;overflow: hidden;text-align: left;background-color: #f0f8ff;}#sk-container-id-32 div.sk-toggleable__content pre {margin: 0.2em;color: black;border-radius: 0.25em;background-color: #f0f8ff;}#sk-container-id-32 input.sk-toggleable__control:checked~div.sk-toggleable__content {max-height: 200px;max-width: 100%;overflow: auto;}#sk-container-id-32 input.sk-toggleable__control:checked~label.sk-toggleable__label-arrow:before {content: \"▾\";}#sk-container-id-32 div.sk-estimator input.sk-toggleable__control:checked~label.sk-toggleable__label {background-color: #d4ebff;}#sk-container-id-32 div.sk-label input.sk-toggleable__control:checked~label.sk-toggleable__label {background-color: #d4ebff;}#sk-container-id-32 input.sk-hidden--visually {border: 0;clip: rect(1px 1px 1px 1px);clip: rect(1px, 1px, 1px, 1px);height: 1px;margin: -1px;overflow: hidden;padding: 0;position: absolute;width: 1px;}#sk-container-id-32 div.sk-estimator {font-family: monospace;background-color: #f0f8ff;border: 1px dotted black;border-radius: 0.25em;box-sizing: border-box;margin-bottom: 0.5em;}#sk-container-id-32 div.sk-estimator:hover {background-color: #d4ebff;}#sk-container-id-32 div.sk-parallel-item::after {content: \"\";width: 100%;border-bottom: 1px solid gray;flex-grow: 1;}#sk-container-id-32 div.sk-label:hover label.sk-toggleable__label {background-color: #d4ebff;}#sk-container-id-32 div.sk-serial::before {content: \"\";position: absolute;border-left: 1px solid gray;box-sizing: border-box;top: 0;bottom: 0;left: 50%;z-index: 0;}#sk-container-id-32 div.sk-serial {display: flex;flex-direction: column;align-items: center;background-color: white;padding-right: 0.2em;padding-left: 0.2em;position: relative;}#sk-container-id-32 div.sk-item {position: relative;z-index: 1;}#sk-container-id-32 div.sk-parallel {display: flex;align-items: stretch;justify-content: center;background-color: white;position: relative;}#sk-container-id-32 div.sk-item::before, #sk-container-id-32 div.sk-parallel-item::before {content: \"\";position: absolute;border-left: 1px solid gray;box-sizing: border-box;top: 0;bottom: 0;left: 50%;z-index: -1;}#sk-container-id-32 div.sk-parallel-item {display: flex;flex-direction: column;z-index: 1;position: relative;background-color: white;}#sk-container-id-32 div.sk-parallel-item:first-child::after {align-self: flex-end;width: 50%;}#sk-container-id-32 div.sk-parallel-item:last-child::after {align-self: flex-start;width: 50%;}#sk-container-id-32 div.sk-parallel-item:only-child::after {width: 0;}#sk-container-id-32 div.sk-dashed-wrapped {border: 1px dashed gray;margin: 0 0.4em 0.5em 0.4em;box-sizing: border-box;padding-bottom: 0.4em;background-color: white;}#sk-container-id-32 div.sk-label label {font-family: monospace;font-weight: bold;display: inline-block;line-height: 1.2em;}#sk-container-id-32 div.sk-label-container {text-align: center;}#sk-container-id-32 div.sk-container {/* jupyter's `normalize.less` sets `[hidden] { display: none; }` but bootstrap.min.css set `[hidden] { display: none !important; }` so we also need the `!important` here to be able to override the default hidden behavior on the sphinx rendered scikit-learn.org. See: https://github.com/scikit-learn/scikit-learn/issues/21755 */display: inline-block !important;position: relative;}#sk-container-id-32 div.sk-text-repr-fallback {display: none;}</style><div id=\"sk-container-id-32\" class=\"sk-top-container\"><div class=\"sk-text-repr-fallback\"><pre>GridSearchCV(cv=10, estimator=KNeighborsClassifier(),\n",
              "             param_grid={&#x27;metric&#x27;: [&#x27;euclidean&#x27;, &#x27;manhattan&#x27;, &#x27;minkowski&#x27;],\n",
              "                         &#x27;n_neighbors&#x27;: [1, 3, 5, 7, 9, 11],\n",
              "                         &#x27;weights&#x27;: [&#x27;uniform&#x27;, &#x27;distance&#x27;]},\n",
              "             return_train_score=True, scoring=&#x27;accuracy&#x27;)</pre><b>In a Jupyter environment, please rerun this cell to show the HTML representation or trust the notebook. <br />On GitHub, the HTML representation is unable to render, please try loading this page with nbviewer.org.</b></div><div class=\"sk-container\" hidden><div class=\"sk-item sk-dashed-wrapped\"><div class=\"sk-label-container\"><div class=\"sk-label sk-toggleable\"><input class=\"sk-toggleable__control sk-hidden--visually\" id=\"sk-estimator-id-60\" type=\"checkbox\" ><label for=\"sk-estimator-id-60\" class=\"sk-toggleable__label sk-toggleable__label-arrow\">GridSearchCV</label><div class=\"sk-toggleable__content\"><pre>GridSearchCV(cv=10, estimator=KNeighborsClassifier(),\n",
              "             param_grid={&#x27;metric&#x27;: [&#x27;euclidean&#x27;, &#x27;manhattan&#x27;, &#x27;minkowski&#x27;],\n",
              "                         &#x27;n_neighbors&#x27;: [1, 3, 5, 7, 9, 11],\n",
              "                         &#x27;weights&#x27;: [&#x27;uniform&#x27;, &#x27;distance&#x27;]},\n",
              "             return_train_score=True, scoring=&#x27;accuracy&#x27;)</pre></div></div></div><div class=\"sk-parallel\"><div class=\"sk-parallel-item\"><div class=\"sk-item\"><div class=\"sk-label-container\"><div class=\"sk-label sk-toggleable\"><input class=\"sk-toggleable__control sk-hidden--visually\" id=\"sk-estimator-id-61\" type=\"checkbox\" ><label for=\"sk-estimator-id-61\" class=\"sk-toggleable__label sk-toggleable__label-arrow\">estimator: KNeighborsClassifier</label><div class=\"sk-toggleable__content\"><pre>KNeighborsClassifier()</pre></div></div></div><div class=\"sk-serial\"><div class=\"sk-item\"><div class=\"sk-estimator sk-toggleable\"><input class=\"sk-toggleable__control sk-hidden--visually\" id=\"sk-estimator-id-62\" type=\"checkbox\" ><label for=\"sk-estimator-id-62\" class=\"sk-toggleable__label sk-toggleable__label-arrow\">KNeighborsClassifier</label><div class=\"sk-toggleable__content\"><pre>KNeighborsClassifier()</pre></div></div></div></div></div></div></div></div></div></div>"
            ],
            "text/plain": [
              "GridSearchCV(cv=10, estimator=KNeighborsClassifier(),\n",
              "             param_grid={'metric': ['euclidean', 'manhattan', 'minkowski'],\n",
              "                         'n_neighbors': [1, 3, 5, 7, 9, 11],\n",
              "                         'weights': ['uniform', 'distance']},\n",
              "             return_train_score=True, scoring='accuracy')"
            ]
          },
          "execution_count": 113,
          "metadata": {},
          "output_type": "execute_result"
        }
      ],
      "source": [
        "# Cross Validation takes long time\n",
        "knn = KNeighborsClassifier()\n",
        "param={'n_neighbors': [1, 3, 5, 7, 9, 11],\n",
        "       'weights' : ['uniform', 'distance'],\n",
        "       'metric' : ['euclidean', 'manhattan', 'minkowski']}\n",
        "clf=GridSearchCV(knn,param,scoring='accuracy',cv=10,return_train_score=True)\n",
        "clf.fit(X_train_tf_idf,y_train)"
      ]
    },
    {
      "cell_type": "code",
      "execution_count": 114,
      "metadata": {
        "colab": {
          "base_uri": "https://localhost:8080/"
        },
        "id": "EjWiPytZg3Q4",
        "outputId": "cc35c3a8-9601-45ee-c7c1-0563d1d49b2c"
      },
      "outputs": [
        {
          "data": {
            "text/plain": [
              "{'metric': 'euclidean', 'n_neighbors': 3, 'weights': 'distance'}"
            ]
          },
          "execution_count": 114,
          "metadata": {},
          "output_type": "execute_result"
        }
      ],
      "source": [
        "clf.best_params_"
      ]
    },
    {
      "cell_type": "code",
      "execution_count": 61,
      "metadata": {
        "colab": {
          "base_uri": "https://localhost:8080/",
          "height": 75
        },
        "id": "ucFzBhbpg3Q4",
        "outputId": "a2339dfc-83c8-4829-9a62-73fefa2a121d"
      },
      "outputs": [
        {
          "data": {
            "text/plain": [
              "KNeighborsClassifier(metric='euclidean', weights='distance')"
            ]
          },
          "execution_count": 61,
          "metadata": {},
          "output_type": "execute_result"
        }
      ],
      "source": [
        "knn = KNeighborsClassifier(n_neighbors=5,metric= 'euclidean',weights='distance')\n",
        "knn.fit(X_train_tf_idf,y_train)"
      ]
    },
    {
      "cell_type": "code",
      "execution_count": 62,
      "metadata": {
        "colab": {
          "base_uri": "https://localhost:8080/"
        },
        "id": "WwV1Ff3jg3Q4",
        "outputId": "65cd5897-01a3-4163-883a-75098a19d147"
      },
      "outputs": [
        {
          "name": "stdout",
          "output_type": "stream",
          "text": [
            "KNN MODEL\n",
            "[[ 3  1  2  1  0  0  0  0  0  0]\n",
            " [ 0 39  0  1  0  0  0  0  0  0]\n",
            " [ 0  2 19  0  1  0  0  0  1  0]\n",
            " [ 1  0  1 13  1  0  0  0  0  0]\n",
            " [ 0  0  1  0 12  0  2  0  0  0]\n",
            " [ 0  1  0  0  0  8  0  0  0  1]\n",
            " [ 0  0  3  1  2  0  3  1  1  0]\n",
            " [ 0  0  0  0  0  0  0  0  1  1]\n",
            " [ 0  0  0  0  0  0  0  0 12  0]\n",
            " [ 0  1  0  0  0  0  0  0  0  2]]\n",
            "Test_Set\n",
            "                        precision    recall  f1-score   support\n",
            "\n",
            "            agreements       0.75      0.43      0.55         7\n",
            "             conflicts       0.89      0.97      0.93        40\n",
            "            diplomatic       0.73      0.83      0.78        23\n",
            "        economicEvents       0.81      0.81      0.81        16\n",
            "      naturalDisasters       0.75      0.80      0.77        15\n",
            "       politicalEvents       1.00      0.80      0.89        10\n",
            "    societalChallenges       0.60      0.27      0.37        11\n",
            "technologicalDisasters       0.00      0.00      0.00         2\n",
            "                terror       0.80      1.00      0.89        12\n",
            "              uprising       0.50      0.67      0.57         3\n",
            "\n",
            "              accuracy                           0.80       139\n",
            "             macro avg       0.68      0.66      0.66       139\n",
            "          weighted avg       0.79      0.80      0.78       139\n",
            "\n",
            "Train_Set\n",
            "                        precision    recall  f1-score   support\n",
            "\n",
            "            agreements       1.00      1.00      1.00        18\n",
            "             conflicts       1.00      1.00      1.00        93\n",
            "            diplomatic       1.00      1.00      1.00        54\n",
            "        economicEvents       1.00      1.00      1.00        38\n",
            "      naturalDisasters       1.00      1.00      1.00        34\n",
            "       politicalEvents       1.00      1.00      1.00        23\n",
            "    societalChallenges       1.00      1.00      1.00        25\n",
            "technologicalDisasters       1.00      1.00      1.00         4\n",
            "                terror       1.00      1.00      1.00        27\n",
            "              uprising       1.00      1.00      1.00         7\n",
            "\n",
            "              accuracy                           1.00       323\n",
            "             macro avg       1.00      1.00      1.00       323\n",
            "          weighted avg       1.00      1.00      1.00       323\n",
            "\n"
          ]
        }
      ],
      "source": [
        "print(\"KNN MODEL\")\n",
        "eval(knn, X_train_tf_idf, X_test_tf_idf)"
      ]
    },
    {
      "cell_type": "markdown",
      "metadata": {
        "id": "JHGsgnFsg3Q4"
      },
      "source": [
        "##### Random Forest"
      ]
    },
    {
      "cell_type": "code",
      "execution_count": 63,
      "metadata": {},
      "outputs": [],
      "source": [
        "from sklearn.ensemble import RandomForestClassifier"
      ]
    },
    {
      "cell_type": "code",
      "execution_count": 117,
      "metadata": {
        "colab": {
          "base_uri": "https://localhost:8080/",
          "height": 152
        },
        "id": "9gl0y8ryg3Q4",
        "outputId": "7440d429-e1f5-472d-e848-dcd16cd3ab46"
      },
      "outputs": [
        {
          "name": "stderr",
          "output_type": "stream",
          "text": [
            "/usr/local/lib/python3.10/dist-packages/sklearn/model_selection/_split.py:700: UserWarning: The least populated class in y has only 4 members, which is less than n_splits=10.\n",
            "  warnings.warn(\n"
          ]
        },
        {
          "data": {
            "text/html": [
              "<style>#sk-container-id-34 {color: black;background-color: white;}#sk-container-id-34 pre{padding: 0;}#sk-container-id-34 div.sk-toggleable {background-color: white;}#sk-container-id-34 label.sk-toggleable__label {cursor: pointer;display: block;width: 100%;margin-bottom: 0;padding: 0.3em;box-sizing: border-box;text-align: center;}#sk-container-id-34 label.sk-toggleable__label-arrow:before {content: \"▸\";float: left;margin-right: 0.25em;color: #696969;}#sk-container-id-34 label.sk-toggleable__label-arrow:hover:before {color: black;}#sk-container-id-34 div.sk-estimator:hover label.sk-toggleable__label-arrow:before {color: black;}#sk-container-id-34 div.sk-toggleable__content {max-height: 0;max-width: 0;overflow: hidden;text-align: left;background-color: #f0f8ff;}#sk-container-id-34 div.sk-toggleable__content pre {margin: 0.2em;color: black;border-radius: 0.25em;background-color: #f0f8ff;}#sk-container-id-34 input.sk-toggleable__control:checked~div.sk-toggleable__content {max-height: 200px;max-width: 100%;overflow: auto;}#sk-container-id-34 input.sk-toggleable__control:checked~label.sk-toggleable__label-arrow:before {content: \"▾\";}#sk-container-id-34 div.sk-estimator input.sk-toggleable__control:checked~label.sk-toggleable__label {background-color: #d4ebff;}#sk-container-id-34 div.sk-label input.sk-toggleable__control:checked~label.sk-toggleable__label {background-color: #d4ebff;}#sk-container-id-34 input.sk-hidden--visually {border: 0;clip: rect(1px 1px 1px 1px);clip: rect(1px, 1px, 1px, 1px);height: 1px;margin: -1px;overflow: hidden;padding: 0;position: absolute;width: 1px;}#sk-container-id-34 div.sk-estimator {font-family: monospace;background-color: #f0f8ff;border: 1px dotted black;border-radius: 0.25em;box-sizing: border-box;margin-bottom: 0.5em;}#sk-container-id-34 div.sk-estimator:hover {background-color: #d4ebff;}#sk-container-id-34 div.sk-parallel-item::after {content: \"\";width: 100%;border-bottom: 1px solid gray;flex-grow: 1;}#sk-container-id-34 div.sk-label:hover label.sk-toggleable__label {background-color: #d4ebff;}#sk-container-id-34 div.sk-serial::before {content: \"\";position: absolute;border-left: 1px solid gray;box-sizing: border-box;top: 0;bottom: 0;left: 50%;z-index: 0;}#sk-container-id-34 div.sk-serial {display: flex;flex-direction: column;align-items: center;background-color: white;padding-right: 0.2em;padding-left: 0.2em;position: relative;}#sk-container-id-34 div.sk-item {position: relative;z-index: 1;}#sk-container-id-34 div.sk-parallel {display: flex;align-items: stretch;justify-content: center;background-color: white;position: relative;}#sk-container-id-34 div.sk-item::before, #sk-container-id-34 div.sk-parallel-item::before {content: \"\";position: absolute;border-left: 1px solid gray;box-sizing: border-box;top: 0;bottom: 0;left: 50%;z-index: -1;}#sk-container-id-34 div.sk-parallel-item {display: flex;flex-direction: column;z-index: 1;position: relative;background-color: white;}#sk-container-id-34 div.sk-parallel-item:first-child::after {align-self: flex-end;width: 50%;}#sk-container-id-34 div.sk-parallel-item:last-child::after {align-self: flex-start;width: 50%;}#sk-container-id-34 div.sk-parallel-item:only-child::after {width: 0;}#sk-container-id-34 div.sk-dashed-wrapped {border: 1px dashed gray;margin: 0 0.4em 0.5em 0.4em;box-sizing: border-box;padding-bottom: 0.4em;background-color: white;}#sk-container-id-34 div.sk-label label {font-family: monospace;font-weight: bold;display: inline-block;line-height: 1.2em;}#sk-container-id-34 div.sk-label-container {text-align: center;}#sk-container-id-34 div.sk-container {/* jupyter's `normalize.less` sets `[hidden] { display: none; }` but bootstrap.min.css set `[hidden] { display: none !important; }` so we also need the `!important` here to be able to override the default hidden behavior on the sphinx rendered scikit-learn.org. See: https://github.com/scikit-learn/scikit-learn/issues/21755 */display: inline-block !important;position: relative;}#sk-container-id-34 div.sk-text-repr-fallback {display: none;}</style><div id=\"sk-container-id-34\" class=\"sk-top-container\"><div class=\"sk-text-repr-fallback\"><pre>GridSearchCV(cv=10,\n",
              "             estimator=RandomForestClassifier(n_jobs=-1, random_state=42),\n",
              "             param_grid={&#x27;max_depth&#x27;: [3, 6, 9, 12, 15],\n",
              "                         &#x27;max_features&#x27;: [&#x27;sqrt&#x27;, &#x27;log2&#x27;, None],\n",
              "                         &#x27;max_leaf_nodes&#x27;: [3, 6, 9, 12, 15],\n",
              "                         &#x27;n_estimators&#x27;: [25, 50, 100, 150, 200, 250]},\n",
              "             return_train_score=True, scoring=&#x27;accuracy&#x27;)</pre><b>In a Jupyter environment, please rerun this cell to show the HTML representation or trust the notebook. <br />On GitHub, the HTML representation is unable to render, please try loading this page with nbviewer.org.</b></div><div class=\"sk-container\" hidden><div class=\"sk-item sk-dashed-wrapped\"><div class=\"sk-label-container\"><div class=\"sk-label sk-toggleable\"><input class=\"sk-toggleable__control sk-hidden--visually\" id=\"sk-estimator-id-64\" type=\"checkbox\" ><label for=\"sk-estimator-id-64\" class=\"sk-toggleable__label sk-toggleable__label-arrow\">GridSearchCV</label><div class=\"sk-toggleable__content\"><pre>GridSearchCV(cv=10,\n",
              "             estimator=RandomForestClassifier(n_jobs=-1, random_state=42),\n",
              "             param_grid={&#x27;max_depth&#x27;: [3, 6, 9, 12, 15],\n",
              "                         &#x27;max_features&#x27;: [&#x27;sqrt&#x27;, &#x27;log2&#x27;, None],\n",
              "                         &#x27;max_leaf_nodes&#x27;: [3, 6, 9, 12, 15],\n",
              "                         &#x27;n_estimators&#x27;: [25, 50, 100, 150, 200, 250]},\n",
              "             return_train_score=True, scoring=&#x27;accuracy&#x27;)</pre></div></div></div><div class=\"sk-parallel\"><div class=\"sk-parallel-item\"><div class=\"sk-item\"><div class=\"sk-label-container\"><div class=\"sk-label sk-toggleable\"><input class=\"sk-toggleable__control sk-hidden--visually\" id=\"sk-estimator-id-65\" type=\"checkbox\" ><label for=\"sk-estimator-id-65\" class=\"sk-toggleable__label sk-toggleable__label-arrow\">estimator: RandomForestClassifier</label><div class=\"sk-toggleable__content\"><pre>RandomForestClassifier(n_jobs=-1, random_state=42)</pre></div></div></div><div class=\"sk-serial\"><div class=\"sk-item\"><div class=\"sk-estimator sk-toggleable\"><input class=\"sk-toggleable__control sk-hidden--visually\" id=\"sk-estimator-id-66\" type=\"checkbox\" ><label for=\"sk-estimator-id-66\" class=\"sk-toggleable__label sk-toggleable__label-arrow\">RandomForestClassifier</label><div class=\"sk-toggleable__content\"><pre>RandomForestClassifier(n_jobs=-1, random_state=42)</pre></div></div></div></div></div></div></div></div></div></div>"
            ],
            "text/plain": [
              "GridSearchCV(cv=10,\n",
              "             estimator=RandomForestClassifier(n_jobs=-1, random_state=42),\n",
              "             param_grid={'max_depth': [3, 6, 9, 12, 15],\n",
              "                         'max_features': ['sqrt', 'log2', None],\n",
              "                         'max_leaf_nodes': [3, 6, 9, 12, 15],\n",
              "                         'n_estimators': [25, 50, 100, 150, 200, 250]},\n",
              "             return_train_score=True, scoring='accuracy')"
            ]
          },
          "execution_count": 117,
          "metadata": {},
          "output_type": "execute_result"
        }
      ],
      "source": [
        "#Cross validation takes long time\n",
        "rf = RandomForestClassifier(random_state = 42, n_jobs = -1)\n",
        "param={'n_estimators': [25, 50, 100, 150, 200, 250],\n",
        "       'max_features': ['sqrt', 'log2', None],\n",
        "       'max_depth': [3, 6, 9, 12, 15],\n",
        "       'max_leaf_nodes': [3, 6, 9, 12, 15]\n",
        "           }\n",
        "clf=GridSearchCV(rf,param,scoring='accuracy',cv=10,return_train_score=True)\n",
        "clf.fit(X_train_tf_idf,y_train)"
      ]
    },
    {
      "cell_type": "code",
      "execution_count": 118,
      "metadata": {
        "colab": {
          "base_uri": "https://localhost:8080/"
        },
        "id": "EEeuMqJeg3Q5",
        "outputId": "99b5eccd-f7e8-4f95-d7c6-6dab9a63e7e3"
      },
      "outputs": [
        {
          "data": {
            "text/plain": [
              "{'max_depth': 12,\n",
              " 'max_features': None,\n",
              " 'max_leaf_nodes': 15,\n",
              " 'n_estimators': 250}"
            ]
          },
          "execution_count": 118,
          "metadata": {},
          "output_type": "execute_result"
        }
      ],
      "source": [
        "clf.best_params_"
      ]
    },
    {
      "cell_type": "code",
      "execution_count": 64,
      "metadata": {
        "colab": {
          "base_uri": "https://localhost:8080/",
          "height": 92
        },
        "id": "WSh24IVCg3Q5",
        "outputId": "720545ec-ea44-490d-b59b-17f3c80e9ff5"
      },
      "outputs": [
        {
          "data": {
            "text/plain": [
              "RandomForestClassifier(max_depth=12, max_features=None, max_leaf_nodes=15,\n",
              "                       n_estimators=250, n_jobs=-1, random_state=42)"
            ]
          },
          "execution_count": 64,
          "metadata": {},
          "output_type": "execute_result"
        }
      ],
      "source": [
        "rf = RandomForestClassifier(250, max_depth=12,max_features=None, max_leaf_nodes= 15, random_state = 42, n_jobs = -1)\n",
        "rf.fit(X_train_tf_idf, y_train)"
      ]
    },
    {
      "cell_type": "code",
      "execution_count": 65,
      "metadata": {
        "colab": {
          "base_uri": "https://localhost:8080/"
        },
        "id": "rYB4g_I5g3Q5",
        "outputId": "947c9cb5-c69e-4da0-c62d-614b6f532924"
      },
      "outputs": [
        {
          "name": "stdout",
          "output_type": "stream",
          "text": [
            "RF MODEL\n",
            "[[ 2  0  2  2  0  0  1  0  0  0]\n",
            " [ 0 37  2  1  0  0  0  0  0  0]\n",
            " [ 0 10 12  0  1  0  0  0  0  0]\n",
            " [ 0  1  2 12  1  0  0  0  0  0]\n",
            " [ 0  1  0  0 13  0  1  0  0  0]\n",
            " [ 0  3  1  0  1  5  0  0  0  0]\n",
            " [ 0  4  5  1  1  0  0  0  0  0]\n",
            " [ 0  2  0  0  0  0  0  0  0  0]\n",
            " [ 0  0  0  1  0  0  0  0 11  0]\n",
            " [ 0  3  0  0  0  0  0  0  0  0]]\n",
            "Test_Set\n",
            "                        precision    recall  f1-score   support\n",
            "\n",
            "            agreements       1.00      0.29      0.44         7\n",
            "             conflicts       0.61      0.93      0.73        40\n",
            "            diplomatic       0.50      0.52      0.51        23\n",
            "        economicEvents       0.71      0.75      0.73        16\n",
            "      naturalDisasters       0.76      0.87      0.81        15\n",
            "       politicalEvents       1.00      0.50      0.67        10\n",
            "    societalChallenges       0.00      0.00      0.00        11\n",
            "technologicalDisasters       0.00      0.00      0.00         2\n",
            "                terror       1.00      0.92      0.96        12\n",
            "              uprising       0.00      0.00      0.00         3\n",
            "\n",
            "              accuracy                           0.66       139\n",
            "             macro avg       0.56      0.48      0.49       139\n",
            "          weighted avg       0.63      0.66      0.62       139\n",
            "\n",
            "Train_Set\n",
            "                        precision    recall  f1-score   support\n",
            "\n",
            "            agreements       0.88      0.83      0.86        18\n",
            "             conflicts       0.79      0.97      0.87        93\n",
            "            diplomatic       0.82      0.94      0.88        54\n",
            "        economicEvents       0.80      0.84      0.82        38\n",
            "      naturalDisasters       0.80      0.82      0.81        34\n",
            "       politicalEvents       1.00      0.52      0.69        23\n",
            "    societalChallenges       0.75      0.48      0.59        25\n",
            "technologicalDisasters       1.00      0.25      0.40         4\n",
            "                terror       0.96      0.93      0.94        27\n",
            "              uprising       0.00      0.00      0.00         7\n",
            "\n",
            "              accuracy                           0.82       323\n",
            "             macro avg       0.78      0.66      0.69       323\n",
            "          weighted avg       0.81      0.82      0.81       323\n",
            "\n"
          ]
        },
        {
          "name": "stderr",
          "output_type": "stream",
          "text": [
            "c:\\Users\\mehme\\anaconda3\\envs\\hybridcore\\lib\\site-packages\\sklearn\\metrics\\_classification.py:1245: UndefinedMetricWarning: Precision and F-score are ill-defined and being set to 0.0 in labels with no predicted samples. Use `zero_division` parameter to control this behavior.\n",
            "  _warn_prf(average, modifier, msg_start, len(result))\n",
            "c:\\Users\\mehme\\anaconda3\\envs\\hybridcore\\lib\\site-packages\\sklearn\\metrics\\_classification.py:1245: UndefinedMetricWarning: Precision and F-score are ill-defined and being set to 0.0 in labels with no predicted samples. Use `zero_division` parameter to control this behavior.\n",
            "  _warn_prf(average, modifier, msg_start, len(result))\n",
            "c:\\Users\\mehme\\anaconda3\\envs\\hybridcore\\lib\\site-packages\\sklearn\\metrics\\_classification.py:1245: UndefinedMetricWarning: Precision and F-score are ill-defined and being set to 0.0 in labels with no predicted samples. Use `zero_division` parameter to control this behavior.\n",
            "  _warn_prf(average, modifier, msg_start, len(result))\n",
            "c:\\Users\\mehme\\anaconda3\\envs\\hybridcore\\lib\\site-packages\\sklearn\\metrics\\_classification.py:1245: UndefinedMetricWarning: Precision and F-score are ill-defined and being set to 0.0 in labels with no predicted samples. Use `zero_division` parameter to control this behavior.\n",
            "  _warn_prf(average, modifier, msg_start, len(result))\n",
            "c:\\Users\\mehme\\anaconda3\\envs\\hybridcore\\lib\\site-packages\\sklearn\\metrics\\_classification.py:1245: UndefinedMetricWarning: Precision and F-score are ill-defined and being set to 0.0 in labels with no predicted samples. Use `zero_division` parameter to control this behavior.\n",
            "  _warn_prf(average, modifier, msg_start, len(result))\n",
            "c:\\Users\\mehme\\anaconda3\\envs\\hybridcore\\lib\\site-packages\\sklearn\\metrics\\_classification.py:1245: UndefinedMetricWarning: Precision and F-score are ill-defined and being set to 0.0 in labels with no predicted samples. Use `zero_division` parameter to control this behavior.\n",
            "  _warn_prf(average, modifier, msg_start, len(result))\n"
          ]
        }
      ],
      "source": [
        "print(\"RF MODEL\")\n",
        "eval(rf, X_train_tf_idf, X_test_tf_idf)"
      ]
    },
    {
      "cell_type": "markdown",
      "metadata": {
        "id": "Y3hdT7AAg3Q5"
      },
      "source": [
        "##### Adaboost"
      ]
    },
    {
      "cell_type": "code",
      "execution_count": 66,
      "metadata": {},
      "outputs": [],
      "source": [
        "from sklearn.ensemble import AdaBoostClassifier"
      ]
    },
    {
      "cell_type": "code",
      "execution_count": 125,
      "metadata": {
        "colab": {
          "base_uri": "https://localhost:8080/",
          "height": 152
        },
        "id": "s-rm8W0Ag3Q5",
        "outputId": "875f0c7a-5515-467d-94cd-14b9d7a17491"
      },
      "outputs": [
        {
          "name": "stderr",
          "output_type": "stream",
          "text": [
            "/usr/local/lib/python3.10/dist-packages/sklearn/model_selection/_split.py:700: UserWarning: The least populated class in y has only 4 members, which is less than n_splits=10.\n",
            "  warnings.warn(\n"
          ]
        },
        {
          "data": {
            "text/html": [
              "<style>#sk-container-id-36 {color: black;background-color: white;}#sk-container-id-36 pre{padding: 0;}#sk-container-id-36 div.sk-toggleable {background-color: white;}#sk-container-id-36 label.sk-toggleable__label {cursor: pointer;display: block;width: 100%;margin-bottom: 0;padding: 0.3em;box-sizing: border-box;text-align: center;}#sk-container-id-36 label.sk-toggleable__label-arrow:before {content: \"▸\";float: left;margin-right: 0.25em;color: #696969;}#sk-container-id-36 label.sk-toggleable__label-arrow:hover:before {color: black;}#sk-container-id-36 div.sk-estimator:hover label.sk-toggleable__label-arrow:before {color: black;}#sk-container-id-36 div.sk-toggleable__content {max-height: 0;max-width: 0;overflow: hidden;text-align: left;background-color: #f0f8ff;}#sk-container-id-36 div.sk-toggleable__content pre {margin: 0.2em;color: black;border-radius: 0.25em;background-color: #f0f8ff;}#sk-container-id-36 input.sk-toggleable__control:checked~div.sk-toggleable__content {max-height: 200px;max-width: 100%;overflow: auto;}#sk-container-id-36 input.sk-toggleable__control:checked~label.sk-toggleable__label-arrow:before {content: \"▾\";}#sk-container-id-36 div.sk-estimator input.sk-toggleable__control:checked~label.sk-toggleable__label {background-color: #d4ebff;}#sk-container-id-36 div.sk-label input.sk-toggleable__control:checked~label.sk-toggleable__label {background-color: #d4ebff;}#sk-container-id-36 input.sk-hidden--visually {border: 0;clip: rect(1px 1px 1px 1px);clip: rect(1px, 1px, 1px, 1px);height: 1px;margin: -1px;overflow: hidden;padding: 0;position: absolute;width: 1px;}#sk-container-id-36 div.sk-estimator {font-family: monospace;background-color: #f0f8ff;border: 1px dotted black;border-radius: 0.25em;box-sizing: border-box;margin-bottom: 0.5em;}#sk-container-id-36 div.sk-estimator:hover {background-color: #d4ebff;}#sk-container-id-36 div.sk-parallel-item::after {content: \"\";width: 100%;border-bottom: 1px solid gray;flex-grow: 1;}#sk-container-id-36 div.sk-label:hover label.sk-toggleable__label {background-color: #d4ebff;}#sk-container-id-36 div.sk-serial::before {content: \"\";position: absolute;border-left: 1px solid gray;box-sizing: border-box;top: 0;bottom: 0;left: 50%;z-index: 0;}#sk-container-id-36 div.sk-serial {display: flex;flex-direction: column;align-items: center;background-color: white;padding-right: 0.2em;padding-left: 0.2em;position: relative;}#sk-container-id-36 div.sk-item {position: relative;z-index: 1;}#sk-container-id-36 div.sk-parallel {display: flex;align-items: stretch;justify-content: center;background-color: white;position: relative;}#sk-container-id-36 div.sk-item::before, #sk-container-id-36 div.sk-parallel-item::before {content: \"\";position: absolute;border-left: 1px solid gray;box-sizing: border-box;top: 0;bottom: 0;left: 50%;z-index: -1;}#sk-container-id-36 div.sk-parallel-item {display: flex;flex-direction: column;z-index: 1;position: relative;background-color: white;}#sk-container-id-36 div.sk-parallel-item:first-child::after {align-self: flex-end;width: 50%;}#sk-container-id-36 div.sk-parallel-item:last-child::after {align-self: flex-start;width: 50%;}#sk-container-id-36 div.sk-parallel-item:only-child::after {width: 0;}#sk-container-id-36 div.sk-dashed-wrapped {border: 1px dashed gray;margin: 0 0.4em 0.5em 0.4em;box-sizing: border-box;padding-bottom: 0.4em;background-color: white;}#sk-container-id-36 div.sk-label label {font-family: monospace;font-weight: bold;display: inline-block;line-height: 1.2em;}#sk-container-id-36 div.sk-label-container {text-align: center;}#sk-container-id-36 div.sk-container {/* jupyter's `normalize.less` sets `[hidden] { display: none; }` but bootstrap.min.css set `[hidden] { display: none !important; }` so we also need the `!important` here to be able to override the default hidden behavior on the sphinx rendered scikit-learn.org. See: https://github.com/scikit-learn/scikit-learn/issues/21755 */display: inline-block !important;position: relative;}#sk-container-id-36 div.sk-text-repr-fallback {display: none;}</style><div id=\"sk-container-id-36\" class=\"sk-top-container\"><div class=\"sk-text-repr-fallback\"><pre>GridSearchCV(cv=10, estimator=AdaBoostClassifier(random_state=42),\n",
              "             param_grid={&#x27;algorithm&#x27;: [&#x27;SAMME&#x27;, &#x27;SAMME.R&#x27;],\n",
              "                         &#x27;n_estimators&#x27;: [25, 50, 100, 150, 200, 250]},\n",
              "             return_train_score=True, scoring=&#x27;accuracy&#x27;)</pre><b>In a Jupyter environment, please rerun this cell to show the HTML representation or trust the notebook. <br />On GitHub, the HTML representation is unable to render, please try loading this page with nbviewer.org.</b></div><div class=\"sk-container\" hidden><div class=\"sk-item sk-dashed-wrapped\"><div class=\"sk-label-container\"><div class=\"sk-label sk-toggleable\"><input class=\"sk-toggleable__control sk-hidden--visually\" id=\"sk-estimator-id-68\" type=\"checkbox\" ><label for=\"sk-estimator-id-68\" class=\"sk-toggleable__label sk-toggleable__label-arrow\">GridSearchCV</label><div class=\"sk-toggleable__content\"><pre>GridSearchCV(cv=10, estimator=AdaBoostClassifier(random_state=42),\n",
              "             param_grid={&#x27;algorithm&#x27;: [&#x27;SAMME&#x27;, &#x27;SAMME.R&#x27;],\n",
              "                         &#x27;n_estimators&#x27;: [25, 50, 100, 150, 200, 250]},\n",
              "             return_train_score=True, scoring=&#x27;accuracy&#x27;)</pre></div></div></div><div class=\"sk-parallel\"><div class=\"sk-parallel-item\"><div class=\"sk-item\"><div class=\"sk-label-container\"><div class=\"sk-label sk-toggleable\"><input class=\"sk-toggleable__control sk-hidden--visually\" id=\"sk-estimator-id-69\" type=\"checkbox\" ><label for=\"sk-estimator-id-69\" class=\"sk-toggleable__label sk-toggleable__label-arrow\">estimator: AdaBoostClassifier</label><div class=\"sk-toggleable__content\"><pre>AdaBoostClassifier(random_state=42)</pre></div></div></div><div class=\"sk-serial\"><div class=\"sk-item\"><div class=\"sk-estimator sk-toggleable\"><input class=\"sk-toggleable__control sk-hidden--visually\" id=\"sk-estimator-id-70\" type=\"checkbox\" ><label for=\"sk-estimator-id-70\" class=\"sk-toggleable__label sk-toggleable__label-arrow\">AdaBoostClassifier</label><div class=\"sk-toggleable__content\"><pre>AdaBoostClassifier(random_state=42)</pre></div></div></div></div></div></div></div></div></div></div>"
            ],
            "text/plain": [
              "GridSearchCV(cv=10, estimator=AdaBoostClassifier(random_state=42),\n",
              "             param_grid={'algorithm': ['SAMME', 'SAMME.R'],\n",
              "                         'n_estimators': [25, 50, 100, 150, 200, 250]},\n",
              "             return_train_score=True, scoring='accuracy')"
            ]
          },
          "execution_count": 125,
          "metadata": {},
          "output_type": "execute_result"
        }
      ],
      "source": [
        "#Cross validation takes long time\n",
        "ada = AdaBoostClassifier(random_state = 42)\n",
        "param={'n_estimators': [25, 50, 100, 150, 200, 250],\n",
        "       'algorithm': ['SAMME', 'SAMME.R']\n",
        "       }\n",
        "clf=GridSearchCV(ada,param,scoring='accuracy',cv=10,return_train_score=True)\n",
        "clf.fit(X_train_tf_idf,y_train)\n"
      ]
    },
    {
      "cell_type": "code",
      "execution_count": 126,
      "metadata": {
        "colab": {
          "base_uri": "https://localhost:8080/"
        },
        "id": "E9t8b1sdg3Q5",
        "outputId": "e62deed8-86ec-43fc-b48b-81f366f667a6"
      },
      "outputs": [
        {
          "data": {
            "text/plain": [
              "{'algorithm': 'SAMME', 'n_estimators': 250}"
            ]
          },
          "execution_count": 126,
          "metadata": {},
          "output_type": "execute_result"
        }
      ],
      "source": [
        "clf.best_params_"
      ]
    },
    {
      "cell_type": "code",
      "execution_count": 67,
      "metadata": {
        "colab": {
          "base_uri": "https://localhost:8080/",
          "height": 75
        },
        "id": "FeEj-zNsg3Q5",
        "outputId": "fd9aebf6-8033-4063-a79e-e31e40852bde"
      },
      "outputs": [
        {
          "data": {
            "text/plain": [
              "AdaBoostClassifier(algorithm='SAMME', n_estimators=250, random_state=42)"
            ]
          },
          "execution_count": 67,
          "metadata": {},
          "output_type": "execute_result"
        }
      ],
      "source": [
        "ada = AdaBoostClassifier(n_estimators= 250, algorithm= 'SAMME', random_state = 42)\n",
        "ada.fit(X_train_tf_idf, y_train)"
      ]
    },
    {
      "cell_type": "code",
      "execution_count": 68,
      "metadata": {
        "colab": {
          "base_uri": "https://localhost:8080/"
        },
        "id": "cvZmKMdCg3Q6",
        "outputId": "a3b3e955-a821-4620-cb03-9a611f317ca8"
      },
      "outputs": [
        {
          "name": "stdout",
          "output_type": "stream",
          "text": [
            "Ada MODEL\n",
            "[[ 3  0  3  1  0  0  0  0  0  0]\n",
            " [ 0 37  2  0  0  0  1  0  0  0]\n",
            " [ 0 15  6  1  0  0  1  0  0  0]\n",
            " [ 0 10  2  3  0  0  1  0  0  0]\n",
            " [ 0 10  0  0  5  0  0  0  0  0]\n",
            " [ 0  2  4  1  0  3  0  0  0  0]\n",
            " [ 0  6  4  1  0  0  0  0  0  0]\n",
            " [ 0  2  0  0  0  0  0  0  0  0]\n",
            " [ 0  7  3  1  0  0  0  0  1  0]\n",
            " [ 0  1  2  0  0  0  0  0  0  0]]\n",
            "Test_Set\n",
            "                        precision    recall  f1-score   support\n",
            "\n",
            "            agreements       1.00      0.43      0.60         7\n",
            "             conflicts       0.41      0.93      0.57        40\n",
            "            diplomatic       0.23      0.26      0.24        23\n",
            "        economicEvents       0.38      0.19      0.25        16\n",
            "      naturalDisasters       1.00      0.33      0.50        15\n",
            "       politicalEvents       1.00      0.30      0.46        10\n",
            "    societalChallenges       0.00      0.00      0.00        11\n",
            "technologicalDisasters       0.00      0.00      0.00         2\n",
            "                terror       1.00      0.08      0.15        12\n",
            "              uprising       0.00      0.00      0.00         3\n",
            "\n",
            "              accuracy                           0.42       139\n",
            "             macro avg       0.50      0.25      0.28       139\n",
            "          weighted avg       0.52      0.42      0.36       139\n",
            "\n",
            "Train_Set\n",
            "                        precision    recall  f1-score   support\n",
            "\n",
            "            agreements       0.83      0.56      0.67        18\n",
            "             conflicts       0.45      0.96      0.61        93\n",
            "            diplomatic       0.54      0.37      0.44        54\n",
            "        economicEvents       0.62      0.47      0.54        38\n",
            "      naturalDisasters       0.93      0.41      0.57        34\n",
            "       politicalEvents       0.80      0.35      0.48        23\n",
            "    societalChallenges       0.80      0.16      0.27        25\n",
            "technologicalDisasters       1.00      0.75      0.86         4\n",
            "                terror       1.00      0.30      0.46        27\n",
            "              uprising       0.75      0.43      0.55         7\n",
            "\n",
            "              accuracy                           0.55       323\n",
            "             macro avg       0.77      0.48      0.54       323\n",
            "          weighted avg       0.67      0.55      0.52       323\n",
            "\n"
          ]
        },
        {
          "name": "stderr",
          "output_type": "stream",
          "text": [
            "c:\\Users\\mehme\\anaconda3\\envs\\hybridcore\\lib\\site-packages\\sklearn\\metrics\\_classification.py:1245: UndefinedMetricWarning: Precision and F-score are ill-defined and being set to 0.0 in labels with no predicted samples. Use `zero_division` parameter to control this behavior.\n",
            "  _warn_prf(average, modifier, msg_start, len(result))\n",
            "c:\\Users\\mehme\\anaconda3\\envs\\hybridcore\\lib\\site-packages\\sklearn\\metrics\\_classification.py:1245: UndefinedMetricWarning: Precision and F-score are ill-defined and being set to 0.0 in labels with no predicted samples. Use `zero_division` parameter to control this behavior.\n",
            "  _warn_prf(average, modifier, msg_start, len(result))\n",
            "c:\\Users\\mehme\\anaconda3\\envs\\hybridcore\\lib\\site-packages\\sklearn\\metrics\\_classification.py:1245: UndefinedMetricWarning: Precision and F-score are ill-defined and being set to 0.0 in labels with no predicted samples. Use `zero_division` parameter to control this behavior.\n",
            "  _warn_prf(average, modifier, msg_start, len(result))\n"
          ]
        }
      ],
      "source": [
        "print(\"Ada MODEL\")\n",
        "eval(ada, X_train_tf_idf, X_test_tf_idf)"
      ]
    },
    {
      "cell_type": "markdown",
      "metadata": {
        "id": "OoDbaQmeg3Q6"
      },
      "source": [
        "##### Deep Learning"
      ]
    },
    {
      "cell_type": "markdown",
      "metadata": {
        "id": "lNpm1-rng3Q6"
      },
      "source": [
        "GRU is used in this section. GRU is a deep learning model for sequential data like time series or texts. Since tfidf does not hold the sequence information, we need to tokenize the text in an other way."
      ]
    },
    {
      "cell_type": "code",
      "execution_count": 69,
      "metadata": {
        "id": "1SKMv-CPg3Q6"
      },
      "outputs": [],
      "source": [
        "import tensorflow as tf\n",
        "from tensorflow.keras.models import Sequential\n",
        "from tensorflow.keras.layers import Dense, GRU, Embedding, Dropout\n",
        "from tensorflow.keras.optimizers import Adam\n",
        "from tensorflow.keras.preprocessing.text import Tokenizer\n",
        "from tensorflow.keras.preprocessing.sequence import pad_sequences\n",
        "\n",
        "from sklearn.preprocessing import LabelEncoder"
      ]
    },
    {
      "cell_type": "code",
      "execution_count": 70,
      "metadata": {
        "id": "Esw1CeSzg3Q6"
      },
      "outputs": [],
      "source": [
        "num_words = 1200\n",
        "tokenizer = Tokenizer(num_words=num_words)"
      ]
    },
    {
      "cell_type": "code",
      "execution_count": 71,
      "metadata": {
        "colab": {
          "base_uri": "https://localhost:8080/"
        },
        "id": "sV2F81acg3Q6",
        "outputId": "9e068691-e734-4107-b1ae-71e259dd5697"
      },
      "outputs": [
        {
          "data": {
            "text/plain": [
              "array(['alsarraj review eni official support libya electricity head libyan presidential council fayez alsarraj discussed monday italian oil giant eni official possible investment italian company libya development project area company operates support electricity sector discussion came meeting tripoli eni official alsarraj reviewed work italian company meeting held presence eni ceo claudio descalzi official italian company addition chairman national oil corporation mustafa sanallah',\n",
              "       'noc eni review resuming stalled project chairman national oil corporation noc mustafa sanallah discussed ceo italian company eni resumption significant project stalled funding shortfall meeting held noc hq dealt way maintain production rate onshore offshore field increase capacity well supporting libyan energy sector level two party also discussed progress made offshore project e increase natural rate gas production bahr alsalam coming year secure local market supply gas according statement nocfor part enis ceo affirmed commitment operational activity project libya reiterating full support noc initiative',\n",
              "       'halliburton discus increased cooperation noc increasing production training submersible pump leak detection halliburton regional director colby fuser met national oil corporation noc chairman mustafa sanalla yesterday noc tripoli headquarters meeting number topic discussed prominent development joint cooperation two side increasing production rate establishing integrated workshop submersible pump accessory introduction modern technology libyan oil sector used detect leak resulting past closure high accuracy leak detection system reservoir crude oil transmission line would contribute establishing locating treating spill faster contributing significantly increasing production rate accordance noc longterm plansthe meeting also discussed plan training development engineer technician working libyan oil sector sanalla commented regard saying libyan oil sector full engineer creative technician high skill talent need refinedhalliburton one international company long history oil sector libya count cooperation make qualitative leap developing capability sector worker',\n",
              "       'libya say total mull investment nation oil field total discussed helping boost flow highest level noc say france total se talk increase energy investment libya oil output surged past two month amid truce opec member civil war total libya staterun national oil corp held virtual meeting discussed effort increase libyan production capacity output highest level noc said thursday daily output already recovered million barrel said statement amount libya producing collapsed political chaos civil war almost decade agothe speedy resurgence libyan oil flow producing le barrel day early september surprised oil trader exceeded analyst forecastsstrife rival military force caused neartotal halt energy industry januarythe noc company even shutdown stop working hard noc chairman mustafa sanalla said',\n",
              "       'zallaf noc discus new south refinery wide ranging facetoface technical meeting zallaf libya oil gas exploration production company national oil corporation noc held noc tripoli headquarters yesterday meeting also included participant video link benghazi ra lanuf noc reported meeting technical financial detail project establish south refinery presented importance providing oil product fuel southern region decrease suffering people area provide fuel need discussedfurthermore noc affirmed continue work implementation referred vital project despite current circumstance also include establishment unit extracting cooking gas',\n",
              "       'zallaf oil libya repsol discus field development pipeline meeting held headquarters zallaf libya office spain repsol oil company zallaf reported yesterday meeting focused reviewing activity zallaf discussing way joint cooperation zallaf repsol field exploration development production oil gas zallaf field murzuq ghadames basin pipeline transport crude oil zawia refinery also discussed meeting also discussed benefiting experience repsol company implementing sustainable development project social responsibility production area surrounding operation zallaf reported',\n",
              "       'noc sign consultancy agreement kpmg libya state national oil corporation noc kpmg tunisia signed consultancy contract yesterday former tripoli headquartersthe work start immediately noc reported yesterday contract project develop comprehensive system financial administrative system human resource marketing manufacturing exploration production noc chairman mustafa sanallah said signing ceremony concluding implementing important agreement noc enable automation work introduction modern digital technology financial administrative technical system related field exploration production manufacturing marketing international human resource added would contribute strengthening position global institution first sovereign entity libya implement concept transparency good governance high professionalism line standard major energy company operate international level kpmg chosen implement project one four best company world extensive experience field hope company able achieve goal institutionthe noc digitally transform business next two year',\n",
              "       'british security consultancy company rose partner discus security arrangement return foreign company libya project fathi bashagha interior minister internationally recognized libyan government tripoli met yesterday representative british security consultancy company rose partner meeting held interior ministry headquarters tripoli integrated vision discussed secure return foreign company implementing infrastructure project libya rehabilitation police member training programme raise efficiency police staff member line security work developed country addition number topic concern ministry interior also discussedrose partner appoints new libya country chairman libya herald contacted rose partner yesterday seeking detail activity libya time publication response received last month rose partner announced strengthened libya team appointment libya country chairman said come continues grow business development client service operation libya',\n",
              "       'noc italy eni discus development alburi offshore oilfield chairman national oil corporation noc mustafa sanallah discussed chief operating officer italian eni group alessandro puliti resumption second phase developing alburi offshore oilfield noc said statement meeting reviewed issue related project financially legally technically logistically well current challenge represented lack funding noc need noc eni group confirmed strategic cooperation two side extends nearly fifty year hoping extend development oil gas sector libya',\n",
              "       'sanallah discus schlumberger strengthening cooperation chairman national oil corporation noc mustafa sanallah discussed ceo schlumberger olivier le peuch way enhance cooperation two party aim transferring appropriate technology carry maintenance work closed oil well sanallah praised role schlumberger played past year meeting via video link tuesday considering one important service company important role supporting oil gas production said also praised company role field developing human resource launching training center project benghazi start program first quarter next year ceo schlumberger confirmed company intention provide service technical assistance oil field site libya',\n",
              "       'misrata municipality discus recycling project turkish company partner technic misrata municipality held meeting yesterday presence chairman libyan iron steel company lisco director misrata general company cleaning public service representative turkish company partner technic specializes field industry waste recycling energy productionduring meeting proposal submitted turkish company dispose municipality daily waste recycle use production generation electric power discussed company presented feasibility study establishing project line waste situation inside municipality addition discussing identification project sitethe project aim environmentally friendly project produce harmful waste municipality reportedbenghazi tyre recycling plant start plastic recycling start soon beida municipality claim received libya first waste recycling plant eastern libya invite bot offer german company recycle waste energy production ministry local government offer municipalitywide recycling contract libya meteorological centre forecast rain warns impending environmental health pollution cost uncollected garbage',\n",
              "       'france total discus increased oil production investment noc libya reach million bpd production france total national oil corporation noc discussed increasing production capacity rate increasing total investment libya virtual meeting yesterday noc reportedit also confirmed production rate already million bpd challenge facing corporation especially budget needed run sector complete important strategic project support national economy complete maintenance work site also discussedtotal noc report congratulated noc ability finally resume maintenance production operation reach previous production rate despite difficult condition libya going scarcity budget total said ready provide support extend bridge cooperation partner strategic nocnoc chairman mustafa sanalla said national oil corporation company even period closure moment stop working hard appreciate great effort made production maintenance project department effort employee oil field site throughout libya step borne fruit coordination concerned department company implementation good accurate completion maintenance work carried surface equipment crude oil transmission line exceptional difficult circumstance clearly explains rapid return previous production rate reached million barrel per day roughly rate achieved corporation company shutdown',\n",
              "       'ge help operational experiment khoms emergency power station state general electricity company libya gecol revealed tuesday october operational experiment khoms emergency power station project continuing help expert u energy giant gegecol said required operational experiment conducted past period showed use expert necessary added determined bring generation unit online way assures safety damage recalled libya going acute power cut since revolution issue become political seen indicator failure present libyan political order august acute power cut contributed demonstration west east libya threatened bring government',\n",
              "       'libya usaid sign agreement promote fiscal transparency improve public financial management ministry finance libya internationally recognized government u agency international development usaid signed letter cooperation today outline ongoing u support libyan authority work promote fiscal transparency improve public financial management libya signing took place meeting libya finance minister faraj bumtari u ambassador libya richard norland norland noted robust partnership usaid ministry finance reflects u commitment helping libyan authority earn trust confidence libyan public state resource managed transparently public interest ambassador minister also discussed way usaid program could support government effort empower municipality play greater role delivering service libyan public throughout country including south u embassy report voiced support un support mission libya unsmil call convene senior libyan technocrat policymakers muchneeded dialogue economic challenge facing libya libya resource people libya grapple challenge related exchange rate budget process norland underscored libya resource must protected benefit libyan actor would seek divert state resource narrow individual partisan gain held accountable',\n",
              "       'ebanking service committee meet try improve service electronic banking service committee formed tripolibased libyan government held eighth meeting yesterday part work improve banking service citizen meeting included representative general electricity company libya gecol state bank jumhouria bank libya largest bank libyan post telecommunication holding company lptic owns libya telecom company including state internet service provider libya telecom technology ltt two state mobile phone provider almadar libyana meeting held prime minister office tripoli discussed main problem jumhouria bank suffers prominent power outage important source communication data centre main connection point bank mechanism securing additional electrical source fuel supply generator agreed assign work team gecol lptic jumhouria bank prepare technical specification alternative power line generator required supply data centre main connection point current backup uninterrupted power supplyups battery system also agreed collate rest technical problem faced bank bank operating outside scope electronic system presented expanded meeting presence relevant authority recalled libya suffering acute power cut since revolution',\n",
              "       'expertise france support libya promotion industrial sector expertise france executing project eu help libya promote industrial sector tripoli ministry economy industry national industry promotion authority nipa reported last weekduring meeting two held monday december previous programme mean cooperation new programme discussed nipa presented proposal cooperation programme working achieve namely centre green industry clean production nipa reported expertise france took programme consideration workshop held according plan prepared agreed party',\n",
              "       'industry union hold workshop effect energy sector crisis libya industry union liu held workshop tripoli tuesday entitled effect energy crisis industrial sector treatment liu reported workshop attended representative public private entity including member parliament government national oil corporation general electricity company libya leading industrial company libya reported seven paper presented unpublished workshop relevant topic followed lengthy discussion workshop concluded set recommendation unpublished liu said follow relevant authority help solve energy crisis',\n",
              "       'bashaga discus elhillo possibility flight reopening united nation humanitarian coordinator libya yacoub elhillo discussed minister interior fathi bashaga resumption flight migrant wishing return home libya homeland along resettlement flight refugee country humanitarian evacuation trip came meeting party tuesday along discussion cooperation humanitarian issue method develop strengthen strategic relationship according statement issued united nation support mission libya unsmil party also agreed work way facilitate issuance entry visa member international nongovernmental organization work humanitarian field libya',\n",
              "       'siemens enka inspect construction site ahead starting mw power project lengthy power cut become political issue threatening bring government germany power generation giant siemens turkish implementing contractor enka inspected tripoli west misrata project site today general electricity company libya gecol reportedthey inspected logistical security condition site project generate total mw new electricity generation planned ready next summer peak demand period come part agreement turkish implementing company return libya resume electricity project part urgent plan initiated gecol faiez serraj government generate libya power generation deficit mw site inspection two company come tripoli audit bureau granted implementing contractor day ultimatum start project risk losing company power cut become sensitive political issue libya threatening bring western eastern libyan government libyawide demonstration shooting protestors government recognized troop excessive use force arrest injury least one death ministerial suspension provisional resignation eastern government',\n",
              "       'u company look forward rebuilding libya infrastructure american chamber commerce libya amcham libya hosted virtual meeting u ambassador libya richard norland american company tuesday exchange view regarding evolving political process libya prospect improving business climate u investment libya amcham libya said american company expressed strong desire deploy technical expertise financial resource help rebuild libya infrastructure economy meanwhile u ambassador norland underscored ongoing political process libya provided unique opportunity libyan political economic leader achieve reform make libya strong reliable partner private sector investment business leader emphasized greater investment libya required longterm political stability transparent economic decisionmaking agreement longterm revenue management enabling business environment including central bank timely consistent approval letter credit libyan importer require honor payment foreign business partner amcham libya remarkedthe american chamber commerce libya added join united state embassy supporting american business commitment investing prosperous future libya people',\n",
              "       'alreaid libyan businessmen delegation visit cairo february head general union libyan commerce industry agriculture chamber mohammad alreaid said friday delegation libyan businessmen visit cairo next february discus investment trade cooperation different field alreaid told bawabet alwasat website delegation libyan businessmen west east south region adding work different sector including construction food alreaid said visit egyptian delegation tripoli december important adding received positive sign egypt boosting cooperation facilitating good transportation libya egypt',\n",
              "       'islamic development bank visit libyan industry union industrial zone representative islamic development bank yesterday visited first industrial zone belonging libyan industry union liu liu reported today hectare industrial zone outskirt tripoli employee worker liu said go direct job zone factory liu said zone one important achievement group factory still operating today without state support despite condition libya currently inthe liu optimistic future said work create industrial zone near future political security stability return country',\n",
              "       'sahary bank expertise france discus establishing sme financing unit libya sahary bank expertise france discussed establishment sme financing unit last week tunis december expertise france reported expertise france said meeting come within framework supporting libyan bank establish unit specialized serving small mediumsized enterprise improve access finance create supportive environment entrepreneur develop company meeting step establishing unit designing structure responsibility discussed explainedthe meeting come within wider activity eupsl project funded european union implemented expertise france support private sector libya expertise france reported october jumhouria bank arab commercial bank also recently approved establishment sme unit serve small mediumsized enterprise smes sme financing unit established two libyan bank libyaheraldcom expertise france support libya promotion industrial sector libyaheraldcom expertise france hail five diversification project libya libyaheraldcom',\n",
              "       'libya business council sahelsahara bank discus cooperation investment africa libya business council lbc libya legally recognized countrywide business council discussed investment lbc member africa sahel sahara bankthe discussion took place lbc head abdalla fellah sahelsahara bank chairman ahmed tarhuni bank tripoli headquarters wednesday speaking libya herald tripoli phone yesterday fellah explained discussion came part lbc support member revitalization economic activity within africahe said issue common interest revolving around investing africa facilitating banking operation lbc member also discussed revealed two party agreed invite lbc member meet bank banking institution african country discus aspect cooperation investment machanisms within african country viewing africa fertile ground trade investment project various kind sahelsahara investment trade bank one financial banking arm sahelsahara censad community libya stake african country rest share varying proportion',\n",
              "       'libya taraghin host date exhibition desert town taraghin southwest libya hosted murzuq date exhibition participation palm farmer beekeeper olive producer various libyan city exhibition held palm hall taraghin featured various display palm tree fruit well associated industry took part awarded closing day special certificate participation sponsor exhibition alghaith organization development environment charitable activity event also attended various heritage art craft organization enriched exhibition distinctive hand made product exhibition included activity artistic performance folk poetry song addition traditional costume fashion show portrayed child',\n",
              "       'libya unity force battle retake strategic sirte france fighter loyal libya unrecognised government sunday kept counteroffensive force strongman khalifa haftar fighting slowed outskirt strategic city sirte mediterranean coastal city home former dictator moamer kadhafi ousted killed natobacked uprising also key gateway country major oil field east turkishbacked government national accord gna based tripoli recent week retaken remaining outpost western libya prohaftar loyalist sought capture capital month offensive haftar following string military setback cairo saturday supported ceasefire proposal made key backer president abdel fattah alsisi meant take effect gmt monday socalled cairo declaration called withdrawal foreign mercenary libyan territory dismantling militia handing weaponry sisi said resurgent gna rejected truce plan bombarded sirte last major settlement traditional boundary western libya east haftars traditional stronghold',\n",
              "       'haftars force violate libyan ceasefire attack sabha military zone force loyal khalifa haftar supported sudanese mercenary air cover violated libyan ceasefire agreement signed geneva two month ago attacking tindi camp headquarters sabha military zone government national accord second party ceasefire agreement source ubari said source said haftars force violated ceasefire ubari attempted seize control sabha military zone headquarters headed ali kanna however failed confronted zone force obliging retreat mountain area surrounding headquarters failure haftar force attack led prominent gaddafiregime figure mabrouk sahban contacted headquarters asking withdraw leave gnacommanded sabha military zone yet demand denied gna force remained alert attack position neither gna unsmil stakeholder issued statement clear violation ceasefire committed haftars force southern libya',\n",
              "       'libyan army gaining ground south tripoli army unit capture haftars militia vehicle say libyan army spokesperson libyan army advancing southern part tripoli area occupied militia warlord khalifa haftar according military source army heading area old tripoli airport remle region naqliyya military camp located kilometer mile south capital operation volcano rage run army said three military vehicle belonging haftars militia kazirma region rendered inoperable howitzer cannon army spokesperson col mohammed gununu said tuesday haftar militia military vehicle captured troop southern alhalle region tripoli government also known government national accord gna attack haftars force since april illegal force eastern libya launched several attack capture tripoli killed violence',\n",
              "       'libya tripoli government retake area capital benghazi libya may reuters libya internationally recognised government retook part southern tripoli friday easternbased libyan national army lna khalifa haftar whose month campaign seize capital evergreater pressure fighter government national accord gna said advanced several district overrun military camp lna said already pulled area said humanitarian gesture ramadan gna turkish help made sudden stride recent week seizing string town lna capturing strategically important watiya airbase destroying several russianmade air defence system lna backed united arab emirate russia egypt promised respond massive air campaign thursday spokesman ahmed mismari said four warplane become newly available diplomat warned risk new round escalation warring side external backer pouring new weaponry focus conflict shifted towards tarhouna biggest remaining lna stronghold northwest libya',\n",
              "       'eastern libyan force regain control el feel oilfield lna benghazi libya reuters eastern libyan force said wednesday driven armed group libya barrelperday bpd el feel oil field production halted rival group took control national oil corporation said earlier wednesday air strike halted production el feel easternbased force retaliated force aligned internationally recognized government tripoli took control field libyan national army lna drove rival group securing field spokesman ahmed mismari said facebook page fighting reignited conflict control large oilfield southwestern libya competing military alliance also battling outskirt capital tripoli air strike gate el feel oilfield inside housing compound field used noc personnel noc chairman mustafa sanalla said statement production remain shuttered military activity cease military personnel withdraw noc area operation',\n",
              "       'libya progovernment force capture tripoli airport force loyal libya government national accord gna announced wednesday retaken tripoli international airport marking major blow generalturnedwarlord khalifa haftar force fully liberated tripoli international airport said mohamad gnounou spokesman force supporting unbacked government libyan capital civilian airport service since heavily damaged however represents strategic position outskirt capital lie key highway leading central tripoli gnounou said progovernment force chasing haftars militia fleeing towards gasr gen gashir lie roughly kilometer mile south tripoli past month progovernment force claimed series victory haftars force',\n",
              "       'least killed libya military academy attack tripoli reuters least people killed others wounded attack military academy libyan capital late saturday health ministry tripolibased government said statement sunday tripoli controlled internationally recognized government national accord gna facing offensive military commander khalifa haftars libyan national army lna began april increase air strike shelling around tripoli recent week fear fighting could escalate turkey parliament voted allow troop deployment support gna force allied gna described saturday attack military camp alhadhba aerial bombing launched eastern rival lna spokesman denied involvement gna health minister hamid bin omar told reuters earlier phone call number dead wounded still rising',\n",
              "       'libya gna launch air operation haftars militia clash continue unrecognized government warlord khalifa haftars force air force libya unrecognized government national accord gna launched air attack tanker transporting fuel warlord khalifa haftars militia three tanker fuel haftar militia hit operation tarhuna city ban walid province statement gna official muhammad kanunu said haftars militia attacked capital tripoli first day muslim holy month ramadan killing three civilian un march urged conflicting party libya ceasefire party announced accepted haftars militia attacked tripoli militia also continued heavy attack first covid case reported libya',\n",
              "       'two russian air defense system destroyed alwatiya base haftars militia second russianmade pantsir antiaircraft system supplied uae warlord haftars armed group watiya airbase destroyed joint operation room gna confirms hour destroying first one big blow haftars group spokesman libyan army colonel mohamed ganunu said first pantsir destroyed saturday three direct drone strike early sunday second pantsir also hit another strike press briefing saturday ganunu added drone strike also targeted three armored car along ammunitionladen vehicle stressing target pose threat whether moving still legitimate target destroyed without hesitation',\n",
              "       'west libyan force claim downed drone turkish support arrives tripoli reuters force aligned libya tripolibased government said tuesday shot drone operated rival suggesting strengthening air defense receive accelerated military support turkey drone shot east misrata key source military power force aligned internationally recognized government national accord gna force said social medium page posted picture charred wreckage aircraft largely intact wing carried away pickup truck identifying drone supplied united arab emirate uae supporting east libyabased force led khalifa haftar supplying chinesemade wing loong drone long gave aerial advantage le powerful turkish drone used rival according un expert diplomat analyst many turkish drone destroyed shot chinese drone however turkey recently sending reinforcement gna include air defense system well military advisor analyst say',\n",
              "       'exclusive u say drone shot russian air defense near reuters u military belief unarmed american drone reported lost near libya capital last month fact shot russian air defense demanding return aircraft wreckage u africa command say shootdown would underscore moscow increasingly muscular role energyrich nation russian mercenary reportedly intervening behalf east libyabased commander khalifa haftar libya civil war haftar sought take capital tripoli held libya internationally recognized government national accord gnaus army general stephen townsend lead africa command said believed operator air defense time didnt know u remotely piloted aircraft fired certainly know belongs refusing return say dont know buying townsend told reuters statement without elaborating',\n",
              "       'libya haftar militia strike mitiga airport capital militia loyal libya renegade commander khalifa haftar sunday hit capital tripoli rocket attack attack targeted mitiga international airport according statement press center libyan armyled operation volcano rage statement gave information injury death according united nation since beginning year seven health center country struck time haftar leader illegal armed force eastern libya intensified attack civilian since beginning may libyan army recently gained advantage inflicted severe loss militant libya government attack haftars force since april killed violence',\n",
              "       'haftars army accuses gna shelling civilian outside tripoli eu renews call ceasefire year since tobruk governmentbacked force libyan national army lna led marshal khalifa haftar began offensive government national accord gna capital civil war entering new phase january turkey sent troop country shore gnas defence tripoli libyan national army accused government national accord carrying massed rocket attack town tarhuna km southeast tripoli friday night alleging nearly two dozen shell hit civilianpopulated area tarhuna subjected rocket attack rocket fired fell residential area ahmed almismari spokesman lna said saturday morning spokesman said extent damage strike yet determined warned lna force prepared respond attack fighting tarhuna began late last week gna regained control libya border tunisia wednesday lna reported gna attack strategic town repelled date',\n",
              "       'warlord haftar violates libyan ceasefire army report casualty following grad missile attack haftars militia libyan army said sunday warlord khalifa haftar violated ceasefire deal targeted country troop multiple grad missile army source told anadolu agency warlord militia fired missile different army post late saturday violation ceasefire agreement brokered aug attack cause casualty inflict damage military hardware said source army announced aug first breach ceasefire haftars militia fired one dozen grad rocket army position west sirte libya torn civil war since ouster late ruler muammar gaddafi government national accord gna founded unled agreement effort longterm political settlement failed due military offensive force loyal haftar',\n",
              "       'haftar us banned landmines libya right group use internationally banned landmines unconscionable say human right watch illegal militia warlord khalifa haftar fighting government libya used antipersonnel landmines booby trap withdrew tripoli human right watch said wednesday use internationally banned landmines unconscionable said steve goose head arm division human right watch chair international campaign ban landmines fighting tripoli halt using landmines start clearing avoid harm life limb said went say indiscriminate weapon like landmines cannot distinguish fighter civilian right group said victimactivated explosive device prohibited mine ban treaty urged haftar publicly pledge instruct fighter command mercenary supporting stop using landmines destroy stock possession may united nation support mission libya unsmil expressed concern report civilian resident tripoli zara salahuddin neighborhood killed wounded improvised explosive device placed innear home',\n",
              "       'libya killed clearing haftars landmines government warns resident hurry return home operation completed twentyfive people died clearing landmines planted warlord khalifa haftars militia southern tripoli interior ministry said wednesday agency internationallyrecognized government said haftars militia planted highexplosive russianmade mine populated area southern tripoli officer including explosive engineer ministry mining clearance team killed operation far mine cleared including antitank mine said warned resident hurry return home clearing operation completed last month libyan army accused haftars militia planting highexplosive mine area left zara salaheddin area southern tripoli march government launched operation peace storm counter attack capital recently regained strategic location including alwatiya airbase major blow haftars force',\n",
              "       'woman killed girl injured attack haftars force libya woman killed girl injured ubari southern libya attack led prohaftar tariq bin ziyad brigade one city neighborhood using armored vehicle capture wanted men libya alahrar tv reported source ubari saying haftars force killed woman injured girl scoured neighborhood wanted men damaging house along way brigade well tariq bin ziyad attacked westerb sharib neighborhood arrested resident wanted kidnap case block attacking force came sharara oilfield source told libya alahrar tv meanwhile haftars force said attack resulted capturing seven terrorist linked alqaeda islamic maghreb aqim according prohaftar military medium also said security unit carried successful operation capture terrorist ubari',\n",
              "       'five tarhuna mass graf discovered general authority search identification missing person announced thursday october discovery five new mass graf rabt project area tarhuna said unidentified body four body part recovered far graf completed thursday authority announced discovery numerous mass graf located close location corps october recalled authority part ministry justice libya internationally recognized government tripoli charged investigate missing person reported july body number remains recovered tarhuna area south tripoli period june july also recalled war tripoli tarhuna control kani brother family militia ruled tarhuna reportedly violently suppressing militia khalifa hafters war tripoli kani brother aligned khalifa hafter',\n",
              "       'body found new libya mass graf committee france dozen body unearthed newly found mass graf tarhuna region western libya eastern strongman khalifa haftars force launched aborted assault tripoli last year four new site discovered two mass graf two individual graf tarhuna unidentified body exhumed committee tasked unrecognised government national accord gna search missing person said facebook page wednesday committee official tawfiq told afp journalist total body found since search mass graf launched withdrawal haftars force western libya june least mass graf yet unearthed according abdel hakim abu naama head nongovernmental association tarhuna victim june footage posted social medium appeared show summary execution desecration corps human right watch called haftar investigate alleged war crime fighter tarhuna served main staging point haftars failed month offensive tripoli',\n",
              "       'libyan govt abducts anticorruption official fund dispute cairo ap one libya top anticorruption official abducted militia tied interior ministry capital audit bureau said monday latest twist longrunning contest country vast wealth abduction reda gergab audit bureau administrative director brought deep tension tripolibased administration surface time worsening economic crisis audit bureau independent body appointed libyan parliament tripoli rare check misappropriation fund oilrich country regrettable body entrusted community implement law violating audit bureau said statement accusing interior ministry forcibly disappearing gergab prevent uncovering financial irregularity blocking ministry large suspicious transaction although tripolibased government set un recognized western country many institution including interior ministry reality staffed controlled unruly militia interior ministry acknowledged gergabs detention sought justify arguing public health crisis caused covid required dispensation urgent fund rescue libyan people government merely carrying responsibility undermined anticorruption agency',\n",
              "       'head serraj medium organization released militia mohamed omar baiyu head tripolibased libyan medium organization released yesterday social medium post said arrest misunderstanding got today prison product misunderstanding libyan armed force defended great tripoli stood face aggression regional country led mercenary tripoli bride sea destroyed neighbourhood killed youth woman orphaned child recalled baiyu kidnapped october tripoli militia tripoli revolutionary brigade trb militia recognized libya internationally recognized libyan government mr baiyu arrested along two son newly appointed head programme libya alwataniya tv channel m hind ammar two son m ammar later released',\n",
              "       'un welcome release kidnapped doctor libya tripoli dec xinhua united nation support mission libya unsmil monday welcomed release doctor kidnapped capital tripoli dec unsmil welcome release dr siddiq ben della day abduction call full independent inquiry incident incident arbitrary detention kidnapping perpetrated armed group continue undermine rule law across libya mission tweeted interior ministry libya unbacked government sunday said freed doctor arrested kidnapper proper legal procedure taken arrested kidnapper fair legal penalty taken ministry said siddiq khalfallah ben della yearold university professor wellknown orthopedic surgeon deputy head local hospital kidnapped tripoli dec car ambushed four armed uniformed men according unsmil libya mired state insecurity chaos following ouster killing late leader muammar gaddafi',\n",
              "       'embarrassed tripoli interior ministry condemns arrest eastern passenger arriving benina mitiga airport ministry interior internationally recognized libyan government based tripoli yesterday condemned arrest citizen arriving eastern region flight benghazi benina airport tripoli mitiga airport condemnation statement ministry said act committed group people serve personal interest said arrest represent tripoli government serve public interest country undermines current ongoing negotiation western eastern libyan faction ministry said investigation opened incident legal measure taken armed group carried act analysis incident must cause much embarrassment tripoli libyan government interior minister fathi bashagha timing could worse',\n",
              "       'arrest warrant issued tripoli protest shooting one arrest tripoli demonstrator released still held questioning attorney general public prosecutor office confirmed release tripoli protestors arrest suspected shooter logo agppo attorney general office tripoli confirmed yesterday issuance arrest warrant suspect staterecognized security force accused shooting tripoli demonstrator august also confirmed suspect arrested still investigation attorney general office also confirmed social medium report protester detained tripoli released adding eight protester still detained suspicion involvement riot harak august august movement organized demonstration social medium campaign confirmed release least four arrested member recalled august tripoli interior ministry announced arrested one suspect shooting protester martyr square central tripoli',\n",
              "       'joint force arrest alleged isi member fuel smuggler migrant joint force military defence arrested five individual suspected belonging isi group force clarified detainee include two tunisian african two libyan source said four cell member arrested security operation south city aljmail near tunisian border fifth caught ambush highway separate operation joint force managed seize truck used smuggle fuel tunisia clash armed group charge fuel smuggling operation one gunman injured operation others arrested referred public prosecution according joint force also confirmed detention african immigrant arrested attempting migrate europe ajilat aljmail city west libya indicating come within framework force effort combat human trafficking fuel drug smuggling well terrorist organization western region',\n",
              "       'libya free two russian held suspicion election meddling move follows setback moscowbacked military chief haftar libya released two russian held past month suspicion election meddling removing key source tension internationally recognized government tripoli kremlin maxim shugaley samir seifan detained may accused working help engineer return ousted leader moammar al qaddafi son presidential election oilrich north african state moscowbased company worked denied allegation russia supporter eastern military commander khalifa haftar country ongoing conflict set release condition improving tie tripoli government received military backing turkey wara private plane arrived thursday tripoli mitiga airport repatriate two russian said ahmed bin salem spokesman government organized crime counterterror apparatus holding release longawaited russian foreign ministry spokeswoman maria zakharova told reporter expressing moscow satisfaction decision libyan authority',\n",
              "       'italian fisherman held libya freed day eighteen italian fisherman held captive libya day freed ending political standoff two country fate men prolonged imprisonment group become embarrassment italy government critic accusing minister failing stand khalifa haftar military commander hold sway eastern libya italian prime minister giuseppe conte foreign minister luigi di maio way benghazi release fisherman board two sicilian boat seized haftars force september received phone call confirming imminent release salvatore quinci mayor sicilian port town mazara del vallo men told italian medium really happy di maio wrote facebook fisherman free',\n",
              "       'libya easternbased army release detained foreign ship tripoli dec xinhua easternbased libyan national army lna thursday announced release foreign commercial ship intercepted day ago eastern libya general command libyan arab armed force release ship mabruka carry flag jamaica searching completing investigation crew lnas spokesperson ahmad almismari said statement ship fined sailing libyan territorial water without libyan permission authorization also entering restricted zone said crew ship heading western libya consisted nine turk seven indian azerbaijani almismari said libya suffered year escalating violence political division lna unbacked government national accord country west enditem',\n",
              "       'eastern libyan force warns transporting military equipment civilian plane epeak world news benghazi reuters easternbased libyan national army force said sunday monitored boeing flown istanbul libya carrying military equipment lna spokesman ahmed mismari warned carrier transporting weapon using civilian plane adding army strike plane carry weapon civilian status aircraft revoked soon used military purpose mismari told reuters mismari also said video released sunday lna extending ultimatum given fighter misrata aligned internationally recognized government national accord based tripoli would wednesday midnight withdraw city instead midnight sunday withdrawing force would targeted said',\n",
              "       'russian medium reveals uaes provision new air defense system warlord haftar russian medium revealed united arab emirate uae provided libyan warlord khalifa haftar new lrsvm morava rocket launcher designed developed serbian military technical institute belgrade stateowned zvezda tv network said uae possession number system handed libya specifically haftars force stressing new defense system observed military exercise conducted socalled tariq bin ziyad brigade haftars force recently',\n",
              "       'libya interior minister russia sent new fighter jet haftar libyan interior minister fathi bashagha said thursday russia sent least eight warplane khalifa haftar bashagha told bloomberg government national accord received information least six mig two sukhoi flown eastern region russiancontrolled hmeimim air base syria escorted two su russian airforce jet meanwhile source close volcano rage operation said intelligence aljufra airbase pointed arrival russian aircraft last three day comment official statement made russia regarding development bloomberg also reported haftars force said would carry largest aerial campaign libyan history target turkish interest libya libyan army gnas command destroyed nine russianmade pantsirs antiaircraft system hour captured alwatiya airbase town western libya',\n",
              "       'libyan army track flight carrying mercenary le three medium center volcano range operation friday disclosed monitored flight carrying mercenary syria area controlled warlord khalifa haftar since last october flight syrian sham wing airline transporting mercenary syria landed haftarcontrolled area medium centre confirmed statement facebook explained trip monitored since last october month witnessed signing unsponsored ceasefire agreement representative haftar government national accord gna geneva according statement sham wing plane fly damascus airport russian hmeimim military base lattakia benina airport benghazi emiraticontrolled alkhadim base south almarj noting plane path usually hidden radar enters libyan airspace similar flight previously detected tracking system three russian cargo plane landed alqardabiya base sirte november december addition flight russian air force plane tracked taking hmeimim base december another november disappeared radar airspace egypt way eastern libya according statement',\n",
              "       'army spokesman armed convoy haftar militia headed toward spokesman sirtealjufra operation room abdul hadi darah said force spotted armed convoy haftars militia heading aljufra central libya towards southern region darah added press statement convoy included armed car six armoured vehicle two car loaded ammunition confirmed observed military cargo plane landing alqardabiyah base sirte saturday morning stressing haftar seeking stability security aspires return war order seize power',\n",
              "       'erdogan say turkey starting troop deployment libya ankara reuters turkey beginning send troop libya support internationally recognized government tripoli president tayyip erdogan said thursday day summit berlin address libyan conflict speaking ankara erdogan added turkey continue use diplomatic military mean ensure stability south including libya erdogan due meet leader germany russia britain italy sunday discus conflict also said turkey would start granting license exploration drilling eastern mediterranean accord maritime agreement libya said turkey oruc real ship would begin seismic activity region',\n",
              "       'source sudan hemetti send troop libya save haftar libyan government force attack haftars last two stronghold western region become imminent united arab emirate requested commander rapid support force rsf sudan mohamed hamdan dagalo send military reinforcement libya back warlord con tripoli according wellinformed source dagalo aka hemetti agreed send two armed faction north african country within effort united arab emirate save hand libya khalifa haftar source spoke libya observer condition anonymity said united arab emirate promised send financial military support hemetti return dispatching force libya thousand sudanese mercenary currently fighting several front libya many killed mercenary sharing photo video facebook sirte southern tripoli front claiming free libya terrorism sudan denied participation sudanese force ongoing fighting libya',\n",
              "       'libya ngo say mercenary enlisted turkey general news ansamed beirut total mercenary syria nation enlisted turkey fight libya said ngo syrian observatory human right sohr said recent month government ankara sent syrian unspecifiednationality militant libya gathered additional approximately fighter training camp turkey sohr said total proturkey syrian mercenary died thus far fighting libya support front tripoli government recognised un european union opposed force libyan general khalifa haftar haftars force backed egypt russia united arab emirate saudi arabia',\n",
              "       'turkish defense ministry trained soldier libya spokeswoman turkish defense ministry pinar kara announced sunday country military completed training libyan soldier whilst training soldier presently kara added press conference turkey intervened libya support unrecognized government national accord gna accordance international law bilateral agreement signed gna indicated turkish military fully support gna complex training demining health along humanitarian assistance advisory support',\n",
              "       'erdogan say turkish military libya train proserraj force istanbul reuters turkish military personnel sent libya supporting training force internationally recognized government fayez alserraj turkey president tayyip erdogan said friday speaking istanbul talk german chancellor angela merkel erdogan also said country attended libya summit berlin sunday favor serrajs opponent khalifa haftar left meeting without signing ceasefire deal',\n",
              "       'cblnoc tugofwar authority libya oil revenue continues leaked letter going back forth continued bring light ongoing tugofwar tripoli central bank libya cbl national oil corporation noc authority process libya oil revenue leaked letter sparked cbl claiming latest monthly statistical bulletin published november noc data appeared inaccurate past year requires verification review leaked letter noc marked top secret dated november cbl responds noc denial withheld monies cbls libyan government account making case cbl confirmed tallying announced noc oil sale received revenue worked noc declared u billion transferred state account cbl letter repeated oft quoted mantra custodian libya oil revenue hard currency reserve since despite political military economic upheaval libya experienced since assured stability libya contrasted libya relative stability country like yemen lebanon',\n",
              "       'noc strongly refutes cbl claim inaccurate oil revenue data libya state national oil corporation noc today strongly refuted claim tripolibased central bank libya noc oil revenue data inaccurate reported libya herald cbl claim came latest monthly statistical bulletin released november referring noc data cbl said appeared inaccurate past year requires verification review noc referred claim fallacy noc revealed contract international financial auditing verification company financial administrative system also insisted oil revenue transferred cbl account cbl clear transparency front libyan people regarding mechanism spending oil revenue last year entity benefited revenue foreign currency exceeded total billion u dollar last nine year',\n",
              "       'international crisis group freezing libya oil revenue pending report prepared international crisis group libya revealed freezing oil revenue account national oil corporation noc limited four month intended end pending appointment new government unification central bank libya cbl report issued friday added several international financial institution may also restrict export import operation libyan foreign bank recognized legal director appointed bank present conflict head presidential council fayez alsarraj governor cbl saddiq alkabeer ended',\n",
              "       'u sanction kaniyat family led militia human right abuse u yesterday imposed sanction kaniyat family led tarhuna militia human right abuse department treasury office foreign asset control ofac revealed announced mohamed alkani kaniyat militia responsible murder civilian recently discovered numerous mass graf tarhuna well torture forced disappearance displacement civilian said alkani kaniyat militia designated pursuant executive order eo build upon implement global magnitsky human right accountability act target serious human right abuse corruption around world mohamed alkani kaniyat militia tortured killed civilian cruel campaign oppression libya said secretary steven mnuchin united state stand libyan people use tool authority disposal target human right abuser libya across world',\n",
              "       'u blacklist libya militia tied murder torture france u treasury announced sanction wednesday libyan rebel militia loyal eastern strongman khalifa haftar allegedly behind multiple murder kidnapping torture treasury said mohamed alkani kaniyat militia responsible murder civilian recently discovered numerous mass graf tarhuna libyan government force discovered mass graf june around tarhuna southeast tripoli tarhuna main staging point haftars abortive offensive aimed seizing capital unrecognized government national accord saturday government missing person authority said unearthed body newlydiscovered mass grave near town government force blamed alkanis militia said victim showed sign tortured burned buried alive according treasury',\n",
              "       'u sanction prohaftar alkaniyat militia leader united state u blacklisted alkaniyat militia leader mohammed alkani loyal warlord khalifa haftar wednesday global magnitsky act responsible murder civilian recently discovered numerous mass graf tarhouna well torture forced disappearance displacement civilian alkani kaniyat militia designated pursuant executive order eo build upon implement global magnitsky human right accountability act target serious human right abuse corruption around world u treasury said u treasury secretary steven mnuchin said statement mohamed alkani kaniyat militia tortured killed civilian cruel campaign oppression libya united state stand libyan people use tool authority disposal target human right abuser libya across world',\n",
              "       'russia stop un blacklisting libya militia leader new york reuters russia friday stopped un security council committee blacklisting libyan militia group leader human right abuse said wanted see evidence first killed civilian united state germany proposed council member libya sanction committee impose asset freeze travel ban alkaniyat militia leader mohammed alkani move agreed consensus russia said could approve support future possible conditioned provision irrefutable evidence involvement killing civilian population russian diplomat told security council colleague note seen reuters libyan city tarhouna recaptured june internationally recognized government national accord gna year controlled kaniyat militia run local kani family fought alongside khalifa haftars easternbased libyan national army lna last month libyan authority dug body four unmarked graf tarhouna adding score corps already discovered since june',\n",
              "       'germany france uk italy threaten sanction libya dialogue spoiler france germany italy united kingdom threatened obstructionist unled libyan dialogue sanction four country said joint statement monday ready take measure obstruct libyan political dialogue forum track berlin process well continue plunder state fund commit human right abuse violation throughout country france germany italy united kingdom welcomed result first round libyan political dialogue forum took place tunis november based unsc resolution conclusion berlin conference libya saying important step restore libya sovereignty democratic legitimacy institution agreement roadmap national election december statement said ongoing political effort build upon comprehensive ceasefire agreement concluded geneva october progress within libyan joint military commission reiterated country call libyan party fully implement ceasefire agreement commending effort made libyan party meeting libyan town ghadames sirte brega france germany italy united kingdom also welcomed widespread resumption oil production libyan discussion reforming security provision oil installation',\n",
              "       'u embassy warns sanction anyone attempting obstruct libya dialogue u ambassador richard norland hailed courageous effort libyan participant joint military commission jmc consultation ghadames implement october ceasefire agreement realize libyan aspiration deescalate conflict begin take concrete step toward ultimate departure foreign force mercenary u embassy said statement important trajectory continue broad representative group libyan gather tunis beginning november unfacilitated libyan political dialogue forum lpdf aim finalize roadmap national election libyan would exercise sovereign inalienable right choose future democratic mean u embassy indicated encouraged overwhelming majority libyan working good faith seize historic opportunity libya restore sovereignty achieve brighter future regrettably however small group libyan concert certain external actor instead seeking undermine unfacilitated dialogue plunder libya wealth prioritize personal ambition wellbeing nation u embassy warned saying stand libyan reject violence oppose foreign manipulation come together peaceful patriotic dialogue u embassy reminded would stand way progress made unled dialogue libyan remain risk sanction',\n",
              "       'u imposes libyarelated sanction individual company washington aug reuters united state thursday imposed sanction three individual maltabased company accusing acting network smuggler contributing instability libya u treasury department statement said blacklisted faysal alwadi accusing libyan national smuggled drug libyan fuel malta also blacklisted two associate musbah mohamad wadi nourddin milood musbah maltabased company alwefaq ltd vessel maraya treasury said wadi used alleged smuggling operation treasury said competition control smuggling route oil facility transport node key driver conflict libya deprives libyan people economic resource thursday action freeze u asset blacklisted generally bar american dealing faysal alwadi associate smuggled fuel libya used libya transit zone smuggle illicit drug said deputy treasury secretary justin muzinich',\n",
              "       'libyan commander haftars force say taken sirte benghazi libya reuters libyan force loyal easternbased commander khalifa haftar said monday taken control strategic coastal city sirte rapid advance preceded air strikesholding sirte would important gain haftar since april waging military offensive capital tripoli home libya internationally recognized government national accord gna sirte lie center libya mediterranean coast controlled gnaaligned force since ejected islamic state city help u air strike late haftars selfstyled libyan national army lna said taken area surrounding sirte including alqardabiya air base moving towards city centerthe commanderinchief decided wellplannedpreemptive strike within le three hour heart sirte said lna spokesman ahmed almismariit sudden swift operation said adding advance preceded several hour air strike',\n",
              "       'tripolialigned force say quit libya sirte avoid bloodshed tripoli reuters force aligned libya internationally recognized government national accord said tuesday withdrawn strategic coastal city sirte avoid bloodshed eastern rival rapidly entered took controlholding sirte would important gain easternbased commander khalifa haftar since april waged military offensive capital tripoli home gna try extend control across vast mainly desert country sirte west important oil export terminal also controlled haftar strategically positioned supply route eastern western southern libyathe advance haftars libyan national army lna come turkey prepares send military advisor expert libya help shore gna part rising international involvement libya conflictour force took decision studying situation withdraw outside sirte await order sirte protection force gna ally said statementour force still retain full capability withdrawal sire end added',\n",
              "       'side accuse violating ceasefire libya tripoli reuters libya warring faction accused violating ceasefire proposed turkey russia fighting continued around capital tripoli sundaythe turkish russian president called ceasefire start sunday nine month offensive tripoli easternbased libyan national army lna led khalifa haftar lna tripolibased internationally recognized government national accord gna said conditionally agreed trucebut gna said statement recorded gunfire salaheddin wadi rabea area minute ceasefire meant start sunday saturday gmtfrom early sunday morning exchange fire could heard salaheddin zara districtsany attempt impose lasting ceasefire hard enforce splintered nature libya military coalition disparate faction foreign fighter deployed side',\n",
              "       'eastern libyan force say ready determined achieve victory benghazi libya reuters eastern libyan force trying seize capital tripoli held internationally recognized government said ready determined achieve victory force official facebook website said tuesdayit gave detail another website linked force said commander khalifa haftar sign ceasefire proposal put forward turkey russia monday',\n",
              "       'force aligned tripoli government advance along west libyan coast cairo reuters force aligned libya internationally recognized government seized two town west capital tripoli monday heavy clash drone strike military source resident saidif held town surman sabratha would represent significant gain force trying fight yearold campaign tripoli rival loyal easternbased commander khalifa haftar could also relieve pressure tripolibased government national accord gna struggling water power cut recent day top loss revenue blockaded oil port eastlibya split rival faction based tripoli east since parallel set institutionsover past year fighting escalated drawn greater foreign involvement haftars libyan national army lna attacked capitalon monday resident military source side said gnaaligned force taken full control surman km mile west tripoli sabratha west surman',\n",
              "       'libya eastern leader haftar say army take formal control tunis reuters libya easternbased military leader khalifa haftar said monday libyan national army lna accepting popular mandate rule country apparently brushing aside civilian authority nominally govern eastern libyahaftar launched war year ago grab capital tripoli part northwest libya already widely understood control parallel administration rule east spell brief televised speech monday form new power structure would take wider political ramification immediately clearlibya split since area controlled internationally recognised government national accord gna tripoli northwest territory held easternbased force benghaziwe announce general command answering people despite heavy burden many obligation size responsibility subject people wish saidalthough lna advanced last year southern suburb tripoli bombarding capital frequently lost ground progna force fighting month',\n",
              "       'libya unrecognized force take control two front force government national accord dominate large area southern tripoli say local authority force libya unrecognized government national accord gna took control two front early friday south capital tripoliour force made progress mashru hallatat front took large area control mustafa almajai spokesman gnas burkan alghadab volcano rage operation told anadolu agency adding area control three month said also taken hamza camp south tripolithe gna accuses several regional european country providing military support militia loyal renegade general khalifa haftar contest gnas legitimacy authority oilrich countryon monday haftar declared ruler libya claiming accepted mandate libyan people terming unbrokered skhirat agreement unified government country thing pastsince ouster late ruler muammar gaddafi two seat power emerged libya haftar eastern libya supported mainly egypt uae gna tripoli enjoys un international recognition',\n",
              "       'anadolu agency document sudanese mercenary libya using painstaking analysis video footage source anadolu agency documented warlord khalifa haftar using sudanese mercenary fight libya governmentmany foreign fighter sudanese janjaweed militia chadian rebel group russian mercenary wagner group also support haftar leader socalled libyan national army especially presence sudanese fighter deceived united arab emiratesbased security company blackshield taken libya also widely mentioned un report haftar supporter continue ignorefollowing ouster late ruler muammar gaddafi libya government founded unled political dealsince april government attack warlord khalifa haftars force based eastern libya people killed violencethe presence sudanese mercenary libya subject often covered international medium',\n",
              "       'libyan army continues operation haftar militia army advance haftar force around hamza military camp south tripoli libyan army sunday destroyed weapon depot belonging warlord khalifa haftarthe army also advanced haftars militia around hamza military camp south capital tripoli according statement press center libyan armyled operation rage volcano statement said five armed armoured vehicle belonging haftars militia destroyedthe libyan army recently made gain haftars militia supported france russia united arab emirate egyptfollowing ouster late ruler muammar gaddafi libya government founded unled political dealsince april government attack haftars force based eastern libya people killed violence',\n",
              "       'libyan army carry largescale offensive haftars force libyan army force command government national accord gna carried largescale attack alwatiya airbase last stronghold khalifa haftars force western region positioned front gate clash still ongoingprior attack gna force encircling airbase since april recaptured seven town city western libya haftars force attack started tuesday heavy artillery shelling airstrikes tuesday dawn least military vehicle headed alwatiya airbase drive haftars force outa source gna force said controlling alwatiya airbase stage tuesday stage number one adding destroyed military vehicle haftars force seized othersmeanwhile social medium page close libyan army force said fighter killed tuesday attack alwatiya airbase haftars force suffered killing extremist salafist commander alwatiya airbase osama emsaik along assistant muhannad grerah ayman altumi well fighter',\n",
              "       'libyan govt attack neutralize haftars militia libya government founded unled political deal score militiaman aligned warlord khalifa haftar neutralized attack targeting alwatiya airbase libyan military spokesman said saturdayin statement muhammed kununu said warplane libyan government carried airstrikes friday haftars force vicinity base attack resulted killing injuring member haftars terrorist militia spokesman saidlibyan government force launched military operation early tuesday liberate alwatiya airbase located southwest capital tripoli controlled haftars militiasalwatiya regarded key airbase country second mitiga airportit captured august haftar leader illegal armed force eastern libya used headquarters western operation',\n",
              "       'libya haftar militia member surrender key airbase six member militia loyal libyan warlord surrender libyan army six member militia loyal libyan renegade commander khalifa haftar surrendered libyan army friday alwatiya airbase according medium center government operation volcano ragealwatiya located southwest capital tripoli regarded key airbase country second mitiga international airport captured august haftar leader illegal armed force eastern libya used headquarters western operationsthe libyan government attack haftars force since april killed violenceit launched operation peace storm march counter attack capitalas part operation peace storm air operation periodically carried alwatiya airbase',\n",
              "       'libya launch operation liberate alwatiya airbase heavy artillery fire libyan army pave way ground offensive base say government source libyan government force launched military operation early tuesday liberate alwatiya airbase southwest capital tripoli controlled militia loyal renegade commander khalifa haftar military source told anadolu agencya government source spoke condition anonymity said heavy artillery libyan army paved way force launch ground offensive base clash raging near base source saidon friday libyan government conducted five air operation targeting militant loyal haftar basealwatiya regarded key airbase country second mitiga airportit captured august haftar leader illegal armed force eastern libya used headquarters western operation',\n",
              "       'libyan army neutralizes member haftar militia government force shell mashru front southern tripoli destroying four observation post least member warlord khalifa haftars militia neutralized sunday shelling libyan armythe army destroyed four observation post mashru front southern tripoli killing wounding total militia mercenary medium office governmentled burkan alghadab volcano rage operation said statement saturday least six civilian killed haftars militia launched rocket attack mitiga international airport capitalthe attack came hour un support mission libya unsmil condemned indiscriminate attack civilian tripoli saying may amount war crimeshaftar leader illegal armed force eastern libya intensified attack civilian since beginning may libyan army recently gained advantage inflicted severe loss militantsthe government attack haftars force since april killed violence',\n",
              "       'libyan army inflicts severe loss haftar militia turkish army providing training consultancy libyan government force line un security council resolution libyan army neutralized large number militia loyal renegade commander khalifa haftar part operation peace storm launched march counter attack capital tripolia total four aircraft helicopter two drone vast number tank artillery armored vehicle heavy weapon well facility used haftars militia also destroyed army according information obtained anadolu agency turkish soldier continue provide training consultancy service libyan army line un security council resolution upon official call libyan governmentthe soldier carrying activity region secured libyan government without casualty farattacks carried haftars militia continue cause considerable civilian casualty countrya total people including woman child injured least five civilian killed recent attack haftars militia south tripoli according figure released un support mission libya',\n",
              "       'libyan force aligned tripoli government capture key air base cairo reuters force aligned libya internationally recognised government took control air base southwest tripoli monday sustained assault could significant advance nearly yearwatiya air base km mile capital important strategic foothold force loyal easternbased commander khalifa haftar launched offensive capture tripoli april campaign sharply escalated longrunning conflict faction based eastern western libya caused surge military intervention foreign powersforces aligned government national accord gna taken full control watiya osama juweili top military commander quoted saying official medium early mondayfootage posted gna force social medium showed driving runway base unhinderedthe force also posted picture said captured russianmade pantsir air defence system mounted truck base well operating manual arabic',\n",
              "       'gna force retake libya strategic alwatiya airbase haftar report located near border tunisia alwatiya deemed key base second mitiga airport according anadolu news agencythe base captured lna back news come hour turkish medium reported gna shot lna air defense system south sirte reuters esam omran alfetorihaftars lna announces ceasefire libya holy month ramadanlibya torn apart two rival administration since longtime leader muammar gaddafi overthrown killedin april easternbased lna resumed effort drive away turkishbacked gna tripolithe gna responded operation volcano rage',\n",
              "       'libya gna seizes full control alwatiya airbase haftars force libyan army force command government national accord gna seized full control alwatiya airbase western libya khalifa haftars force fled base leaving behind military equipment weapon ammunitionthe liberation confirmed presidential council announcement said libyan army backup force recaptured airbase criminal militia terrorist mercenary haftar presidential council also hailed courage libyan army backup force defeated haftars force pushed strategic airbase western libyain meantime spokesman volcano rage operation mustafa almajaie told local medium monday morning gna force seized alwatiya military equipment inside haftars force including russian pantsir antiaircraft system provided uae help haftar war tripolifootage photo inside alwatiya showed gna force seizing massive amount ammunition arm left fleeing haftars forcesthe spokesman added seizing alwatiya airbase gna force easily advance tarhouna vowing liberate city along southern tripoli frontlines haftars force next phase liberation effort led libyan army backup force',\n",
              "       'hafters lna lose witya airbase major strategic setback internationally recognized libyan government based tripoli today hailed victory force today capturing witya airbase north western libya near tunisian borderthe base prohafter force since huge moral victory tripoli moraledepleting defeat hafters forcesthe force defending tripoli attempting capture airbase khalifa hafter force week following takeover western town city apriltripoli said victory bridge civilian democratic stateit said victory end battle brought closer big victory day libyan city territory lare totalitarian free',\n",
              "       'force allied libyan government retake key alwatiya airbase force allied libya unsupported government wrested control key military base outskirt country capital khalifa haftar dealing significant blow renegade general military moralepro antihaftar medium reported easternbased force withdrawn alwatiya airbase mile south tripoli footage posted social medium appeared show gna force driving runway base unhinderedhaftar planned take tripoli lightning operation april force mired fighting ever sincemany attack launched alwatiyahis retreat following recent military revers force foreign capital back review viability plan overthrow unrecognised government national accord based tripoli',\n",
              "       'retaking key airbase end haftars coup plot member libya army seen retook alwatiya airbase occupied warlord khalifa haftars militia within volcano rage operation tripoli libya may move came libyan army destroyed total three russianmade pantsirtype air defense system haftar supplied united arab emirate uae last hour large cache weapon ammunition also seized libyan army hazem turkia anadolu agency libyan official monday said government regaining control strategically important alwatiya airbase beginning freeing country force loyal warlord khalifa haftarmuhammed darrat director country public policy assistance office told anadolu agency clearing airbase military victory end coup plot haftar supported political gainsdarrat said state institution libya structured collaboration ally country turkey',\n",
              "       'eastern libyan force say move back tripoli front benghazi libya reuters libyan national army lna force decided retire km mile mile front line tripoli midday spokesman said early wednesday suffering sharp revers campaign capture citywe decided move force battlefront tripoli distance kilometre allow citizen move freely end ramadan runup eid alfitr holiday ahmed almismari said mismari called internationally recognised government national accord gna whose force lna fighting say whether withdrawal contingent sothe gna yet commentin biggest advance year gna monday captured watiya airbase important lna stronghold major airbase near tripoli along abandoned russianmade pantsir air defence systemon tuesday took town badr tiji western libya lna said moved position tripoli front line mostly static nearly year',\n",
              "       'eastern libyan force pull part tripoli tunis reuters eastern libyan force pulled part tripoli overnight said losing one main stronghold western libya monday major blow yearlong campaign seize capitallibyan national army lna spokesman ahmed almismari said force carried redistribution repositioning battle front disengaging crowded residential area fighting year capture tripoli seat government national accord gna recognised united nation moved onto front foot war since january military help turkeythe lna khalifa haftar supported united arab emirate russia egypton monday progna force took watiya airbase west capital week attempt biggest advance year deprives lna airfield near tripoliafter taking base paraded said captured russianmade pantsir air defence system mounted truck along arabic manual',\n",
              "       'libyan force aligned tripoli government take key base rival cairo force allied libya united nationssupported government said monday wrested control key military base outskirt tripoli country capital rival array easternbased militia trying year capture citycol mohamed gnounou spokesman tripoliallied force said retaken alwatiya air base city southwestern desert reach captured pantsir surfacetoair missile system located base weekslong effortfayez sarraj prime minister government national accord based tripoli vowed liberate city region libyatodays victory end battle said statementthe development heavy setback easternbased militia socalled libyan arab armed force led gen khalifa hifter series recent loss',\n",
              "       'hifters force libya withdraw part tripoli major setback force loyal libya eastern military strongman khalifa hifter withdrew part tripoli rival troop captured two town near tunisian border key air base renegade generala spokesperson hifters selfstyled libyan national army said redistribution repositioning battlefront disengaging crowded residential area according reuters libya embroiled conflict since ousting dictator moammar gadhafi past year libyan national army staging offensive capital tripoli internationally recognized government national accord basedduring past nine year libyan displaced half year amid fighting tripolithe fighting escalated past month hifter backed egypt united arab emirate lost ground government national accord troop supported turkey',\n",
              "       'syrian rebel regime force fight libya france ceasefire syria reduced combat rebel government force mercenary two side still fighting libya behalf russian turkish backersturkey support syrian rebel libya unrecognised government national accord russia support syria president bashar alassad libya easternbased strongman khalifa haftar ankara moscow brokered recent truce syria fighting ongoing libya haftars force trying seize tripoli yeara recent rapprochement assad haftar show increasing overlap two conflictsin march libya parallel eastern government reopened libyan embassy damascus closed flight resumed recently syrian capital benghazi haftars domain kilometre mile east libyan capitala recent confidential united nation report identified flight syria private cham wing airline libya year believed carrying syrian mercenary',\n",
              "       'libyan war intensify devastating outcome un must let libya slip away say un envoy warns libyan getting lost mix war libya deepen increasing negative result libyan acting un libya envoy stephanie williams warned tuesdayfrom witnessing term massive influx weaponry equipment mercenary two side conclusion draw war intensify broaden deepen devastating consequence libyan people williams told security council said libyan getting lost mix foreign intervention north african country conflict increasesarmed conflict raging libya since renegade commander khalifa haftar launched attack libya government must let libya slip away said williamsby coming together council ensure collective security mandated maintain applying consistent credible pressure regional international actor fueling conflict',\n",
              "       'libya frontline pullback put eastern offensive question tunis reuters khalifa haftars libyan national army lna pulling back tripoli frontlines said wednesday calling question ability sustain yearlong offensive aimed seizing capitalthe lna announced overnight withdrawing km mile ease condition tripoli resident end ramadan move follows loss monday key stronghold eastern force setback underscore shifting dynamic conflict since turkey intervened january help unrecognised government national accord gna stave haftars assaultlibya split since rival faction based tripoli east sometimes chaotic war drawn outside power flood foreign arm mercenariesbacked united arab emirate russia egypt lna still hold eastern libya much south including oil facility presence northwest libya population concentrated come intense pressurethe gna last month took string small town linking tripoli tunisian border',\n",
              "       'haftars force pull part tripoli losing strategic airbase libyan national army lna spokesman ahmed almismari said force carried redistribution repositioning battle front disengaging crowded residential areasit fighting year capture tripoli seat government national accord gna recognised united nation moved onto front foot war since january military help turkey lna khalifa haftar supported united arab emirate russia egypton monday progna force took watiya airbase west capital week attempt biggest advance year deprives lna airfield near tripoliafter taking base paraded said captured russianmade pantsir air defence system mounted truck along arabic manualmismari said base abandoned part longplanned strategic decision old obsolete equipment left',\n",
              "       'terrorist neutralized syria niraq official turkey defense minister say country fight terror continues without pause since start hundred terrorist syria northern iraq neutralized part turkey crossborder counterterrorism operation since start turkish defense minister said wednesdayour fight terror syria northern iraq continues without pause terrorist neutralized since jan hulusi akar said turkey target member pkk terror group northern iraq syria group responsible death ten thousand people turkey past decadesthe ypg syrian offshoot pkk terror group member frequently attempt infiltrate turkish post commit act terrorismunderlining turkey one successful country curbing spread novel coronavirus rank military akar said number case limitedon ongoing conflict libya unrecognized government renegade general khalifa haftar akar said balance wartorn country significantly changed since turkey started helping tripoli military training cooperation consultancy',\n",
              "       'see warlord haftars defeat libya analyst analyst say american see haftar war criminal due attack civilian diplomatic mission libyan analyst mohamed buisier predicts eastern warlord khalifa haftar defeated libyan army end yearhaftars campaign coming end buisier told anadolu agency interview warlord absent scene end year maybe even thatthe internationally recognized libyan government attack haftars militia since april killed violencethe libyan army however made significant gain haftars force recent week recapturing alwatiya airbase south tripoli putschist forcesbuisier said haftar engaged conflict major tribe eastern libya',\n",
              "       'libya interior minister russia sent new fighter jet haftar libyan interior minister fathi bashagha said thursday russia sent least eight warplane khalifa haftarbashagha told bloomberg government national accord received information least six mig two sukhoi flown eastern region russiancontrolled hmeimim air base syria escorted two su russian airforce jet meanwhile source close volcano rage operation said intelligence aljufra airbase pointed arrival russian aircraft last three daysno comment official statement made russia regarding developmentbloomberg also reported haftars force said would carry largest aerial campaign libyan history target turkish interest libyalibyan army gnas command destroyed nine russianmade pantsirs antiaircraft system hour captured alwatiya airbase town western libya',\n",
              "       'israel accuses iran furnishing advanced weapon haftar israel permanent representative united nation un danny danon said iran sent advanced weapon warlord khalifa haftar libyahe added letter united nation security council unsc wednesday iran violated unscs decision prohibit sending weaponry libya added video photograph showed use antiarmor missile haftars militia manufactured iran',\n",
              "       'u ambassador voice need end flow russian foreign arm u ambassador libya richard norland spoke prime minister government national accord fayez alsarraj friday reiterate urgent need end destabilizing flow russian foreign military equipment mercenary libyathe u embassy said saturday statement u ambassador welcomed government national accord important contribution defeating terrorism achieving peace according statement secretary state mike pompeo prime minister alsarraj agreed earlier friday needle offensive tripoli must end foreign force depart libyan leader prepared lay weapon come together peaceful dialogue issue divide themus ambassador norland informed alsarraj intends travel libya soon circumstance permit formally present credential deepen uslibya partnership',\n",
              "       'libya mayor say wagner group left country private military contractor supported renegade commander khalifa haftar local mayor libya said sunday russia wagner group supported renegade commander khalifa haftar left countrysalem alaywan mayor town ban walid told local television channel three plane took wagner element libya government attack haftars force since april launched operation peace storm march counter attack capital tripoli part northwest libyafollowing ouster late ruler muammar gaddafi libya government founded unled political agreementearlier year turkish president recep tayyip erdogan said wagner mercenary fighting warravaged country',\n",
              "       'russia sent military personnel libya ifax cite russian lawmaker moscow reuters russia sent military personnel libya russian upper house parliament received request approve dispatch interfax wednesday cited vladimir dzhabarov first deputy head upper house international affair committee sayingthe u military earlier tuesday accused russia deploying fighter aircraft libya support russian mercenary fighting eastern force adding concern new escalation conflict',\n",
              "       'berlin investigating haftars possession german military equipment german authority announced wednesday presently investigating haftar militia come possession german military equipment despite embargo importation weapon libyathe german magazine stern stated reported haftar militia using russian pantsir air defense system mounted sx truck solely manufactured german company man se stern added according united nation report emirati army us panstir system installed german man se truck part arsenal',\n",
              "       'u africom russian warplane arrived libya aljufra airbase u africa command africom said wednesday least unmarked russian warplane arrived aljufra airbase central libyaus africom added twitter mig su fighter aircraft left russia several day may adding time russian air force mark landing syria hmeimim airbase aircraft painted mig mark wouldnt show national reference africom added warplane flown russian military member escorted russian fighter based syria libya landing eastern libyan region near tobruk fuelat least newly unmarked russian aircraft delivered al jufra air base libyathe tweet addson tuesday africom said russia deployed military aircraft provide support wagner group mercenary fighting haftars force internationally recognized government tripoli',\n",
              "       'leaked un report unveils secret mission intercept turkish ship en confidential report un investigator unveiled detail secret mission foreign military element eight country using boat helicopter tasked intercepting turkish supply government national accord gna tripolithe dutch news agency deutsche presseagentur dpa said page report say mission done uaebased security firm fighter south africa uk u australia france malta sent jordan libya secret mission mapped uaebased firm name lancaster opus capital asset un investigator said smuggled six helicopter two military boat malta libya im june one important goal mission given haftar ability cut supply provided turkey gna tripoli aimed intercept vessel search even carry attack themthe report say mission stopped early le week boat helicopter arrived benghazi yet doesnt say mission abortedhowever lawyer mission element returned benghazi malta said oil worker leave libya due unrest',\n",
              "       'u ambassador voice need end flow russian foreign arm u ambassador libya richard norland spoke prime minister government national accord fayez alsarraj friday reiterate urgent need end destabilizing flow russian foreign military equipment mercenary libyathe u embassy said saturday statement u ambassador welcomed government national accord important contribution defeating terrorism achieving peace according statement secretary state mike pompeo prime minister alsarraj agreed earlier friday needle offensive tripoli must end foreign force depart libyan leader prepared lay weapon come together peaceful dialogue issue divide themus ambassador norland informed alsarraj intends travel libya soon circumstance permit formally present credential deepen uslibya partnership',\n",
              "       'israel accuses iran furnishing advanced weapon haftar israel permanent representative united nation un danny danon said iran sent advanced weapon warlord khalifa haftar libyahe added letter united nation security council unsc wednesday iran violated unscs decision prohibit sending weaponry libya added video photograph showed use antiarmor missile haftars militia manufactured iran',\n",
              "       'u warns nato security threat russian jet arrive libya u africa command said russia introduced fighter aircraft libya tip scale country civil war move command characterized step toward possible security threat natoreports first emerged last week russian mig spotted aljufrah airbase western libya satellite imagery also led speculation russian sus stored hangar alkhadim airbase country eastafricom said press release russia delivered aircraft via syria painted camouflage russian originthe command said jet likely flown russian pilot providing air support wagner paramilitary fighter khalifa hifters selfstyled libyan national army lna stalled campaign unbacked government tripolirussia clearly trying tip scale favor libya africom commander u army gen stephen townsend said tuesday statement',\n",
              "       'russia throw gauntlet libya mig deployment ahval russia upped stake libya deploying migs military aircraft help opposition fighter libya seth frantzman wrote jerusalem postmoscow appears challenging turkey latter support government tripoli time country may thought would end support general khalifa haftar following territorial loss said frantzman middle east security analyst big play russia broad daylight show around ten russian pantsir air defence system reportedly destroyed turkish drone saidturkey russia fostered close political tie recent year angering turkey nato partner appear squaring libyan war ankara intensified support unrecognised government mercenary drone military adviserstensions libya syria increased speculation moscow ankara may falling key strategic issuesfrantzman said turkey persuaded western medium underscore victory russianbacked libyan national army used social medium show drone hunting russian hardware',\n",
              "       'u say russia repaints warplane shipping libya ahval united state accused russia covertly deploying fighter jet libya support libyan national army lna offensive capital tripoli battling force backed turkey arab weekly saidon tuesday u africa command africom said russian military aircraft arrived libya recently air base russia via syria repainted conceal russian origin long russia denied full extent involvement ongoing libyan conflictwell denying nowwe watched russia flew fourth generation jet fighter libya every step way u army general stephen townsend said statementrussian military aircraft likely provide close air support offensive fire africom said statement posted website twitter',\n",
              "       'confidential un report reveals operation stop turkey weapon shipment libya ahval confidential report united nation revealed mission code named project opus eight country prevent turkey shipping weapon wartorn libya deutsche welle turkish reported mondaythe page report relayed german press agency dpa dw turkish said operation directed united arab emirate involvement citizen australia france malta south africa united kingdom united state least eight country uae jordan malta libya angola botswana south africa united state involved planning operation australian daily herald sun reportedat least ten company registered uae british virgin island malta took part according un reportanother company south africa involved covering operative identitiesspecial operation unit comprised private security firm disguised geophysics hyperspectral research team tasked raiding turkish ship shore libya according report stop turkey delivering weapon unrecognised government national accord gna libyan leader fayez al sarraj',\n",
              "       'u say russia sent warplane back libyan warlord moscow move could create longterm security threat europe southern flank u accused russia sending warplane libya support warlord gen khalifa haftarwashingtons africa command said moscow may seeking capture base libya coast creating longterm security threat europe southern flank u released image claimed disguised russian plane including migs aljufra airbase south sirteit thought many eight jet sent around maythe u administration recently taken clear view libyan civil war assessment russian intervention dramatic warning wider implication europe security may leading u department state offer clearer support unrecognised government national accord gna tripolisome libyan expert view russian jet threat europe deterrent turkish force back gna pushing offensive drive haftar libya oil crescent',\n",
              "       'russia deployed fighter aircraft libya u africom u africom commander say moscow longer deny involvement libyan conflict russia recently deployed fighter aircraft libya support russian mercenary battling warlord khalifa haftar said u military leader tuesdayus africa command ass moscow recently deployed military fighter aircraft libya order support russian statesponsored private military contractor pmcs operating ground u africa command said statement russian military aircraft likely provide close air support offensive fire wagner group pmc supporting haftarled libyan national army lna fight internationally recognized government national accord said statementsince april separatist haftars force launched attack capital tripoli part northwestern libya resulting deathsfollowing ouster late ruler muammar gaddafi libya government founded unled political agreementearlier year turkish president recep tayyip erdogan said russian wagner group mercenary fighting warravaged country',\n",
              "       'russia sends sovietmade warplane haftar warplane departed russian airbase syria claim u medium report russia sent least eight warplane renegade commander khalifa haftar libya interior minister fathi bashagha saidrussia delivered least six sovietmade mig two sukhoi warplane base syria khmeimim haftar leader illegal armed force eastern libya bashagha told bloomberg moscow yet comment matterciting haftars air force chief saqr aljaroushi u news outlet said haftars force set launch largest aerial campaign libyan history coming hoursmeanwhile libyan army wednesday destroyed five russianmade pantsirtype air defense system supplied haftar united arab emirate last hoursearlier week also recaptured key alwatiya airbase haftar militia',\n",
              "       'egypt foreign minister slam turkey sending foreign fighter libya politics egypt egyptian foreign minister sameh shoukry slammed turkey sending foreign fighter syria libyain video address thursday meeting global coalition defeat isi shoukry warned success foreign fighter syria iraq achieved coalition threatened role turkish government currently playing term recruiting training transferring thousand foreign fighter syria libya turkish practice clear violation international law un security council resolution goal coalition seek shoukry said adding coalition security council must make turkey member antiisis coalition stop practice must hold accountableaccording egyptian foreign ministry shoukry also said global community busy dealing coronavirus pandemic impact coalition must continue effort curb isis hope use health crisis order organise terrorist attack create safe havenshe hinted coalition must give top priority attention growing threat isi west africa must stop attempt terrorist organisation reorganise defeat iraq syria total respect sovereignty united regional safety two countriesthe egyptian government welcome joint effort coalition iraqi government boost cooperation counterterrorism support stability iraq said adding coalition must time stand syrian people supporting sustainable political reconciliation',\n",
              "       'tunisia denies establishing foreign base allow foreign force country say defense minister tunisian defense minister thursday reiterated country stance foreign military base soilspeaking local tunisian mosaique radio imed hazgui denied foreign force deployment country tunisia refuse use land conduct military operation establish foreign military unit base defense minister saidhe went say tunisia still control land maritime airspace allow foreign force present countryregarding crisis libya hazgui asserted rejection foreign interference libya tunisiawe country ready support political initiative would lead political solution would end crisis libya said',\n",
              "       'egypt hold military drill dubbed resolve near libyan border qabr gabis sputnik egyptian armed force conducted exercise near libya border thursday including training air force face mercenary irregular army target hotbed military spokesman said statementthe armed force conducting exercise western strategic region egypt military spokesman said drill codenamed resolve took place northwestern district qabr gabis mile away libyan borderaccording medium report several helicopter raided destroyed hideout housing number mercenary part exercise artillery tank firing live ammunitionegyptian president abdel fattah sisi told government tripoli last month sending turkeybacked troop seize port city sirte easternbased militia would red line could lead military intervention egyptian forceslibya mired deadly nineyear foreignbacked civil war since assassination longtime leader muammar gaddafi rebel backed nato air power',\n",
              "       'libya serraj blame central bank amid oil blockade tunis april reuters libya internationally recognised prime minister fayez alserraj wednesday said central bank libya governor sadiq alkabir blame recent nonpayment salary state worker nonissuance letter creditfriction serraj kabir threatens undermine tripoli government fends military assault deal blockade main oil export prepares handle coronavirus outbreak serraj said alrasmiya television channel tried avoid war word central bank libya thing really crossed lineshe said bank hold board meeting something would bring together director across divide libya conflict order discus change said kabir seek exchange rateanalysts say meeting board member aligned east tripoli could provide eastern authority chance try achieve longstanding goal kabir replacedsince libya split competing government military alliance based tripoli east division reflected central bank national oil corporation',\n",
              "       'libya mufti prohibits buying good uae egypt jordan grand mufti libya sheikh alsadiq algharyani issued fatwa prohibiting purchasing good united arab emirate uae jordan egypt considering every dollar paid country bullet chest sonsthe fatwa published libyan fatwa house official facebook page stated permissible buy good uae jordan egypt country hostile u explaining trading country make even stronger money earn used libyan people instead grand mufti urged ministry economy trader import good turkey standing libyan people crisisearlier called government cut tie uae egypt saudi arabia france backing warlord haftars war tripoli',\n",
              "       'least killed libya military academy attack tripoli reuters least people killed others wounded attack military academy libyan capital late saturday health ministry tripolibased government said statement sundaytripoli controlled internationally recognized government national accord gna facing offensive military commander khalifa haftars libyan national army lna began april increase air strike shelling around tripoli recent week fear fighting could escalate turkey parliament voted allow troop deployment support gnaforces allied gna described saturday attack military camp alhadhba aerial bombing launched eastern rivalsan lna spokesman denied involvementgna health minister hamid bin omar told reuters earlier phone call number dead wounded still rising',\n",
              "       'un libya envoy blame deadly military academy strike haftar ally united nation reuters united nation libya envoy said monday country supporting commander khalifa haftars selfstyled libyan national army lna likely responsible deadly drone attack military academy capital tripoliafter briefing un security council visibly frustrated ghassan salame message country supporting either haftars lna internationallyrecognized government national accord gna keep libya least people killed dozen wounded attack military academy libyan capital late saturday gna health ministry saidtripoli controlled gna combating lna offensive began aprildozens cadet killed military academy unarmed entirely unarmed drone attack probably done country supporting lna salame told reporterskeep hand libya country suffering much foreign interference different way',\n",
              "       'tripoli airport close rocket fire tripoli reuters functioning airport libya capital tripoli closed wednesday rocket fired toward airport said statementa plane coming tunis trying land tripoli mitiga airport diverted misrata city km mile east tripoli airport said website mitiga reopened jan month closure following repeated air strike part ninemonth campaign eastern force commanded khalifa haftar seize tripoli internationally recognized government',\n",
              "       'west libyan force claim downed drone turkish support arrives tripoli reuters force aligned libya tripolibased government said tuesday shot drone operated rival suggesting strengthening air defense receive accelerated military support turkeythe drone shot east misrata key source military power force aligned internationally recognized government national accord gna force said social medium page posted picture charred wreckage aircraft largely intact wing carried away pickup truck identifying drone supplied united arab emiratesthe uae supporting east libyabased force led khalifa haftar supplying chinesemade wing loong drone long gave aerial advantage le powerful turkish drone used rival according un expert diplomat analystsmany turkish drone destroyed shot chinese droneshowever turkey recently sending reinforcement gna include air defense system well military advisor analyst say',\n",
              "       'libyan govt conduct six airstrikes haftar force joint statement people sabha city southwest libya declare withdrawal support warlord libya unrecognized government national accord gna conducted five air operation targeting militant loyal renegade commander khalifa haftar alwatiya airbase southwest capital tripoli local official said early fridayalwatiya regarded key airbase country second mitiga airport captured august haftar leader illegally armed force eastern libya used headquarters western operationsthe operation targeted haftars force military ammunition gna military spokesman mohammed qanunu said statementas part operation peace storm air operation periodically carried base mostly controlled haftars militiasthe gna attack haftars force since last april killed violence',\n",
              "       'libyan govt force attack haftar militia alwatiya libya unrecognized government national accord gna force hazem turkia anadolu agency libya unrecognized government national accord gna said tuesday force conducted airstrikes alwatiya air base controlled militia loyal renegade commander khalifa haftarthe gna military spokesman mohammed kanunu issued statement development air base western libya kanunu said gna force conducted five airstrikes targeting prohaftar soldier military vehicle basethe airstrikes carried response attack haftar militia civilian tripoli addedalwatiya regarded one important air base country second mitiga airportit captured august haftar leader illegally armed force eastern libya used headquarters western operation',\n",
              "       'libyan government force attack haftar militia libya unrecognized government national accord gna force hazem turkia anadolu agency libya unrecognized government national accord gna said tuesday force conducted airstrikes alwatiya airbase controlled militia loyal renegade commander khalifa haftargna military spokesman mohammed kanunu issued statement development airbase western libya kanunu said gna force conducted five airstrikes targeting prohaftar soldier military vehicle basethe airstrikes carried response attack haftars militia civilian tripoli addedalwatiya regarded one important airbases country second mitiga airportit captured august haftar leader illegally armed force eastern libya used headquarters western operation',\n",
              "       'libya gna launch air operation haftars militia clash continue unrecognized government warlord khalifa haftars force air force libya unrecognized government national accord gna launched air attack tanker transporting fuel warlord khalifa haftars militiasthree tanker fuel haftar militia hit operation tarhuna city ban walid province statement gna official muhammad kanunu said haftars militia attacked capital tripoli first day muslim holy month ramadan killing three civiliansthe un march urged conflicting party libya ceasefireboth party announced accepted haftars militia attacked tripolithe militia also continued heavy attack first covid case reported libya',\n",
              "       'libyan government airstrike hit haftar militia detail available casualty airstrike south tripoli libya unrecognized government friday targeted bus carrying militia loyal renegade commander khalifa haftar airstrikemuhammed kununu military spokesman government national accord gna said statement libyan government force carried air operation nesma region kilometer mile south capital tripoli hit bus information given casualtiesgna force carried three different operation earlier friday haftar militiassince ouster late ruler muammar gaddafi two seat power emerged libya haftar eastern libya supported mainly egypt uae gna tripoli enjoys un international recognitionhaftars selfproclaimed libyan national army lna launched failed offensive take tripoli last april caused bloodshed suffering stalled outskirt city',\n",
              "       'libyan army hit oil tanker warlord haftar army also strike another oil tanker en route haftars militia strategic tarhuna city libyan army saturday hit oil tanker belonging militia warlord khalifa haftar according country militarycol muhammad kununu spokesman government armed force said written statement army conducted airstrike nesme region kilometer mile south capital tripoli second strike hit another oil tanker en route tarhuna city reach haftars militia according written statement press center libyan armyled operation rage volcanotarhuna major focal point haftars militia onslaught tripoli well supply line aljufra air basethe libyan army recently made gain haftars militia supported france russia united arab emirate egyptfollowing ouster late ruler muammar gaddafi libya government founded unled political deal',\n",
              "       'libyan army target haftaraffiliated janjaweed militia libyan airstrikes hit target bus carrying sudanese mercenary libya would fight haftar libyan army sunday targeted transport janjaweed militia affiliated warlord khalifa haftar preparing attack south capital tripolithe airstrikes hit bus carrying sudanese mercenary libya would fight haftar alqaryah region kilometer mile south tripoli said statement press center libyan armyled operation rage volcano janjaweed militia accused genocide civil war darfur sudanthe libyan army recently made gain haftars militia supported france russia united arab emirate egyptfollowing ouster late ruler muammar gaddafi libya government founded unled political dealsince april government attack haftars force based eastern libya people killed violence',\n",
              "       'libyan army hit janjaweed militia south tripoli sudanese janjaweed militints killed armed vehicle destroyed libyan army airstrike targeting militia warlord khalifa haftar libyan army killed five sudanese janjaweed militant country military announced sundaythe army carried airstrike nesme region kilometer mile south capital tripoli said statement libyan armyled operation rage volcano addition sudanese militant killed three armed vehicle also destroyed addedin report published saturday anadolu agency documented presence mercenary libya neighboring sudan fighting haftarthe libyan army recently made gain haftars militia supported france russia united arab emirate egyptfollowing ouster late ruler muammar gaddafi libya government founded unled political deal',\n",
              "       'several fire break jet fuel storage facility attacked mitiga airport libya mitiga international airport tripoli libya forced suspend activity several time past several month due shelling amid confrontation warring faction conflicttorn nationseveral fire erupted mitiga international airport tripoli libya jet fuel tank farm attacked libya national oil corporation said facebook company provided detail attackaccording corporation firefighter crew arrived scene contain blazesal jazeera earlier reported airport come rocket attack hit civilian plane reuters esam omran alfetorihaftars lna announces ceasefire libya holy month ramadanthe incident come following spate attack libyan capital thursday blamed libyan national army led field marshal khalifa haftar',\n",
              "       'libyan army continues ops alwatiya airbase operation targeted military vehicle three tank militia libyan army carried air operation militia loyal libyan renegade commander khalifa haftar past hour military source said late thursdaymuhammed kununu military spokesman government said statement army carried nine air operation alwatiya airbase located southwest capital tripoli controlled haftars force added operation targeted military vehicle three tank militia including mohamed aldahir wanted libyan prosecutorgenerals office connection several criminal casesearlier week libyan army carried air operation part massive offensive aimed capturing alwatiya airbasealwatiya regarded key airbase country second mitiga airportit captured august haftar leader illegal armed force eastern libya used headquarters western operation',\n",
              "       'libyan army hit cargo plane carrying arm haftar plane targeted landing airport tarhuna southeast tripoli april libyan army conducted airstrike last month cargo plane carrying weapon ammunition militia loyal renegade general khalifa haftar military said late wednesdaythe antonovtype airlift cargo plane targeted landing airport tarhuna southeast capital tripoli april according statement press center libyan armyled operation volcano rage tarhuna major focal point haftars militia onslaught tripoli well supply line aljufra air basethe explosion ammunition board plane disproved claim ahmed almismari spokesman haftars militia carrying medical equipment statement saidthe libyan army recently made gain haftars militia supported france russia united arab emirate egyptfollowing ouster late ruler muammar gaddafi libya government founded unled political deal',\n",
              "       'libyan force hit cargo plane carrying arm haftar plane targeted landing airport tarhuna southeast tripoli libyan military conducted airstrike week cargo plane carrying weapon ammunition militia loyal renegade general khalifa haftarthe antonovtype airlift cargo plane targeted landing airport tarhuna southeast tripoli may according statement press center libyan armyled volcano rage operation tarhuna major focal point haftars militia onslaught tripoli well supply line aljufra air basethe explosion ammunition board plane showed claim carrying medical equipment incorrect statement saidthe libyan army recently made gain haftars militia supported france russia united arab emirate egyptfollowing ouster late ruler muammar gaddafi libya government founded unled political deal',\n",
              "       'libyan army conduct air ops alwatiya airbase two grad rocket launch vehicle various weapon ammunition vehicle destroyed libyan army carried air operation part massive offensive aimed capturing alwatiya air base military source said wednesdaymuhammed kununu military spokesman government said two grad rocket launch vehicle various weapon ammunition vehicle destroyed air operation since yesterday morning libyan government force launched military operation early tuesday liberate alwatiya airbase located southwest capital tripoli controlled militia loyal renegade commander khalifa haftar military source told anadolu agencyalwatiya regarded key airbase country second mitiga airportit captured august haftar leader illegal armed force eastern libya used headquarters western operationsthe libyan government attack haftars force since april killed violence',\n",
              "       'libya hit oil tanker warlord khalifa haftar military strike oil tanker en route haftars militia strategic city tarhuna libyan military monday conducted strike seven oil tanker belonging militia loyal renegade general khalifa haftarthe tanker hit airstrike al qaryat region kilometer mile south capital tripoli according statement press center libyan armyled operation rage volcano tanker en route strategic city tarhuna reach haftars militiatarhuna major focal point haftars militia onslaught tripoli well supply line aljufra airbasethe libyan army recently made gain haftars militia supported france russia united arab emirate egyptfollowing ouster late ruler muammar gaddafi libya government founded unled political deal',\n",
              "       'libyan army continues strike alwatiya airbase operation target haftar militia military vehicle libyan army struck militia loyal renegade commander khalifa haftar alwatiya airbase military source said mondayaccording statement libyan governmentled operation volcano rage army carried air operation targeting alwatiya airbase located southwest capital tripoli controlled haftars force military vehicle launching attack hit operation addedmeanwhile another statement muhammed kununu military spokesman government said six air operation targeted locationthe attack came hour un support mission libya unsmil condemned indiscriminate attack civilian tripoli saying may amount war crimeshaftar leader illegal armed force eastern libya intensified attack civilian since beginning may libyan army recently gained advantage inflicted severe loss militant',\n",
              "       'libyan army conduct airstrikes alwatiya airbase operation target ammunitionladen vehicle airbase occupied haftars militia libyan army launched airstrikes tuesday vehicle loaded arm ammunition alwatiya airbase southwest tripoli military source said tuesdaya military vehicle also hit according statement libyan governmentled operation volcano rage alwatiya currently controlled force loyal renegade commander khalifa haftar regarded key airbase country second mitiga international airportit captured august haftar leader illegal armed force eastern libya used headquarters western operationshaftar intensified attack civilian since beginning may libyan army recently gained advantage inflicted severe loss militiasthe government attack haftars force since april killed violence',\n",
              "       'libyan army destroys vehicle haftar militia vehicle carrying prohaftar janjaweed sudanese militant libyan military airstrike wednesday destroyed two vehicle transferring mercenary warlord khalifa haftar southwest capital tripolithe air force succeeded destroying two troop carrier janjaweed mercenary sudanese militia supporting haftar militia wadi marsit libyan governmentled operation volcano rage said statement facebook airstrike came part operation aiming cutting supply haftars militiashaftar leader illegal armed force eastern libya intensified attack civilian since beginning may libyan army recently gained advantage inflicted severe loss militantsthe government attack haftars force since april killed violenceit launched operation peace storm march counter attack capital',\n",
              "       'libyan army hit alwatiya airbase time hour army air element also conduct reconnaissance flight monitor movement militia renegade gen khalifa haftar air element libyan army targeted key alwatiya airbase occupied force loyal renegade commander khalifa haftar three time past hoursmuhammed kununu military spokesman government said tuesday airstrikes carried haftars militia military vehicle said reconnaissance flight also conducted central western area order monitor movement haftars militia fieldearlier day libyan army artillery unit also attacked post alwatiya airbase well base used mercenary russia wagner group support himalwatiya currently controlled force loyal haftar regarded key airbase country second mitiga international airportit captured august haftar leader illegal armed force eastern libya used headquarters western operation',\n",
              "       'libyan army hit haftars militia air defense system russianmade pantsir type recently supplied united arab emirate libyan military airstrike saturday destroyed air defense system warlord khalifa haftar alwatiya airbase southwest capitalthe strike destroyed russianmade pantsir type system recently supplied united arab emirate according unrecognized government national accord gna spokesman mohammed qanunu alwatiya regarded key airbase second mitiga airportit captured august haftar leader illegally armed force eastern libya used headquarters western operationsthe airstrike came part operation cut supply haftars militiashaftar intensified attack civilian since beginning may libyan army recently gained advantage inflicted severe loss militant',\n",
              "       'two russian air defense system destroyed alwatiya base joint operation room government national accord reported libyan air force targeted alwatiya base direct strike two russian air defense system totally destroyedthe two pantsir antiaircraft system supplied united arab emirate warlord haftars militia group protect drone strike second russianmade pantsir antiaircraft system supplied uae warlord haftars armed group watiya airbase destroyed joint operation room gna confirms hour destroying first one big blow haftars groupsthe spokesman libyan army colonel mohamed ganunu said first pantsir destroyed saturday three direct drone strikesearly sunday second pantsir also hit another strikein press briefing saturday ganunu added drone strike also targeted three armored car along ammunitionladen vehicle stressing target pose threat whether moving still legitimate target destroyed without hesitation',\n",
              "       'municipal council warehouse burnt indiscriminate shelling main warehouse central committee municipal council election ccmce burned destroyed indiscriminate shelling last friday may attributed tripoli force khalifa hafterthe warehouse occupy section mitiga airport warehouse contained ballot box electoral material ccmce said using warehouse since municipal council throughout libyathe ccmce preparing hold new round municipal election halted war tripoli launched april khalifa hafter libyan national army lna recently halted corona pandemic',\n",
              "       'libyan army hit hafter force air defense system libyan military announces destroyed russianmade pantsir air defense system supplied uae haftar militia libya wednesday destroyed least five russianmade pantsirtype air defense system used militia loyal renegade general khalifa haftar last hour country military announcedthe press center governmentled volcano rage operation said defense system supplied haftars militia united arab emirate demolished via artillery drone strike one pantsir missile system demolished artillery unit souq alahad region capital tripoli another three destroyed city tarhouna one alvishka areathe libyan army announced capturing strategic alwatiya airbase western part country haftars militia captured air defense system typehaftar leader illegal armed force eastern libya intensified attack civilian since beginning may libyan army recently gained advantage inflicted severe loss militantsthe government attack haftars force since april killed violence',\n",
              "       'libyan army destroys missile system used haftar russianmade pantsir air defense system supplied uae warlord city terhune libyan army wednesday destroyed russianmade air defense system used force loyal warlord khalifa haftar city terhuneabdulmalik almadani spokesman governmentled volcano rage operation told anadolu agency pantsir missile system supplied haftars militia united arab emirate demolished image unmanned aerial vehicle libyan army targeting hangar also shared social medium local pressthe libyan army announced capturing strategic alwatiya airbase western part country haftars militia captured air defense system type uae provided militiahaftar leader illegal armed force eastern libya intensified attack civilian since beginning may libyan army recently gained advantage inflicted severe loss militantsthe government attack haftars force since april killed violence',\n",
              "       'libya killed clearing haftars landmines government warns resident hurry return home operation completed twentyfive people died clearing landmines planted warlord khalifa haftars militia southern tripoli interior ministry said wednesdaythe agency internationallyrecognized government said haftars militia planted highexplosive russianmade mine populated area southern tripoli officer including explosive engineer ministry mining clearance team killed operationsso far mine cleared including antitank mine said warned resident hurry return home clearing operation completedlast month libyan army accused haftars militia planting highexplosive mine area left zara salaheddin area southern tripoliin march government launched operation peace storm counter attack capital recently regained strategic location including alwatiya airbase major blow haftars force',\n",
              "       'airstrikes hit haftar militia sirte libyan army armored vehicle provided uae militia loyal renegade general target libyan army announced saturday launched five airstrikes sirte soon indicated liberation city new goal tarhunathe government burkan alghadab volcano rage operation said strike targeted armored vehicle provided united arab emirate uae militia loyal renegade gen khalifa haftar escape militia mercenary great panic reported sirte occupation haftar forcesprominent resident offered peacefully hand city government force according statementfollowing liberation tripoli army friday liberated strategic city tarhuna last stronghold haftar western libyaafter tarhuna army announced goal sirte aljufra oil field south',\n",
              "       'uae airstrikes kill libyan army soldier drone belonging uae attacked libyan army force northwestern province say military spokesman two libyan army soldier killed friday airstrike united arab emirate uaemade drone northwestern libya according army spokesmanthe uae drone attacked libyan army unit along abu qurayn front misrata province mustafa almajei spokesman burkan alghadab volcano rage operation told anadolu agency uae one several country along egypt russia supported militia warlord khalifa haftar libya governmentthe attack came libyan army week announced complete liberation capital tripoli along strategic city tarhuna haftar militiasin march libyan government launched operation peace storm counter attack capital recently regained strategic location including alwatiya airbase major blow haftars forceslibyas government founded unled agreement effort longterm political settlement failed due military offensive haftars force killed around people since april',\n",
              "       'turkish demining expert start removing mine planted haftars turkish demining team expert started remove mine ied planted khalifa haftars force south tripoli tarhouna area according libyan foreign ministrythe ministry said thursday minister mohammed sayala met turkish ambassador libya discussed work turkish demining expert addition reviewing cooperation two country latest development libya turkish ambassador said turkey always stand libyan legitimate government people per international law un security council resolution libyaanadolu agency reported demining expert turkish armed force thursday started clearing civilian area libya adding move come upon request libyan government ensure safe return civilian home located area liberated haftars forcesit added turkish demining expert turkish special force started work ensure security return normalcy areasmeanwhile government committee human right said people killed others injured far mine explosion area liberated haftars force',\n",
              "       'turkish expert demine libya expert start clearing mine explosive planted khalifa haftars militia demining expert turkish armed force thursday started clearing civilian area libyathe move come upon request libyan government ensure safe return civilian home located area liberated warlord khalifa haftars militia turkish demining expert turkish special force started work ensure security return normalcy areasthe libyan government said people killed injured result landmine explosionsthe libyan government launched operation peace storm march counter attack capital recently repelled month assaultit also regained strategic location including alwatiya airbase city tarhuna',\n",
              "       'libya arm embargo breach un security council warns united nation reuters united nation security council called country monday implement arm embargo libya stay conflict un sanction monitor accused jordan united arab emirate turkey repeated violation member council urged state intervene conflict take measure would exacerbate conflict expressed concern growing involvement mercenary statement agreed consensus council called full compliance arm embargo action reported sanction violation unlikely diplomat said jordan united arab emirate turkey repeatedly violated arm embargo libya highly probable foreign attack aircraft responsible deadly strike migrant detention center un expert monitoring implementation sanction libya reported last month un mission jordan turkey immediately respond reuters request comment time accusation',\n",
              "       'un secretary general say libya situation scandal genevaunited nation reuters un secretary general antonio guterres tuesday called situation libya scandal even envoy cited genuine rival military faction planned first meeting secure lasting ceasefire deeply frustrated whats happening libya guterres said press conference critical country last month met berlin push progress libya peace talk genevaunited nation reuters un secretary general antonio guterres tuesday called situation libya scandal even envoy cited genuine rival military faction planned first meeting secure lasting ceasefire deeply frustrated whats happening libya guterres said press conference critical country last month met berlin push progress libya peace talk',\n",
              "       'turkey say ready act haftar libya attack continue ankara reuters turkey refrain teaching lesson khalifa haftar eastern libyan force continue attack country internationally recognized government president tayyip erdogan said tuesday said haftar run away moscow monday peace talk head tripolibased government fayez alserraj failed lead openended ceasefire end ninemonth conflict putschist haftars attack people legitimate government libya continue never refrain teaching lesson deserves erdogan said speech ak party lawmaker parliament duty protect kin libya erdogan added saying turkey deep historical social tie north african country haftar would taken entire nation ankara intervened said turkey join germany britain russia summit chancellor angela merkel host berlin sunday discus libya mired chaos since toppling muammar gaddafi serraj signed ceasefire agreement haftar left moscow without signing accord ta news agency cited russian foreign ministry saying tuesday',\n",
              "       'libya haftar seek rouse force turkey benghazi libya reuters libyan commander khalifa haftar called force saturday rally turkey helped tripolibased rival turn tide military conflict around capital recent advance force aligned internationally recognised government national accord gna including seizure key air base thrown yearlong offensive tripoli haftars libyan national army lna jeopardy also drawn threat lna backed united arab emirate egypt russia carry massive air campaign retaliation saturday gna force pressed forward outlying district tripoli say pick way mine explosive device laid lna lna said withdrawn area also staged ambush yarmouk military camp tripoli killed captured rival combatant haftar audio message addressed force urged battle colonial intervention turkey defeat reference onetime ottoman control libya',\n",
              "       'britain donates support lpdf program united kingdom donated united nation development undp program support libyan political dialogue forum facilitated un mission libya undp confirmed undp clarified official website thursday agreement signed undp resident representative gerardo noto uk ambassador libya nicholas hopton explained contribution used support intralibyan dialogue outlined berlin conclusion approved security council resolution new contribution total fund uk undp program amount million according undp',\n",
              "       'italy boost libya security rule law initiative euro million italy increased contribution policing security joint programme psjp initiative libya euro million undp reported last week programme implemented undp partnership united nation support mission libya unsmil coordination libya tripolibased ministry justice ministry interior undp reported since u euro fund italy supporter programme aim strengthening capacity rule law institution advancing safety security access justice libya euro top take overall total fund italy euro undp reported psjp started tripoli implementation pilot integrated case management tracking system prosecutor general office improve accountability effectiveness justice security actor deliver service line human right standard model replicated across entire country',\n",
              "       'erdogan say turkey increase military support libya ankara reuters turkey increase military support internationally recognized government libya necessary evaluate ground air marine option president tayyip erdogan said sunday two side signed military cooperation accord last month turkey back fayez alserrajs government national accord gna libya torn factional conflict since already sent military supply gna despite united nation arm embargo according report un expert seen reuters last month turkey also said could deploy troop libya gna make request gna fighting monthslong offensive khalifa haftars force based east country haftars force received support russia egypt jordan united arab emirate necessary increase military aspect support libya evaluate option ground air sea erdogan said event northern province kocaeli',\n",
              "       'u house representative adopts libya stability support act foreign ministry libya internationally recognized government based tripoli confirmed last thursday u house representative adopted libya stability support act law come effect approval senate approval u president concerned setting political framework u state department towards libya call curbing international regional interference call support democratic path libyan foreign ministry explained',\n",
              "       'italy provides usd un libyan political dialogue program tripoli nov xinhua united nation development program undp thursday said italy supported libyan political dialogue program euro u dollar according statement released undp thursday agreement signed libyan political dialogue forum lpdf held tunisia ending nov italy provides initial contribution euro u dollar undps political dialogue program agreement signed deputy general directorcentral director mediterranean middle east country italian ministry foreign affair luca gori united nation development programme undp resident representative gerardo noto raised total fund italy undp program euro dollar destined support stability security prosperity libya said statement strongly welcome italy steadfast longstanding support un effort libya said acting special representative un secretary general stephanie williams signing ceremony stabilization libya strategic priority italy since beginning crisis advocating way ensure libya stability unity integrity pursue political dialogue said gori',\n",
              "       'germany commits two million euro support libyan germany signed agreement united nation development program undp libya provide two million euro support libyan political dialogue forum lpdf currently held tunis auspex un support mission libya unsmil agreement signed tunisia thursday german ambassador libya oliver owcza undp resident representative gerardo noto presence acting head unsmil stephani williams germany committed euro support political dialogue programme organized lpdf statement undp said friday german ambassador said country committed support libyan political peace process core followup berlin conference calling libyan stakeholder support upcoming transitional phase benefit libyan according statement undp confirmed germany main contributor stabilization facility libya sfl million dollar fund part undp resident representative noto praised germany support saying strong partnership undp libya effective providing support people libya stability peace',\n",
              "       'greece expel libyan ambassador turkeylibya accord athens reuters greece said friday expelling libyan ambassador angered accord libya turkey signed nov map sea boundary two country close greek island crete mohamed younis ab menfi hour leave country greek foreign minister nikos dendias told news briefing dendias called turkeylibyan accord blatant violation international law move mean greece severing diplomatic relation libya dendias said greece asked libya detail deal last week text agreement carry signature libyan foreign minister',\n",
              "       'turkey may suspend tie uae withdraw ambassador following united arab emirate controversial deal israel turkey could downgrade tie uae warns president united arab emirate controversial deal normalize tie israel turkey may downgrade relation uae turkey president said may take step suspend diplomatic tie uae withdraw ambassador recep tayyip erdogan told reporter istanbul friday prayer israel erdogan called recent solidarity egypt greece step towards palestine unacceptable signing maritime pact last week athens cairo continued effort box ankara territory mediterranean based small island near turkish shore violating interest turkey country longest coastline mediterranean israel taken step towards closer relation athens cairo turning mistreatment ethnic turk greece western thrace region number turkish school recently closed erdogan said gravesites local turk recently come attack saying positive sign',\n",
              "       'alsunni appeal member unsc call haftars force permanent representative libya united nation un taher alsunni said speech united nation security council unsc national judiciary determined prosecute commit crime libyan libyan soil alsunni stressed libyan judiciary monitor violation crime particularly committed khalifa haftar oneyear period since beginning illegal attack tripoli also called unsc take firm stance haftar confront name exposing hindrance political agreement denounce recent proclamation asking specifically haftar militia called national army force represent nation',\n",
              "       'un invite libyan tribe participate crisis settlement country elder council official say received invitation parliament tobruk well official request un participation political process representative tribe including alhaleeq said adding tribe would represented negotiation deputy chairman also said exact date start negotiation yet determined hoped process would start soon possible according alhaleeq negotiation would likely held geneva deputy chairman stressed council welcomed ceasefire libya rejected idea demilitarization sirte friday libya internationallyrecognized government national accord declared immediate ceasefire vowed form demilitarized zone strategic area sirte jufra rival tobrukbased house representative welcomed supported ceasefire count could ensure withdrawal foreign troop make sirte temporary headquarters new libyan presidential council',\n",
              "       'lpdf participant reached agreement election william say acting head un mission libya unsmil stephanie williams said wednesday participant libyan political dialogue forum lpdf held tunisia reached agreement holding free fair inclusive credible parliamentary presidential election within month williams added press conference agreement includes step unite institution return displaced people also expressed unsmils rejection described disinformation disruption campaign accompanying meeting forum meeting joint military commission jmc sirte williams pointed military subcommittee emanating jmc concerned withdrawal force frontlines present proposal jmc thursday stressing jmc continuing discussion clarifying made progress ceasefire agreement discussion political dialogue tunisia address thursday prerogative competency new unified transitional government explained confirming final decision taken',\n",
              "       'undp bureau statistic sign agreement improve data collection united nation development programme undp libyan bureau statistic census bsc signed agreement today enhance bsc effort obtain quality statistic undp report better quality data critical develop data based public policy measure progress sustainable development goal sdg country added agreement signatory collaborate set mechanism bsc use digital tool data collection analysis regular survey household survey statistical study put place sdgs monitoring tool well train staff define sdgs baseline indicator towards achievement agenda undp explained virtual signing ceremony bsc chairman abdella allag said agreement signed today allows bsc benefit international expertise modern method data collection analysis light great revolution technology digital method collecting analyzing data bureau statistic census longestablished institution major using traditional method collect data however seek use modern technologybased method monitor sustainable development indicator raising capacity bsc staff area part undp resident representative gerardo noto stated live data revolution time since advance information technology data science make possible process analyze big data realtime',\n",
              "       'turkey sign maritime boundary deal libya amid exploration row istanbulankara reuters libya internationally recognized government turkey signed agreement maritime boundary mediterranean sea could complicate ankara dispute energy exploration country turkey announced accord deal expanded security military cooperation thursday gave detail memorandum understanding specify turkish libyan water meet libya neighbor egypt dismissed deal illegal greece said accord would geographically absurd ignored presence greek island crete coast turkey libya tension already running high athens ankara turkish drilling eastern mediterranean coast divided island cyprus european union prepared sanction turkey response dispute left ankara searching ally region new agreement signed meeting wednesday turkish president tayyip erdogan fayez alserraj head tripolibased government ankara backing rival military force based eastern libya',\n",
              "       'algeria host foreign minister libya crisis algiers reuters algeria thursday host foreign affair minister country bordering libya discus conflict foreign ministry said statement minister egypt tunisia sudan chad mali niger visit algiers week summit berlin aimed shoring ceasefire algeria km mile border libya working build consensus secure maximum chance peace deal proposed future meeting algiers source familiar matter told reuters algeria maintains good contact side libya several foreign leader foreign minister arab european state turkey visited algeria recent week discus crisis already facing internal political problem nearly year mass protest led change leadership algiers worried new security threat arising escalation libya',\n",
              "       'pc vicepresident maiteeq discus area mutual concern vicepresident presidential council pc ahmed maiteeq telephone call maltese foreign minister evarist bartolo discussed issue common concern two side discussed area cooperation two country development regarding aggression tripoli bartolo affirmed country commitment achieving security stability libya reiterated malta support government national accord gna internationallyrecognized authority expressing hope increase mutual coordination two country various field',\n",
              "       'erdogan host libya pm turkey look lock gain ankara reuters libya internationally recognised leader meet president tayyip erdogan turkey thursday ally seek lock recent gain battlefield near tripoli ahead new round talk potential ceasefire turkey began providing military support fayez al serrajs government national accord gna november signing military cooperation pact alongside maritime demarcation deal give ankara exploration right mediterranean greece others reject recent month turkish support conflict pushed back khalifa haftars easternbased libyan national army lna backed united arab emirate russia egypt attacking gna tripoli since april turkish presidency said erdogan gna prime minister serraj due meet ankara gmt meeting come day gna supported turkey recaptured tripoli main airport ahead appeared move towards talk truce month gain oust lna much foothold northwest gna said thursday regained control tripoli',\n",
              "       'libya sign mou geneva dcaf security sector reform libya geneva centre security sector governance signed memorandum understanding friday december security sector reform ssr mou signed behalf libya fathi bashagha interior minister internationally recognized libyan government tripoli commenting mou english personal twitter page rather ministry official twitter facebook page bashagha said today took yet another step path security reform sign mou dcaf well get expertise comparative experience enabling u extensive reform ensure good governance security sector based democratic principle partnership contribute building ministry interior capacity planning security reform reach goal providing security justice libyan strengthening peace stability libyan society region wholethe dcaf reported saturday yesterday dcaf signed mou libyan interior ministry setting frame cooperation strategic planning ssr libya looking forward working together towards accountable transparent democratic security sector libyan',\n",
              "       'bashagha ink mou french security institution libya interior minister fathi bashagha signed wednesday paris memorandum understanding strengthen cooperation ministry french security institution memorandum includes cooperation two side field developing biometric system order launch barometric identity system election process well security proposes statement interior ministry explained bashagha also held discussion security official specialized biometric identification security civil purpose seek opportunity bilateral partnership french side offered provide libya sensitive advanced video surveillance system used city capability enable rapid intervention accurate targeting sensitive threat monitoring system also designed enhance cooperation people security service according medium office interior ministry ministry disclosed earlier today bashaghas visit paris came invitation french authority hold discussion security political leader well company specialized security field',\n",
              "       'libyan petroleum facility guard unite one un tripoli nov xinhua un support mission libya unsmil monday said commander petroleum facility guard pfg eastern western agreed work one body present meeting held eastern city brega monday acting special representative secretarygeneral libya stephanie williams chairman stateowned national oil corporation noc mustafa sanallah commander pfg eastern western region unsmil said statement meeting first kind come part effort unify restructure pfg form new oil facility protection force stipulated ceasefire agreement signed oct geneva statement said today launched process unify petroleum facility guard launch new project petroleum protection force happened today direct fruit joint military commission talk enshrined october rd ceasefire agreement confirmed followup meeting ghadames sirte williams told press conference following meeting two pfg commander voiced readiness move forward saying already started coordinate aiming work one body statement said',\n",
              "       'turkish defence minister receives libyan counterpart istanbul libyan defence minister salah eldin alnamroush held discussion turkish counterpart hulusi akar regarding latest development libya came meeting two minister istanbul saturday according statement turkish ministry defence turkey closely following negotiation political solution libya turkish defence ministry quoted akar saying expressing turkey willingness contribute establishing security stability libya preserving political geographical unity akar also reaffirmed turkish army continue provide training support consultancy libyan brother libya defence minister arrived thursday doha effort develop capability force view expanding mutual collaboration various country libyan delegation signed visit qatar protocol cooperation training support capacitybuilding libyan army benefit experience qatar field libyan ministry defence said statement',\n",
              "       'libya joint military commission end first meeting sirte decides reopen coastal road libya joint military commission concluded first meeting new headquarters sirte sixth since formation early year unsmil reported yesterday meeting commenced november goal meeting second meeting inside libya coming continuation talk began ghadames november accelerate implementation ceasefire agreement signed october geneva unsmil explained end meeting attended unsmil closing statement issued follows first first stage opening coastal road second agreed second phase would start immediately end first phase included exit mercenary foreign fighter area contact line withdrawal benghazi tripoli first step start process departure libyan land next step third regarding security arrangement target area joint military committee decided following fourth joint military committee decided meet soon possible',\n",
              "       'libya rival agree implementation ceasefire deal un sirte front line recent conflict since midjune meeting follows permanent ceasefire agreement signed warring faction switzerland last month intended pave way towards political solution country grinding conflict talk taking place remote desert oasis ghadames kilometre mile southwest capital tripoli near libya border algeria tunisia far power base either side williams said meeting reunifying petroleum facility guard pfg would held november brega terminal air link would restored immediately ghadames sebha south libya oil production vital source income repeatedly halted various group seized blockaded key installation export terminal guard control libya defence ministry country revolution since morphed armed group shifting allegiance',\n",
              "       'libya rival agree implementation ceasefire deal un france rival libyan military officer agreed road map implementing ceasefire deal reached last month un acting envoy libya stephanie williams said tuesday announcement came meeting joint military commission discus implementation deal opened monday home soil first time side agreed establish military subcommittee oversee withdrawal military force respective base departure foreign force front line williams said commission also decided meet sirte soon possible make central coastal city headquarters williams added sirte front line recent conflict since midjune meeting follows permanent ceasefire agreement signed warring faction switzerland last month intended pave way towards political solution country grinding conflict',\n",
              "       'libya peace talk moscow fall short ceasefire deal moscowankara reuters libya warring leader made progress indirect peace talk moscow monday failed agree unconditional openended ceasefire talk lasted eight hour mediator russia turkey urged rival sign binding truce end ninemonthold war pave way settlement would stabilize north african country fayez alserraj head libya tripolibased internationally recognized government signed ceasefire agreement russian foreign minister sergei lavrov said turkish foreign minister mevlut cavusoglu said khalifa haftar commander easternbased libyan national army lna faction trying take capital tripoli asked time consider ceasefire today report progress made lavrov told reporter elegant th century moscow mansion talk held cavusoglu told reporter haftar wanted tuesday morning make mind',\n",
              "       'unbrokered libya military talk begin geneva geneva reuters military officer rival faction libya conflict began unled talk geneva monday aimed securing ceasefire month fighting outskirt capital tripoli socalled libyan joint military commission includes five senior officer eastern commander khalifa haftars libyan national army lna five officer aligned internationally recognized government national accord gna haftar waging offensive since april take control tripoli gna based fighting displaced people drawn increasing involvement foreign power military talk taking place two week international summit berlin focussed charting path toward political solution enforcing un arm embargo routinely violated haftar received material support country including united arab emirate egypt jordan russia according un expert diplomat government backed militarily turkey',\n",
              "       'europe call humanitarian truce libya statement brussels reuters foreign minister germany france italy eu top diplomat made joint call saturday humanitarian truce libya saying side must resume peace talk want unite voice un secretarygeneral antonio guterres acting special representative libya stephanie turco williams call humanitarian truce libya statement said call libyan actor get inspired spirit holy ramadan engage resuming talk genuine ceasefire said statement signed eu josep borrell france jeanyves le drian italy luigi di maio heiko maas germany',\n",
              "       'libya hifter declares ceasefire tripoli fighting ahmed almosmari spokesman force military commander khalifa hifter said news conference stopped military operation across libya response international appeal humanitarian truce authority could focus dealing coronavirus pandemic recent round fighting wartorn libya began last april hifters force launched offensive trying take tripoli clashing array militia loosely allied unsupported weak government capital immediate comment tripolibased administration known government national accord violence escalated recent week two warring side accusing shelling civilian neighborhood un said violence worsening humanitarian crisis libya could amount war crime stephanie williams acting un envoy libya tuesday called humanitarian truce ramadan could pave way permanent ceasefire',\n",
              "       'agreement reached libya main stakeholder resolve frozen oil revenue issue agreement reached urgent consultative meeting tripoli yesterday libya main economic stakeholder resolve controversial matter freezing libya oil revenue libya internationally recognized government confirmed meeting discussed implication effect process freezing libya oil revenue called chaired internationally recognized libyan prime minister faiez serraj meeting included deputy ahmed maetig struck deal khalifa hafter resume oil production saddek elkaber governor tripoli central bank libya chairman national oil corporation mustafa sanalla control bank account holding libya frozen oil revenue khaled almishri head high state council khaled shakshak head audit bureau first deputy head breakaway tripoli house representative muhammad amari zayed member presidential council ahmed hamza member presidential council sulaiman al shanti head administrative control authority faraj bumtari tripoli minister finance according official statement tripoli libyan government meeting agreed seen official meeting statement serraj government left plenty room manoeuvre delegated responsibility joint committee set maetighafter agreement implicitly recognized unofficial agreement joint committee agreement committee cbl favour holding unified cbl board meeting stipulated holding meeting soon could mean anything soon never',\n",
              "       'divided politics libya rival find economic middle ground libya political rival deadlocked formula selecting leadership unify country reached rare common ground starting work repairing economy libyan delegate political talk sponsored united nation failed muster enough vote proposed option selecting executive authority north african oil producer un acting envoy country stephanie williams said would set advisory committee help bridge difference train left station process going back williams said statement late tuesday political talk part wider unled effort end fighting ravaged libya ever since natobacked revolt ousted longtime leader muammar alqaddafi eventually leading establishment dueling administration rival already agreed date election end next year maintaining fragile ceasefire allowed libya oil output climb million barrel per day almost double november',\n",
              "       'geneva libyan economy reform meeting unsmil call critical decision within two day acting unsmil head stephanie williams convened yesterday technical meeting critical reform libyan economy unsmil reported yesterday meeting copresided egypt united state european union cochairs economic working group libya berlin process attended world bank brings together representative unsmil reported meeting discussed unsmil highlighted fact meeting geneva taking place backdrop several promising development including recalled maetighafter oil productionexport agreement revenue thus far accrued noc withheld tripoli cbl pending progress towards durable economic arrangement reunification board director central bank libya participant also broadly welcomed decision board director central bank libya week convene board meeting expected tackle unification exchange rate unification libya financial institution crucial success needed economic reform international audit branch central bank libya unsmil said continues facilitate international audit review branch central bank libya revealed audit nearly halfway complete stressed vital process ease reunification central bank fully reestablish national accountability mechanism',\n",
              "       'spanish ambassador confirms desire spanish company resume deputy chairman presidential council pc ahmed maiteeq received sunday spanish ambassador libya javier garcíalarrache larrache confirmed depth libyanspanish relation desire spanish company resume work libya following resumption work country embassy tripoli beginning next year maiteeg also confirmed government national accord keenness work strengthening cooperation spain several field maiteeg accepted invitation made spanish ambassador visit spain according pc medium office',\n",
              "       'cbl governor uk ambassador discus return british company governor central bank libya cbl sadiq alkabir discussed uk ambassador libya nicholas hopton number issue supporting strengthening bilateral relation came meeting held monday alkabir office tripoli presence political economic advisor british embassy meeting also touched way activate role private sector return british company resume work libya addition importance role cbl stage',\n",
              "       'noc sanalla talk british trade envoy increased cooperation mustafa sanalla chairman libya state national oil corporation noc held virtual meeting british prime minister trade envoy libya damian moore yesterday strengthening economic trade cooperation two side return british company specialized oil energy field work libya opening new prospect investment discussed cooperation field training human resource also discussed order build capacity develop libyan cadre oil gas sector british university centre institute noc reported trade envoy damian moore explained britain seriously seeking establish new economic trade partnership several country including libya excellent relation damian expressed happiness noc seeking expand investment base cooperation british side sanalla thanked appreciated support provided united kingdom noc support libya pointing noc board director determined expand partnership base british side field energy using great expertise british company oil technology industry bringing libyan oil sector',\n",
              "       'noc britain discus sector development investment training libya state national oil corporation noc britain discussed sector development investment training yesterday discussion came meeting noc head mustafa sanalla british ambassador libya nicholas hopton noc tripoli headquarters return british company work libya expansion constructive fruitful partnership benefit two country oil sector also discussed sanalla thanked ambassador hopton united kingdom stand support noc past year step provided noc company included facilitating visa procedure oil worker said facilitate pave way noc implement future plan train develop oil sector worker backbone backbone production process real capital national oil corporation libya',\n",
              "       'alsarraj discus maltese delegation joint cooperation chairman presidential council government national accord fayez alsarraj met monday maltese government delegation including maltese minister foreign affair evarist bartolo maltese minister interior byron camilleri ambassador malta libya charles saliba meeting discussed implementation step joint cooperation program agreed upon two party economic service field according medium office presidential council talk also touched memorandum understanding signed two country field combating illegal immigration',\n",
              "       'libya malta sign transport mou allowing medavia flight resumption maltese registration libyan carrier memorandum understanding mou signed libya malta cooperation field aviation maritime transport libyan airport authority laa reported yesterday mou included agreement resume flight two country mediterranean aviation company medavia provided necessary anticoronavirus pandemic measure observed medavia owned libyan foreign investment company registration one libyan airline aircraft malta circumvent current eu libya flight ban well contribution maltese institution raising efficiency libyan cadre field aviation airport also agreed mou recalled laa reported august specialist delegation maltese civil aviation authority visited mitiga airport inspect evaluate airport facility determine possibility operating scheduled commercial flight libya malta visit maltese delegation conducted inspection tour airport facility including passenger terminal baggage screening area air control tower aircraft parking lot perimeter fence addition checking automatic baggage check identifying procedure followed passenger arrival airport leaving order ensure conform recommendation international civil aviation organization',\n",
              "       'libya peace talk moscow fall short ceasefire deal moscowankara reuters libya warring leader made progress indirect peace talk moscow monday failed agree unconditional openended ceasefirein talk lasted eight hour mediator russia turkey urged rival sign binding truce end ninemonthold war pave way settlement would stabilize north african country fayez alserraj head libya tripolibased internationally recognized government signed ceasefire agreement russian foreign minister sergei lavrov saidbut turkish foreign minister mevlut cavusoglu said khalifa haftar commander easternbased libyan national army lna faction trying take capital tripoli asked time consider ceasefiretoday report progress made lavrov told reporter elegant th century moscow mansion talk heldcavusoglu told reporter haftar wanted tuesday morning make mind',\n",
              "       'erdogan trump discus libya development phone call ankara reuters turkish president tayyip erdogan u president donald trump discussed development libya phone call turkey presidency said wednesday day ahead summit berlin address libyan conflictgerman chancellor angela merkel host leader turkey russia britain italy sunday summit follows meeting moscow monday libya warring party failed sign ceasefire agreement',\n",
              "       'german foreign minister say libya haftar back ceasefire ntv berlin reuters german foreign minister heiko maas said libya khalifa haftar commander eastern libyan force committed ceasefire northern african country germany ntv television reported thursdayhe pledged abide ceasefire regardless fact sign ceasefire agreement moscow earlier week extremely important ntv quoted maas saying meeting haftar libya',\n",
              "       'macron attend libya summit sunday berlin french presidency paris reuters french president emmanuel macron attend summit scheduled sunday berlin address libyan conflict elysee presidential palace said thursdaygerman chancellor angela merkel also host senior official turkey russia united state britain china italy summit follows meeting moscow monday libya warring party failed sign ceasefire agreement',\n",
              "       'libya summit berlin agrees final communique participant berlin reuters world leader agreed final communique libya conference berlin one summit participant told reuters sunday without giving detailsgerman chancellor angela merkel united nation secretarygeneral antonio guterres expected present detail libya agreement news conference germany united nation host conference struggling draw military commander khalifa haftar back diplomacy quit talk half libya oil output shut area control',\n",
              "       'putin dont lose hope libya conflict solved berlin reuters russian president vladimir putin sunday said hoped berlin summit libya could bring progress moscow peace effort yielded first resultswe dont lose hope dialogue continue conflict solved putin said meeting turkish president tayyip erdogan sideline conference putin said russia turkey taken good step urging libyan faction stop fighting adding large military action stopped libya',\n",
              "       'eu agrees consider way support formal libya truce brussels reuters european union foreign minister agreed monday look way support formal ceasefire libya warring side move beyond tentative truce including monitoring mission reviving naval operation uphold un arm embargoforeign power agreed summit berlin sunday shore shaky truce libya turmoil since fall muammar gaddafi two rival government east west vie power energy resource without ceasefire going difficult imagine strong engagement european union eu foreign policy chief josep borrell told news conferenceborrell said eu would discus resuming naval mission libyan coast help stop arm reaching libyan militia something italy foreign minister oppose despite rome grounding ship last year antiimmigrant backlashforeign minister expected consider option next meeting february possibly decide path take diplomat saidborrell took post december urged eu member state act assertively libya',\n",
              "       'algeria host foreign minister libya crisis algiers reuters algeria thursday host foreign affair minister country bordering libya discus conflict foreign ministry said statementministers egypt tunisia sudan chad mali niger visit algiers week summit berlin aimed shoring ceasefire algeria km mile border libya working build consensus secure maximum chance peace deal proposed future meeting algiers source familiar matter told reutersalgeria maintains good contact side libyaseveral foreign leader foreign minister arab european state turkey visited algeria recent week discus crisisalready facing internal political problem nearly year mass protest led change leadership algiers worried new security threat arising escalation libya',\n",
              "       'putin proposes summit leader russia france china jerusalem reuters russian president vladimir putin thursday proposed holding summit leader russia china united state france britain discus conflict libya global problemsputin speaking trip israel said moscow ready serious conversation permanent member un security council much discus summit could happen anywhere world country point world convenient colleaguesrussia ready kind serious conversation saidthere many task uswe discussed one recently berlinthat libya',\n",
              "       'russia still committed diplomatic process libya haftar power grab moscow reuters russia belief political diplomatic process way resolve conflict libya kremlin said tuesday libya easternbased military leader khalifa haftar moved seize control country mondayhaftar said libyan national army lna accepting popular mandate rule country apparently brushing aside civilian authority nominally govern eastern libya moscow remain convinced possible resolution libya political diplomatic communication party conflict said kremlin spokesman dmitry peskov saidrussia remains contact participant libyan processwe believe way resolve libyan problemlibya split since area controlled internationally recognised government national accord gna tripoli northwest territory held easternbased force benghazi',\n",
              "       'haftars lna announces ceasefire libya ramadan holy month amid blessed reason well responding call brother friendly nation cessation hostility holy month main command armed force announces cessation hostility mismari said televised conference late wednesdayhe pointed breach truce lna rival would followed harsh response monday haftar announced lna quitting skhirat agreement led formation unbacked government national accord gnahe also said lna taking control countrythe situation libya escalated april tripolibased gna said launched rapid offensive west country capital taken control city sabratah surmana day later official gnas ministry foreign affair said tripolibased force captured coastal area city misrata located east capital city zuwara close tunisian border',\n",
              "       'eastern libyan force agreed ceasefire ramadan military operation across libya stopped response international appeal eastern libyan force laying siege country capital tripoli agreed humanitarian pause fighting muslim holy month ramadanahmed almismari spokesman force military commander khalifa hiftar said news conference stopped military operation across libya response international appeal humanitarian truce authority could focus dealing coronavirus pandemic recent round fighting wartorn libya began last april hiftars force launched offensive trying take tripoli clashing array militia loosely allied unsupported weak government capitalthere immediate comment tripolibased administration known government national accordviolence escalated recent week two warring side accusing shelling civilian neighbourhoodsthe un said violence worsening humanitarian crisis libya could amount war crime',\n",
              "       'kremlin spokesman reiterates need resolve libyan issue political mean kremlin spokesman pointed moscow firmly belief way resolve situation libya progress political diplomatic track well political diplomatic communication party particularly opposing sidesrussia continues maintain contact party libyan process believe way resolve libyab issue peskov emphasizedlibyan national army lna commander field marshal khalifa haftar stated monday force popular mandate rule countryhe also declared end skhirat agreement word destroyed country created dangerous situation libyahaftar vowed work creating condition establishment civil institution',\n",
              "       'libya hifters force announce ceasefire force led khalifa hifter announced theyll halt fighting rival unbacked government libya ramadan following international appealshifters force also lost strategic ground spokesman libya easternbased force said wednesday would cease fire rest islamic holy month ramadanthe general command announces pause military operation side breach terrorist militia met immediate harsh response ahmed almosmari represents force military commander khalifa hifter saidthe move response international appeal humanitarian truce ramadan according news agency ap authority could focus dealing coronavirus pandemiclibya torn two rival administration unbacked government national accord gna based tripoli parallel administration based eastern city benghazi aligned force loyal general khalifa hifter',\n",
              "       'libya strongman haftar agrees ramadan ceasefire commander general announces halting military operation side spokesman haftar control swathe eastern southern libya said eastern city benghazihaftars rival unrecognised government national accord gna yet respond afp correspondent reported hearing explosion centre capital tripoli announcement call truce ramadan began libya april came response appeal friendly nation haftar spokesman saidhe warned violation gna would met immediate harsh responselast week un eu several country called side lay arm holy monthannouncement come military setback announcement come prohaftar force suffered series setback recent week gna force ousting two key coastal city west tripoli',\n",
              "       'saleh say phone call norland misinterpreted speaker east libyabased house representative aqailah saleh declared phone call u ambassador richard norland misinterpretedspeaking local medium saleh said discussed norland truce announced khalifa haftars selfstyled army discussed importance maintaining political track commitment initiative proposal international community provided respect libyan stated adding fighting continue eliminating militia terrorist groupsthe u embassy libya reported friday norland saleh agreed importance respect democratic process need avoid individual attempt unilaterally dictate libya political future using armed forcesaleh noted initiative time come end infighting among libyan embassy saidthey also agreed military solution libya rejecting approach imposing fact ground importance continuing unsmilfacilitated negotiation according u embassy',\n",
              "       'egypt italy fm discus achieving comprehensive settlement libyan crisis politics egypt according official statement egyptian foreign ministry spokesman ahmed hafez said foreign minister sameh shoukry received phone call italian counterpart luigi di maioshoukry di maio exchanged viewpoint latest development libya mean reach overall settlement crisis achieve aspiration libyan people eliminate threat posed terrorist organisation security libyan region two minister also discussed latest development combating coronavirus pandemic mean cooperation stem spreaddi maio expressed appreciation support provided egypt regard adding egyptian aid helped country effort stemming spread virusthe phone call also witnessed consensus importance continued work towards boosting bilateral cooperation egypt italy various field necessity continued coordination cairo rome various issue common interest',\n",
              "       'head hcs italian ambassador review development libya head libyan high council state hcs khalid almishri discussed italian ambassador libya giuseppe buccino development political economic condition well military conflict countrythe discussion came meeting two official tripoli according medium office hcs almishri said libyan army force achieved radical accomplishment frontlines criminal gang khalifa haftarhe added haftars force became retreat western libya massive loss suffered saying military operation continue sovereignty state extended entire countrythe meeting went healthcare condition libya italy well necessary measure confront coronavirus pandemic',\n",
              "       'u support hafter attack tripoli seek ceasefire political dialogue syrian mercenary fighting side u state department u department state held special briefing video call russian engagement middle east thursday covered syria libyathe briefing said aimed shed light russian malign engagement middle east specific focus russian action syria libya added russia exploited instability libya advance military economic geopolitical interest throughout north africathe three state department speaker summarising section brief libya u state department said libya u two goal one immediate end conflict two return political negotiationsthe united state support lna military action tripolion russian policy libya state department said russia us combination military power proxy disinformation shape outcome specifically seeking enhanced presence libya expand influence across mediterranean also onto african continent',\n",
              "       'u ambassador norland support hor head salehs democratic process u ambassador richard norland libya house representative hor head ageela saleh spoke last thursday may agreed importance respect democratic process need avoid individual attempt unilaterally dictate libya political future using armed force u embassy tripoli reportedthe talk come back ageela salehs new point political initiative launched april reform current libyan political agreement lpa way libya current political impasse hafter meanwhile announced day unilateral revocation internationally recognized lpa widely described coup détat seemed appoint sole ruler eastern libyahis announcement roundly rejected un leading international power including uson april hafter went announce unilateral declaration humanitarian truce fighting tripolihowever next day libya internationally recognized government based tripoli led faiez serraj rejected hafters truce',\n",
              "       'news agency italian foreign ministry hold meeting libya news agency italian foreign ministry hold meeting libya wednesday italian foreign ministry going hold meeting libya wednesday according aki news agency added meeting via video conference follow berlin conference conclusionsmeanwhile italian foreign minister luigi di maio said arm flow libya stop start european union operation irini monitor arm embargo country di maio called commitment humanitarian truce political process libya per berlin followup track saying rome ready host next followup meeting following first one held munich help resolve libyan conflictseveral italian official expressed dismay attack khalifa haftars force area near italian ambassador residence tripoli saying deliberate spoke haftars weakness despairthe member presidential council ahmed mitig criticized italy stance regarding haftars attack tripoli saying rome doesnt know want libya lost important ally mediterranean',\n",
              "       'almishri german ambassador haftar place libya future head high council state khalid almishri said khalifa haftar place political process future libyaalmishri discussed telephone conversation german ambassador oliver owcza political development libya need resume political dialogue according high council state medium office also talked coronavirus pandemic need provide municipality local governing ministry space work ending outbreak covidalmishri hailed germany unbiased role effort resolving libya crisisdays ago high council state called local party oppose haftars coup stop talking political dialogue aggression tripoli ended urging coordination ally implement international agreement end coup',\n",
              "       'guterres call international community push ceasefire united nation secretarygeneral antonio guterres monday called member state security council use authority achieving ceasefire create conducive atmosphere political talk take place line sc resolutionsthis statement came report guterres focused work united nation support mission libya unsmil since beginning secretarygeneral beseeched member state involved berlin conference fulfill commitment undertook time calling international community play pivotal role ensuring continued progress remain focused political dialogue libyan partiesguterres added momentum achieved adoption sc resolution lost feedback berlin conference approved sc march fully supportedhe also noted coherent constructive work united nation issue outstanding vital paving way towards comprehensive political solution present conflict libya put',\n",
              "       'bashaga discus italian ambassador implication interior minister fathi bashaga held discussion italian ambassador libya guiseppi buccino regarding war waged haftars militia mercenary capital human loss collateral damage caused whilst noting intimidation waged security forcesthese matter discussed meeting held tuesday tripoli wherein bilateral relation country topic along way address situation illegal immigration impact implication security country although major issue discussed bashaga buccino also touched number common concern meeting',\n",
              "       'malta reiterates readiness host libyan dialogue meeting maltese ambassador libya charles saliba affirmed country readiness host meeting party conflict libya reach permanent ceasefirethe maltese ambassador underscored video call speaker tobrukbased house representative saturday country reject military interference libya insisting solution return dialogue berlin summit umbrella seeing libyan situation heartbreaking said salibahe indicated malta affected european country conflict libya given geographical location addition historical tie two country date back hundred yearsmalta agenda libya hope see peace stability country could achieved libyan addedit may important note maltese ambassador reached last april gna confirm country support libyan people amid ongoing fighting outbreak coronavirus',\n",
              "       'serraj nato secretary general discus libya situation faiez serraj internationally recognized prime minister libya held telephone call saturday nato secretarygeneral jens stoltenberg tripoli government reportedthe discussion come back stoltenberg declaring medium comment last week nato supporting government tripoli discussed latest military security development seriousness security situation libya due aggression tripoli environsthey also discussed impact stability entire region potential stimulating terrorism hotbed possible chaos proliferation weapon fighting security vacuum libyafor part secretarygeneral stressed nato considers internationally recognized libyan government tripoli legitimate government deal others considered targeting civilian infrastructure khalifa hafters force unacceptablehe added military solution libyan crisis stressing need abide output january berlin conference libya',\n",
              "       'egypt sisi never tolerate terrorist group libya party supporting stress political solution politics egypt egypt support reaching political solution crisis well preserving libya sovereignty security territorial integrity said elsisi speaking virtual meeting tuesday head african contact group state libya spokesman bassam rady saidthe meeting tackled latest development libya mean resolving crisis strengthening joint african effort elsisi also said egypt fully support libyan people choiceshe stressed egypt reject foreign interference libya domestic affair asserting libya stability crucial aspect egypt national securitythe president argued african country consider fighting terrorism libya top priority threatens stability security neighbouring country continent wholethe president also stressed importance coordination united nation africa international community libya',\n",
              "       'ceasefire diplomacy needed end libyan crisis uae official region world united arab emirate belief acceptable path forward libyan crisis involves immediate comprehensive ceasefire return political process uaes minister state foreign affair said tuesdaythe uaes position libyan crisis firm clear shared majority international community anwar gargash said twitter uae egypt back libyan national army commander khalifa haftar based eastern libya trying take capital tripoliturkey back libya internationally recognised government tripoli accused uae bringing chaos region intervention libya yemen',\n",
              "       'russian turkish foreign minister back libya ceasefire call moscow moscow reuters russian foreign minister sergei lavrov turkish foreign minister mevlut cavusoglu backed immediate ceasefire libya phone call thursday russia foreign ministry said statementthe two diplomat also supported resumption united nation political process north african country statement said spoke day libyan national army eastern military commander khalifa haftar said pulled back tripoli frontlines calling question ability sustain yearlong offensive aimed seizing capital',\n",
              "       'erdogan turkey libya conduct joint exploration eastern ankara reuters turkey libya carry joint exploration operation eastern mediterranean two side signed deal maritime boundary turkish president tayyip erdogan said monday move sharpened dispute arealibyas internationally recognised government turkey clinched natural gas drilling accord last month step ankara said aimed defend right region infuriated greece tension already running high greece turkey turkish gas exploration eastern mediterranean coast divided island cyprusthe european union readied sanction turkey responsespeaking interview state broadcaster trt haber erdogan said accord would also allow turkey carry drilling libya continental shelf tripoli approval deal line international lawthe area turkey libya drawn maritime border accord far south large greek island crete',\n",
              "       'pompeo say u want work russia libya reminded washington reuters united state want work russia end conflict libya u secretary state mike pompeo said wednesday added reminded russian counterpart sergei lavrov day ago arm embargo place north african countryspeaking news conference u state department pompeo said could military solution fighting washington warned country sending weapon libya want work russian get negotiating table series conversation ultimately lead disposition creates un trying pompeo saidforeign minister lavrov told directly yesterday prepared part continue iti reminded weapon embargo still place libya nation ought providing incremental materiel inside libya saidlibya divided since rival military political camp based capital tripoli east',\n",
              "       'erdogan support gna initiate oasis peace turkish president recep tayyip erdogan said monday turkey determined assist legitimate government national accord gna return land oasis peace turkey continual supportin televised address chaired government meeting erdogan remarked operation push back haftar completed thanks constructive support provided gna adding god willing soon receive good tidings libya erdogan added libya security safety prosperity people key stability entire north african mediterranean region',\n",
              "       'nato ready support gna libya bloc chief say nato secretary general jens stoltenberg confirmed bloc ready support libya government national accord led fayez alsirrajin interview italian daily la repubblica thursday stoltenberg noted nato partner many issue different position added turkey remains important ally also stressed nato supporting un effort peaceful solution conflict libya syriain libya arm embargo need respected side nato chief saidhe added doesnt mean put level force led khalifa haftar government fayez alsirraj one recognized unfor reason nato ready give support government tripoli said referring tripolibased gna',\n",
              "       'nato ready support libya government stoltenberg government headed fayez alsarraj one recognized un say nato chief nato ready support libya government led fayez alsarraj head military alliance said thursdayin interview italian daily la repubblica jens stoltenberg noted nato partner many issue different position added turkey remains important ally also stressed nato supporting un effort peaceful solution conflict libya syriain libya arm embargo need respected side stoltenberg saidhowever doesnt mean put level force led khalifa haftar government fayez alsarraj one recognized un stressedfor reason nato ready give support government tripoli said',\n",
              "       'bashaga appreciates turkey support gna minister interior fathi bashaga said valued effort turkish government supporting government national accord gna ongoing support libyan people difficult timethis came meeting tuesday turkish ambassador libya serhat aksan medium office interior ministry said meeting focused latest development war waged haftar mercenary tripoli victory achieved volcano rage defeat haftars militiasboth side also discussed illegal immigration file amongst affair mutual concern',\n",
              "       'time malta valetta ankara work together stability libya time malta newspaper said valetta partnered turkey effort bring stability neighbouring libya limit flow migrant fleeing north africagovernment source told time malta country policy libya line turkish government month lengthy discussion diplomatic effort added malta like turkey back internationally recognised government national accord headed fayez alsarrajduring visit turkish capital ankara week home affair minister byron camilleri met turkish libyan counterpart holding talk security mediterraneansources told newspaper camilleri hoping turkey would support tripoli government effort stifle many militia operate along western libyan coastthe libyan interior minister fathi bashagha met last week turkish defense minister hulusi akar maltese interior minister byron camilleri ankara discus cooperation development libya stability mediterranean',\n",
              "       'eu mobilises euro million libya coronavirus effort eu reported tuesday part global response coronavirus pandemic mobilised million ld million assist libyan government tackling ongoing crisisthe announcement come libya struggle control spread coronavirus said partnership world health organization united nation childrens fund unicef international organisation migration iom support prevention spread coronavirus particular among libya vulnerable community affected conflict forced displacement migrationthe eu explained assistance aim establishing better national coordination mechanism detection surveillance infection cluster improving public awareness virus effective preventive measuresthe eu funding also continue support libya public health system allow urgent investment medical equipment personal protective equipment health worker frontlines fight covid pandemiclibya seen alarming spike infection past two week',\n",
              "       'national center meteorology warns flooding valley national meteorological center said sunday heavy flow water local valley northeastern libya extremely heavy rainfall region statement center called citizen area aljabal alakhdar eastern coast take great care passing roadway due huge accumulation water low area flooding valley eastern region witnessing strong wind fluctuation led heavy rainfall causing great damage particularly city albayda state emergency declared',\n",
              "       'meteorological center warns heavy downpour national meteorological center warned sunday heavy rainfall northwestern region leading water accumulation low area likely result flooding local valley salame added interview usbased alhurra channel libyan people able choose new leader election due held december next year noting local militia several interfering country libya reached conclusion military solution crisis put',\n",
              "       'tuesday storm sink tugboat cause damage misrata free zone port one tugboat sank another damaged misrata free zone port result tuesday strong storm hit northwestern libya free zone reported tugboat sank large vessel squeezed onto dock affected tugboat rescued nevertheless said port remained operational effort hand rescue sank tugboat prevent possible environmental damage',\n",
              "       'two libyan oil terminal closed due bad weather view show zueitina oil terminal oil export resume zueitina west benghazi libya october reuters libya essider zueitina oil terminal closed wednesday due bad weather national oil corporation noc medium office said latest headline follow google news channel online via app bad weather persists another hour terminal region ra lanuf brega could also affected possibly risking production level limited storage capacity medium office said',\n",
              "       'east libyan oil terminal shut due bad weather port source benghazi reuters four east libyan oil export terminal closed sunday due bad weather port source said closed terminal zueitina brega ra lanuf e sider located socalled libya oil crescent closure could last three day brega oil port engineer zueitina terminal said tanker heading italy loaded barrel oil zueitina terminal shut vessel',\n",
              "       'sudden storm hit western libyan city sudden storm hit number city western libya tuesday accompanied massive chunk ice storm caused uprooting many palm tree resulting falling public road bringing damage number private property traffic control office tripoli security directorate appealed citizen exercise caution driving highway wishing traveller safe journey national center meteorology expected rain hit country next three day warning strong northwesterly wind gusting knot',\n",
              "       'four childrens corps recovered shipwreck libya libya ansamed ansamed tunis december libyan red crescent rescue team recovered wednesday body four child boat carrying illegal immigrant capsized libyan coast libya observer reported thursday red crescent said child egyptian body washed harsha matrad shore near alzawiya city noted libyan news agency quoted red crescent official saying informed boat sinking high sea people board adding rescue worker discovered three body near alzawiya around kilometre mile tripoli fourth kilometre west libyan red crescent official hassan albay said four child family egypt headed italy boat saying family living sabratha western libya website reported said notified two egyptian family living sabratha missing including fiveyearold girl three boy seven ten corps recovered taken morgue alrahma hospital zawiya official procedure prior burial migrant rescue watch reported twitter',\n",
              "       'illegal immigrant drown libyan coast iom tripoli nov xinhua international organization migration iom said monday seven illegal immigrant drowned libyan coast past weekin period november body immigrant washed shore survivor returned libya iom said iom also said illegal immigrant rescued returned libya far compared iom also revealed total illegal immigrant died others went missing central mediterranean route far year compared death missing immigrant last year following ouster killing leader muammar gaddafi libya mired state insecurity chaos prompted thousand illegal immigrant cross mediterranean sea toward europe country thousand illegal immigrant either rescued sea arrested authority remain detained inside overcrowded detention center libya despite repeated international call close center',\n",
              "       'illegal migrant rescued libyan coast unhcr tripoli nov xinhua united nation high commissioner refugee unhcr sunday said illegal migrant rescued libyan coast reiterate libya safe port return refugee migrant unhcr said insecurity chaos followed fall leader muammar gaddafi libya become preferred point departure thousand illegal migrant want cross mediterranean sea toward europe according international organization migration iom illegal migrant rescued returned libya far iom also said hundred illegal migrant died hundred others gone missing central mediterranean route far year thousand illegal migrant either rescued sea arrested authority remain detained inside overcrowded reception center despite repeated international call close center',\n",
              "       'two libya shipwreck day cost almost life said survivor brought back shore body retrieved adding boat reported carrying people body shipwreck lined grimly along beach thursday still wearing life jacket traumatised survivor sat shock shore others huddled blanket aid worker distributed food parcel u embassy tripoli said shipwreck amounted another horrific migrant tragedy another reminder need settlement libya conflict order focus prevention tragedy like thiseuropean ambassador jose sabadell said need work together prevent horrific event happening againthe iom said friday many woman child aboard two boat adding body toddler among retrieved',\n",
              "       'one person killed nine others injured traffic accident one person killed nine others injured result traffic accident involved vehicle carrying mostly sudanese citizen kufra city southeastern libya kufra ambulance emergency service said vehicle overturned rescue took almost five hour according statement issued emergency service one person found dead nine others injured mostly broken bone whilst four people escaped serious injury good condition',\n",
              "       'family nine people died suffocation tripoli libyan family consisting seven child parent youngest seven month old suffocated death inside house alabyar road zara district south tripoli medium advisor ministry health amin alhashemi told libya observercontact barion family cut since last tuesday alhashemi said adding decomposing body found friday alhashemi indicated forensic report showed family died carbon monoxide poisoning portable generator due power outage region family recently returned house month displacement due failed aggression warlord haftar south tripoli also called concerned authority government national accord accelerate restoration area affected failed aggression still suffering spread war remnant addition power communication outage',\n",
              "       'ocha libya highest covid reproduction rate north africa united nation office coordination humanitarian affair ocha confirmed libya highest covid reproduction rate among north african country un organization warned official report spread disease libya high compared neighbouring country due ongoing conflict internal security political economic crisis world health organization leading medical health institution urged world stay home save life effort combat pandemic unfortunately luxury libyan still displaced ocha said report indicated every people libya covid critical rate region un organization owed worsening situation lack basic service including continuous power cut affect water supply third libyan population northwest part country make harder people stick necessary measure',\n",
              "       'libya report new covid case tripoli dec xinhua national center disease control libya tuesday reported new covid case bringing national count center said statement recovery death registered country far reported total recovery fatality said since first case reported march libyan authority taken series precautionary measure pandemic including closing country border shutting school mosque banning public gathering imposing curfew enditem',\n",
              "       'libya report new covid case total tripoli nov xinhua libya confirmed new covid case bringing total toll country national center disease control said friday center said statement received total suspected sample tested positive adding patient recovered others died libya recorded recovery fatality total center said badraddin alnajjar director center said wednesday pandemic situation getting worse coronavirus case increase every day country according libyan medium report alnajjar stressed need impose nationwide lockdown case current pandemic situation continues since first case reported march libyan authority taken series precautionary measure pandemic including closing country border shutting school mosque banning public gathering imposing curfew',\n",
              "       'libya report new covid case total reach tripoli nov xinhua national center disease control libya sunday reported new covid case taking nationwide count center said statement recovery death reported bringing total recovery death toll since first case reported march libyan authority taken series precautionary measure pandemic including closing country border shutting school mosque banning public gathering imposing curfew china donated medical aid libya june help country battle pandemic including nucleic acid diagnostic kit medical protective suit n face mask surgical mask pair goggles pair medical glove enditem',\n",
              "       'coronavirus case libya fighting rage misrata libya reuters artillery blast shook libya capital tripoli sunday fighting raged even nation confirmed five case coronavirus total eight national centre disease control said new case northwestern city misrata held government national accord gna war libyan national army lna easternbased commander khalifa haftar chaos without central authority since westernbacked uprising ousted strongman muammar gaddafi libya poorly placed withstand epidemic united nation urged warring party stop fighting overstretched health system prepare cycle conflict destroyed much libya infrastructure financial crisis stopped salary many medic current phase warfare began last year haftars lna began offensive capture tripoli seat gna recognized united nation',\n",
              "       'eastern libya confirms first coronavirus case benghazi libya reuters authority running eastern libya tuesday confirmed first case coronavirus despite effort close border impose curfew limit social interactionslibya confirmed total case new coronavirus others western area controlled internationally recognised government national accord gna united nation aid agency urged libya warring faction stop fighting conflict increased past two week projectile hit hospital gnaheld area tripoli mondaythe easternbased libyan national army lna khalifa haftar backed united arab emirate egypt russia attempting capture tripoli yearaid agency including world health organization said libya poorly placed withstand major coronavirus outbreak much infrastructure damaged',\n",
              "       'libyan rush stock ramadan coronavirus curfew kick tripoli reuters libyan rushed thursday stock food holy muslim month ramadan curfew start capital tripoli western area aimed curbing spread coronavirusthe oil producing country chaos since overthrow muammar gaddafi confirmed case infection one death combat spread internationallyrecognized government national accord gna imposed hour curfew friday try ease pressure healthcare system area control include tripolionly bread food purchase allowed morningwith sound artillery booming background offensive tripoli easternbased libya national army lna khalifa haftar resident queued get cash bank buy foodramadan muslim fast sunset start around april',\n",
              "       'hundred tunisian stranded libya reach frontier post tunis reuters hundred tunisian stranded libya border closed coronavirus crisis reached tunisian frontier post monday tunisia interior ministry saidsome people reached border post subjected security check cross enter quarantine facility said statement carried state medium lived difficult situation facing destiny alone long day said mustafa abdel kabir head human right observatory tunisian organizationmany migrant border stranded week hundred still remain libya head united nation migration agency providing aid said tweetfederico soda international organisation migration iom chief mission libya posted footage showing crowd people carrying luggage blanket clothes strung long road walked across frontierdespite long conflict year political instability oilexporting libya home thousand tunisian migrant worker',\n",
              "       'zero coronavirus case third day row libya libyan national center disease control said reference laboratory tripoli run test sample tested negative mondayover last two day national center disease control said sample tested negative made libya register new coronavirus case last three day far libya covid case reached active recovered two dead according libyan national center disease control',\n",
              "       'new covid case reported libya bringing total national center disease control reported wednesday new positive covid test result bringing country total regular update facebook center pointed one test came positive yesterday among sample received noting new case link previous one meanwhile benghazi anticovid committee received notice three recovery covid patient saying associated first case confirmed citythis brings total number recovered libya',\n",
              "       'noc receives medical supply prevention covid department sustainable development within national oil corporation noc received wednesday consignment medical supply furnished total company distribution fight coronavirusnoc announced statement would send thousand medical supply item protective clothing health sector worker central eastern region libya supply sent assist combating covid pandemic include medical material large number face mask protective body suit sterilizing spray equipment thermometer glove sundry essential itemsall listed supply delivered municipality coming day suggested statement issued noc',\n",
              "       'new coronavirus death libya case rise oman sudan health authority oman libya sudan recorded coronavirus fatality case fridayin oman coronavirus case recorded bringing total including nine death recovery health ministry tweeted sudan health ministry said another case recorded capital khartoum pushing total including death recoverieshealth authority warbattered libya confirmed country second coronavirus death new case recorded keeping total including recoveriesafter emerging last december chinese city wuhan virus spread least country regionsthere million confirmed infection globally death',\n",
              "       'health ministry unicef provide covid guidebook health worker department information health education ministry health cooperation united nation childrens fund unicef drafted guidance document assist health worker libya caring coronavirus patientsthe scientific publication include copy handbook well poster leaflet containing guideline deal suspected confirmed covid case guidance using personal protective gear scientific manual distributed health facility first stage followed later second stage cover health facility across country said health ministry',\n",
              "       'russia urge party libya halt fighting enable covid response envoy un would also like use opportunity call party conflict libya cessation hostility order enable joint approach covid pandemic respect international humanitarian law kuzmin said tuesdaylibya far confirmed case covid infection three death according john hopkins university kuzmin said russia concerned situation libya effort stabilize tense political situation stalledthe way crisis diplomatic negotiation role united nation play regard central kuzmin notedin light essential un secretarygeneral antonio guterres appoint new special representative libya earliest convenience addedthe situation libya escalated april tripolibased government national accord gna said launched rapid offensive west country capital taken control city sabratah surman',\n",
              "       'misrata coronavirus committee warns foreign ministry untested high committee coronavirus response said nine libyan national arrived abroad without tested covid warning foreign ministry would stop evacuation flight hazardous behavior repeated citing need maintain public safety amid spread pandemicthe committee misrata said nine person isolated test would sent family municipality residence adding passport seized arrival libya untested coronavirus violated procedure approved government reckless act jeopardizes people livesthe airliner libyan consulate istanbul responsible repercussion behaviorthe committee addedmeanwhile libyan consul istanbul fathi alsharif said statement allowed nine person return libya via misrata airport per order head high council state khalid almishri',\n",
              "       'ministry health receives shipment medical supply arriving ministry health announced receipt new shipment medical supply turkey aimed responding coronavirus pandemic noting libya received similar shipment medical supply turkey midaprilthe shipment arrived monday onboard libyan airline plane via mitiga airport ministry indicated shipment included protective body suit face protector goggles medical face mask along device measurement body temperature remotely',\n",
              "       'recovered coronavirus case reach libya total libyan national center disease control said recovered coronavirus case reached one new recovery registered mondaythe center said ran lab coronavirus test tested negative including one covid recovered libya coronavirus case three died recovered thus patient remain treatmentthe head national center disease control badr aldeen najjar said statement sunday pandemic status quo libya control touching measure taken receive libyan stranded abroadmeanwhile high committee combatting coronavirus reiterated need implement measure take legal action anyone violates curfew lockdown rule depicting number violation certain shopsthose dont abide rule curfew walk street without clear necessity emergency subject legal action',\n",
              "       'national center disease control provides advice parent national center disease control released awarenessraising publication assist parent caring child autism syndromeparenting pandemic pose real challenge many family taking care child special need daunting task besides safety measure publication offer guidance overcome physical cognitive challenge resulting quarantinethe center stressed importance child autism syndrome space play open air garden could roofit also encouraged parent talk child pandemic recommended passing information storylibya put lockdown march announcing first confirmed case country',\n",
              "       'tripoli government extends curfew ten day may internationally recognized libyan government based tripoli yesterday extended current pm curfew area effective authority another day today maythe curfew allows food retailer chemist open hour allows travel foot local shop restricts car movement district city extension came back medical advice anticoronavirus committee back world health organization recommendation last saturday libya exercise caution face serious health threat posed covid countrynow time reduce caution said elizabeth hoff who representative libya said statementthe low number reported fool u false sense securitylibya early stage epidemic yet reached height infection',\n",
              "       'new coronavirus case brings libya total libya national centre disease control ncdc today announced new case coronavirus covid countryyesterday announced existing case recovered today revelation brings country total case recovery three deathson related note first flight repatriating libyan stranded abroad arrived late last nightearly morning istanbul misrata airportin view fact tripoli mitiga airport subject persistent bombing attributed hafter force libyan authority decided use misrata airport insteadit recalled passenger undergone day quarantine two pcr polymerise chain reaction test allowed return libyan authority',\n",
              "       'unicef brief libya health official covid action plan unicef mission libya gave briefing saturday presidential council scientific steering committee ministry health action plan developed deal covid crisisthe participant reviewed covid risk term communication community engagement well formation task force regard statement unicef said facebook saturday expert public health mental health health information education department presented meeting executive plan set handling pandemic potential challenge recommendation way forward unicef added',\n",
              "       'number case fully recovered coronavirus libya stand national center disease control ncdc announced monday full recovery four case covid pandemic libya bringing total number date achieving complete recovery ncdc clarified regular report reference testing laboratory conducted test monday individual result negative including four recovery total number registered case covid libya amounted death three individual leaf count active infection present case',\n",
              "       'libya disease control center conduct largescale survey libyan national center disease control said saturday would conduct comprehensive survey coronavirus spread country starting sundayin presser head national center disease control badr aldeen najjar said first phase survey would three tripoli municipality zara souq aljumua abu salim survey basis future precautionary measure whether increase decrease themwe want know percentage infection spread coronavirus area surveyhe addedmeanwhile libya registered new covid case bringing total number national center disease control announced sample one tested positive negative',\n",
              "       'ministry health conduct test returnees turkey ministry health requested citizen returned libya turkey may via libyan airline subjected quarantine pullman hotel istanbul visit zawit dahmani screening center tested covidwhilst ministry announce reason request observer expect may connection newly registered positive case coronavirus announced yesterday national center disease control daily report',\n",
              "       'team libyan doctor head italy help fight team libyan doctor left italy help fight coronavirus pandemic according libyan ministry foreign affair facebook page part ongoing cooperation italy libya effort combat pandemicthe team doctor led dr kamel altlaou traveled italy provide assistance coordination national center disease control ncdc italian health authority expected program may extend two week month necessary',\n",
              "       'tripoli libyan government extends curfew day declares hour curfew eid internationally recognized libyan government based tripoli yesterday extended current curfew another day maythe curfew continue ramadan pm next morning however also announced hour curfew three eid daysit recalled time publication libya total coronavirus case recovery deathsthe warns number could misleading libya conduct extremely low testinglibyas coronavirus case two urge vigilance stranded repatriation flight start tuesday',\n",
              "       'new covid case brings libya total comprehensive screening launched libyan doctor sent help italy libya national centre disease control ncdc announced saturday new case coronaviruscovidthis brings libya total case recovery three death comprehensive screening saturday may ncdc announced launch comprehensive coronavirus screening starting sundayit recalled may libya office urged libya health authority exercise caution face serious health threat posed covid countrynow time reduce caution elizabeth hoff who representative libya said statementthe low number reported fool u false sense security',\n",
              "       'libya announces new case coronavirus new recovery libya national centre disease control ncdc announced three new case coronaviruscovid yesterday well seven new case recoverythe ncdc revealed one new case brandnew local case whilst two plane case announced saturday travelling back libya onthe case discovered rapid response team ncdc saidit added rapid response team tracking contact case taking sample detection new casesit recalled case',\n",
              "       'libyan interior ministry call resident abide total libyan interior ministry coronavirus task force called libyan abide instruction curfew total lockdown eid alfitr daysthe interior ministry urged resident go except necessity abide cooperation relevant authority preserve safety instructing security apparatus fine take legal procedure violator libya see hour lockdown three day eid alfitr sunday tuesdaymeanwhile coronavirus case reached libya registering three new one saturday national center disease control said tested sample three libyan returning abroad came positive',\n",
              "       'libya record new covid death two infection among repatriated head sabha quarantine center ali alsaidi said first covid patient southern libyan city died bringing total death four national center disease control announced registering two new case among libyan returned home abroad latelynow libya coronavirus case stand total case center said adding two positive case among sample received reference laboratory tripoli misrata benghazi well tripoli university hospital southern region libya registered first two coronavirus case tuesday one woman fifty second man thirtiesthe two case contacted suspected positive coronavirus case mother man center said adding mother died high temperature without testing positive coronaviruswe follow people contact new coronavirus casesthe center added',\n",
              "       'curfew announced sabha two new case coronavirus sabha security directorate announced curfew citizen pm daily beginning today lasting full two week effort curb spread covid pandemicthe directorate clarified decision came diagnosis two new case infection coronavirus city announced national center disease control ncdc tuesday announcement two new case ncdc brings total number case registered libya date case recovered fatality',\n",
              "       'tripoli hit coronavirus libya national disease control libyan national center disease control revealed latest research statistic shown tripoli registered total number positive coronavirus case libya since start spread covid country last marchtripoli city case followed misrata registered total covid case benghazi came third statistic national center disease control said total number coronavirus case libya stand may active case recovered one three deathson tuesday center said tested new sample tested negative coronavirus except two positive one totally new case prior contact covid patient',\n",
              "       'virus tally egypt algeria iraq jordan libya egyptian health official confirm additional fatality covid egypt algeria iraq confirmed new fatality coronavirus tuesday jordan libya reported new infectionsegyptian official said people died virus bringing death toll total additional case detected bringing figure number recovery reached authority algeria said death toll rose eight number infection climbed new case including recovery confirmediraq recorded six fatality bringing tally official said number case reached new case reported',\n",
              "       'libya announces new coronavirus case another death libya national centre disease control ncdc announced new coronavirus covid case fourth death yesterdaytwo case tested tripoli sebha one case recently repatriated turkeythere case recoveredin view ncdc advised citizen residing sebha follow necessary precautionary precautionary guideline include curfew quarantine social distancing continued sterilization disinfection personal hygieneit also asked citizen sebha leave city contact accounted epidemiological situation stabilizes',\n",
              "       'coronavirus scientific committee epidemiological situation remains member coronavirus scientific committee dr suliman abu siryuyil said epidemiological situation libya remains control cause major concern reconfirming intensive work carried concerned authority contain situationsiryuyil added jump registered case covid infection past day due cluster case noted sabha area stressed responsibility prevent spread epidemic rest upon shoulder citizen stressing crucial need everyone follow regulation public health safety adhere strictly social distancing personal protective wear',\n",
              "       'libya confirms new case covid overnight another people libya tested positive coronavirus past hour said national center disease control monday updatethree newly announced case new linked previous patient nine infected people new arrival returned abroad center explained new figure country total stand case among active case five fatality rest cleared covidthe national center disease control urged resident sabha city south country follow social distancing home quarantine preventive measure avoid coronavirus transmission city recorded highest rate infection country',\n",
              "       'new coronavirus case bring libya total case new coronavirus case announced libya last two day bringing total total recovery five death libya national centre disease control ncdc urged people follow safety instruction respect intercity curfewsebha new libya coronavirus hotspotthe recent sebha outbreak forced country extend curfew border closure time neighbouring tunisia announced plan open border last half june',\n",
              "       'libya report new covid case bringing total national center disease control reported friday new coronavirus case libya bringing total daily update facebook center explained newly infected people contact previous case sabha one new case recorded city tripoli also registered nine covid new infection linked previous patient one new case belongs resident barak alshati region visiting capitalas city sorman recorded one new infection misurata reported one confirmed case citizen coming city sabhaat present libya record active covid case five fatality people recovered virus according statistic national center disease control',\n",
              "       'new coronavirus case last two day bring libya total curfew extended another day libya national centre disease control ncdc reported new coronavirus case last two day bring country total casesthey also reported new recovery bring total still death new case spread tripoli misrata surman sebha new case new arrival abroad case mixed previously known casesyesterday tripoli government also extended country pm curfew another day total curfew south libya ban travel citiesthe spike case put increased testing increased repatriation citizen stranded abroad failure impose curfew outside tripoli new coronavirus case bring libya total case coronavirus case continue increase libya south libya coronavirus case shoot outbreak sebha',\n",
              "       'covid tally surge sudan bahrain libya sudan bahrain confirmed new fatality due coronavirus pandemic tuesday libya reported new infectionsthe sudanese health ministry said people died covid pushing nationwide death toll ministry statement said new case registered raising total infection country bahrain health ministry confirmed one fatality virus infection past hoursbahrains confirmed case disease stand including death recoveriesin libya national center disease control said new case recorded bringing figure',\n",
              "       'coronavirus case surpass qatar qatar confirms infection kuwait report fresh case kuwait qatar monday registered new fatality infection novel coronavirus lebanon libya reported fresh case diseasea covid case registered qatar last hour country health ministry announced addition brought total infection gulf country including recoveriesit also reported three new fatality bringing death toll health official kuwait said five people died due virus past hour bringing nationwide death toll ministry statement said new infection recorded bringing total',\n",
              "       'coronavirus case surge libya repatriation tripoli june reuters number coronavirus case surged libya month health authority blaming biggest outbreak southern city repatriation national stranded abroadthe national centre disease control last week announced new case southern city sebha week dozen confirmed case across whole country tuesday libya confirmed case covid sebha others mostly northwestlibyan international health agency warned high risk wave coronavirus case libya year chaos war undermined health systemlibya closed border march stop coronavirus spreading last month began arranging flight repatriate libyan stuck abroad without quarantine requirementthe disease control centre attributed case sebha people returning home though city medical centre medium office manager mohamed grain said yet identified patient zero triggered outbreak',\n",
              "       'libya register highest number covid infection since march libyan national center disease control said registered new coronavirus case monday highest daily number since first case marchthe libyan national center disease control also said four case recovered adding tested sample laboratory tripoli benghazi misrata sabha case tested negative four recovered tested positive one people contacted covid patient new one sabha five abroadthe center saidnow libya total case active recovered patient well five death',\n",
              "       'greek energy company metka start tobruk power station tobruk gas powered station project launch meeting held saturday tobruk general electricity company libya gecol greek energy construction company metka tobruk municipality also meeting latest development power station project solution obstacle difficulty impeding project workflow start project discussed recalled project first announced back tobruks current power station mw oilfired plant near port tripoli government sign contract greece metka tobruk power station libyaheraldcom greek construction company sign mou new tobruk power plant libyaheraldcom',\n",
              "       'italian financed built coastal motorway project commence spring construction libya coastal motorway stretching tunisian egyptian border start spring libya tripolibased foreign ministry announced yesterday motorway financed italian government built italian company italy pay project per agreement signed qaddafi berlusconi part italy colonial era compensation must noted however since several similar announcement without project actually starting mostly due lack security libya announcement came libyanitalian joint technical committee economic cooperation held first virtual meeting yesterday tripoli foreign ministry attached great importance project facilitate traffic commercial traffic west east country',\n",
              "       'eu grant u sebha entrepreneur six entrepreneur small business owner sebha receive financial grant develop business european union eu said yesterday step come within initiative aimed reviving supporting project affected conflict economic consequence corona epidemic explained grant part marathon recovery support initiative funded european union implemented united nation development program several city throughout libya cooperation ministry local government tripoli municipality sabratha sabha murzuq benghazi ajdabiya kufra six entrepreneur severely affected throughout year libyan conflict coronavirus pandemic working project sector agriculture clothes manufacturing auto repair food cosmetic ten entrepreneur tawergha win total u grant develop conflict covid affected business libyaheraldcom youth woman ngo win u undp grant project proposal libyaheraldcom undp launch restartup conflict entrepreneurship marathon tripoli benghazi october libyaheraldcom eu provides additional million support undps stability social cohesion libya programme libyaheraldcom youth woman ngo win u undp grant project proposal libyaheraldcom',\n",
              "       'misrata airport new terminal ppp project libya airport authority laa misrata municipality agreed construction new passenger terminal misrata airport ppp base old terminal destroyed fire believed caused electric fault announcement came meeting yesterday two party project contracted laa current year work implemented misrata airport reviewed included latest development construction project new passenger terminal two side signed cooperation agreement misrata municipal cooperation businessmen would establish departure hall replace one burned fire according design specification approved laa completion implementation new terminal according agreement municipality undertake periodic maintenance work necessary terminal throughout period exchange collecting revenue collected rent office shop cafe restaurant service direct supervision followup airport management',\n",
              "       'ten entrepreneur tawergha win total u grant develop conflict covid affected business ten entrepreneur tawergha whose business affected conflict covid participated restartup marathon received total lyd u grant develop business undp reported yesterday twoday marathon organized undp fund government japan aim helping entrepreneur rebuild business reunite community achieve economic recovery libya panel expert selected ten entrepreneur small business owner diverse background awarded awardees working varied field including date molasses production brick factory physiotherapy centre library printing service pastry shop gas provider next month entrepreneur work support undp restart business creating job tawergha award ceremony undp resident representative mr gerardo noto stated would like congratulate awardees',\n",
              "       'russian oil company tatneft considering return libya russian oil company tatneft examining possibility resuming operation libya ceased work following revolution february medium east monitor website reported company wished return resume production exploration operation several location libya according chairman board director tatneft rustam minikanov presently examining possibility returning four exploration site libya',\n",
              "       'gecol resume work ubari power plant project general electricity company libya gecol discussed wednesday completion ubari gas power station project order operate first second turbine capacity megawatt gecols meeting dealt measure procedure related project discussing difficulty obstacle facing work team gecol announced last october operation material transferred warehouse station preparation operating two turbine',\n",
              "       'economist libya amongst fastest growing country world economist newspaper estimated libya would achieve gdp growth rate next year making amongst ten fastest growing country world particularly since recovery oil gas production country economist confirmed report growth next year high growth rate libya mirror modest recovery disaster war ranked libya third macau fastest growing country gdp followed guyana second place estimated growth rate',\n",
              "       'oil dividend could turn libya north africa norway libyan oil production surge country noted important oil reserve world term quality middle east expert fawaz gerges professor international relation london school economics told arab news country important oil reserve world term quality nothing prevent becoming norway north africa said referring wealthy scandinavian country far outstrips rest europe apart russia term oil production',\n",
              "       'eni cut dividend virus crisis era quarterly profit eni also reduces output forecast amid capitalspending cut eni spa reported secondquarter loss reduced dividend coronavirus crisis sent oil price plunging italian giant one several european energy major reporting result thursday hurt slumping demand crude fuel government imposed lockdown contain virus consumption fell particularly sharply home market first european economy crippled pandemic enis adjusted net loss million euro million quarter compared profit year earlier romebased company said statement analyst estimated billioneuro loss eni see fullyear dividend euro cent share compared expectation euro cent back february',\n",
              "       'revenue dispute threatens libyan oil export libya resurgent oil supply facing new threat amid standoff rival faction country financial establishment conflictwracked country surprised global oil market past two month ramping production idle since start year beginning december reported libya producing million barrel oil per day enough concern policymakers opec libya member row control libyan foreign bank lbf body charged receiving money oil sale transferring proceeds country central bank threatens block receipt oil revenue bring production standstill',\n",
              "       'libya say oil blockade cost billion lost revenue libya lost nearly billion revenue due monthslong oil blockade imposed easternbased force country national oil company said thursday past year warlord khalifa hifter selfstyled libyan national army fighting internationally recognized government national accord gna control capital tripoli january eastern tribesman loyal hifter closed several major oil port field accusing unbacked government using oil sale pay mercenary coming abroad april oil export statement thursday tripolibased national oil corporation said drop export led billion lost revenue would helped pay state expense pandemic called continuation oil production export support national economy protect consequence bankruptcy dependence foreign bank',\n",
              "       'distribution oil revenue dominate talk restart libyan output talk restart bulk libya crude output end eightmonth long blockade country oil export ongoing issue distribution oil revenue still ironed source close matter said sept negotiation making progress according source situation still volatile country remains fractured along eastern western line could see deal agreed restart output end week progress also realistic healthy dose skepticism said one libyabased source north african oil producer wracked conflict unbacked government national accord selfstyled libyan national army almost completely halted oil output jan eastern tribe supported lna halted export five key oil terminal dramatically reduced country crude production pushing lowest level since civil war',\n",
              "       'serraj government assigns ld bn municipality empowers raise local revenue faiez serraj tripoli government allocated ld bn municipality empowered local revenueraising power logo pcgna continuation flurry recent decree faiez serraj prime minister internationally recognized libyan government tripoli yesterday decreed decree assignment ld bn municipality government say part decentralization effort flurry decree five year time office seen attempt serraj soak anger libyan street manifested recent demonstration decree assigns percent money local development project one billion money raised foreign currency sale surcharge raised revenue earnt locally municipality',\n",
              "       'libya eastern region eye crude sale defiance tripoli libya eastern region led selfstyled libyan national army exploring way sell crude oil independently libya crude remains offline due oil blockade source told sp global platts week north african oil producer currently midst civil conflict unbacked government national accord gna lna almost completely decimated oil output libyan crude production fallen bd past week fallen million bd since lnaled oil blockade midjanuary began',\n",
              "       'deal daymergers acquisition dec reuters following bid merger acquisition disposal reported gmt tuesday canadian gold miner barrick gold corp moved closer asset sale target agreeing sell entire stake massawa project senegal teranga gold corp million libya national oil corporation noc said approved purchase france total marathon oil stake country waha concession german potash salt miner k said looking selling stake north american business ongoing cost cutting push would yield enough saving reach debt reduction target private equity firm centerbridge partner lp exploring sale versant health deal could value u managed vision care benefit company billion including debt people familiar matter said tech data corp goshop period looking alternative acquisition proposal ended company said paving way taken private apollo global management inc cboe global market said would take full control euroccp europe largest clearing house stock trade bolster postbrexit base amsterdam diversify derivative eat rejected raised takeover offer dutchbased technology group prosus significantly undervalued company said continued back rival allshare offer takeawaycom',\n",
              "       'esdf reform include cancellation portfolio dissolution company libya state economic social development fund esdf announced yesterday intention implement several reform including cancellation investment portfolio esdf said aim cancel investment portfolio meant libya unemployed lowincomed stratum paying people control monitoring proven either holding job meet low income threshold many individual esdf monthly payment suspended cancelled result filed lawsuit fund dissolution company addition esdf discussed dissolution company reintegration others well changing activity company whose management budget associated enjoyment high benefit wage little work esdf revealed continue report reform official medium platform analysis esdf established qaddafi regime aim invest libyan people wealth mostly internally establishment financing strategic economic project tourism real estate industry oil gas well others',\n",
              "       'libya approves total purchase stake waha concession cairo reuters libya national oil corporation noc said tuesday approved purchase france total marathon oil stake country waha concession french company committed invest million increase production around barrel per day bpd noc said statement noc examining million deal percent stake waha closed march considering whether intervene successful negotiation total pleased report noc approves deal statement quoted noc chairman mustafa sanalla saying gave two reason approval first investment commitment second million signing bonus paid total allocated corporate social responsibility noc owns waha concession',\n",
              "       'libya purchase u million worth coronavirus vaccine tripolibased libyan audit bureau approved contract tripolibased libyan health ministry purchase anticoronavirus vaccine worth u million tripolibased state lana news agency revealed yesterday report specify many vaccine amount would secure quickly eleven manufacturer currently developing potential vaccine contract size type would usually take month year processed audit bureau audit bureau would also usually require detailed pro forma invoice detailed product specification prior final approval',\n",
              "       'recession inflation haunt libyan libyan national currency lost value since beginning loss attributed weakness libyan macroeconomic foundation also directly connected low oil export restriction central bank libya imposed selling foreign currency beginning december libyan dinar ld recorded exchange rate ld usd parallel market current exchange rate compared ld rate end year parallel market exchange rate close official taxed counterpart',\n",
              "       'central bank libya inflation rate skyrocketed first half central bank libya issued annual economic index first half showing serious hike inflation january june compared period entire really explains rocketing price level libyan market cbl index show deficit expenditure hit billion dinar last year billion also explains revenue budget january june amounted billion dollar million dinar nonoil revenue million dinar oil revenue compared billion dinar last year billion dinar regard cash crisis cbl index said billion dinar outside second quarter year additional million dinar compared first quarter adding deposit bank reached billion dinar end second quarter saving deposit billion dinar',\n",
              "       'october cost libya minimum expenditure basket increased rent liquidity problem continue report october cost overall minimum expenditure basket meb libya increased finding come latest report joint market monitoring initiative jmmi jmmi created libya cash market working group cmwg june effort inform cashbased intervention better understand market dynamic libya initiative led reach supported cmwg member funded office u foreign disaster assistance ofda united nation high commissioner refugee unhcr meb represents minimum culturally adjusted group item required support fiveperson libyan household one month cost meb used proxy financial burden facing household different location',\n",
              "       'ld bn cbl loan cover budget deficit october tripoli central bank libya cbl loaned libyan government ld bn cover budget deficit october cbl revealed latest monthly statistical bulletin released yesterday revenue totalled ld bn total outgoings ld bn revenue total oil revenue ld bn tax revenue brought ld million custom revenue earnt ld million state telecom revenue ld million cbl profit contribution budget ld million sale local fuel brought ld million revenue brought ld million jihad tax earnt ld million',\n",
              "       'cbl loan tripoli ld bn cover budget deficit tripolibased central bank libya cbl granted internationally recognized government tripoli loan ld bn cover ld bn budget deficit news revealed cbls latest economic bulletin may cbl revealed oil revenue paltry ld bn five month end may total revenue coming ld except cbl profit ld telecom revenue still mysteriously zero tax ld custom ld local fuel sale ld revenue ld projection foreign currency sale levy earnt ld outgoings total outgoing came ld statesector salary responsible percent total budget outgoings ld bn operational cost came percent ld project percent ld statesubsidies percent ld bn emergency budget percent ld bn',\n",
              "       'ld bn cbl loan make budget deficit latest statistical bulletin libya state revenue outgoings tripolibased central bank libya cbl revealed loaned libyan government ld bn make deficit period total oil nonoil revenue came ld ld oil revenue first eight month year ld bn ld projection tax revenue ld million ld projection custom revenue ld ld million telecom revenue ld million million cbl profit contribution ld local fuel sale contributed ld ld revenue contributed ld ld jihad tax brought ld ld bn set aside foreign currency sale surcharge project development expenditure outgoings spending statesector salary ld bn ld million making percent budget spending operational spending ld bn percent ld spending project development bn set aside foreign currency sale surcharge ld percent ld subsidy took ld percent ld emergency budget took ld bn percent ld bn',\n",
              "       'ld bn cbl loan cover libya budget deficit january april period cbl tripoli based central bank libya cbl reported wednesday libya oil revenue period ld bn ld million budget estimate ld bn tax brought ld ld projected estimate ld custom duty brought ld projected ld telecom revenue inexplicably brought zero revenue projected ld cbl profit projected ld local fuel sale brought ld projected ld revenue brought ld ld projected ld brought total revenue ld bn ld projected ld bn ld million foreign currency sale levy spent project cbl reported cover shortfall cbl gave libyan government deficit loan ld bn regard outgoings statesector salary usual far largest single item percent total budget outgoings ld bn ld projected ld bn operational expense percent ld million ld projected ld bn project expenditure percent ld projected ld ld ld bn spent subsidy percent overspend ld projected ld bn',\n",
              "       'libya unfreezes state asset seized italian company state lawsuit administration libyan supreme judiciary council said litigation committee tackling lawsuit abroad managed unfreeze state asset italian company several italian bank bringing home million euro administration said facebook money unfrozen sacco kova conicos firm unicredit abc cba bank italy saying million euro debt interest litigation case international chamber commerce paris issued recognized rome november rome tribunal annulled seizure made firm libyan asset libyan embassy consulate rome ubi bnl bank account judicial immunity libyan money increased firm seizing state asset different bank thus interest increased behavior firm administration indicated debt paid libyan authority state asset cannot seized libyan embassy abroad shouldnt use bank account transaction dont relate mission work avoid seized party demanding debt libya',\n",
              "       'libya alghani oilfield production capacity reach bpd noc cairo reuters libya alghani oilfield western sirte basin returned production monday rate barrel per day bpd first stage libyan national oil corporation noc said facebook noc added oilfield production capacity coming period reach bpd closed oilfield operated harouge oil operation producing bpd islamist militant attacked march',\n",
              "       'libyan oil production top million bpd sector make fast recovery libyan oil production reached million barrel per day bpd libyan oil source told reuters friday opec member oil industry recovers faster expected latest headline follow google news channel online via app north african country national oil corporation noc said november production reached million bpd libya oil output rising steadily since gradual lifting eightmonth blockade eastern force september october noc ended force majeure last facility closed blockade read coronavirus global oil demand unlikely get vaccine boost late say iea russia putin appoints new energy minister replacing alexander novak opec expects coronavirus hinder oil demand recovery earlier week noc chairman mustafa sanalla said output could reach million bpd within month could challenge libya produce significantly million bpd repeated shutdown since civil war erupted limited investment infrastructure curtailed production capacity',\n",
              "       'libya oil output million barrel day toughens opec task libya boosted oil output million barrel day inching closer level producing country civil war shut energy industry january opec member home africa largest crude reserve ramped production output biggest oil field including sharara waha increased according person familiar situation asked identified information isnt public thats first time libya reached landmark since early january country producing million barrel day country energy sector mostly shuttered month khalifa haftar russianbacked commander based east blockaded port field haftar battling united nationsrecognized government prime minister fayez alsarraj lifted blockade midseptember winding hostility june additional libyan barrel unwelcome challenge opec coalition organization petroleum exporting country producer russia',\n",
              "       'libya reviving oil output pass millionbarrel milestone production reach highest level since december amid truce libya boosted oil production million barrel day milestone north african country civil war shut energy industry start year opec member owns africa largest crude reserve ramping production since truce took hold last month rival military force pumping barrel day last week staterun national oil corp reported website saturday output exceeds millionbarrel level since december libya produced le barrel day early september resurgence taken oil trader surprise put pressure crude price renewed coronavirus lockdown europe stifle energy use benchmark brent crude slumped year ended week barrel',\n",
              "       'libya oil production pass million barrel mark libya crude oil production exceeds one million barrel per day mark country state national oil corporation noc announced today reported production barrel day noc thanked god employee oil sector different part libya managed accomplish huge achievement could never achieved without intensified exceptional effort exerted difficult circumstance particularly current financial circumstance sector go added face big financial difficulty huge shortage budget led accumulating debt sector company significant delay salary service company however warned may able sustain current production level level may reduced totally ceased reluctance entity hindering noc effort increase production restore prosperity national economy name entity',\n",
              "       'libya oil production reached barrel per day libya production crude oil reached barrel crude oil per day barrel earlier month according reuters development came national oil corporation announcement lifting force majeure el feel oil field complete end closure libyan field port source added oil production libya halted eight month militia warlord khalifa haftar closed oil facility caused loss country exceeding billion dollar',\n",
              "       'noc open new sinoun oilfield west libya libya state national oil corporation noc announced friday official opening sinoun oilfield mn near nalut western libya oilfield development since discovery start drilling noc said total well drilled well going developed sinoun managed benghaziheadquartered arabian gulf oil company agoco noc chairman mustafa sanalla said proof libya one unit one institution initial phase sinoun expected produce barrel per day increasing maximum bpd upon full development',\n",
              "       'libya gecol reopens gas pipeline sidi alsayeh general electricity company libya gecol said tuesday reopened sidi alsayeh gas pipeline feed power generation unit western libya gecol said statement replace feeding generation unit western libya light fuel oil natural gas finalizing needed preparation reactivating shutdown unit reopening gas pipeline help stabilize power network feed power generation unit area gecol added called area vandalize necessary mean life libyan water electricity damage inflicted libyan citizen across whole country armed group affiliated khalifa haftar closed gas pipeline april sidi alsayeh causing two total blackout western region april',\n",
              "       'gecol review plan reconnect eastwest public grid general electricity company libya gecol planning carry essential maintenance upgrading work power line running east west wing national public grid repair work part government plan increase production capacity order reduce duration power cut statement medium department government national accord gna said sunday vice president presidential council ahmed maiteeq held meeting head ceo gecol sunday discus company plan regard gecol official weam alabdali ibrahim alfalah reviewed meeting work carried far step taken maintain operate sarrir plant production capacity megawatt lead stability public network reduce hour power cut eastern western wing public grid divided since reconnecting process bring stability network help reduce load shedding hour especially western part country',\n",
              "       'restart wahas first phase faragh project delivers gas sarir power station waha oil announced wednesday november start first phase project pump gas faragh field sarir power station waha reported faragh field one parent company national oil corporation strategic project largest completed project libyan oil gas sector hailed successful maintenance work light corona pandemic lack adequate budget culminated restarting first phase faragh gas plant despite month hiatus work said project important vital aspect supporting national economy waha said november opened valve first phase kilometer line pump gas sarir power station instead using relatively expensive diesel saving state general electricity company libya gecol lot money addition environmentally friendly meanwhile gecol said supply gas sarir power station qualitative transformation enables reduce exorbitant cost using fuel subsequent transportation expense sarir power generation unit consumes million litre fuel daily',\n",
              "       'amcham libya launch new membership drive interested business libya amcham libya facilitates business u libya goal promotion vibrant libyan economy protecting advancing interest member community whole amcham libya director debbie hirst told libya herald yesterday libya commercial potential hirst still libya today despite war tripoli covid outbreak explained drawn libya lived ever since fantastic combination economic driver libya great need investment almost every sector great need investment almost every sector country intrinsic wealth country beautiful conveniently strategically located population talented business people youth craving knowledge experience top brand america strong libya american good service reputation quality libyan want buy american',\n",
              "       'joint venture libya national oil corp italy eni cairo reuters libya national oil corporation noc said thursday mellitah oil gas joint venture italy eni losing barrel per day oil due blockade libya oil port field mellitahs abu attifel el feel field shut blockade started jan mellitah also losing million standard cubic foot per day gas total daily loss revenue million noc said',\n",
              "       'southern libyan oil field face closure pipeline blockaded cairo reuters libya largest oil field second major field southwest began shutting sunday force loyal military commander khalifa haftar closed pipeline connecting coast national oil corporation noc said closure come blockade major eastern oil port risked taking nearly country oil output offline international leader met berlin peace summit libya libya producing around million barrel per day bpd oil recent month major field lie area controlled haftars easternbased libyan national army lna noc said guard lna command shut pipeline leading coastal city zawiya sunday forcing corporation limit oil production sharara el feel oil field el sharara operated noc joint venture spain repsol france total austria omv norway equinor production around bpd el feel operated noc italy eni produce bpd',\n",
              "       'libyan eastern force say closing oil port huge step people cairo reuters closing libya oil port huge step libyan people spokesman libyan force loyal easternbased commander khalifa haftar said friday spokesman ahmed almismari said libyan people one closed oil port field prevented oil export added protect people allow anyone threaten libyan people source state oil firm noc told reuters friday oil export eastern central libyan oil port would shut saturday ordered libyan national army lna faction khalifa haftar control east central libya',\n",
              "       'libya noc declares force majeure mellitah crude oil loading londoncairo reuters libya national oil corp noc declared force majeure loading mellitah crude oil el feel oilfield shutdown last week six industry source knowledge matter said monday barrel per day el feel oilfield contributes libya mellitah crude oil blend along condensate wafa field el feel taken offline dec valve pipeline mellitah export terminal blocked field operated joint venture noc italy eni',\n",
              "       'libya oil export percent noc libya state national oil corporation noc yesterday reported oil export percent since country oil blockade blockade imposed since january attributed khalifa hafter force ally noc said revenue amounted u billion march collection revenue sale made january said drop export caused huge loss national economy added oil product also decreased zero march result refinery shut due illegal blockade natural gas production also decreased million cubic foot per day valve shutdown region sidi sayeh',\n",
              "       'loss due forced closure oil facility reach nine billion national oil corporation noc estimated loss revenue due forced closure khalifa haftars militia oil installation since january nine billion dollar noc said friday recorded loss estimated within time span day disruption production export operation throughout libya warlord haftar using oil facility political card losing war tripoli',\n",
              "       'libya brega operation suspended tripoli due nearby tripoli reuters libya brega petroleum marketing company bpmc said saturday suspended operation evacuated staff tripoli warehouse intensity clash shelling city brega owned state oil firm noc charge fuel supply said statement forced activate complete evacuation plan order ensure safety employee said fuel supply immediately affected evacuation without giving detail heavy artillery could heard tripoli city center friday easternbased libyan national army lna khalifa haftar launched offensive april take control tripoli home internationally recognized government national accord libya divided rival faction based tripoli east since stable central government since natobacked uprising overthrew muammar gaddafi',\n",
              "       'libya noc may evacuate zawiya refinery due fighting nearby tripoli reuters libyan state oil firm noc considering closure western zawiya port evacuating staff refinery located due clash nearby statement said saturday noc might also shut el sharara oilfield whose crude exported via zawiya port statement said clash armed group broken recent day around zawiya missile almost hit oil complex force allied libya internationally recognized government friday accused eastern force loyal khalifa haftar tried strike oil port complex haftars force trying take capital tripoli km east zawiya campaign since april zawiya libya biggest functioning refinery serving capital tripoli located km east well region west south country',\n",
              "       'conocophillips sharply cut oil production low price hit earnings reuters u oil gas company conocophillips said thursday would sharply reduce oil production coming week aiming shut total output june amid weak energy price led loss billion first quarter world largest independent oil gas producer reduced production forecast two week ago plan curtail output barrel per day bpd may bring total cut bpd june lopping third pumped last year figure includes significant reduction company alaska oil gas production crude price crashed past six week coronavirus outbreak hit demand price war broke russia saudi arabia prompting company slash spending curb output crash crude price led houstonbased company report firstquarter loss thursday took big hit impairment falling value stake canadian producer cenovus energy conoco currently biggest shareholder cenovus stake according data refinitiv eikon unrealized loss stake billion quarter',\n",
              "       'tripoli government systematically exhausting foreign reserve cbl governor elkaber central bank libya cbl libya first last line defence country current economic crisis saddek elkaber governor tripoli cbl said statement came fourhour questioning session internationally unrecognized tripoli house representative monday tuesday october opening presentation governor criticised internationally recognized libyan government based tripoli led faiez serraj poor performance said oil blockade imposed khalifa hafter allied force tribe bullet head leading revenue loss ld bn claimed current security governance economic crisis country oil blockade political split recent war tripoli corona virus widespread corruption made difficult run normal economy added wise governance tripoli cbl thing would much worse par country like iraq yemen lebanon etc',\n",
              "       'unsmil congratulates cbl unification exchange rate unsmil yesterday congratulated board director central bank libya decision taken unify exchange rate yesterday longawaited meeting unsmil said decision important much needed step towards alleviating suffering libyan people good sign vital sovereign institution moving towards unification unsmil head stephanie williams stressed moment libyan particularly country political actor demonstrate similar courage determination leadership put aside personal interest overcome difference sake libyan people order restore country sovereignty democratic legitimacy institution cbl unified board meeting agrees new unified foreign exchange rate ld dollar libyaheraldcom geneva libyan economy reform meeting unsmil call critical decision within two day libyaheraldcom maetighafter proposal resume oil export analysis libyaheraldcom hafter announces permit restart oil production export fails withdraw force mercenary oilfield libyaheraldcom cbl unified board hold preliminary meeting libyaheraldcom',\n",
              "       'libya central bank board approves new official fx rate board libya central bank wednesday unanimously approved single official exchange rate dinar first joint meeting five year amid effort fix economy ravaged nearly decade conflict new rate set dinar per u dollar bank said statement facebook page move unified two different official exchange rate new rate go effect jan said describing meeting one marked spirit optimism prioritization national interest read also divided politics libya rival find economic middle ground meeting milestone rival central bank west east country came talk earlier week grouped economic policy maker well world bank u others decision different official rate well black market rate wreaked havoc national budget vital oil sector',\n",
              "       'price decrease percent dinar devaluation cbl expert price good service libya decrease next year percent citizen enjoy increase purchasing power end hard currency blackmarket misbah akkari member central bank libya cbl exchange rate adjustment committee told libyan television saturday december akkari former chairman libya largest bank jumhuriya bank said result devaluation unification libyan dinar official exchange rate starting january lengthy interview akkari said procedure condition obtaining dollar official capacity currently prepared exchange rate high responding wide public criticism committee set new official exchange rate ld per u dollar high akkari stressed fixed rate expected decline said reduction rational gradual harm anyone gradually reduce cost good service',\n",
              "       'cbl unified board meeting agrees new unified foreign exchange rate ld dollar reunified central bank libya cbl announced today agreed new unified official foreign exchange rate libyan dinar ld new rate effective january following preliminary december meeting cbl statement today said board increase meeting coming week seek solve various banking sector problem financial monetary safe sustainable manner new exchange rate set one u dollar ld previously numerous official exchange rate main one ld per dollar meanwhile two week ago blackmarket dollar exchange rate around ld dollar',\n",
              "       'libya central bank approves exchange rate lyd usd board director central bank libya approved wednesday recommendation technical committee endorsed new exchange rate libyan dinar lyd u dollar usd become per usd starting january decision made meeting board libyan central bank discussion centered recommendation technical committee deciding new fixed rate governmental commercial personal us central bank libya also said statement endorsement new exchange rate meeting coming week resolve banking sector problem achieve fiscal financial stability alleviates suffering libyan people',\n",
              "       'alkabir pc provision hard cash exchange put drain governor central bank libya cbl sadiq alkabir considered request presidential council pc provide exchange individual would result severe drain resource suggested apart drain could fact lead impoverishment present challenging financial circumstance country reply head pc fayaz alsarraj monday alkabir explained increase exchange rate black market result distortion economic structure need radical solution alkabir noted measure taken based declaration state emergency invalid unless necessary address cause particular state emergency initially passed',\n",
              "       'former tv repairman naker announces candidacy libya prime leader summit party abdullah naker announced intention run position prime minister next libyan government naker tv repairmanturnedmillionaire called libyan people recognize competence ability lead sensitive period libya history regarding method communication summit party attached described available telephone number along valid email address convenience',\n",
              "       'libya hold national election december un mission tripoli nov xinhua representative across libyan social political spectrum agreed hold national election december next year said un mission libya friday representative reached agreement libyan political dialogue forum inclusive intralibyan political dialogue platform said stephanie williams head un support libya virtual press conference forum launched auspex united nation shortly libyan party signed unsponsored permanent ceasefire agreement geneva oct aim discus political roadmap end yearlong conflict achieve lasting peace representative sixday forum reached preliminary agreement roadmap preparatory phase towards national election said william also acting special representative un secretary general libya said representative started outlining competency reformed presidency council government national unity participant talk taking step ensure candidate selection process asked adhere principle inclusivity transparency efficiency pluralism collegiality patriotism williams said',\n",
              "       'libya hold election december acting head un mission libya unsmil stephanie williams said friday participant libyan political dialogue forum lpdf held tunisia agreed hold constitutionallybased election december december libyan independence day important day libyan also critical day history libya williams said press conference adding time libyan democratically elect leader renew legitimacy institution williams added new presidential council unified government national unity formed stressing unsmil international partner propose impose specific name also praised joint military commission jmcs work reopen coastal road confirming jmc made already great stride resumption flight throughout country well full resumption oil',\n",
              "       'libyan hold national election december body group across libya political social spectrum participant talk agreed national election take place december acting un envoy stephanie williams told journalist virtual news conference important date libyan said day renew legitimacy institution said libyan feared entrenched foreign presence country much want reclaim sovereignty restore ballot box said',\n",
              "       'libya hold election december participant libyan political dialogue forum lpdf tunisia yesterday agreed hold constitutionally based election december news confirmed virtual press conference acting unsmil head stephanie williams yesterday said full pleased announce today participant libyan political dialogue forum agreed date national election libya december december libyan independence day symbolic day important day libyan also critical day history libya time occasion democratically elect leader renew legitimacy institution course work seek full enfranchisement including ability displaced home able vote ensure necessary security condition also full enabling high national election commission national body charged conducting election',\n",
              "       'libyan agree preliminary plan election un france libyan agreed unled talk wednesday plan hold election within month diplomatic effort grow end decade violence north african country delegate across libya reached preliminary roadmap ending transitional period organising free fair inclusive credible presidential parliamentary election interim un envoy stephanie williams told journalist talk tunisia aim create framework temporary government prepare election well providing service country devastated year war exacerbated coronavirus pandemic williams stressed need move quickly national election must transparent based full respect freedom expression assemblythe tunisia dialogue come alongside military negotiation inside libya fill detail landmark october ceasefire deal libya dominated array armed group two executive tripolibased government national accord product unled process legislature elected allied eastern military strongman khalifa haftar',\n",
              "       'libya hold election referendum held libyan constitutional committee agreed conducting parliamentary presidential election wartorn country case constitutional referendum cannot held committee member said friday omar boshah quoted libyan alahrar tv saying hold election popular referendum new constitution cannot held three day meeting libya constitutional track kicked tuesday egypt red sea resort hurghada third round talk previous january meeting committee agreed new constitution may approved simple majority exceeding vote committee consists member libya high council state tobrukbased house representative',\n",
              "       'libya official call constitution election proposed election date welcome must focus constitution said bachir alhaouch member high council state equivalent libya senate elected libyan official called saturday constitution approved national election held without challenging date poll announced day earlier libyan rival faction unled talk tunis agreed friday hold national election december united nation said raising hope end brutal decadeold conflict decision came fifth day political talk tunisia involving delegate existing state body group across libya political social spectrum proposed election date welcome must focus constitution said bachir alhaouch member high council state equivalent libya senate',\n",
              "       'moin kikhia announces candidacy libya unified executive authority moin kikhia founder libyan democratic institute ldi announced candidacy run proposed temporary unified executive authority submitted candidacy role prime minister proposed temporary unified executive authority kikhia tweeted friday urged proposed interim government nonpolitical technocratic representing unified libya humbled support already received kikhia added election scheduled held december th agreed libyan party kikhia businessman political activist one former supporter muammar gaddafi regime',\n",
              "       'libyan government expose haftars financial corruption document show illegal seizure state land property haftars military investment authority libyan government monday published two document implicating eastern warlord khalifa haftar corruption document published governmentled operation volcano rage showed illegal seizure state land property military investment authority economic arm haftars militia also revealed warlord illegally seized asset agricultural project investment project libya government earlier revealed haftars military investment authority signed agreement union italian fishing march italian fishing boat allowed fish libya territorial water return euro month year',\n",
              "       'libyand day misrata protest corruption poor service demonstrator libya third largest city rally express anger declining living condition dozen people rallied libya thirdlargest city misrata second consecutive day denounce corruption deteriorating public service protest monday came day hundred people took street misrata gathered capital tripoli voice anger similar concern',\n",
              "       'political instability affecting credit access libya monetary crisis currently entangling libyan family reached unprecedented level late credit access libya become major issue almost comparable ongoing civil war began difference latter somewhat declined whereas former become rampant issue ever one main factor contributed lack credit access libya precarious political scenario effectively held country hostage political stability necessary kickstart economy libya struggling achieve ever since libyan political agreement reached skhirat december libyan living divided problematic system eastern part country controlled house representative based tobruk supported field marshal khalifa haftar libyan national army conglomerate political military force support recognize government national accord tripoli established agreement international support',\n",
              "       'analysis obama struggle contain libya backlash president barack obama struggling contain political backlash u military role libya facing sharp question united state extract yet another war president return washington latin america wednesday needing tamp criticism mounted absence fiveday foreign tour began day u missile sent flying libya many president fellow democrat republican complain properly consulted usled assault muammar gaddafi force began questioned legal basis conflict lawmaker demanding answer precise goal mission long take much cost vital u national security interest',\n",
              "       'libya political dysfunction enters uncharted territory month united nation negotiator racing settle feud competing government libya rivalry crippled oil industry provided foothold islamic state plunged country civil war tuesday mandate one two rival parliament one recognized western power lapsed lawmaker could endorse proposed unity government libya dueling government left without clear legal standing international backing failure warring party support un peace proposal threatens usbacked effort stabilize libya push country uncharted territory today neither government claim legal legitimacy making libya largest piece terra nullius vacuum sovereignty earth said jason pack researcher libyan history cambridge university president libyaanalysis com',\n",
              "       'human right watch libya incapable holding election libya ready hold free fair election campaign group human right watch hrw warned country rival authority planning hold parliamentary presidential election later year date set united nation european union support upcoming vote hrw worry voter candidate political party risk coercion discrimination intimidation ballot go ahead usbased right group think condition needed free fair election hard meet north african state thrown chaos following overthrow muammar gaddafi',\n",
              "       'libya fragmentation structure process violent conflict overthrow qadhafi regime libya witnessed dramatic breakdown centralized power countless local faction carved country patchwork sphere influence leader one armed coalition khalifa haftar managed overcome competitor centralize authority eastern libya attempt seize power capital tripoli failed due tenacious resistance dozen armed group western libya ultimately defeated turkish intervention rarely internal division political fragmentation occur radically libya primary obstacle reestablishment central authority book analyzes force shaped country trajectory since based hundred interview key actor conflict show war transformed preexisting social structure book place social tie actor centre analysis explores link violent conflict social cohesion',\n",
              "       'mayor call election february express lack confidence current political dialogue twentynine elected mayor city region across libya called libya political authority hold election february expressed lack confidence current ongoing political dialogue talk also accused current political elite prolonging stay power mortgaging libya sovereign decision outsider call came form statement issued mayor met municipality central tripoli thursday october statement said mayor municipality gathered capital tripoli thursday october gained constitutional legitimacy derived free fair election goal contribute building nation advancement achieve justice right duty among son one nation',\n",
              "       'supporting democratic transition fair election inclusive election one basic tenet legitimate democracy fragile new democracy libya ensuring election outcome truly represented nation diverse population need steep challenge advance national election would choose representative draft new constitution libyan government gave high national election commission hnec mandate use mobile technology tool advance widespread voter registration electoral participation hnec partnership united nation support mission libya international organization migration engaged reboot design deploy platform tool support inclusive election collaboration world first mobilebased registration system deployed december system facilitated voter registration million citizen within libya diaspora country continued use today',\n",
              "       'libya talk reach election breakthrough un say political talk libya future reached agreement holding election within month united nation acting libya envoy said wednesday hailing breakthrough peacemaking process still face great obstacle there real momentum thats need focus encourage envoy stephanie williams said news conference tunis libyan participant chosen united nation meeting since monday meeting reached preliminary agreement roadmap free fair inclusive credible parliamentary presidential election also includes step unite institution said',\n",
              "       'gna haftar representative agree hold election libya within month libya warring side agreed wednesday hold election within month according head un support mission country decision came unsponsored libyan political dialogue forum lpdf began monday tunisia representative internationally recognized libyan government putschist gen khalifa haftar participant constituting delegate total reached preliminary agreement end transition period hold transparent election un support mission head stephanie turco williams told reporter participant lpdf reached preliminary agreement road map ending transitional period organizing free fair inclusive credible parliamentary presidential election williams said',\n",
              "       'world power free billion rebuild libya world leader thursday agreed free billion frozen asset help libya interim ruler restore vital service start rebuilding sixmonth war ended year dictatorship first address world since rebel force overran tripoli last week drove muammar gaddafi libya interim leader thanked western power backing revolt urged libyan ensure peaceful transition france britain power sitting talk national transitional council ntc year day gaddafi seized power coup vowed keep military backing long needed said focus reconstruction committed unblock fund libya past finance development libya future french president nicolas sarkozy told news conference',\n",
              "       'postwar reconstruction plan libya assessment trip planned within two week turkish bank company rebuild postwar libya secure energy infrastructure people familiar plan informed reuters turkish state lender plan help set libya banking system assist organizing payment channel turkey key libyan import separately meeting libyan business head turkish manufacturer food medicine good expected rescheduled soon coronavirusrelated delay said murtaza karanfil head turkeylibya business council foreign economic relation board turkey pundit believe libya one important crisis watch russia turkey involvement country endowed africa largest oil reserve turkey supporting tripoli repel month assault renegade general khalifa haftar according agency report turkish drone used back militia aligned unrecognized government national accord gna inflicting heavy loss early june prompting haftars force retreat renegade general declared early june ready stop fighting enter talk haftar announced ceasefire cairo presence egyptian ally president abdul fattah elsisi',\n",
              "       'eu unodc unicri launch anticorruption money laundering project libya european union collaboration united nation office drug crime unodc united nation interregional crime justice research institute unicri launching new project entitled building libya national capacity prevent combat corruption money laundering eu announced yesterday eu reported project train libyan authority law enforcement agency enable better combat corruption financial crime authority also trained technique trace confiscate recover asset linked crime project last three year funded european union million euro european union said reinforcing work libyan international partner strengthen transparency accountability libya new project complementary initiative financed european union aimed improving governance national local institution contribute fair transparent management public fund libya',\n",
              "       'libya first free election year saturday marked first free election libya half century country face daunting problem lack stability growing social division say libyan political scientist mustafa elfituri supreme election commission initially announced postponement libya parliamentary election setting date july justified decision logistical administrative ground shortly vicepresident commission resigned protest alleged violation law election body reality however postponement result abovementioned difficulty due instead libya complex political situation question libya even conduct free fair election',\n",
              "       'libya eastbased army call free fair election eastbased libyan national army lna seek free fair election reflect libyan people spokesman eastbased army ahmad almesmari said sunday speaking reporter press conference cairo almesmari noted libyan crisis mainly security rather political issue eastbased army leading military campaign since early april attempting take capital tripoli unbacked government fighting killed injured thousand people forced civilian flee home rival agreed ceasefire jan however party exchanged accusation breaching truce',\n",
              "       'unled talk elect libyan transitional government eu hail milestone eu hailed milestone libya embarked saturday february new phase postgaddafi transition interim executive selected lead country december election following decade chaos potential turning point accord widely welcomed international community four new leader libya west east south face task unifying nation torn apart two rival administration countless militia abdul hamid dbeibah yearold engineer selected friday interim prime minister libyan delegate unled talk outside geneva culmination process dialogue launched november marked start new chapter libya failure unbrokered deal established government national accord headed fayez alsarraj libya mired violent turmoil division gna tripoli rival administration backed military strongman khalifa haftar east',\n",
              "       'new libya interim government agreed un talk mohammad younes menfi chosen head threeperson presidential council abdul hamid mohammed dbeibah chosen interim prime minister un sponsored talk produced new interim government libya friday aimed resolving decade chaos division violence holding national election later year mohammed almenfi former diplomat benghazi head threeman presidency council abdulhamid dbeibeh western city misrata head government prime minister libya engulfed chaos since natobacked intervention ended muammar gaddafi fourdecade rule split since warring administration backed foreign power west east',\n",
              "       'libya regime change nightmare eight year start usled military intervention overthrow moammar gaddafi promote stability libya still wracked civil war ironically violence next day forced u evacuate remaining forcesthere diplomatic security counterterrorismfrom volatile country ever since collapse old regime gaddafi violent death libya split among rival militia since two wouldbe national government government based tripoli enjoys international recognition western support government eastern libyan city tobruk benefited support egypt saudi united arab emirate leader tobruk government force khalifa haftar former exile one point u reportedly backed maintaining tie cia returned libya war served head new army first postgaddafi government haftar broke engaged fight take control eastern libya oppose government tripoli ever since',\n",
              "       'libya ten year revolution challenge still heavy ground libyan prime minister abdel hamid dbeibah appointed february libyan dialogue forum lead new transition period announced would appoint member government expiration day deadline period according prime minister press office government specialist represent libyan however location upcoming inauguration government creating controversy parliament person chair session also problematic weakening deeply divided institution like divided parliament two preparatory meeting endorse next government held monday february two separate location tobruk official seat parliament sabrata first time split tripoli deputy libyan west used meet sabrata chosen time guarantee security several deputy east',\n",
              "       'struggle power libya sarraj bashagha come open competition likely change balance force western region struggle power within libya presidential council government national accord gna prime minister fayez alsarraj interior minister fathi bashagha reached new peak libyan political source described conflict case two men competing please turkey expected competition change map balance power western libya term reducing growing power group coming city misrata bashaghas hometown least make accept new reality would change authoritarian behaviour outraged fathi bashaghas memo gnas minister transport miled maatoug requiring seek prior authorisation minister interior private regular commercial flight libyan airport fayez alsarraj issued counter order ministry government agency public company institution instructing ignore bashaghas order',\n",
              "       'libya security chief suspended escalating power struggle libya presidential council suspended interior minister allegedly encouraging anticorruption protest move threatens escalate power struggle month devastating war internationallyrecognized government said statement late friday fathi bashagha removed pending investigation bashagha responded saying cooperate long hearing held public tripoli libyan capital recently emerged month siege force eastern military commander khalifa haftar who backed russia egypt u e turkish intervention helped repel troop north african country divided rival camp economy tatter protest taking place deteriorating service graft',\n",
              "       'libya national army commander haftar accepts popular mandate rule country region world libya national army lna commander khalifa haftar said monday libyan national army lna accepting popular mandate rule country apparently brushing aside civilian authority nominally govern eastern libya haftar launched war year ago grab capital tripoli part northwest libya already widely understood control parallel administration rule east spell brief televised speech monday form new power structure would take wider political ramification immediately clear libya split since area controlled government national accord gna tripoli northwest territory held easternbased force benghaziwe announce general command answering people despite heavy burden many obligation size responsibility subject people wish said although lna advanced last year southern suburb tripoli bombarding capital frequently lost ground progna force fighting month',\n",
              "       'new libya interim government agreed un talk un sponsored talk produced new interim government libya friday aimed resolving decade chaos division violence holding national election later year mohammed almenfi former diplomat benghazi head threeman presidency council abdulhamid dbeibeh western city misrata head government prime minister libya engulfed chaos since natobacked intervention ended muammar gaddafi fourdecade rule split since warring administration backed foreign power west east however many faction country afraid surrender influence already hold foreign power invested local ally new government may rapidly come pressure appeal everybody recognize accept result work new authority elected un secretarygeneral antonio guterres said appointment new government may also little change balance military power ground armed group rule street faction remain split east west along fortified front line',\n",
              "       'undp promoting clean energy solar streetlight libya united nation development programme undp promoting clean energy solar streetlight libya come part wider remit achieve eradication poverty reduction inequality exclusion protecting planet help country develop policy leadership skill build resilience order sustain development result current strategic plan responding wide diversity country several issue classified three development context order better focus resource expertise deliver agenda sustainable development goal undp defined set approach called signature solution include poverty governance resilience environment energy gender energy solution undp say access clean affordable energy critical enabler sustainable development whether nutrition transport education economic opportunity end working increasing energy access promoting renewable energy enhancing energy efficiency manner inclusive responsive need different sector population line seventh sustainable development goal sdg ensure access affordable reliable sustainable modern energy',\n",
              "       'busleem municipality installs solar road light part larger experiment municipality busleem announced installed solarpowered road light last friday part experiment wider use said experiment main road come framework effort find alternative solution problem lack street lighting area enter use alternative solar energy light installed rural sidi sleem road link airport road kremia road municipality said experiment succeeds solar lighting rolled main road hay alandalus launch solar streetlight project plan install light hay andalus municipality jumhouria bank discus islamic loan domestic solar system undp help install solar street light part sustainable development harnessing clean energy undp installs solar panel libyan hospital plan sirte oil company installs solar power source hawari cement factory implement csr project iom discus solar power security directorate tunisian border crossing noc discus improved productivity maintaining oil reservoir solar power repsol foundation stone laid megawatt solar power project kufra implemented chinese usaid unsmil undp world bank install solar system power mmr provide electricity south libya',\n",
              "       'first kind libya parking lot generating electricity home business well government utility accelerating shift away fossil fuel energy continuing power cut problem persisted past year despite repeated promise consecutive government crisis could major driver renewable energy market solar rich country libya solar energy research center csers tajoura municipality east tripoli agreed deal alhandasya electromechanical engineering company specialized renewable energy develop parking lot designed produce electricity via solar energy ceo project executing company engineer almabrouk saleh said statement libya observer project first kind libya one pioneering project african continent car parking space serve employee visitor csers besides generate around kw electricity exclusively solar energy sufficient provide home electricity needsthe system could also linked public grid power center working hour alhandasya ceo said',\n",
              "       'unsmil concerned death sentence issued eastern libya united nation support mission libya unsmil expressed concern regarding recent issue death sentence military court eastern libya unsmil indicated received information issuance least death sentence supreme court benghazi four others albayda court stressing considered probable violation obligation libya international humanitarian law mission added statement particularly concerned report speed handing sentence fact defendant permitted present defense court examine alleged evidence accusation waged noted judgment made incamera without provision written ruling accused denied legal representation',\n",
              "       'undp renovation two hospital provision medical equipment united nation development program undp libya announced renovation two hospital greater tripoli provision medical equipment health center icu ambulance kidney clinic undp explained support come implementation agenda sustainable development includes ensuring healthy life wellbeing people age according statement made friday undp provided assistance ministry health government national accord respond coronavirus pandemic providing equipment early virus detection',\n",
              "       'undp ministry health launch telemedicine initiative united nation development program undp launched telemedicine initiative libya partnership ministry health speetar private project press conference health ministry highlighted advantage telemedicine especially light current circumstance caused coronavirus pandemic one biggest connecting patient doctor without need facetoface physical assessment telemedicine consultation person receiving treatment could obtain medical support information headon specialist electronic communication would also reduce burden travel mobility people suffering chronic disease besides elderly need regular health monitoring conference telemedicine put test via speetar application evaluate platform reliably measure effectiveness according ministry statement',\n",
              "       'first libyan telemedicine ppp initiative launched undp part coordinated effort facilitate improved access healthcare people libya successful example privatepublic partnership ppp united nation development programme undp support government japan partnered libyan private sector startup company speetar ministry health develop first telemedicine initiative libya initiative launched yesterday ceremony tripoli live demonstration undp explained telemedicine involves innovative use telecommunication technology provision healthcare service vulnerable population especially live hardtoreach area far healthcare provider use telemedicine narrow gap extend reach recently experienced rapid growth many part world healthcare provider patient consistently look alternative solution undp expects telemedicine initiative engage around patient specialist process virtual consultation eprescriptions significant proportion libya population access good quality healthcare especially live rural area',\n",
              "       'minister health examines possibility hiring medical delegation ministry health government national accord gna headed director medical affair department discussed sudanese ambassador libya osman mohamed albashir wednesday possibility acquiring medical aid personnel sudan work libyan hospital ministry health said statement official facebook page come part strategy strengthen health sector medical personnel exchange experience pointing sudanese ambassador expressed absolute preparation cooperate matter provision doctor nurse',\n",
              "       'ncdc set date seasonal influenza vaccination national center disease control ncdc set november date begin distribution seasonal influenza vaccination ncdc circulated instruction supervisor vaccination program region city libya informing necessity prepare implementation seasonal influenza vaccination year informed target group vaccination health worker expectant mother elderly people age year addition people suffer chronic disease diabetes respiratory illness heart disease relevant disease nervous system',\n",
              "       'ministry labour discus youth support program undp minister labour rehabilitation almahdi alamin discussed sunday deputy resident representative united nation development program libya gözde avcilegrand strengthening joint cooperation discussion centered around preparing program support young people raise awareness importance using technology achieve sustainable development raise capability area training vocational training medical medical auxiliary element renewable energy according ministry meeting reviewed area training libyankorean center possibility providing support develop mechanism list vocational education training output link labour market meeting concluded formation joint work team conduct study occupational violence work establish business incubator woman cooperation specialized international organization',\n",
              "       'unicef open school zara rehabilitation unicef completed rehabilitation alzohoor school zara municipality south tripoli providing access improved education environment nearly girl boy occasion official completion inauguration ceremony took place may according unicef statement unicef said school original building destroyed heavily damaged war led khalifa haftars force tripoli added renewal happened umbrella twoyear work plan ministry education libya unicef saying school underwent full fivemonths maintenance reopening school one three school rehabilitated tripoli unicef yearrehabilitation also underway two school tripoli bring number benefiting student nearly child',\n",
              "       'twelve dead missing migrant returned libyan capital un agency tripoli reuters least five migrant died seven missing coast guard returned others libya capital tripoli wednesday fighting raged un migration agency said maltese commercial vessel rescued migrant inflatable boat handed libya coast guard brought naval base tripoli allowed disembark delay several hour international organization migration said uncertainty whether migrant intercepted libya coast guard would able dock tripoli last week group migrant prevented disembarking overnight shelling port citywe clarity procedure followed followed ioms libya office said email hundred migrant continue attempt crossing libya towards italy though italy declared port unsafe coronavirus epidemic',\n",
              "       'migrant detained making way sabratha security source informed libya observer saharan patrol department arrested migrant making way shore city sabratha source wished remain anonymous explained migrant varying nationality arrested sweeping security operation began tracking migrant starting point journey south desert patrol department full cooperation police member western military region managed surround migrant arrest area bottom mountain according source confirmed involved smuggling operation referred relevant authority investigation',\n",
              "       'refugee evacuated libya arrive rwanda kigali nov xinhua fourth group refugee asylumseekers evacuated libya detention center arrived rwanda late thursday ministry refugee said upon arrival kigali international airport refugee taken designated transit hotel covid test taken gashora emergency transit center bugesera district southcentral rwanda getting result olivier kayumba permanent secretary ministry emergency management told national broadcaster radio rwanda since last year rwanda received refugee asylumseekers evacuated libya resettled country canada sweden said kayumba september rwandan government said soon receive african refugee asylumseekers living libyan detention center signing memorandum understanding mou set transit mechanism evacuating refugee asylumseekers libya libya become preferred departure point illegal immigrant attempt cross mediterranean sea towards european shore due insecurity chaos north african country following ouster killing leader muammar gaddafi shelter libya overcrowded thousand illegal immigrant rescued sea arrested libyan security service despite repeated international call close center',\n",
              "       'east libya expelled refugee migrant year un geneva reuters authority rebelheld eastern libya expelled migrant refugee far year violation international law u n right office said tuesdaythe number start year migrant refugee month episode sudanese migrant jeremy laurence spokesman office un high commissioner human right told virtual briefing geneva practice violate libya international human right obligation prohibiting refoulement collective expulsion added using french legal term returning refugee asylum seeker country may face persecution said sent sudan niger chad somalia deported without access legal assistance service required ensure protection',\n",
              "       'unhcr call orderly release detained refugee asylumseekers libya region world unhcr team distributed today blanket mattress refugee migrant dire need relief item unhcr libya tweeted reiterating call orderly release refugee asylumseekers held libyan detention centersthousands illegal immigrant mostly african chose cross mediterranean libya towards europe due state insecurity chaos north african nation following fall former leader muammar gaddafi immigrant shelter libya crowded thousand immigrant either rescued sea arrested libyan security force despite international call close center according unhcr currently registered refugee asylumseekers libya',\n",
              "       'u n shuts refugee center libya capital truce crumbles caironew york reuters united nation said thursday suspending operation refugee center libya capital could become target u n envoy said truce brokered russia turkey holding name artillery exchange tripoli significantly increased recent day u n libya envoy ghassan salame told security council briefing causing increase civilian casualty due indiscriminate shelling since jan force aligned tripoli internationally recognized government eastern based rival led khalifa haftar conditionally agreed truce violation recorded salame said libya conflict escalated since haftar launched offensive tripoli april upending u nled peace plan international power supplied arm air power though lull air strike since russia turkey called truce starting jan international power met berlin jan trying broker ceasefire haftar received support united arab emirate jordan russia egypt turkey recently stepped backing tripoli government',\n",
              "       'libya tripoli government say migrant killed revenge attack tunis reuters family libyan people trafficker killed migrant revenge death libya internationally recognised government national accord gna said thursday gna interior ministry said statement bangladeshi four african migrant killed town mizda injured survivor taken hospital zintan libya long destination migrant oilfunded economy also important waystation people attempting reach europe across mediterraneanwe learned tragedy following get detail provide assistance survivor said safa msehli libya spokeswoman international organisation migration',\n",
              "       'acacia tree libya face extinction activist warn green activist voiced concern increasing phenomenon axing acacia tree grows southwest libya known alwidyan region long post website libyan wildlife trust said number acacia tree libya declining rapidly could face extinction soon warned process going absence action relevant authority amid lack public awareness realize environmental risk act impact ecological balance climatewithout would lose extraordinary essential resource support desert life wildlife trust said acacia tree grows semidesert desert climate considered one perennial tree resistant drought carob fruit tender leaf provide highvalue food livestock camel',\n",
              "       'tripolitunis flight resume eight month stop land border also reopens libyan airline one libya state airliner resumed return flight tripoli mitiga airport tunis carthage airport today resumption come eightmonth hiatus due corona pandemic libyan airline said operate three flight per week passenger must follow strict anticoronavirus health protocol agreed libya tunisia including negative pcr test resumption today flight come back reopening land air border saturday october within health protocol agreed two country october tunis land border reopened saturday',\n",
              "       'libyan airline resume flight tunisia libyan airline announced resume flight tunisia starting monday month suspension due coronavirus pandemic libyan airline medium office said official facebook page service include three flight week according health protocol signed libya tunisia flight resume accordance strict health measure include procedure facilitating movement traveler exchange good service along precise measure must adhered tunisian libyan citizen movement country part prevention coronavirus pandemic',\n",
              "       'private sector airliner hala air launch vip charter flight private sector family owned hala air launched vip charter service flight available diplomat business leader social political vip libya around world hala air public relation director zakaria franka said also special flight italy via affiliate used intermediate stop circumvent current eu embargo direct flight libya airliner using bombardier challenger cl craft cargo aircraft arriving soon added',\n",
              "       'flight resume libya mitiga airport tripoli tripoli reuters mitiga functioning airport libya capital tripoli resumed flight operation thursday nearly month break expected fully operational end month transportation minister said airport shut since sept repeatedly targeted shelling air strike blamed eastern force led khalifa haftar trying take control city since april closure airport located sea eastern suburb city flight tripoli diverted coastal city misrata km east capital worker still carrying maintenance work inside main departure terminal car park work expected end month two libya four air carrier operated two flight thursday morning',\n",
              "       'libya unemployed percent workforce ministry labour tripolibased libyan labour ministry posted latest update employmentunemployment data sunday invited jobseekers register new interactive website constantly updating database latest report say topic unemployment jobseekers libya taken increased political significance beleaguered internationally recognized libyan government based tripoli led faiez serraj promising train unemployed university graduate pledge made serraj big speech reaction demonstration protestors shot government recognized security force incident led serraj suspending interior minister publicly supporting unauthorized demonstration serraj also forced flurry decree effort sedate public anger fuel electricity water cash shortage well widely perceived state corruption',\n",
              "       'labour ministry hold meeting private sector role new employment programme libya tripoli ministry labour discussed role private sector new employment programme ministry labour tripoli labour ministry held consultative meeting representative private sector last tuesday september discus activating sector role government newly launched training employment drive private sector included bank representative well general union chamber commerce policy initiative launched libya internationally recognized prime minister faiez serraj reaction demonstration mainly youth deteriorating living condition include persistent fuel cooking gas cash shortage well acute power water cut uncontrolled spread coronavirus endemic mismanagement corruption reaction serraj launched programme training statesector employment unemployed graduate youth',\n",
              "       'usaid unsmil undp world bank install solar system power mmr provide electricity south libya u agency international development usaid libya public financial management program partnering united nation support mission libya unsmil un development program undp world bank libyan local investment development fund provide backup electricity water pumping station along libya manmade river mmr u embassy announced yesterday project mean clean renewable energy used ensure reliable water power supply libya announcement stated giving detail statement revealed solar plant installed along mmr provide power needed supply water tripoli boost electricity supply southern libya town tribe along river solar plant would also create job opportunity provide revenue local community statement noted mmr world largest irrigation project vital source drinking water country population analysis recalled since february revolution overthrew year old qaddafi regime libya suffered acute electricity water shortage',\n",
              "       'power cut eastern libya protestors react lengthy power cut continued eastern libya third consecutive day yesterday cut come whole libyan electricity network struggle remain operation also oil blockade continues mean fuel supply power station running short ironically oil blockade place since january day cost libya u bn loss potential revenue imposed eastern force khalifa hafter aligned tribe continued power cut well water cut cash fuel cooking gas shortage poor governance lack hope prospect led demonstration eastern libya mirrored western south libya driven similar grievance',\n",
              "       'another electricity blackout western libya libya state general electricity company libya gecol announced another total electricity blackout western libya today announcement made morning gecol promised return power soon continuous acute power cut since internationally recognized tripoli government headed faiez serraj major contributor protest end august led major political fallout western eastern libya including provisional resignation eastern government possible resignation serraj government october another electricity blackout yesterday blamed use force libya miserable summer continues another total power blackout south central libya serraj government creaking pressure electricity blackout water cut youth fleeing europe demonstrating municipality calling immediate action',\n",
              "       'ease congestion fuel station tripoli operate around fuel station tripoli permitted operate around clock starting wednesday say monitoring committee fuel gas crisis meeting held wednesday committee head director general department central support force representative fuel distribution company discus issue look solution ease congestion outside service station head monitoring committee fuel gas crisis brigadier general muhammad fathallah stressed need address matter shortage fuel congestion due long hour outage according fathallah pointed central support force cooperation security agency deplored fuel station help control flow driver part delegate distribution company emphasized readiness distribute fuel station required amount anwar libya tanker anwar tanker waiting unload cargo port tripoli',\n",
              "       'libyan rush stock ramadan coronavirus curfew kick tripoli reuters libyan rushed thursday stock food holy muslim month ramadan curfew start capital tripoli western area aimed curbing spread coronavirus oil producing country chaos since overthrow muammar gaddafi confirmed case infection one death combat spread internationallyrecognized government national accord gna imposed hour curfew friday try ease pressure healthcare system area control include tripoli bread food purchase allowed morning sound artillery booming background offensive tripoli easternbased libya national army lna khalifa haftar resident queued get cash bank buy food ramadan muslim fast sunset start around april',\n",
              "       'un condemns water shutoff libyan capital tunis reuters united nation humanitarian coordinator libya friday condemned cutting water supply capital tripoli past week particularly reprehensible said must stop immediately armed group monday stormed control station shwerif stopping water pumped threatening worker great man made river project supply water much libya said statement armed group seeking use water cutoff pressure force release detained family member u n humanitarian coordinator yacoub el hillo said statement supply cut million people tripoli nearby town city tripoli seat internationally recognised government national accord gna assault year easternbased libyan national army khalifa haftar escalation fighting since midmarch involved intense bombardment particularly south city near front line projectile hitting hospital',\n",
              "       'libya water cut add misery conflict coronavirus tunis reuters cut tripoli water power supply tuesday wednesday aggravated condition civilian day intensified fighting undermined preparation cope novel coronavirus nader mohamed taxi driver father three tripoli said situation grown much worse life fifth floor must carry family water supply flat morning cannot afford private generator sits evening candle telling child story memorybesides war suffer virus spread god know happen said latest surge warfare since midmarch shown sign slackening fighting bombardment several front decisive gain either side',\n",
              "       'tripoli government extends curfew ten day may internationally recognized libyan government based tripoli yesterday extended current pm curfew area effective authority another day today may curfew allows food retailer chemist open hour allows travel foot local shop restricts car movement district city extension came back medical advice anticoronavirus committee back world health organization recommendation last saturday libya exercise caution face serious health threat posed covid countrynow time reduce caution said elizabeth hoff who representative libya said statementthe low number reported fool u false sense security libya early stage epidemic yet reached height infection',\n",
              "       'tripoli libyan government extends curfew day declares hour curfew eid internationally recognized libyan government based tripoli yesterday extended current curfew another day may curfew continue ramadan pm next morning however also announced hour curfew three eid day recalled time publication libya total coronavirus case recovery death warns number could misleading libya conduct extremely low testing libya coronavirus case two urge vigilance stranded repatriation flight start tuesday',\n",
              "       'libyan interior ministry call resident abide total libyan interior ministry coronavirus task force called libyan abide instruction curfew total lockdown eid alfitr day interior ministry urged resident go except necessity abide cooperation relevant authority preserve safety instructing security apparatus fine take legal procedure violator libya see hour lockdown three day eid alfitr sunday tuesday meanwhile coronavirus case reached libya registering three new one saturday national center disease control said tested sample three libyan returning abroad came positive',\n",
              "       'curfew announced sabha two new case coronavirus sabha security directorate announced curfew citizen pm daily beginning today lasting full two week effort curb spread covid pandemic directorate clarified decision came diagnosis two new case infection coronavirus city announced national center disease control ncdc tuesday announcement two new case ncdc brings total number case registered libya date case recovered fatality',\n",
              "       'gunman shoot dead female libyan dissident busy benghazi street hanan albarassi outspoken critic abuse area controlled libyan national army gunman shot dead prominent female dissident busy street eastern libyan city benghazi latest killing critic military strongman khalifa haftar hanan albarassi outspoken critic abuse eastern area controlled haftars libyan national army lna shot dead car broad daylight th street busy artery benghazi city centre right group security official said prominent figure libya yearold barassi known giving voice female victim violence video broadcast social medium also ran local association defence woman right footage posted facebook page shot barassi speaks camera seated car criticises armed group close haftar saying threatened barassis killing come nearly year half disappearance another prominent woman right activist siham sergiwa abducted home benghazi armed men july heard since',\n",
              "       'wide condemnation assassination female lawyer activist hanan barassi benghazi wide condemnation yesterday assassination female lawyer activist hanan barassi benghazi amongst others assassination instantly condemned yesterday unsmil u embassy amnesty international libyan lawyer syndicate eu uk german embassy also condemned act minister interior internationally recognized libyan government tripoli also condemned incident condemning silencing peaceful activist called relevant authority benghazi investigate incident bring perpetrator justice according benghazi security directorate barasi assassinated tuesday noon several masked person inside one shop th street one benghazi busiest street reported perpetrator tried kidnap barassi fired several bullet killed',\n",
              "       'libyan political activist senior security officer shot dead prominent political activist abdulsalam elmessmary two senior security official shot dead restive eastern libyan city benghazi friday report quoting mohamed al hijazi spokesperson joint police army security operation benghazi said elmessmary killed friday prayer afternoon walked home albirkas abu ghoula mosque elmessmary shot speeding car close range single bullet heart al hijazi said known suspect authority arrested anyone relation incident yearold lawyer political activist outspoken critic highly controversial political isolation law decree bar qadhafiera official holding public office july elmessmary appeared local tv station spoke unlawful killing including murder gen abdelfatah younis chief libyan opposition army',\n",
              "       'suicide bomber militant attack libya foreign ministry tripoli suicide attacker stormed libyan foreign ministry capital tripoli tuesday killing least three people including senior civil servant attack claimed islamic state group people wounded attack authority said car bomb exploded near ministry prompting security force rush scene said special force spokesman tarak aldawass suicide bomber blew second floor building second attacker died suitcase carrying exploded said third assailant unarmed wearing bulletproof vest killed security force outside dawass added',\n",
              "       'killed injured terror attack libyan foreign ministry photo taken dec show site terrorist attack outside libyan foreign ministry headquarters tripoli libya least three people killed others including paramedic injured tuesday terrorist attack libyan foreign ministry headquarters tripoli health ministry said least three people killed others including paramedic injured tuesday terrorist attack libyan foreign ministry headquarters tripoli health ministry said attack occurred local time gmt car bomb exploded right behind ministry building foreign ministry source told xinhua condition anonymity afterward group gunman entered building front back entrance exchanged heavy fire security force added also big explosion main building triggering fire yet extinguished source revealed foreign ministry condemned attack called international community support libya terrorism',\n",
              "       'explosion western tripoli believed terrorist suicide attack explosion believed terrorist suicide attack rocked western tripoli ghiran checkpoint according different source attack carried man blew drove motorcycle official statement made authority tripoli source said suicide bomber blasted bike ghiran checkpoint janzour tripoli casualty reported source said suicide bomber blasted arriving checkpoint thus casualty reported road wasnt crowded early morning source added indicating investigation incident underway source close investigation asked anonymous said explosion void terrorist suicide attack motif one claimed explosion yet',\n",
              "       'car bomb explodes libya benghazi killing three un staff car bomb explosion eastern libyan city benghazi killed three un staff member two mission member saturday united nation said attack came united nation brokering truce capital tripoli easternbased libyan national army lna force launched surprise attack april part chaos libya since toppling muammar gaddafi un secretarygeneral antonio guterres saturday condemned attack spokesman said statement un intend evacuate libya assistant secretarygeneral peace operation bintou keita later told security council also condemned attack united nation gave detail saying casualty member working benghazi libya mission boosting presence recently lna spokesman ahmed mismari told reporter two killed guard un libya mission unsmil added people wounded including child',\n",
              "       'terrorist blow crude oil pipeline libya terrorist group saturday blew crude oil pipeline near capital tripoli libyan petroleum installation guard said explosion fire broke result terrorist act one valve inch crude oil pipeline northwest town mrada km east tripoli petroleum installation guard said statement terrorist group saturday blew crude oil pipeline near capital tripoli libyan petroleum installation guard said explosion fire broke result terrorist act one valve inch crude oil pipeline northwest town mrada km east tripoli petroleum installation guard said statement pipeline belongs waha oil cooperation connecting company field mrada oil basin sidra oil port oil crescent region bombing targeted pipeline bombed last year maintenance operation carried company adding statement',\n",
              "       'libya national oil corporation tripoli office attacked least four killed including two national oil company employee gunman storm tripoli headquarters armed men stormed headquarters libya national oil company tripoli engaging guard deadly gun battle least one large blast going apparent suicide attack least two company staff killed wounded health ministry said two gunman also died attack monday security force fought regain control key building centre libyan capital security service looking gunman building priority evacuate civilian stuck inside said ahmed ben salem spokesman deterrence force militia operates tripoli police force situation control added number hostage according interior ministry body least two attacker found inside noc headquarters',\n",
              "       'gunman storm libya state oil company supply risk grow attack country main wealth source add oil supply concern iran iraq gunman stormed headquarters libya national oil corp monday attack killed two people staterun company said latest sign turmoil large oilproducing country time global crude market looking alternative iranian oil trump administration imposed fresh sanction iranian crude take effect november already scared buyer away bottling export libya experienced series oil output disruption attack year recently appeared recovering attacker fired staff noc office detonated explosive noc said press release two official oil company killed injured said company chairman mustafa sanallah present attack safely evacuated said incident demonstrated country fragile security situation show need additional measure ensure noc able withstand seek halt libya recovery said',\n",
              "       'blownup oil pipeline repaired within week reuters report libyan crude oil pipeline blown tuesday mile south e sider terminal take week repair quote spokesman eastern libyan force tasked protecting oilfield saying terrorist group probably responsible explosion',\n",
              "       'explosion major oil pipeline libya major oil pipeline libya bombed unknown militant oil flow reduced much bpd armed attacker blew major oil pipeline libya tuesday military oil source said pipeline feed central distribution station e sider port mediterranean sea staterun national oil corporation said statement oil flow reduced bpd unclear carried attack islamic state militant area government force defeated siirte stronghold last year',\n",
              "       'libyan crude pipeline blown armed men military source benghazi libya dec reuters armed men responsible explosion damaged libyan crude oil pipeline tuesday libyan military source said arrived site two car planted explosive pipeline feeding e sider port source said reporting ayman alwarfalli writing ulf laessing editing andrew roche',\n",
              "       'libyan crude pipeline destroyed armed militant say official oil industry source said libya lost around barrel result explosion armed men responsible explosion damaged libyan crude oil pipeline tuesday military source said men arrived site two car planted explosive pipeline feeding e sider port source said libya lost around bpd crude oil blast according oil source libya national oil corporation still assessing damage source said explosion mean massive drop north african country crude production oil price rose report',\n",
              "       'dozen killed bomb attack libyan police academy massive explosion caused truck bomb crashed centre zliten kill wound people truckbomb attack police training centre western town libya killed least people according hospital police official witness said thursday truck crashed gate police academy coastal city zliten km east capital tripoli zliten mayor miftah lahmadi told reuters news agency truck exploded hundred recruit gathering academy un special representative libya martin kobler said blast suicide attack one claimed responsibility assault one claimed responsibility assault',\n",
              "       'oil pipeline sabotaged spokesman national oil corporation noc said explosion occurred major oil pipeline overnight wednesday thursday explosion happened south ra lanuf terminal pipeline running tibisti albayda field closed two year cause explosion immediately known one official said blast result sabotage',\n",
              "       'suspected militant stage attack near key east libya oil field official suspected islamic state militant staged attack water plant km mile major sarir oil field eastern libya late monday plant official oil facility guard said security force foiled attempted suicide car bombing killing driver engaging attacker clash guard said threat sarir area would cause particular alarm half libya remaining oil production come region group immediately claimed attack islamic state fighter previously targeted oil installation libya stepping campaign export terminal east country start year damage sarir crisis committee convened tuesday address growing threat said omran alzwai spokesman arabian gulf oil co agoco run production field water plant part great manmade river system built muammar gaddafi pipe water desert well coastal community',\n",
              "       'sarir power station attacked libya herald say unconfirmed report attack sarir power station pictured suicide car bomber suspected islamic state group isi isil daesh also reported killed largely tebu unit petroleum facility guard pfg could cause major damage station contributes mw power national grid',\n",
              "       'isil attack libyan oil terminal reported group claim use suicide car bombing strike e sider export terminal nearby town sirte benghazi fighter islamic state iraq levant isil group clashed force guarding libya e sider oil export terminal witness say isil also claimed monday taken nearby town ben jawad sits city sirte benghazi group said online statement also set suicide car bomb clash causing casualty world leader push libya peace counter isil one libya authority immediately available comment capture ben jawad reuters news agency said',\n",
              "       'islamic militant attack libyan oil facility reported dead fight socalled islamic state attack libyan oil terminal first case kind since group seized central coastal city sirte last summer libya power vacuum helped militant make gain islamic state militant monday launched attack port siddra libya largest oil terminal military official said clash guard terminal militant led death two guard attacker ali alhassi spokesman libya petroleum guard force said first carried suicide car bomb attack military checkpoint entrance town siddra killing two soldier according colonel army loyal internationallyrecognized government attacked convoy dozen vehicle belonging bashir boudhfira said launched attack town ra lanouf via south manage enter another military official also loyal libya internationallyrecognized government based tobruk far east country said air force intervened rebuffed attack',\n",
              "       'sarirhariga pipeline sabotaged pipeline sarir oilfield hariga port marsa al hariga sabotaged bomb saturday resulting fire finally extinguished sunday according national oil corporation noc sarir currently highestproducing oilfield libya output barrel per day bpd libya production level fell barrel day january almost barrel october',\n",
              "       'bomb hit pipeline libya el sarir oilfield bomb exploded oil pipeline libya el sarir field hariga port saturday halting flow terminal north african opec nation struggle restore crude export battered fighting libya caught conflict among rival faction two government operating armed force separate parliament nearly four year civil war ousted leader muammar gaddafi group claimed responsibility saturday bombing country oil infrastructure port pipeline often target fighting attack armed group hariga oil terminal supervisor rajab abdulrasoul told reuters saturday bomb exploded around approximately kilometer north el sarir field bomb exploded pipeline carrying crude el sarir oil field hariga port said firefighter still trying put fire happened sabotage spokesman national oil corporation said tanker loading crude already hariga said could take three day restore pipeline',\n",
              "       'gunman storm hq libya national oil company attack institution partner global energy group divided country gunman armed automatic weapon hand grenade killed two employee libya national oil corporation attack company headquarters tripoli armed assault began intense shooting explosion inside building number staff temporarily held hostage noc said statement monday attack targeted institution heart libya economy exacerbated concern rising insecurity country tension growing militia rival government east west noc chief partner international oil company italy eni omv austria working across country institution country allowed export oil security council regulation one claimed responsibility attack suspicion likely turn isi staged suicide attack may country electoral commission killed dozen people',\n",
              "       'attacker storm noc hq group gunman attacked headquarters national oil corporation noc monday according noc statement two noc staff killed attack employee injured national report one attacker killed security force rest blew noc chairman mustafa sanalla inside building time attack said solemnly mourn death martyred terrorist wish speedy recovery injured praise staff bravery face unbelievable violence give thanks swift response emergency service security team working end horrific situation far important considerable damage building human cost attack people precious asset noc change mission action stay strong resolute impact production operation',\n",
              "       'islamic state attack libyan oil terminal crudeoil storage tank connected ra lanuf oil complex set fire islamic state fighter attacked two oil terminal eastern libya setting fire large storage tank one facility libyan oil official said monday attack stoked fear north african country oil industry next target radical islamist group came week representative libya two rival government signed powersharing agreement called formation nationalunity government midjanuary crudeoil storage tank connected ra lanuf oil complex burning monday shot spokesman libya national oil co said separately car bomb exploded gate nearby e sider oil port monday spokesman said site mile east tripoli nation capital',\n",
              "       'fire erupt libyan oil port islamic state attack firefighter trying control four major oil tank fire e sider one ra lanuf three day islamic state isi attack libya biggest oil terminal started fire spread five massive oil storage tank guard spokesman said wednesday ali alhassi said petroleum facility guard still control neighbouring port e sider ra lanuf least nine guard killed injured near port perimeter monday tuesday hassi said guard recovered body isi fighter captured two military tank vehicle militant said guard received air support force loyal general national congress gnc government controlled tripoli since rival internationally recognised moved bayda east mohamed almanfi oil official eastern libya said oil tank estimated contain barrel oil firefighter trying control four fire e sider one ra lanuf two triggered isi shelling three caught fire hassi said',\n",
              "       'islamic state attack set storage tank ablaze libyan oil terminal islamic state militant set fire thursday oil storage tank fresh assault ra lanuf terminal northern libya group threatened attack exploit prolonged power vacuum large north african nation chairman national oil corporation mustafa sanalla told reporter tripoli ra lanuf shut since december would remain closed long time damage inflicted thursday earlier attack libya remains dogged violence political turmoil nearly five year overthrow veteran leader muammar gaddafi two rival government parliament based tripoli east well various armed faction vying power share country oil wealth islamic state militant drove oil storage site early morning clashed security guard retreating firing distance set four tank fire noc spokesman mohamed alharari said pipeline leading amal oil field nearby e sider terminal biggest libya mediterranean coast also targeted said mohamed almanfi energy official allied libya easternbased government ra lanuf e sider together export capacity barrel per day processing half closed december noc said area facing environmental catastrophe huge column smoke billowing fire damage power line supplying residential industrial district',\n",
              "       'islamic state militant attack lybias ra lanuf oil terminal militant affiliated islamic state set fire thursday oil storage tank fresh assault ra lanuf terminal northern libya according energy official militant drove oil storage site early morning confrontation security guard retreating firing distance set four tank fire terminal remain closed long time damage inflicted thursday earlier attack said mustafa sanalla chairman national oil corporation noc lybia islamic state militant also targeted pipeline leading amal oil field nearby e sider terminal biggest libya mediterranean coast ra lanuf e sider together export capacity barrel per day processing half closed december noc said area facing environmental catastrophe huge column smoke billowing fire damage power line supplying residential industrial district',\n",
              "       'guard killed attack libyan oil field suspected militant spokesman two guard killed attempted attack oil field eastern libya suspected islamic state militant saturday guard spokesman said ali alhassi said guard repelled attack bayda field km mile south major oil terminal e sider ra lanuf security official nearby town maradah said militant convoy vehicle militant loyal islamic state carried repeated attack area taken control oil facility',\n",
              "       'militant attack albaida oil field armed men affiliated islamic state group attacked albaida oil field east libya source told medium channel attack isnt first oil field libya militant last month attacked main oil field oil crescent area besides headquarters almoroj oil company ra lanuf spokesperson national oil corporation noc mohamed alharary denied damage oil field albaida explaining attack far moreover stated libya oil production observe spike within next month alharary added chief oil installment guard ibrahim jadhran promised oil field pipe reopened soon ahead government national accord gna result anticipated rise oil production',\n",
              "       'albaidha oil field attacked national oil corporation noc announced area adjacent albaidha oil field affiliated arabian gulf oil company agoco treacherously attacked unidentified armed group saturday according statement noc battalion assumed task chasing clashing gang result five best young men battalion martyred one employee arabian gulf oil company still missing gang ran away yet military force designated protect region still pursuit renegade group led another clash pm district qarat johanim way mrada zela pursuit chase operation continuing eighth force petroleum facility guard pfg sabah city also confronted treacherous assault nearby storage area brega petroleum marketing company sabah city consequently four member eighth force martyred',\n",
              "       'islamic state militant attack force guarding libya oil port official islamic state militant attacked force guarding one libya main oil port thursday gun assault attempted car bomb escalation campaign north african state local security official said islamic state gained ground libya two rival government one internationally recognized selfdeclared battling control leaving security vacuum four year uprising toppled muammar gaddafi gate port controlled force loyal internationally recognized government targeted gun assault attempted car bomb spokesman petroleum facility guard pfg told reuters one guard killed two wounded e sider one country main oil port closed since december fighting militia problem oilfield supplying port militant attacked guard gate near e sider port control force allied recognized government security official said',\n",
              "       'isi sends bigger number militant seize oil well north libya isi deployed large group fighter several strategic oil field fear jihadi group planning deadly attack foreign worker staff evacuated three oil field eastern libya country struggle handle growing threat jihadi group oil production libya affected field stay shut security risk reduced oil security official said today isi militant launched frequent attack libyan oil field terminal recent month damaging facility ajdabiya however militant group primarily based central city sirte manage seize complete control oil field unlike syria iraq islamist militant never controlled oil field libya official worry could happen future along existing material human damage',\n",
              "       'take foreign hostage oilfield nine foreigner working maltabased austrian oil service company value added oil service vaos abducted central libya four filipino two bangladeshi austrian czech ghanaian reported taken militant linked islamic state isi isil working alghani oil field pictured near zalla kilometer southeast tripoli also unconfirmed report nine worker killed attack',\n",
              "       'libya say isi killed guard kidnapped foreigner oilfield libyan guard beheaded worker philippine austria czech republic bangladesh ghana abducted official say isi seeking control libya petroleum industry militant libya islamic state isi affiliate abducted nine foreigner including four filipino attack central oilfield last week beheaded eight libyan guard official said monday attack last friday alghani oilfield near town zalla km mile southeast capital tripoli part series deadly assault libya oil infrastructure isi attack recent week forced libya declare field nonoperational including alghani invoke force majeure clause exempts state contractual obligation libya military spokesman ahmed almesmari warned monday isi militant longterm goal take libya petroleum industry lifeline libyan people said adding consequence loss would dire',\n",
              "       'oil worker kidnapped libya work maltabased company nine oil worker seized libya militant allied islamic state work oil service company based qormi time malta learnt worker austria czech republic philippine bangladesh unspecified african country kidnapped group militant alghani oilfield friday worked value added oilfield service vaos based mill street qormi abduction confirmed austrian foreign ministry morning cited secure information ministry said alive taken know injured transported away alghani oilfield austrian ministry spokesman said adding group taken islamic state militant',\n",
              "       'pfg guard killed mabruk oilfield attack filipino abducted armed group yesterday afternoon attacked mabruk oilfield kilometre southeast sirte killing four petroleum facility guard pfg seizing three filipino worker according local oil industry source attacker claimed member islamic state source told libya herald gave religious speech leaving said adding attack started around pm spokesman central pfg ali alhassi confirmed attack detail kidnapping',\n",
              "       'libya malta hijack hijacker arrested drama end peacefully hijacking libyan plane ended peacefully men seized control surrendered malta domestic flight people board hijacked taking sabha bound libyan capital tripoli instead afriqiyah airway airbus diverted malta international airport appears two hijacker supporter libya late deposed leader muammar gaddafi picture kneeling tarmac hand appear show moment arrested maltese authority passenger including one infant number crew already released',\n",
              "       'libyan hijacker surrender release hostage plane diverted malta hostage freed without violence hijacker using replica hand grenade pistol took control afriqiyah airway flight two men loyal late libyan dictator muammar gaddafi hijacked domestic flight replica hand grenade pistol forced pilot fly malta reportedly claiming wanted publicity new political party letting passenger crew leave plane unharmed fourhour standoff negotiator malta libya ended friday two men came afriqiyah airway plane crewmember final hostage led away handcuff crew passenger board allowed leave plane batch maltese prime minister joseph muscat tweeted later tweet said initial examination shown weapon used replica airbus operated stateowned airline hijacked internal route city sabha tripoli negotiation one hijacker told libya channel tv phone call headed party supporting gaddafi organised incident promote group',\n",
              "       'libya tobruk witness bloody tribal clash libyan security authority east announced restored calm eruption rare tribal clash city tobruk medium heavy weapon used fighting left two people dead several wounded revealed security source clash centered dispute two family position director social security vied post sacked director sought regain post replacement interior ministry eastbased interim government said thursday calm restored security directorate cooperation libyan national army lna commanded khalifa haftar managed contain situation help tribal elder military force managed regain control social security branch headquarters tobruk',\n",
              "       'tobruk clash death toll rise four wounded least four people killed others wounded result clash broke tobruk city east libya thursday source city said confrontation broke two family different tribe backdrop decision assign member one mentioned tribe position director social security fund substitute current official descends tribe source indicated clash gunman blew new social security fund hq located kombout district east tobruk haftar declared operation socalled dignity campaign started benghazi pretext rid country islamist force fight terrorism part agenda seize power surrounding tribal militia outlaw group extremist turned benghazi death pitch characterized extrajudicial killing kidnapping torture dumped body open area',\n",
              "       'several killed clash two family sabha clash broke city sabha thursday resulting death several people injury three others one critical condition source city told libya observer source preferred stay anonymous said clash erupted thursday afternoon laqrad neighborhood known alfatah two family qadadfa tribe activist posted picture burned vehicle property social medium confirming least four people killed clash house burned besides vehicle private property many family forced home gunman source told libya observer late thursday sound gunfire could still heard city despite attempt disengage fighting party according source score life claimed fighting erupts time time two family backdrop old vendetta according local people',\n",
              "       'citizen shahhat demand release old woman people town shahhat east libya denounced continued kidnapping disappearance maqboula alhassi yearold woman abducted since october citizen indicated protest friday kidnapping maqboola alhassi carried militia affiliated saad farkash appealing official authority release reveal fate protester said also refuse accept continued absence kidnapped finance minister baydabased government kamel alhassi occurred last may calling immediate release',\n",
              "       'demonstration continue third day tripoli martyr square tripoli yesterday witnessed demonstration third day row denouncing corruption calling provision basic essential servicesthe demonstrator raised banner calling improvement daily living condition accountability holding position involved corruption case demanding reopening port oil field improve provision electricity also stressed eagerness return libya civilian state place military rule recent day tripoli amongst city witnessed demonstration calling end fighting corruption unification state institution bypassing lengthy transitional stage',\n",
              "       'protester dispersed gunfire libya capital tripolibenghazi libya reuters armed men fired air disperse several hundred protester demonstrating living condition government libyan capital tripoli sunday reuters witness said protester marched headquarters government national accord gna voice anger called slow death due collapsing public service corruption economic pressure heading central tripoli martyr square scattered gunfire area later closed amid heavy security interior ministry blamed infiltrator violence peaceful protester left one person injured said investigating protest came two day gna prime minister fayez alsarraj announced ceasefire libya longrunning conflict called lifting oil blockade rival authority based east country five year libya divided rival camp based east west',\n",
              "       'libyan protestors torch eastern government office police opened fire demonstrator forced way police station recent protest libya mainly western region capital tripoli seat unrecognised government national accord gna rival powerbase haftar however protest began late thursday benghazi east anger boiled regular power cut cash shortage high fuel price eastern administration warned protester exceed right demonstrate express main military fault line north african nation force loyal gna backing haftar launched offensive seize tripoli last year haftar beaten back earlier year turkishbacked gna force',\n",
              "       'protest flare libya benghazi power cut living condition benghazi libya reuters score people protested benghazi thursday power cut living condition witness said burning tyre blocking road unusual public show dissent eastern libyan city benghazi base khalifa haftar libyan national army lna fighting civil war internationally recognised government national accord tripoli country west electricity supply deteriorated year leading protest last month tripoli adding poor living standard amid surge case novel coronavirus immediate cause worsening power supply lack fuel electricity plant lna accused tripolibased national oil corp noc importing enough fuel operate plant noc last month warned worse blackout eastern libya saying shortage caused lnas monthslong blockade oil gas facility',\n",
              "       'protest hun haftar mercenary kill local citizen source aljufra region central libya confirmed angry protest involving armed citizen taken place town hun sudanese chadian mercenary others belonging haftarthese protest came result shooting dead local citizen last thursday attempting prevent drunken janjaweed mercenary stealing motor vehicle front house hun situation escalated setting fire residence used haftar house foreign mercenary retaliation murder innocent citizen identified ziyad alhuni',\n",
              "       'eastern libya demonstrator shot burn state building demonstration continued spread eastern libya last three day besides usual burning rubbish tyre demonstrator benghazi set fire parliament house representative building well seat interim government recognized hor marj report least two demonstrator injured shot security force set fire security directorate marj municipality confirming citizen right peaceful demonstration called respect public property keep peaceful protest'],\n",
              "      dtype=object)"
            ]
          },
          "execution_count": 71,
          "metadata": {},
          "output_type": "execute_result"
        }
      ],
      "source": [
        "X.values"
      ]
    },
    {
      "cell_type": "code",
      "execution_count": 72,
      "metadata": {
        "id": "amL6HYD7g3Q6"
      },
      "outputs": [],
      "source": [
        "tokenizer.fit_on_texts(X.values)"
      ]
    },
    {
      "cell_type": "code",
      "execution_count": 73,
      "metadata": {
        "colab": {
          "base_uri": "https://localhost:8080/"
        },
        "id": "l30Oohjsg3Q6",
        "outputId": "0bb4931b-4cc2-4036-ad6b-4cf78b57b718"
      },
      "outputs": [
        {
          "data": {
            "text/plain": [
              "{'libya': 1,\n",
              " 'libyan': 2,\n",
              " 'said': 3,\n",
              " 'tripoli': 4,\n",
              " 'government': 5,\n",
              " 'oil': 6,\n",
              " 'force': 7,\n",
              " 'national': 8,\n",
              " 'country': 9,\n",
              " 'military': 10,\n",
              " 'haftar': 11,\n",
              " 'army': 12,\n",
              " 'haftars': 13,\n",
              " 'two': 14,\n",
              " 'attack': 15,\n",
              " 'khalifa': 16,\n",
              " 'militia': 17,\n",
              " 'also': 18,\n",
              " 'new': 19,\n",
              " 'case': 20,\n",
              " 'gna': 21,\n",
              " 'support': 22,\n",
              " 'eastern': 23,\n",
              " 'security': 24,\n",
              " 'political': 25,\n",
              " 'united': 26,\n",
              " 'since': 27,\n",
              " 'noc': 28,\n",
              " 'ministry': 29,\n",
              " 'state': 30,\n",
              " 'statement': 31,\n",
              " 'operation': 32,\n",
              " 'company': 33,\n",
              " 'meeting': 34,\n",
              " 'foreign': 35,\n",
              " 'u': 36,\n",
              " 'capital': 37,\n",
              " 'accord': 38,\n",
              " 'control': 39,\n",
              " 'one': 40,\n",
              " 'coronavirus': 41,\n",
              " 'day': 42,\n",
              " 'people': 43,\n",
              " 'turkey': 44,\n",
              " 'power': 45,\n",
              " 'air': 46,\n",
              " 'city': 47,\n",
              " 'ld': 48,\n",
              " 'un': 49,\n",
              " 'minister': 50,\n",
              " 'reuters': 51,\n",
              " 'year': 52,\n",
              " 'total': 53,\n",
              " 'last': 54,\n",
              " 'lna': 55,\n",
              " 'according': 56,\n",
              " 'reported': 57,\n",
              " 'nation': 58,\n",
              " 'month': 59,\n",
              " 'group': 60,\n",
              " 'center': 61,\n",
              " 'official': 62,\n",
              " 'area': 63,\n",
              " 'project': 64,\n",
              " 'field': 65,\n",
              " 'international': 66,\n",
              " 'turkish': 67,\n",
              " 'russia': 68,\n",
              " 'bank': 69,\n",
              " 'ceasefire': 70,\n",
              " 'airbase': 71,\n",
              " 'production': 72,\n",
              " 'authority': 73,\n",
              " 'killed': 74,\n",
              " 'source': 75,\n",
              " 'western': 76,\n",
              " 'internationally': 77,\n",
              " 'monday': 78,\n",
              " 'health': 79,\n",
              " 'announced': 80,\n",
              " 'first': 81,\n",
              " 'recognized': 82,\n",
              " 'conflict': 83,\n",
              " 'tuesday': 84,\n",
              " 'agreement': 85,\n",
              " 'spokesman': 86,\n",
              " 'would': 87,\n",
              " 'armed': 88,\n",
              " 'russian': 89,\n",
              " 'development': 90,\n",
              " 'thursday': 91,\n",
              " 'election': 92,\n",
              " 'leader': 93,\n",
              " 'council': 94,\n",
              " 'system': 95,\n",
              " 'told': 96,\n",
              " 'week': 97,\n",
              " 'three': 98,\n",
              " 'million': 99,\n",
              " 'east': 100,\n",
              " 'fighting': 101,\n",
              " 'part': 102,\n",
              " 'work': 103,\n",
              " 'central': 104,\n",
              " 'including': 105,\n",
              " 'covid': 106,\n",
              " 'say': 107,\n",
              " 'rival': 108,\n",
              " 'added': 109,\n",
              " 'revenue': 110,\n",
              " 'war': 111,\n",
              " 'region': 112,\n",
              " 'saturday': 113,\n",
              " 'held': 114,\n",
              " 'yesterday': 115,\n",
              " 'friday': 116,\n",
              " 'airport': 117,\n",
              " 'commander': 118,\n",
              " 'alwatiya': 119,\n",
              " 'head': 120,\n",
              " 'base': 121,\n",
              " 'member': 122,\n",
              " 'south': 123,\n",
              " 'benghazi': 124,\n",
              " 'report': 125,\n",
              " 'warlord': 126,\n",
              " 'well': 127,\n",
              " 'cooperation': 128,\n",
              " 'talk': 129,\n",
              " 'wednesday': 130,\n",
              " 'sector': 131,\n",
              " 'corporation': 132,\n",
              " 'april': 133,\n",
              " 'launched': 134,\n",
              " 'undp': 135,\n",
              " 'discussed': 136,\n",
              " 'mercenary': 137,\n",
              " 'medium': 138,\n",
              " 'end': 139,\n",
              " 'rate': 140,\n",
              " 'representative': 141,\n",
              " 'general': 142,\n",
              " 'arab': 143,\n",
              " 'based': 144,\n",
              " 'may': 145,\n",
              " 'civilian': 146,\n",
              " 'cbl': 147,\n",
              " 'effort': 148,\n",
              " 'interior': 149,\n",
              " 'could': 150,\n",
              " 'agreed': 151,\n",
              " 'disease': 152,\n",
              " 'energy': 153,\n",
              " 'confirmed': 154,\n",
              " 'ambassador': 155,\n",
              " 'loyal': 156,\n",
              " 'sunday': 157,\n",
              " 'number': 158,\n",
              " 'call': 159,\n",
              " 'egypt': 160,\n",
              " 'militant': 161,\n",
              " 'port': 162,\n",
              " 'came': 163,\n",
              " 'terminal': 164,\n",
              " 'italy': 165,\n",
              " 'mission': 166,\n",
              " 'recently': 167,\n",
              " 'joint': 168,\n",
              " 'service': 169,\n",
              " 'flight': 170,\n",
              " 'death': 171,\n",
              " 'sirte': 172,\n",
              " 'gaddafi': 173,\n",
              " 'local': 174,\n",
              " 'france': 175,\n",
              " 'four': 176,\n",
              " 'come': 177,\n",
              " 'crisis': 178,\n",
              " 'offensive': 179,\n",
              " 'guard': 180,\n",
              " 'discus': 181,\n",
              " 'fuel': 182,\n",
              " 'pipeline': 183,\n",
              " 'time': 184,\n",
              " 'public': 185,\n",
              " 'unsmil': 186,\n",
              " 'dialogue': 187,\n",
              " 'committee': 188,\n",
              " 'african': 189,\n",
              " 'recent': 190,\n",
              " 'take': 191,\n",
              " 'led': 192,\n",
              " 'vehicle': 193,\n",
              " 'emirate': 194,\n",
              " 'way': 195,\n",
              " 'crude': 196,\n",
              " 'agency': 197,\n",
              " 'illegal': 198,\n",
              " 'muammar': 199,\n",
              " 'curfew': 200,\n",
              " 'supply': 201,\n",
              " 'least': 202,\n",
              " 'due': 203,\n",
              " 'taken': 204,\n",
              " 'party': 205,\n",
              " 'return': 206,\n",
              " 'key': 207,\n",
              " 'several': 208,\n",
              " 'destroyed': 209,\n",
              " 'deal': 210,\n",
              " 'made': 211,\n",
              " 'gas': 212,\n",
              " 'used': 213,\n",
              " 'signed': 214,\n",
              " 'start': 215,\n",
              " 'major': 216,\n",
              " 'strategic': 217,\n",
              " 'december': 218,\n",
              " 'islamic': 219,\n",
              " 'called': 220,\n",
              " 'easternbased': 221,\n",
              " 'hit': 222,\n",
              " 'pandemic': 223,\n",
              " 'bn': 224,\n",
              " 'headquarters': 225,\n",
              " 'office': 226,\n",
              " 'important': 227,\n",
              " 'world': 228,\n",
              " 'economic': 229,\n",
              " 'fighter': 230,\n",
              " 'hour': 231,\n",
              " 'right': 232,\n",
              " 'barrel': 233,\n",
              " 'misrata': 234,\n",
              " 'reached': 235,\n",
              " 'west': 236,\n",
              " 'process': 237,\n",
              " 'migrant': 238,\n",
              " 'defense': 239,\n",
              " 'peace': 240,\n",
              " 'north': 241,\n",
              " 'back': 242,\n",
              " 'italian': 243,\n",
              " 'side': 244,\n",
              " 'need': 245,\n",
              " 'social': 246,\n",
              " 'second': 247,\n",
              " 'adding': 248,\n",
              " 'still': 249,\n",
              " 'late': 250,\n",
              " 'drone': 251,\n",
              " 'electricity': 252,\n",
              " 'line': 253,\n",
              " 'today': 254,\n",
              " 'tripolibased': 255,\n",
              " 'five': 256,\n",
              " 'tarhuna': 257,\n",
              " 'fire': 258,\n",
              " 'carried': 259,\n",
              " 'cut': 260,\n",
              " 'exchange': 261,\n",
              " 'hold': 262,\n",
              " 'near': 263,\n",
              " 'president': 264,\n",
              " 'strike': 265,\n",
              " 'uae': 266,\n",
              " 'loss': 267,\n",
              " 'body': 268,\n",
              " 'erdogan': 269,\n",
              " 'berlin': 270,\n",
              " 'investment': 271,\n",
              " 'past': 272,\n",
              " 'saying': 273,\n",
              " 'oilfield': 274,\n",
              " 'situation': 275,\n",
              " 'around': 276,\n",
              " 'town': 277,\n",
              " 'renegade': 278,\n",
              " 'williams': 279,\n",
              " 'chairman': 280,\n",
              " 'high': 281,\n",
              " 'truce': 282,\n",
              " 'southern': 283,\n",
              " 'human': 284,\n",
              " 'stability': 285,\n",
              " 'another': 286,\n",
              " 'mitiga': 287,\n",
              " 'plane': 288,\n",
              " 'export': 289,\n",
              " 'facility': 290,\n",
              " 'institution': 291,\n",
              " 'municipality': 292,\n",
              " 'help': 293,\n",
              " 'took': 294,\n",
              " 'set': 295,\n",
              " 'home': 296,\n",
              " 'along': 297,\n",
              " 'controlled': 298,\n",
              " 'water': 299,\n",
              " 'news': 300,\n",
              " 'conference': 301,\n",
              " 'business': 302,\n",
              " 'use': 303,\n",
              " 'per': 304,\n",
              " 'station': 305,\n",
              " 'october': 306,\n",
              " 'moscow': 307,\n",
              " 'recovery': 308,\n",
              " 'presidential': 309,\n",
              " 'supporting': 310,\n",
              " 'continue': 311,\n",
              " 'current': 312,\n",
              " 'prime': 313,\n",
              " 'border': 314,\n",
              " 'weapon': 315,\n",
              " 'terrorist': 316,\n",
              " 'syria': 317,\n",
              " 'medical': 318,\n",
              " 'training': 319,\n",
              " 'output': 320,\n",
              " 'tunisia': 321,\n",
              " 'received': 322,\n",
              " 'citizen': 323,\n",
              " 'serraj': 324,\n",
              " 'without': 325,\n",
              " 'within': 326,\n",
              " 'volcano': 327,\n",
              " 'rage': 328,\n",
              " 'captured': 329,\n",
              " 'others': 330,\n",
              " 'car': 331,\n",
              " 'aircraft': 332,\n",
              " 'faction': 333,\n",
              " 'front': 334,\n",
              " 'result': 335,\n",
              " 'malta': 336,\n",
              " 'fayez': 337,\n",
              " 'mustafa': 338,\n",
              " 'plan': 339,\n",
              " 'financial': 340,\n",
              " 'next': 341,\n",
              " 'issue': 342,\n",
              " 'closed': 343,\n",
              " 'arm': 344,\n",
              " 'mediterranean': 345,\n",
              " 'supported': 346,\n",
              " 'mile': 347,\n",
              " 'violence': 348,\n",
              " 'press': 349,\n",
              " 'targeted': 350,\n",
              " 'resident': 351,\n",
              " 'family': 352,\n",
              " 'infection': 353,\n",
              " 'civil': 354,\n",
              " 'centre': 355,\n",
              " 'step': 356,\n",
              " 'main': 357,\n",
              " 'eu': 358,\n",
              " 'africa': 359,\n",
              " 'ahmed': 360,\n",
              " 'following': 361,\n",
              " 'campaign': 362,\n",
              " 'attacked': 363,\n",
              " 'target': 364,\n",
              " 'carrying': 365,\n",
              " 'latest': 366,\n",
              " 'board': 367,\n",
              " 'nine': 368,\n",
              " 'worker': 369,\n",
              " 'recovered': 370,\n",
              " 'early': 371,\n",
              " 'industry': 372,\n",
              " 'provide': 373,\n",
              " 'bpd': 374,\n",
              " 'condition': 375,\n",
              " 'order': 376,\n",
              " 'private': 377,\n",
              " 'humanitarian': 378,\n",
              " 'began': 379,\n",
              " 'clash': 380,\n",
              " 'march': 381,\n",
              " 'far': 382,\n",
              " 'ankara': 383,\n",
              " 'billion': 384,\n",
              " 'spread': 385,\n",
              " 'explosion': 386,\n",
              " 'bringing': 387,\n",
              " 'full': 388,\n",
              " 'unit': 389,\n",
              " 'program': 390,\n",
              " 'revealed': 391,\n",
              " 'expert': 392,\n",
              " 'embassy': 393,\n",
              " 'union': 394,\n",
              " 'european': 395,\n",
              " 'aligned': 396,\n",
              " 'sent': 397,\n",
              " 'unled': 398,\n",
              " 'using': 399,\n",
              " 'injured': 400,\n",
              " 'summit': 401,\n",
              " 'solution': 402,\n",
              " 'blockade': 403,\n",
              " 'alsarraj': 404,\n",
              " 'director': 405,\n",
              " 'sign': 406,\n",
              " 'good': 407,\n",
              " 'reach': 408,\n",
              " 'budget': 409,\n",
              " 'gecol': 410,\n",
              " 'place': 411,\n",
              " 'must': 412,\n",
              " 'refugee': 413,\n",
              " 'sudanese': 414,\n",
              " 'towards': 415,\n",
              " 'heavy': 416,\n",
              " 'pantsir': 417,\n",
              " 'command': 418,\n",
              " 'beginning': 419,\n",
              " 'house': 420,\n",
              " 'release': 421,\n",
              " 'across': 422,\n",
              " 'measure': 423,\n",
              " 'free': 424,\n",
              " 'percent': 425,\n",
              " 'solar': 426,\n",
              " 'increase': 427,\n",
              " 'e': 428,\n",
              " 'working': 429,\n",
              " 'chaos': 430,\n",
              " 'stop': 431,\n",
              " 'economy': 432,\n",
              " 'department': 433,\n",
              " 'organization': 434,\n",
              " 'sabha': 435,\n",
              " 'ramadan': 436,\n",
              " 'facebook': 437,\n",
              " 'mohamed': 438,\n",
              " 'threat': 439,\n",
              " 'many': 440,\n",
              " 'tobruk': 441,\n",
              " 'january': 442,\n",
              " 'arrested': 443,\n",
              " 'close': 444,\n",
              " 'move': 445,\n",
              " 'decision': 446,\n",
              " 'november': 447,\n",
              " 'petroleum': 448,\n",
              " 'ncdc': 449,\n",
              " 'initiative': 450,\n",
              " 'period': 451,\n",
              " 'equipment': 452,\n",
              " 'damage': 453,\n",
              " 'ongoing': 454,\n",
              " 'data': 455,\n",
              " 'ground': 456,\n",
              " 'date': 457,\n",
              " 'recognised': 458,\n",
              " 'russianmade': 459,\n",
              " 'warned': 460,\n",
              " 'earlier': 461,\n",
              " 'urged': 462,\n",
              " 'shot': 463,\n",
              " 'storm': 464,\n",
              " 'fund': 465,\n",
              " 'administration': 466,\n",
              " 'protest': 467,\n",
              " 'dollar': 468,\n",
              " 'coast': 469,\n",
              " 'envoy': 470,\n",
              " 'nato': 471,\n",
              " 'euro': 472,\n",
              " 'eni': 473,\n",
              " 'discussion': 474,\n",
              " 'capacity': 475,\n",
              " 'progress': 476,\n",
              " 'already': 477,\n",
              " 'ra': 478,\n",
              " 'despite': 479,\n",
              " 'partner': 480,\n",
              " 'programme': 481,\n",
              " 'resume': 482,\n",
              " 'ready': 483,\n",
              " 'bring': 484,\n",
              " 'august': 485,\n",
              " 'germany': 486,\n",
              " 'cairo': 487,\n",
              " 'tunis': 488,\n",
              " 'explained': 489,\n",
              " 'geneva': 490,\n",
              " 'located': 491,\n",
              " 'warring': 492,\n",
              " 'el': 493,\n",
              " 'unrecognized': 494,\n",
              " 'killing': 495,\n",
              " 'morning': 496,\n",
              " 'men': 497,\n",
              " 'june': 498,\n",
              " 'face': 499,\n",
              " 'isi': 500,\n",
              " 'ensure': 501,\n",
              " 'aimed': 502,\n",
              " 'trying': 503,\n",
              " 'registered': 504,\n",
              " 'sider': 505,\n",
              " 'sanalla': 506,\n",
              " 'participant': 507,\n",
              " 'lanuf': 508,\n",
              " 'bashagha': 509,\n",
              " 'response': 510,\n",
              " 'soon': 511,\n",
              " 'german': 512,\n",
              " 'gain': 513,\n",
              " 'largest': 514,\n",
              " 'future': 515,\n",
              " 'zone': 516,\n",
              " 'capture': 517,\n",
              " 'defence': 518,\n",
              " 'launch': 519,\n",
              " 'tanker': 520,\n",
              " 'km': 521,\n",
              " 'died': 522,\n",
              " 'eight': 523,\n",
              " 'sanction': 524,\n",
              " 'airstrikes': 525,\n",
              " 'tank': 526,\n",
              " 'stephanie': 527,\n",
              " 'road': 528,\n",
              " 'level': 529,\n",
              " 'long': 530,\n",
              " 'make': 531,\n",
              " 'amid': 532,\n",
              " 'achieve': 533,\n",
              " 'goal': 534,\n",
              " 'team': 535,\n",
              " 'nearly': 536,\n",
              " 'role': 537,\n",
              " 'inside': 538,\n",
              " 'conducted': 539,\n",
              " 'norland': 540,\n",
              " 'holding': 541,\n",
              " 'expertise': 542,\n",
              " 'troop': 543,\n",
              " 'provided': 544,\n",
              " 'positive': 545,\n",
              " 'community': 546,\n",
              " 'southwest': 547,\n",
              " 'coastal': 548,\n",
              " 'seize': 549,\n",
              " 'however': 550,\n",
              " 'yet': 551,\n",
              " 'continued': 552,\n",
              " 'accused': 553,\n",
              " 'anadolu': 554,\n",
              " 'ouster': 555,\n",
              " 'ruler': 556,\n",
              " 'left': 557,\n",
              " 'rule': 558,\n",
              " 'tunisian': 559,\n",
              " 'seized': 560,\n",
              " 'fight': 561,\n",
              " 'sale': 562,\n",
              " 'forum': 563,\n",
              " 'acting': 564,\n",
              " 'stressed': 565,\n",
              " 'maltese': 566,\n",
              " 'tested': 567,\n",
              " 'dinar': 568,\n",
              " 'sarir': 569,\n",
              " 'suicide': 570,\n",
              " 'bomb': 571,\n",
              " 'addition': 572,\n",
              " 'coming': 573,\n",
              " 'market': 574,\n",
              " 'increased': 575,\n",
              " 'detail': 576,\n",
              " 'develop': 577,\n",
              " 'global': 578,\n",
              " 'british': 579,\n",
              " 'fathi': 580,\n",
              " 'concern': 581,\n",
              " 'phase': 582,\n",
              " 'via': 583,\n",
              " 'site': 584,\n",
              " 'recalled': 585,\n",
              " 'interest': 586,\n",
              " 'point': 587,\n",
              " 'mean': 588,\n",
              " 'issued': 589,\n",
              " 'different': 590,\n",
              " 'libyaheraldcom': 591,\n",
              " 'show': 592,\n",
              " 'child': 593,\n",
              " 'backed': 594,\n",
              " 'page': 595,\n",
              " 'large': 596,\n",
              " 'shelling': 597,\n",
              " 'lost': 598,\n",
              " 'mass': 599,\n",
              " 'graf': 600,\n",
              " 'assault': 601,\n",
              " 'brought': 602,\n",
              " 'law': 603,\n",
              " 'sea': 604,\n",
              " 'act': 605,\n",
              " 'immigrant': 606,\n",
              " 'six': 607,\n",
              " 'forced': 608,\n",
              " 'corruption': 609,\n",
              " 'commission': 610,\n",
              " 'advance': 611,\n",
              " 'recorded': 612,\n",
              " 'unified': 613,\n",
              " 'building': 614,\n",
              " 'presence': 615,\n",
              " 'include': 616,\n",
              " 'resource': 617,\n",
              " 'plant': 618,\n",
              " 'warns': 619,\n",
              " 'great': 620,\n",
              " 'present': 621,\n",
              " 'demonstration': 622,\n",
              " 'partnership': 623,\n",
              " 'post': 624,\n",
              " 'parliament': 625,\n",
              " 'reform': 626,\n",
              " 'failed': 627,\n",
              " 'violation': 628,\n",
              " 'warplane': 629,\n",
              " 'supplied': 630,\n",
              " 'mine': 631,\n",
              " 'woman': 632,\n",
              " 'person': 633,\n",
              " 'released': 634,\n",
              " 'legal': 635,\n",
              " 'much': 636,\n",
              " 'gunman': 637,\n",
              " 'europe': 638,\n",
              " 'taking': 639,\n",
              " 'asset': 640,\n",
              " 'secretary': 641,\n",
              " 'put': 642,\n",
              " 'started': 643,\n",
              " 'announcement': 644,\n",
              " 'shut': 645,\n",
              " 'fatality': 646,\n",
              " 'met': 647,\n",
              " 'flow': 648,\n",
              " 'daily': 649,\n",
              " 'exploration': 650,\n",
              " 'video': 651,\n",
              " 'providing': 652,\n",
              " 'sustainable': 653,\n",
              " 'implement': 654,\n",
              " 'staff': 655,\n",
              " 'carry': 656,\n",
              " 'cost': 657,\n",
              " 'facing': 658,\n",
              " 'emergency': 659,\n",
              " 'necessary': 660,\n",
              " 'noted': 661,\n",
              " 'seek': 662,\n",
              " 'phone': 663,\n",
              " 'leading': 664,\n",
              " 'egyptian': 665,\n",
              " 'currently': 666,\n",
              " 'various': 667,\n",
              " 'host': 668,\n",
              " 'special': 669,\n",
              " 'camp': 670,\n",
              " 'remain': 671,\n",
              " 'claimed': 672,\n",
              " 'wounded': 673,\n",
              " 'allied': 674,\n",
              " 'dead': 675,\n",
              " 'information': 676,\n",
              " 'founded': 677,\n",
              " 'hafter': 678,\n",
              " 'fair': 679,\n",
              " 'arrived': 680,\n",
              " 'stand': 681,\n",
              " 'tayyip': 682,\n",
              " 'diplomatic': 683,\n",
              " 'sudan': 684,\n",
              " 'artillery': 685,\n",
              " 'intervention': 686,\n",
              " 'affair': 687,\n",
              " 'embargo': 688,\n",
              " 'firm': 689,\n",
              " 'jordan': 690,\n",
              " 'conduct': 691,\n",
              " 'airstrike': 692,\n",
              " 'divided': 693,\n",
              " 'algeria': 694,\n",
              " 'unicef': 695,\n",
              " 'patient': 696,\n",
              " 'interim': 697,\n",
              " 'activity': 698,\n",
              " 'closure': 699,\n",
              " 'virtual': 700,\n",
              " 'caused': 701,\n",
              " 'technical': 702,\n",
              " 'implementation': 703,\n",
              " 'responsibility': 704,\n",
              " 'position': 705,\n",
              " 'continues': 706,\n",
              " 'chief': 707,\n",
              " 'lack': 708,\n",
              " 'claim': 709,\n",
              " 'become': 710,\n",
              " 'seven': 711,\n",
              " 'starting': 712,\n",
              " 'audit': 713,\n",
              " 'bureau': 714,\n",
              " 'visit': 715,\n",
              " 'food': 716,\n",
              " 'access': 717,\n",
              " 'approved': 718,\n",
              " 'diplomat': 719,\n",
              " 'biggest': 720,\n",
              " 'northwest': 721,\n",
              " 'victory': 722,\n",
              " 'holy': 723,\n",
              " 'away': 724,\n",
              " 'rocket': 725,\n",
              " 'landmines': 726,\n",
              " 'clearing': 727,\n",
              " 'xinhua': 728,\n",
              " 'incident': 729,\n",
              " 'deputy': 730,\n",
              " 'jet': 731,\n",
              " 'aljufra': 732,\n",
              " 'address': 733,\n",
              " 'thousand': 734,\n",
              " 'light': 735,\n",
              " 'proposed': 736,\n",
              " 'democratic': 737,\n",
              " 'action': 738,\n",
              " 'ally': 739,\n",
              " 'attempt': 740,\n",
              " 'coalition': 741,\n",
              " 'split': 742,\n",
              " 'announces': 743,\n",
              " 'hundred': 744,\n",
              " 'iraq': 745,\n",
              " 'ten': 746,\n",
              " 'tribe': 747,\n",
              " 'returned': 748,\n",
              " 'storage': 749,\n",
              " 'guterres': 750,\n",
              " 'school': 751,\n",
              " 'mou': 752,\n",
              " 'third': 753,\n",
              " 'sebha': 754,\n",
              " 'expected': 755,\n",
              " 'among': 756,\n",
              " 'affected': 757,\n",
              " 'virus': 758,\n",
              " 'abroad': 759,\n",
              " 'street': 760,\n",
              " 'price': 761,\n",
              " 'possible': 762,\n",
              " 'resumption': 763,\n",
              " 'increasing': 764,\n",
              " 'technology': 765,\n",
              " 'almost': 766,\n",
              " 'included': 767,\n",
              " 'importance': 768,\n",
              " 'immediately': 769,\n",
              " 'signing': 770,\n",
              " 'strengthening': 771,\n",
              " 'police': 772,\n",
              " 'challenge': 773,\n",
              " 'maintenance': 774,\n",
              " 'proposal': 775,\n",
              " 'safety': 776,\n",
              " 'individual': 777,\n",
              " 'meet': 778,\n",
              " 'problem': 779,\n",
              " 'industrial': 780,\n",
              " 'arrest': 781,\n",
              " 'american': 782,\n",
              " 'regarding': 783,\n",
              " 'february': 784,\n",
              " 'website': 785,\n",
              " 'stake': 786,\n",
              " 'mohammed': 787,\n",
              " 'district': 788,\n",
              " 'massive': 789,\n",
              " 'focus': 790,\n",
              " 'feel': 791,\n",
              " 'unbacked': 792,\n",
              " 'academy': 793,\n",
              " 'involvement': 794,\n",
              " 'posted': 795,\n",
              " 'truck': 796,\n",
              " 'gave': 797,\n",
              " 'advantage': 798,\n",
              " 'intensified': 799,\n",
              " 'inflicted': 800,\n",
              " 'shore': 801,\n",
              " 'missile': 802,\n",
              " 'missing': 803,\n",
              " 'procedure': 804,\n",
              " 'hospital': 805,\n",
              " 'negotiation': 806,\n",
              " 'tie': 807,\n",
              " 'boat': 808,\n",
              " 'provision': 809,\n",
              " 'syrian': 810,\n",
              " 'airline': 811,\n",
              " 'ammunition': 812,\n",
              " 'indicated': 813,\n",
              " 'imposed': 814,\n",
              " 'responsible': 815,\n",
              " 'lpdf': 816,\n",
              " 'together': 817,\n",
              " 'stage': 818,\n",
              " 'regarded': 819,\n",
              " 'resolve': 820,\n",
              " 'critical': 821,\n",
              " 'greece': 822,\n",
              " 'relation': 823,\n",
              " 'immediate': 824,\n",
              " 'contact': 825,\n",
              " 'pfg': 826,\n",
              " 'secretarygeneral': 827,\n",
              " 'iom': 828,\n",
              " 'living': 829,\n",
              " 'sample': 830,\n",
              " 'test': 831,\n",
              " 'projected': 832,\n",
              " 'nearby': 833,\n",
              " 'activist': 834,\n",
              " 'vital': 835,\n",
              " 'former': 836,\n",
              " 'infrastructure': 837,\n",
              " 'aim': 838,\n",
              " 'generation': 839,\n",
              " 'throughout': 840,\n",
              " 'management': 841,\n",
              " 'managed': 842,\n",
              " 'outside': 843,\n",
              " 'follow': 844,\n",
              " 'faiez': 845,\n",
              " 'deficit': 846,\n",
              " 'expressed': 847,\n",
              " 'delegation': 848,\n",
              " 'belonging': 849,\n",
              " 'entrepreneur': 850,\n",
              " 'unrecognised': 851,\n",
              " 'strongman': 852,\n",
              " 'headed': 853,\n",
              " 'kilometer': 854,\n",
              " 'pressure': 855,\n",
              " 'lead': 856,\n",
              " 'gained': 857,\n",
              " 'severe': 858,\n",
              " 'dozen': 859,\n",
              " 'casualty': 860,\n",
              " 'cause': 861,\n",
              " 'internationallyrecognized': 862,\n",
              " 'counter': 863,\n",
              " 'location': 864,\n",
              " 'crime': 865,\n",
              " 'top': 866,\n",
              " 'passenger': 867,\n",
              " 'condemned': 868,\n",
              " 'suspected': 869,\n",
              " 'reporter': 870,\n",
              " 'istanbul': 871,\n",
              " 'cargo': 872,\n",
              " 'britain': 873,\n",
              " 'soldier': 874,\n",
              " 'declared': 875,\n",
              " 'repeated': 876,\n",
              " 'currency': 877,\n",
              " 'ended': 878,\n",
              " 'treasury': 879,\n",
              " 'upon': 880,\n",
              " 'brega': 881,\n",
              " 'peaceful': 882,\n",
              " 'janjaweed': 883,\n",
              " 'wagner': 884,\n",
              " 'targeting': 885,\n",
              " 'hifter': 886,\n",
              " 'half': 887,\n",
              " 'permanent': 888,\n",
              " 'africom': 889,\n",
              " 'growing': 890,\n",
              " 'land': 891,\n",
              " 'outbreak': 892,\n",
              " 'nov': 893,\n",
              " 'particularly': 894,\n",
              " 'pm': 895,\n",
              " 'low': 896,\n",
              " 'rescued': 897,\n",
              " 'reduce': 898,\n",
              " 'waha': 899,\n",
              " 'telemedicine': 900,\n",
              " 'attacker': 901,\n",
              " 'sanallah': 902,\n",
              " 'secure': 903,\n",
              " 'operational': 904,\n",
              " 'opec': 905,\n",
              " 'corp': 906,\n",
              " 'amount': 907,\n",
              " 'producing': 908,\n",
              " 'le': 909,\n",
              " 'analyst': 910,\n",
              " 'even': 911,\n",
              " 'zallaf': 912,\n",
              " 'suffering': 913,\n",
              " 'comprehensive': 914,\n",
              " 'seeking': 915,\n",
              " 'assistance': 916,\n",
              " 'run': 917,\n",
              " 'going': 918,\n",
              " 'employee': 919,\n",
              " 'coordination': 920,\n",
              " 'rapid': 921,\n",
              " 'showed': 922,\n",
              " 'letter': 923,\n",
              " 'relevant': 924,\n",
              " 'followed': 925,\n",
              " 'risk': 926,\n",
              " 'strong': 927,\n",
              " 'meanwhile': 928,\n",
              " 'trade': 929,\n",
              " 'hand': 930,\n",
              " 'withdrawal': 931,\n",
              " 'settlement': 932,\n",
              " 'stronghold': 933,\n",
              " 'denied': 934,\n",
              " 'committed': 935,\n",
              " 'known': 936,\n",
              " 'advanced': 937,\n",
              " 'blow': 938,\n",
              " 'series': 939,\n",
              " 'big': 940,\n",
              " 'briefing': 941,\n",
              " 'stressing': 942,\n",
              " 'wing': 943,\n",
              " 'sending': 944,\n",
              " 'southeast': 945,\n",
              " 'almismari': 946,\n",
              " 'life': 947,\n",
              " 'explosive': 948,\n",
              " 'planted': 949,\n",
              " 'tv': 950,\n",
              " 'discovered': 951,\n",
              " 'remains': 952,\n",
              " 'channel': 953,\n",
              " 'later': 954,\n",
              " 'doctor': 955,\n",
              " 'dec': 956,\n",
              " 'welcomed': 957,\n",
              " 'personal': 958,\n",
              " 'analysis': 959,\n",
              " 'protester': 960,\n",
              " 'detained': 961,\n",
              " 'al': 962,\n",
              " 'mayor': 963,\n",
              " 'ship': 964,\n",
              " 'exercise': 965,\n",
              " 'maritime': 966,\n",
              " 'governor': 967,\n",
              " 'kaniyat': 968,\n",
              " 'executive': 969,\n",
              " 'serious': 970,\n",
              " 'population': 971,\n",
              " 'route': 972,\n",
              " 'escalated': 973,\n",
              " 'seat': 974,\n",
              " 'airportit': 975,\n",
              " 'huge': 976,\n",
              " 'eid': 977,\n",
              " 'mostly': 978,\n",
              " 'negative': 979,\n",
              " 'calling': 980,\n",
              " 'jan': 981,\n",
              " 'israel': 982,\n",
              " 'iran': 983,\n",
              " 'contribution': 984,\n",
              " 'change': 985,\n",
              " 'money': 986,\n",
              " 'monitoring': 987,\n",
              " 'matter': 988,\n",
              " 'french': 989,\n",
              " 'want': 990,\n",
              " 'allowed': 991,\n",
              " 'abide': 992,\n",
              " 'struggle': 993,\n",
              " 'migration': 994,\n",
              " 'directorate': 995,\n",
              " 'compared': 996,\n",
              " 'lockdown': 997,\n",
              " 'cash': 998,\n",
              " 'stranded': 999,\n",
              " 'labour': 1000,\n",
              " ...}"
            ]
          },
          "execution_count": 73,
          "metadata": {},
          "output_type": "execute_result"
        }
      ],
      "source": [
        "tokenizer.word_index"
      ]
    },
    {
      "cell_type": "code",
      "execution_count": 74,
      "metadata": {
        "colab": {
          "base_uri": "https://localhost:8080/"
        },
        "id": "f33z1QoWg3Q7",
        "outputId": "a33c4e24-d4ac-4239-fee3-f3e2effc0c13"
      },
      "outputs": [
        {
          "data": {
            "text/plain": [
              "6136"
            ]
          },
          "execution_count": 74,
          "metadata": {},
          "output_type": "execute_result"
        }
      ],
      "source": [
        "len(tokenizer.word_index)"
      ]
    },
    {
      "cell_type": "code",
      "execution_count": 75,
      "metadata": {
        "colab": {
          "base_uri": "https://localhost:8080/"
        },
        "id": "OBmoto1Sg3Q7",
        "outputId": "e8257ccd-94f3-4b46-c779-c47ffa28398a"
      },
      "outputs": [],
      "source": [
        "X_num_tokens = tokenizer.texts_to_sequences(X)\n"
      ]
    },
    {
      "cell_type": "code",
      "execution_count": 76,
      "metadata": {
        "id": "D0n-fRAqg3Q7"
      },
      "outputs": [],
      "source": [
        "num_tokens = [len(tokens) for tokens in X_num_tokens]\n",
        "num_tokens = np.array(num_tokens)"
      ]
    },
    {
      "cell_type": "code",
      "execution_count": 77,
      "metadata": {
        "colab": {
          "base_uri": "https://localhost:8080/"
        },
        "id": "JGmRVrG-g3Q7",
        "outputId": "16cca0a8-3477-4606-d820-617d01c236d1"
      },
      "outputs": [
        {
          "data": {
            "text/plain": [
              "74.42857142857143"
            ]
          },
          "execution_count": 77,
          "metadata": {},
          "output_type": "execute_result"
        }
      ],
      "source": [
        "num_tokens.mean()"
      ]
    },
    {
      "cell_type": "code",
      "execution_count": 78,
      "metadata": {
        "colab": {
          "base_uri": "https://localhost:8080/"
        },
        "id": "okBGzmmag3Q7",
        "outputId": "603867de-01ad-4bd9-ff9e-be2dc3f1c7dd"
      },
      "outputs": [
        {
          "data": {
            "text/plain": [
              "142"
            ]
          },
          "execution_count": 78,
          "metadata": {},
          "output_type": "execute_result"
        }
      ],
      "source": [
        "num_tokens.max()"
      ]
    },
    {
      "cell_type": "code",
      "execution_count": 79,
      "metadata": {
        "id": "FdvoZ6-yg3Q7"
      },
      "outputs": [],
      "source": [
        "max_tokens = 112"
      ]
    },
    {
      "cell_type": "code",
      "execution_count": 80,
      "metadata": {
        "id": "bDSuKN5gg3Q7"
      },
      "outputs": [],
      "source": [
        "X_pad = pad_sequences(X_num_tokens, maxlen = max_tokens)"
      ]
    },
    {
      "cell_type": "code",
      "execution_count": 81,
      "metadata": {
        "colab": {
          "base_uri": "https://localhost:8080/"
        },
        "id": "lNAW27nng3Q8",
        "outputId": "d6933bab-8b5e-4322-963d-9737bf76521c"
      },
      "outputs": [
        {
          "data": {
            "text/plain": [
              "(462, 112)"
            ]
          },
          "execution_count": 81,
          "metadata": {},
          "output_type": "execute_result"
        }
      ],
      "source": [
        "X_pad.shape"
      ]
    },
    {
      "cell_type": "code",
      "execution_count": 82,
      "metadata": {
        "id": "k7BE9nhrg3Q8"
      },
      "outputs": [],
      "source": [
        "label_encoder = LabelEncoder()\n",
        "y_encoded = label_encoder.fit_transform(df[\"Event Category\"])"
      ]
    },
    {
      "cell_type": "code",
      "execution_count": 83,
      "metadata": {
        "id": "hO8Bfuzng3Q8"
      },
      "outputs": [],
      "source": [
        "X_train, X_test, y_train, y_test = train_test_split(X_pad, y_encoded, test_size=0.3, stratify=y, random_state=101)"
      ]
    },
    {
      "cell_type": "code",
      "execution_count": 84,
      "metadata": {
        "id": "uJYdkHuXg3Q8"
      },
      "outputs": [],
      "source": [
        "model = Sequential()\n",
        "num_classes=len(df[\"Event Category\"].unique())\n",
        "embedding_size = 500\n",
        "\n",
        "model.add(Embedding(input_dim=num_words,\n",
        "                    output_dim=embedding_size,\n",
        "                    input_length=max_tokens))\n",
        "model.add(Dropout(0.2))\n",
        "\n",
        "model.add(GRU(units=250, return_sequences=True))\n",
        "model.add(Dropout(0.2))\n",
        "\n",
        "model.add(GRU(units=100, return_sequences=True))\n",
        "model.add(Dropout(0.2))\n",
        "\n",
        "model.add(GRU(units=50, return_sequences=True))\n",
        "model.add(Dropout(0.2))\n",
        "\n",
        "model.add(GRU(units=25))\n",
        "model.add(Dropout(0.2))\n",
        "\n",
        "model.add(Dense(num_classes, activation='softmax'))\n",
        "\n",
        "\n"
      ]
    },
    {
      "cell_type": "code",
      "execution_count": 85,
      "metadata": {
        "id": "jLHqikTzg3Q8"
      },
      "outputs": [],
      "source": [
        "model.compile(optimizer='adam', loss='sparse_categorical_crossentropy', metrics=['accuracy'])"
      ]
    },
    {
      "cell_type": "code",
      "execution_count": 86,
      "metadata": {
        "colab": {
          "base_uri": "https://localhost:8080/"
        },
        "id": "U2_uvc07g3Q8",
        "outputId": "74e543b9-17b7-434c-e359-9bc9a793c7aa"
      },
      "outputs": [
        {
          "name": "stdout",
          "output_type": "stream",
          "text": [
            "Epoch 1/10\n",
            "11/11 [==============================] - 37s 2s/step - loss: 2.1870 - accuracy: 0.2724 - val_loss: 2.0160 - val_accuracy: 0.2878\n",
            "Epoch 2/10\n",
            "11/11 [==============================] - 12s 1s/step - loss: 1.9454 - accuracy: 0.3065 - val_loss: 1.8150 - val_accuracy: 0.3525\n",
            "Epoch 3/10\n",
            "11/11 [==============================] - 15s 1s/step - loss: 1.6602 - accuracy: 0.4025 - val_loss: 1.7132 - val_accuracy: 0.3597\n",
            "Epoch 4/10\n",
            "11/11 [==============================] - 15s 1s/step - loss: 1.4203 - accuracy: 0.4954 - val_loss: 1.6806 - val_accuracy: 0.4460\n",
            "Epoch 5/10\n",
            "11/11 [==============================] - 15s 1s/step - loss: 1.1244 - accuracy: 0.6687 - val_loss: 1.5924 - val_accuracy: 0.4964\n",
            "Epoch 6/10\n",
            "11/11 [==============================] - 15s 1s/step - loss: 0.9257 - accuracy: 0.7616 - val_loss: 1.6357 - val_accuracy: 0.5180\n",
            "Epoch 7/10\n",
            "11/11 [==============================] - 16s 1s/step - loss: 0.7141 - accuracy: 0.8297 - val_loss: 1.6823 - val_accuracy: 0.5396\n",
            "Epoch 8/10\n",
            "11/11 [==============================] - 17s 2s/step - loss: 0.5634 - accuracy: 0.9009 - val_loss: 1.7280 - val_accuracy: 0.5180\n",
            "Epoch 9/10\n",
            "11/11 [==============================] - 16s 1s/step - loss: 0.4357 - accuracy: 0.9195 - val_loss: 1.6932 - val_accuracy: 0.5540\n",
            "Epoch 10/10\n",
            "11/11 [==============================] - 14s 1s/step - loss: 0.3481 - accuracy: 0.9381 - val_loss: 1.8496 - val_accuracy: 0.4964\n"
          ]
        },
        {
          "data": {
            "text/plain": [
              "<keras.src.callbacks.History at 0x23eacbab340>"
            ]
          },
          "execution_count": 86,
          "metadata": {},
          "output_type": "execute_result"
        }
      ],
      "source": [
        "model.fit(X_train, y_train, epochs=10, validation_data=(X_test, y_test))\n"
      ]
    },
    {
      "cell_type": "code",
      "execution_count": 87,
      "metadata": {
        "colab": {
          "base_uri": "https://localhost:8080/"
        },
        "id": "ocOltpXIg3Q9",
        "outputId": "33fec539-065d-4b88-f4c9-af8fce26a04f"
      },
      "outputs": [
        {
          "name": "stdout",
          "output_type": "stream",
          "text": [
            "5/5 [==============================] - 1s 186ms/step - loss: 1.8496 - accuracy: 0.4964\n"
          ]
        }
      ],
      "source": [
        "test_loss, test_acc = model.evaluate(X_test, y_test)"
      ]
    },
    {
      "cell_type": "code",
      "execution_count": 88,
      "metadata": {
        "colab": {
          "base_uri": "https://localhost:8080/"
        },
        "id": "TExH3Kvzg3Q9",
        "outputId": "c6ca6dc5-7314-4a4c-a55a-087498dca6dd"
      },
      "outputs": [
        {
          "name": "stdout",
          "output_type": "stream",
          "text": [
            "5/5 [==============================] - 4s 258ms/step\n"
          ]
        }
      ],
      "source": [
        "predictions = model.predict(X_test)"
      ]
    },
    {
      "cell_type": "code",
      "execution_count": 89,
      "metadata": {
        "id": "xzqBDK9Xg3Q9"
      },
      "outputs": [],
      "source": [
        "predicted_labels = label_encoder.inverse_transform(tf.argmax(predictions, axis=1).numpy())"
      ]
    },
    {
      "cell_type": "code",
      "execution_count": 90,
      "metadata": {
        "colab": {
          "base_uri": "https://localhost:8080/"
        },
        "id": "jlFbeZLug3Q9",
        "outputId": "74e41c46-16d3-4d56-bbcf-cfbe2d2185c2"
      },
      "outputs": [
        {
          "data": {
            "text/plain": [
              "array([[ 2,  0,  4,  1,  0,  0,  0,  0,  0,  0],\n",
              "       [ 0, 29,  2,  1,  1,  5,  2,  0,  0,  0],\n",
              "       [ 3,  4,  8,  1,  2,  2,  2,  0,  1,  0],\n",
              "       [ 3,  1,  0,  9,  1,  0,  0,  0,  2,  0],\n",
              "       [ 0,  0,  0,  0,  8,  1,  6,  0,  0,  0],\n",
              "       [ 2,  0,  1,  0,  0,  3,  0,  0,  4,  0],\n",
              "       [ 0,  1,  1,  1,  4,  1,  3,  0,  0,  0],\n",
              "       [ 0,  2,  0,  0,  0,  0,  0,  0,  0,  0],\n",
              "       [ 2,  1,  0,  0,  0,  1,  1,  0,  7,  0],\n",
              "       [ 0,  1,  0,  0,  0,  1,  0,  0,  1,  0]], dtype=int64)"
            ]
          },
          "execution_count": 90,
          "metadata": {},
          "output_type": "execute_result"
        }
      ],
      "source": [
        "confusion_matrix(label_encoder.inverse_transform(y_test), predicted_labels)\n"
      ]
    },
    {
      "cell_type": "code",
      "execution_count": 91,
      "metadata": {
        "colab": {
          "base_uri": "https://localhost:8080/"
        },
        "id": "xHNKm7-noKb2",
        "outputId": "cba9a24c-37a3-4a09-c0e3-34dd655c516b"
      },
      "outputs": [
        {
          "data": {
            "text/plain": [
              "0.49640288949012756"
            ]
          },
          "execution_count": 91,
          "metadata": {},
          "output_type": "execute_result"
        }
      ],
      "source": [
        "test_acc"
      ]
    },
    {
      "cell_type": "markdown",
      "metadata": {},
      "source": [
        "Best results are yield by KNN. So we save KNN Model"
      ]
    },
    {
      "cell_type": "code",
      "execution_count": 157,
      "metadata": {},
      "outputs": [],
      "source": [
        "with open('KNNModel.pkl', 'wb') as fin:\n",
        "  pickle.dump(knn, fin)"
      ]
    },
    {
      "cell_type": "markdown",
      "metadata": {},
      "source": [
        "### Classification for Sub Categories"
      ]
    },
    {
      "cell_type": "markdown",
      "metadata": {},
      "source": [
        "Since it would be hard to train for every sub category, we used Zeroshot Learning for sub category classification"
      ]
    },
    {
      "cell_type": "code",
      "execution_count": 99,
      "metadata": {},
      "outputs": [
        {
          "name": "stderr",
          "output_type": "stream",
          "text": [
            "No model was supplied, defaulted to roberta-large-mnli and revision 130fb28 (https://huggingface.co/roberta-large-mnli).\n",
            "Using a pipeline without specifying a model name and revision in production is not recommended.\n",
            "All PyTorch model weights were used when initializing TFRobertaForSequenceClassification.\n",
            "\n",
            "All the weights of TFRobertaForSequenceClassification were initialized from the PyTorch model.\n",
            "If your task is similar to the task the model of the checkpoint was trained on, you can already use TFRobertaForSequenceClassification for predictions without further training.\n"
          ]
        }
      ],
      "source": [
        "from transformers import pipeline\n",
        "classifier = pipeline(\"zero-shot-classification\")"
      ]
    },
    {
      "cell_type": "code",
      "execution_count": 100,
      "metadata": {},
      "outputs": [],
      "source": [
        "#KNN\n",
        "def predictEventType(newdata):\n",
        "  text=newdata['Headline'] + \" \" + newdata['Abstract'] + \" \" + newdata['First Part']\n",
        "  text=cleantext(text)\n",
        "  vector=tf_idf_vectorizer.transform([text]).toarray()\n",
        "  return knn.predict(vector)"
      ]
    },
    {
      "cell_type": "code",
      "execution_count": 149,
      "metadata": {},
      "outputs": [],
      "source": [
        "def predictSubCategories(newdata):\n",
        "  event=predictEventType(newdata)[0]\n",
        "  newdata=newdata['Headline'] + \" \" + newdata['Abstract'] + \" \" + newdata['First Part']\n",
        "  flsub=classifier(newdata,\n",
        "                   candidate_labels=df[df['Event Category']==event]['1st Level Sub Category'].unique()\n",
        "    )\n",
        "  fl=flsub[\"labels\"][np.argmax(flsub[\"scores\"])]\n",
        "\n",
        "  if df[(df['Event Category']==event) & (df['1st Level Sub Category']==fl)]['2nd Level Sub Category'].nunique()>0:\n",
        "    slsub=classifier(newdata,\n",
        "                    candidate_labels=df[(df['Event Category']==event) & (df['1st Level Sub Category']==fl)]['2nd Level Sub Category'].unique()\n",
        "      )\n",
        "    sl=slsub[\"labels\"][np.argmax(slsub[\"scores\"])]\n",
        "  elif df[(df['Event Category']==event) & (df['1st Level Sub Category']==fl)]['2nd Level Sub Category'].nunique()==1:\n",
        "    sl=df[(df['Event Category']==event) & (df['1st Level Sub Category']==fl)]['2nd Level Sub Category'].unique()\n",
        "  else:\n",
        "    sl=np.NaN\n",
        "    return event, fl, sl, np.NaN\n",
        "\n",
        "\n",
        "\n",
        "  if df[(df['Event Category']==event) & (df['1st Level Sub Category']==fl) & (df['2nd Level Sub Category']==sl)]['3rd Level Sub Category'].nunique()>1:\n",
        "    tlsub=classifier(newdata,\n",
        "                    candidate_labels=df[(df['Event Category']==event) & (df['1st Level Sub Category']==fl) & (df['2nd Level Sub Category']==sl)]['3rd Level Sub Category'].unique()\n",
        "    )\n",
        "    tl=tlsub[\"labels\"][np.argmax(tlsub[\"scores\"])]\n",
        "  elif df[(df['Event Category']==event) & (df['1st Level Sub Category']==fl) & (df['2nd Level Sub Category']==sl)]['3rd Level Sub Category'].nunique()==1:\n",
        "    tl=df[(df['Event Category']==event) & (df['1st Level Sub Category']==fl) & (df['2nd Level Sub Category']==sl)]['3rd Level Sub Category'].unique()[0]\n",
        "  else:\n",
        "    tl=np.NaN\n",
        "  return event, fl, sl, tl\n"
      ]
    },
    {
      "cell_type": "code",
      "execution_count": 150,
      "metadata": {},
      "outputs": [
        {
          "name": "stdout",
          "output_type": "stream",
          "text": [
            "event: politicalEvents\n",
            "1st Level Sub Category: governmentChange\n",
            "2nd Level Sub Category: nan\n",
            "3rd Level Sub Category: nan\n"
          ]
        }
      ],
      "source": [
        "newdata=df.iloc[350]\n",
        "event, fl, sl, tl=predictSubCategories(newdata)\n",
        "print(\"event:\",event)\n",
        "print(\"1st Level Sub Category:\",fl)\n",
        "print(\"2nd Level Sub Category:\",sl)\n",
        "print(\"3rd Level Sub Category:\",tl)\n",
        "\n"
      ]
    },
    {
      "cell_type": "markdown",
      "metadata": {},
      "source": [
        "**Check It Yourself**"
      ]
    },
    {
      "cell_type": "code",
      "execution_count": 153,
      "metadata": {},
      "outputs": [
        {
          "name": "stdout",
          "output_type": "stream",
          "text": [
            "event: naturalDisasters\n",
            "1st Level Sub Category: meteorological\n",
            "2nd Level Sub Category: storm\n",
            "3rd Level Sub Category: convectiveStorm\n"
          ]
        }
      ],
      "source": [
        "#Please write \"Headline\", \"Abstract\" and \"First Part\" of the event into the qutation marks\n",
        "\n",
        "headline=\"Headline\"\n",
        "abstract=\"Abstract\"\n",
        "firstPart=\"First Part\"\n",
        "\n",
        "newdata=pd.DataFrame({\"Headline\":[headline],\"Abstract\":[abstract],\"First Part\":[firstPart]}).iloc[0]\n",
        "event, fl, sl, tl=predictSubCategories(newdata)\n",
        "print(\"event:\",event)\n",
        "print(\"1st Level Sub Category:\",fl)\n",
        "print(\"2nd Level Sub Category:\",sl)\n",
        "print(\"3rd Level Sub Category:\",tl)"
      ]
    },
    {
      "cell_type": "markdown",
      "metadata": {
        "id": "5v11OAW6g3Qn"
      },
      "source": [
        "## Challenges"
      ]
    },
    {
      "cell_type": "markdown",
      "metadata": {
        "id": "1GH1a3atg3Qn"
      },
      "source": [
        "### 1)\tSelect one event type from the event category and develop your text classification model. Please keep in mind that, if you select the event, your model should predict the relevant sub-level categories. For example, event category: Conflict, 1st Level Sub Category: Armed Conflicts, 2nd Level Sub Category: Explosions/Remote Violence, 3rd Level Sub Category: Air/drone attack / air defense. We expect you to create a hierarchical text classification model. You can create one model or multiple models."
      ]
    },
    {
      "cell_type": "markdown",
      "metadata": {
        "id": "Lw-QpGJQg3Qo"
      },
      "source": [
        "Hierarchical text classification is used to classificate documents into a hierarchical structure of categories. In hierarchical classification, categories are organized in tree-like structure. Each subclass is related to just one high level class but may have more than one subclass. In hierarchical text classification two types of training process may be applied.\n",
        "<br>*Prograssive Training:* Model is trained firstly  for high level categories, then for low level categories\n",
        "<br>*Joint Learning:* Model is trained for high and low level categories at once"
      ]
    },
    {
      "cell_type": "markdown",
      "metadata": {
        "id": "y8kAAZUzg3Q9"
      },
      "source": [
        "### 2)\tWe expect to see your approach on both ML and DL. Present your model scores through evaluation metrics and ideal hyperparameters."
      ]
    },
    {
      "cell_type": "markdown",
      "metadata": {
        "id": "i17IFly3g3Q9"
      },
      "source": [
        "I have tried 6 Machine Learning and 1 Deep Learning models. I have applied cross validation for machine learning models and manually tried some hyperparameters for deep learning model since deep learning takes more time to run. I used accuracy metric for evaluation."
      ]
    },
    {
      "cell_type": "markdown",
      "metadata": {
        "id": "0ImChZVKg3Q-"
      },
      "source": [
        "### 3)\tYou will work with a very small dataset. Please report the challenges while you are working with such kind of small datasets and explain your approaches to overcome this problem."
      ]
    },
    {
      "cell_type": "markdown",
      "metadata": {
        "id": "jIvqAKeJg3Q-"
      },
      "source": [
        "Small datasets are hard to work on. The models always have the probability to overfit on the data. To overcome this problem we may use data augmentation techniques but since some categories have so few data, data augmentation have big risk to generate misslabeled samples."
      ]
    },
    {
      "cell_type": "markdown",
      "metadata": {
        "id": "GwfCl33Pg3Q-"
      },
      "source": [
        "### 4)\tThe shared data is whole dataset (train + test dataset). Please clearly state the size of your train and test dataset."
      ]
    },
    {
      "cell_type": "markdown",
      "metadata": {
        "id": "C1iitN-Ng3Q-"
      },
      "source": [
        "When we have a big data set we can make test set portion smaller like %1-%2. But in case of small datasets like this one, we have to make dataset portion bigger.\n",
        "<br> In this dataset we have 462 entries. we split the data into train and test sets 70% and 30%. We have 312 entry in training set and 139 entry in test set.\n",
        "<br> Because the data is imbalanced, we use stratify=y to distribute the data proportionally. You have to have at least one sample from each category in test set or else we can not evaluate the model for that category."
      ]
    },
    {
      "cell_type": "markdown",
      "metadata": {
        "id": "MQUN1_O2g3Q-"
      },
      "source": [
        "### 5)\tWhich text classification model have you used and why?"
      ]
    },
    {
      "cell_type": "markdown",
      "metadata": {
        "id": "LiR1ZUH0g3Q-"
      },
      "source": [
        "I have used Naive Bayes, Logistic Regression, Support Vector Machines (SVM), K-Nearest Neighbor (KNN), Random Forest, Adaboost as Mashine Learning Algoritms and Gated Recurrent Unit (GRU) as a Deep Learning Algorithm to see which classification algorithm would yield a better result.\n",
        "<br> I have chosen KNN with k=3 as the best algorithm for this dataset"
      ]
    },
    {
      "cell_type": "markdown",
      "metadata": {
        "id": "MvCPWNjvg3Q-"
      },
      "source": [
        "### 6)\tExplain hyperparameter tuning. How did hyperparameters affect your model?"
      ]
    },
    {
      "cell_type": "markdown",
      "metadata": {
        "id": "ZYaOvVkEg3Q-"
      },
      "source": [
        "Hyperparameter tuning is choosing the best hyperparameters for the classification models. I have used 10 fold cross validation for hyperparameter tuning. K-fold cross validation tries every hyperparameter given by the user and chooses the best ones. To eleminate the effects of the randomness the algorithm splits the data into K parts, uses one part for validation and the rest for training. It changes the validation part one by one at each step. "
      ]
    },
    {
      "cell_type": "markdown",
      "metadata": {
        "id": "WODpdDv4g3Q-"
      },
      "source": [
        "### 7)\tDo not hesitate to apply the most up-to-date solutions in the field of NLP."
      ]
    },
    {
      "cell_type": "markdown",
      "metadata": {
        "id": "3XB5eMBYg3Q_"
      },
      "source": [
        "Since the dataset is small best way for classification is using Large Language Models.\n",
        "<br> We may use pretrained models and pretrained embeddings then fine tune the model for our dataset.\n",
        "<br> Another way is to use Zeroshot Learning.\n",
        "<br> We have used zeroshot Learning for sub level categories"
      ]
    }
  ],
  "metadata": {
    "colab": {
      "provenance": []
    },
    "kernelspec": {
      "display_name": "DL",
      "language": "python",
      "name": "python3"
    },
    "language_info": {
      "codemirror_mode": {
        "name": "ipython",
        "version": 3
      },
      "file_extension": ".py",
      "mimetype": "text/x-python",
      "name": "python",
      "nbconvert_exporter": "python",
      "pygments_lexer": "ipython3",
      "version": "3.9.0"
    },
    "widgets": {
      "application/vnd.jupyter.widget-state+json": {
        "02b7907d1b8a4c1bb9e8881445a1cceb": {
          "model_module": "@jupyter-widgets/controls",
          "model_module_version": "1.5.0",
          "model_name": "HTMLModel",
          "state": {
            "_dom_classes": [],
            "_model_module": "@jupyter-widgets/controls",
            "_model_module_version": "1.5.0",
            "_model_name": "HTMLModel",
            "_view_count": null,
            "_view_module": "@jupyter-widgets/controls",
            "_view_module_version": "1.5.0",
            "_view_name": "HTMLView",
            "description": "",
            "description_tooltip": null,
            "layout": "IPY_MODEL_52257f52ee254d7fa0a3d0a25151d61b",
            "placeholder": "​",
            "style": "IPY_MODEL_466af33758be44ed9a1093d7670fb4b3",
            "value": "model.safetensors: 100%"
          }
        },
        "04608ae5272041e3a216255948438e09": {
          "model_module": "@jupyter-widgets/base",
          "model_module_version": "1.2.0",
          "model_name": "LayoutModel",
          "state": {
            "_model_module": "@jupyter-widgets/base",
            "_model_module_version": "1.2.0",
            "_model_name": "LayoutModel",
            "_view_count": null,
            "_view_module": "@jupyter-widgets/base",
            "_view_module_version": "1.2.0",
            "_view_name": "LayoutView",
            "align_content": null,
            "align_items": null,
            "align_self": null,
            "border": null,
            "bottom": null,
            "display": null,
            "flex": null,
            "flex_flow": null,
            "grid_area": null,
            "grid_auto_columns": null,
            "grid_auto_flow": null,
            "grid_auto_rows": null,
            "grid_column": null,
            "grid_gap": null,
            "grid_row": null,
            "grid_template_areas": null,
            "grid_template_columns": null,
            "grid_template_rows": null,
            "height": null,
            "justify_content": null,
            "justify_items": null,
            "left": null,
            "margin": null,
            "max_height": null,
            "max_width": null,
            "min_height": null,
            "min_width": null,
            "object_fit": null,
            "object_position": null,
            "order": null,
            "overflow": null,
            "overflow_x": null,
            "overflow_y": null,
            "padding": null,
            "right": null,
            "top": null,
            "visibility": null,
            "width": null
          }
        },
        "04e639c7d662404ba1b99aeb9e8d5354": {
          "model_module": "@jupyter-widgets/base",
          "model_module_version": "1.2.0",
          "model_name": "LayoutModel",
          "state": {
            "_model_module": "@jupyter-widgets/base",
            "_model_module_version": "1.2.0",
            "_model_name": "LayoutModel",
            "_view_count": null,
            "_view_module": "@jupyter-widgets/base",
            "_view_module_version": "1.2.0",
            "_view_name": "LayoutView",
            "align_content": null,
            "align_items": null,
            "align_self": null,
            "border": null,
            "bottom": null,
            "display": null,
            "flex": null,
            "flex_flow": null,
            "grid_area": null,
            "grid_auto_columns": null,
            "grid_auto_flow": null,
            "grid_auto_rows": null,
            "grid_column": null,
            "grid_gap": null,
            "grid_row": null,
            "grid_template_areas": null,
            "grid_template_columns": null,
            "grid_template_rows": null,
            "height": null,
            "justify_content": null,
            "justify_items": null,
            "left": null,
            "margin": null,
            "max_height": null,
            "max_width": null,
            "min_height": null,
            "min_width": null,
            "object_fit": null,
            "object_position": null,
            "order": null,
            "overflow": null,
            "overflow_x": null,
            "overflow_y": null,
            "padding": null,
            "right": null,
            "top": null,
            "visibility": null,
            "width": null
          }
        },
        "054e24955e144390944bdd0a7338bce6": {
          "model_module": "@jupyter-widgets/controls",
          "model_module_version": "1.5.0",
          "model_name": "DescriptionStyleModel",
          "state": {
            "_model_module": "@jupyter-widgets/controls",
            "_model_module_version": "1.5.0",
            "_model_name": "DescriptionStyleModel",
            "_view_count": null,
            "_view_module": "@jupyter-widgets/base",
            "_view_module_version": "1.2.0",
            "_view_name": "StyleView",
            "description_width": ""
          }
        },
        "074e319a2f4e491ab851b505454a6472": {
          "model_module": "@jupyter-widgets/base",
          "model_module_version": "1.2.0",
          "model_name": "LayoutModel",
          "state": {
            "_model_module": "@jupyter-widgets/base",
            "_model_module_version": "1.2.0",
            "_model_name": "LayoutModel",
            "_view_count": null,
            "_view_module": "@jupyter-widgets/base",
            "_view_module_version": "1.2.0",
            "_view_name": "LayoutView",
            "align_content": null,
            "align_items": null,
            "align_self": null,
            "border": null,
            "bottom": null,
            "display": null,
            "flex": null,
            "flex_flow": null,
            "grid_area": null,
            "grid_auto_columns": null,
            "grid_auto_flow": null,
            "grid_auto_rows": null,
            "grid_column": null,
            "grid_gap": null,
            "grid_row": null,
            "grid_template_areas": null,
            "grid_template_columns": null,
            "grid_template_rows": null,
            "height": null,
            "justify_content": null,
            "justify_items": null,
            "left": null,
            "margin": null,
            "max_height": null,
            "max_width": null,
            "min_height": null,
            "min_width": null,
            "object_fit": null,
            "object_position": null,
            "order": null,
            "overflow": null,
            "overflow_x": null,
            "overflow_y": null,
            "padding": null,
            "right": null,
            "top": null,
            "visibility": null,
            "width": null
          }
        },
        "0c24468a0a054b81ac254137e31dee2a": {
          "model_module": "@jupyter-widgets/base",
          "model_module_version": "1.2.0",
          "model_name": "LayoutModel",
          "state": {
            "_model_module": "@jupyter-widgets/base",
            "_model_module_version": "1.2.0",
            "_model_name": "LayoutModel",
            "_view_count": null,
            "_view_module": "@jupyter-widgets/base",
            "_view_module_version": "1.2.0",
            "_view_name": "LayoutView",
            "align_content": null,
            "align_items": null,
            "align_self": null,
            "border": null,
            "bottom": null,
            "display": null,
            "flex": null,
            "flex_flow": null,
            "grid_area": null,
            "grid_auto_columns": null,
            "grid_auto_flow": null,
            "grid_auto_rows": null,
            "grid_column": null,
            "grid_gap": null,
            "grid_row": null,
            "grid_template_areas": null,
            "grid_template_columns": null,
            "grid_template_rows": null,
            "height": null,
            "justify_content": null,
            "justify_items": null,
            "left": null,
            "margin": null,
            "max_height": null,
            "max_width": null,
            "min_height": null,
            "min_width": null,
            "object_fit": null,
            "object_position": null,
            "order": null,
            "overflow": null,
            "overflow_x": null,
            "overflow_y": null,
            "padding": null,
            "right": null,
            "top": null,
            "visibility": null,
            "width": null
          }
        },
        "0f900ff33c574e368699160d8552491b": {
          "model_module": "@jupyter-widgets/controls",
          "model_module_version": "1.5.0",
          "model_name": "HBoxModel",
          "state": {
            "_dom_classes": [],
            "_model_module": "@jupyter-widgets/controls",
            "_model_module_version": "1.5.0",
            "_model_name": "HBoxModel",
            "_view_count": null,
            "_view_module": "@jupyter-widgets/controls",
            "_view_module_version": "1.5.0",
            "_view_name": "HBoxView",
            "box_style": "",
            "children": [
              "IPY_MODEL_d222dbfe039c4ff68247b714919a5211",
              "IPY_MODEL_507f5d35e00d4d18afc872cf427ce95a",
              "IPY_MODEL_d9e27cc0d4b942128a2be607cfc6b2a1"
            ],
            "layout": "IPY_MODEL_f4925a15f5814e90acbf6bfbb1b8088a"
          }
        },
        "168b40c0ef794bf79e4f0186da5c45b8": {
          "model_module": "@jupyter-widgets/controls",
          "model_module_version": "1.5.0",
          "model_name": "DescriptionStyleModel",
          "state": {
            "_model_module": "@jupyter-widgets/controls",
            "_model_module_version": "1.5.0",
            "_model_name": "DescriptionStyleModel",
            "_view_count": null,
            "_view_module": "@jupyter-widgets/base",
            "_view_module_version": "1.2.0",
            "_view_name": "StyleView",
            "description_width": ""
          }
        },
        "180f9c8e1e214dcb96fde854761a6443": {
          "model_module": "@jupyter-widgets/controls",
          "model_module_version": "1.5.0",
          "model_name": "FloatProgressModel",
          "state": {
            "_dom_classes": [],
            "_model_module": "@jupyter-widgets/controls",
            "_model_module_version": "1.5.0",
            "_model_name": "FloatProgressModel",
            "_view_count": null,
            "_view_module": "@jupyter-widgets/controls",
            "_view_module_version": "1.5.0",
            "_view_name": "ProgressView",
            "bar_style": "success",
            "description": "",
            "description_tooltip": null,
            "layout": "IPY_MODEL_5e3720c82db444a98cfe2e7436a36d2a",
            "max": 26,
            "min": 0,
            "orientation": "horizontal",
            "style": "IPY_MODEL_7690285c447245c1821636fd174206aa",
            "value": 26
          }
        },
        "219310b525b0487fab9137d466af80d1": {
          "model_module": "@jupyter-widgets/base",
          "model_module_version": "1.2.0",
          "model_name": "LayoutModel",
          "state": {
            "_model_module": "@jupyter-widgets/base",
            "_model_module_version": "1.2.0",
            "_model_name": "LayoutModel",
            "_view_count": null,
            "_view_module": "@jupyter-widgets/base",
            "_view_module_version": "1.2.0",
            "_view_name": "LayoutView",
            "align_content": null,
            "align_items": null,
            "align_self": null,
            "border": null,
            "bottom": null,
            "display": null,
            "flex": null,
            "flex_flow": null,
            "grid_area": null,
            "grid_auto_columns": null,
            "grid_auto_flow": null,
            "grid_auto_rows": null,
            "grid_column": null,
            "grid_gap": null,
            "grid_row": null,
            "grid_template_areas": null,
            "grid_template_columns": null,
            "grid_template_rows": null,
            "height": null,
            "justify_content": null,
            "justify_items": null,
            "left": null,
            "margin": null,
            "max_height": null,
            "max_width": null,
            "min_height": null,
            "min_width": null,
            "object_fit": null,
            "object_position": null,
            "order": null,
            "overflow": null,
            "overflow_x": null,
            "overflow_y": null,
            "padding": null,
            "right": null,
            "top": null,
            "visibility": null,
            "width": null
          }
        },
        "21ac84aed15049a2b40ebe105a8bad8f": {
          "model_module": "@jupyter-widgets/controls",
          "model_module_version": "1.5.0",
          "model_name": "HBoxModel",
          "state": {
            "_dom_classes": [],
            "_model_module": "@jupyter-widgets/controls",
            "_model_module_version": "1.5.0",
            "_model_name": "HBoxModel",
            "_view_count": null,
            "_view_module": "@jupyter-widgets/controls",
            "_view_module_version": "1.5.0",
            "_view_name": "HBoxView",
            "box_style": "",
            "children": [
              "IPY_MODEL_66a7d0ccc0474fdbb0679375916ad4d1",
              "IPY_MODEL_180f9c8e1e214dcb96fde854761a6443",
              "IPY_MODEL_723ef76102364cfd81c783484ca3769c"
            ],
            "layout": "IPY_MODEL_ea295b31656e48e996047e2f2e9c599e"
          }
        },
        "2aa5f8ebd2c64bddbe250fe2d8bec43d": {
          "model_module": "@jupyter-widgets/base",
          "model_module_version": "1.2.0",
          "model_name": "LayoutModel",
          "state": {
            "_model_module": "@jupyter-widgets/base",
            "_model_module_version": "1.2.0",
            "_model_name": "LayoutModel",
            "_view_count": null,
            "_view_module": "@jupyter-widgets/base",
            "_view_module_version": "1.2.0",
            "_view_name": "LayoutView",
            "align_content": null,
            "align_items": null,
            "align_self": null,
            "border": null,
            "bottom": null,
            "display": null,
            "flex": null,
            "flex_flow": null,
            "grid_area": null,
            "grid_auto_columns": null,
            "grid_auto_flow": null,
            "grid_auto_rows": null,
            "grid_column": null,
            "grid_gap": null,
            "grid_row": null,
            "grid_template_areas": null,
            "grid_template_columns": null,
            "grid_template_rows": null,
            "height": null,
            "justify_content": null,
            "justify_items": null,
            "left": null,
            "margin": null,
            "max_height": null,
            "max_width": null,
            "min_height": null,
            "min_width": null,
            "object_fit": null,
            "object_position": null,
            "order": null,
            "overflow": null,
            "overflow_x": null,
            "overflow_y": null,
            "padding": null,
            "right": null,
            "top": null,
            "visibility": null,
            "width": null
          }
        },
        "2be1058887b0412490a2d545d77a2d2a": {
          "model_module": "@jupyter-widgets/controls",
          "model_module_version": "1.5.0",
          "model_name": "FloatProgressModel",
          "state": {
            "_dom_classes": [],
            "_model_module": "@jupyter-widgets/controls",
            "_model_module_version": "1.5.0",
            "_model_name": "FloatProgressModel",
            "_view_count": null,
            "_view_module": "@jupyter-widgets/controls",
            "_view_module_version": "1.5.0",
            "_view_name": "ProgressView",
            "bar_style": "success",
            "description": "",
            "description_tooltip": null,
            "layout": "IPY_MODEL_d494417866ee47c9b4f6a6cc46418c03",
            "max": 456318,
            "min": 0,
            "orientation": "horizontal",
            "style": "IPY_MODEL_35a98a77721847ed89d1a9a86e00fac8",
            "value": 456318
          }
        },
        "305354a03a2843a7baf4dc5fac231aed": {
          "model_module": "@jupyter-widgets/base",
          "model_module_version": "1.2.0",
          "model_name": "LayoutModel",
          "state": {
            "_model_module": "@jupyter-widgets/base",
            "_model_module_version": "1.2.0",
            "_model_name": "LayoutModel",
            "_view_count": null,
            "_view_module": "@jupyter-widgets/base",
            "_view_module_version": "1.2.0",
            "_view_name": "LayoutView",
            "align_content": null,
            "align_items": null,
            "align_self": null,
            "border": null,
            "bottom": null,
            "display": null,
            "flex": null,
            "flex_flow": null,
            "grid_area": null,
            "grid_auto_columns": null,
            "grid_auto_flow": null,
            "grid_auto_rows": null,
            "grid_column": null,
            "grid_gap": null,
            "grid_row": null,
            "grid_template_areas": null,
            "grid_template_columns": null,
            "grid_template_rows": null,
            "height": null,
            "justify_content": null,
            "justify_items": null,
            "left": null,
            "margin": null,
            "max_height": null,
            "max_width": null,
            "min_height": null,
            "min_width": null,
            "object_fit": null,
            "object_position": null,
            "order": null,
            "overflow": null,
            "overflow_x": null,
            "overflow_y": null,
            "padding": null,
            "right": null,
            "top": null,
            "visibility": null,
            "width": null
          }
        },
        "35a98a77721847ed89d1a9a86e00fac8": {
          "model_module": "@jupyter-widgets/controls",
          "model_module_version": "1.5.0",
          "model_name": "ProgressStyleModel",
          "state": {
            "_model_module": "@jupyter-widgets/controls",
            "_model_module_version": "1.5.0",
            "_model_name": "ProgressStyleModel",
            "_view_count": null,
            "_view_module": "@jupyter-widgets/base",
            "_view_module_version": "1.2.0",
            "_view_name": "StyleView",
            "bar_color": null,
            "description_width": ""
          }
        },
        "3ce8e504ebdd42e59016c6b777defd9b": {
          "model_module": "@jupyter-widgets/base",
          "model_module_version": "1.2.0",
          "model_name": "LayoutModel",
          "state": {
            "_model_module": "@jupyter-widgets/base",
            "_model_module_version": "1.2.0",
            "_model_name": "LayoutModel",
            "_view_count": null,
            "_view_module": "@jupyter-widgets/base",
            "_view_module_version": "1.2.0",
            "_view_name": "LayoutView",
            "align_content": null,
            "align_items": null,
            "align_self": null,
            "border": null,
            "bottom": null,
            "display": null,
            "flex": null,
            "flex_flow": null,
            "grid_area": null,
            "grid_auto_columns": null,
            "grid_auto_flow": null,
            "grid_auto_rows": null,
            "grid_column": null,
            "grid_gap": null,
            "grid_row": null,
            "grid_template_areas": null,
            "grid_template_columns": null,
            "grid_template_rows": null,
            "height": null,
            "justify_content": null,
            "justify_items": null,
            "left": null,
            "margin": null,
            "max_height": null,
            "max_width": null,
            "min_height": null,
            "min_width": null,
            "object_fit": null,
            "object_position": null,
            "order": null,
            "overflow": null,
            "overflow_x": null,
            "overflow_y": null,
            "padding": null,
            "right": null,
            "top": null,
            "visibility": null,
            "width": null
          }
        },
        "4490344d11f04fffb04aa7e54f3631ae": {
          "model_module": "@jupyter-widgets/controls",
          "model_module_version": "1.5.0",
          "model_name": "HTMLModel",
          "state": {
            "_dom_classes": [],
            "_model_module": "@jupyter-widgets/controls",
            "_model_module_version": "1.5.0",
            "_model_name": "HTMLModel",
            "_view_count": null,
            "_view_module": "@jupyter-widgets/controls",
            "_view_module_version": "1.5.0",
            "_view_name": "HTMLView",
            "description": "",
            "description_tooltip": null,
            "layout": "IPY_MODEL_daf2764c29274ba1ae19eab03bc2d276",
            "placeholder": "​",
            "style": "IPY_MODEL_8775866e2db14a508c1c2954fad9e2c9",
            "value": " 1.15k/1.15k [00:00&lt;00:00, 65.3kB/s]"
          }
        },
        "466af33758be44ed9a1093d7670fb4b3": {
          "model_module": "@jupyter-widgets/controls",
          "model_module_version": "1.5.0",
          "model_name": "DescriptionStyleModel",
          "state": {
            "_model_module": "@jupyter-widgets/controls",
            "_model_module_version": "1.5.0",
            "_model_name": "DescriptionStyleModel",
            "_view_count": null,
            "_view_module": "@jupyter-widgets/base",
            "_view_module_version": "1.2.0",
            "_view_name": "StyleView",
            "description_width": ""
          }
        },
        "47f67e90448241d2b7c65e133a6e0f0a": {
          "model_module": "@jupyter-widgets/controls",
          "model_module_version": "1.5.0",
          "model_name": "DescriptionStyleModel",
          "state": {
            "_model_module": "@jupyter-widgets/controls",
            "_model_module_version": "1.5.0",
            "_model_name": "DescriptionStyleModel",
            "_view_count": null,
            "_view_module": "@jupyter-widgets/base",
            "_view_module_version": "1.2.0",
            "_view_name": "StyleView",
            "description_width": ""
          }
        },
        "4a5491ca04604d479b5cad9aa7c273fc": {
          "model_module": "@jupyter-widgets/controls",
          "model_module_version": "1.5.0",
          "model_name": "DescriptionStyleModel",
          "state": {
            "_model_module": "@jupyter-widgets/controls",
            "_model_module_version": "1.5.0",
            "_model_name": "DescriptionStyleModel",
            "_view_count": null,
            "_view_module": "@jupyter-widgets/base",
            "_view_module_version": "1.2.0",
            "_view_name": "StyleView",
            "description_width": ""
          }
        },
        "507f5d35e00d4d18afc872cf427ce95a": {
          "model_module": "@jupyter-widgets/controls",
          "model_module_version": "1.5.0",
          "model_name": "FloatProgressModel",
          "state": {
            "_dom_classes": [],
            "_model_module": "@jupyter-widgets/controls",
            "_model_module_version": "1.5.0",
            "_model_name": "FloatProgressModel",
            "_view_count": null,
            "_view_module": "@jupyter-widgets/controls",
            "_view_module_version": "1.5.0",
            "_view_name": "ProgressView",
            "bar_style": "success",
            "description": "",
            "description_tooltip": null,
            "layout": "IPY_MODEL_8809456a76a24fdf91add1eb8307bdac",
            "max": 1355863,
            "min": 0,
            "orientation": "horizontal",
            "style": "IPY_MODEL_a72692bb07b94c7ba1eca5edf2f788e1",
            "value": 1355863
          }
        },
        "52257f52ee254d7fa0a3d0a25151d61b": {
          "model_module": "@jupyter-widgets/base",
          "model_module_version": "1.2.0",
          "model_name": "LayoutModel",
          "state": {
            "_model_module": "@jupyter-widgets/base",
            "_model_module_version": "1.2.0",
            "_model_name": "LayoutModel",
            "_view_count": null,
            "_view_module": "@jupyter-widgets/base",
            "_view_module_version": "1.2.0",
            "_view_name": "LayoutView",
            "align_content": null,
            "align_items": null,
            "align_self": null,
            "border": null,
            "bottom": null,
            "display": null,
            "flex": null,
            "flex_flow": null,
            "grid_area": null,
            "grid_auto_columns": null,
            "grid_auto_flow": null,
            "grid_auto_rows": null,
            "grid_column": null,
            "grid_gap": null,
            "grid_row": null,
            "grid_template_areas": null,
            "grid_template_columns": null,
            "grid_template_rows": null,
            "height": null,
            "justify_content": null,
            "justify_items": null,
            "left": null,
            "margin": null,
            "max_height": null,
            "max_width": null,
            "min_height": null,
            "min_width": null,
            "object_fit": null,
            "object_position": null,
            "order": null,
            "overflow": null,
            "overflow_x": null,
            "overflow_y": null,
            "padding": null,
            "right": null,
            "top": null,
            "visibility": null,
            "width": null
          }
        },
        "5ac6e28a2ad84275be44bbdef17182eb": {
          "model_module": "@jupyter-widgets/base",
          "model_module_version": "1.2.0",
          "model_name": "LayoutModel",
          "state": {
            "_model_module": "@jupyter-widgets/base",
            "_model_module_version": "1.2.0",
            "_model_name": "LayoutModel",
            "_view_count": null,
            "_view_module": "@jupyter-widgets/base",
            "_view_module_version": "1.2.0",
            "_view_name": "LayoutView",
            "align_content": null,
            "align_items": null,
            "align_self": null,
            "border": null,
            "bottom": null,
            "display": null,
            "flex": null,
            "flex_flow": null,
            "grid_area": null,
            "grid_auto_columns": null,
            "grid_auto_flow": null,
            "grid_auto_rows": null,
            "grid_column": null,
            "grid_gap": null,
            "grid_row": null,
            "grid_template_areas": null,
            "grid_template_columns": null,
            "grid_template_rows": null,
            "height": null,
            "justify_content": null,
            "justify_items": null,
            "left": null,
            "margin": null,
            "max_height": null,
            "max_width": null,
            "min_height": null,
            "min_width": null,
            "object_fit": null,
            "object_position": null,
            "order": null,
            "overflow": null,
            "overflow_x": null,
            "overflow_y": null,
            "padding": null,
            "right": null,
            "top": null,
            "visibility": null,
            "width": null
          }
        },
        "5e3720c82db444a98cfe2e7436a36d2a": {
          "model_module": "@jupyter-widgets/base",
          "model_module_version": "1.2.0",
          "model_name": "LayoutModel",
          "state": {
            "_model_module": "@jupyter-widgets/base",
            "_model_module_version": "1.2.0",
            "_model_name": "LayoutModel",
            "_view_count": null,
            "_view_module": "@jupyter-widgets/base",
            "_view_module_version": "1.2.0",
            "_view_name": "LayoutView",
            "align_content": null,
            "align_items": null,
            "align_self": null,
            "border": null,
            "bottom": null,
            "display": null,
            "flex": null,
            "flex_flow": null,
            "grid_area": null,
            "grid_auto_columns": null,
            "grid_auto_flow": null,
            "grid_auto_rows": null,
            "grid_column": null,
            "grid_gap": null,
            "grid_row": null,
            "grid_template_areas": null,
            "grid_template_columns": null,
            "grid_template_rows": null,
            "height": null,
            "justify_content": null,
            "justify_items": null,
            "left": null,
            "margin": null,
            "max_height": null,
            "max_width": null,
            "min_height": null,
            "min_width": null,
            "object_fit": null,
            "object_position": null,
            "order": null,
            "overflow": null,
            "overflow_x": null,
            "overflow_y": null,
            "padding": null,
            "right": null,
            "top": null,
            "visibility": null,
            "width": null
          }
        },
        "6103149925ef482788d0f10da893cf7e": {
          "model_module": "@jupyter-widgets/controls",
          "model_module_version": "1.5.0",
          "model_name": "ProgressStyleModel",
          "state": {
            "_model_module": "@jupyter-widgets/controls",
            "_model_module_version": "1.5.0",
            "_model_name": "ProgressStyleModel",
            "_view_count": null,
            "_view_module": "@jupyter-widgets/base",
            "_view_module_version": "1.2.0",
            "_view_name": "StyleView",
            "bar_color": null,
            "description_width": ""
          }
        },
        "66a7d0ccc0474fdbb0679375916ad4d1": {
          "model_module": "@jupyter-widgets/controls",
          "model_module_version": "1.5.0",
          "model_name": "HTMLModel",
          "state": {
            "_dom_classes": [],
            "_model_module": "@jupyter-widgets/controls",
            "_model_module_version": "1.5.0",
            "_model_name": "HTMLModel",
            "_view_count": null,
            "_view_module": "@jupyter-widgets/controls",
            "_view_module_version": "1.5.0",
            "_view_name": "HTMLView",
            "description": "",
            "description_tooltip": null,
            "layout": "IPY_MODEL_e9302ba82caf4c869459df5ba88f3ef3",
            "placeholder": "​",
            "style": "IPY_MODEL_792ad84c228749ff8504abde78ab9e73",
            "value": "tokenizer_config.json: 100%"
          }
        },
        "6fcbe880e0fc4890b39bd706b359c956": {
          "model_module": "@jupyter-widgets/controls",
          "model_module_version": "1.5.0",
          "model_name": "DescriptionStyleModel",
          "state": {
            "_model_module": "@jupyter-widgets/controls",
            "_model_module_version": "1.5.0",
            "_model_name": "DescriptionStyleModel",
            "_view_count": null,
            "_view_module": "@jupyter-widgets/base",
            "_view_module_version": "1.2.0",
            "_view_name": "StyleView",
            "description_width": ""
          }
        },
        "723ef76102364cfd81c783484ca3769c": {
          "model_module": "@jupyter-widgets/controls",
          "model_module_version": "1.5.0",
          "model_name": "HTMLModel",
          "state": {
            "_dom_classes": [],
            "_model_module": "@jupyter-widgets/controls",
            "_model_module_version": "1.5.0",
            "_model_name": "HTMLModel",
            "_view_count": null,
            "_view_module": "@jupyter-widgets/controls",
            "_view_module_version": "1.5.0",
            "_view_name": "HTMLView",
            "description": "",
            "description_tooltip": null,
            "layout": "IPY_MODEL_5ac6e28a2ad84275be44bbdef17182eb",
            "placeholder": "​",
            "style": "IPY_MODEL_9b35a1b7fb644e44a84c6e4d98159cd7",
            "value": " 26.0/26.0 [00:00&lt;00:00, 1.17kB/s]"
          }
        },
        "7690285c447245c1821636fd174206aa": {
          "model_module": "@jupyter-widgets/controls",
          "model_module_version": "1.5.0",
          "model_name": "ProgressStyleModel",
          "state": {
            "_model_module": "@jupyter-widgets/controls",
            "_model_module_version": "1.5.0",
            "_model_name": "ProgressStyleModel",
            "_view_count": null,
            "_view_module": "@jupyter-widgets/base",
            "_view_module_version": "1.2.0",
            "_view_name": "StyleView",
            "bar_color": null,
            "description_width": ""
          }
        },
        "792ad84c228749ff8504abde78ab9e73": {
          "model_module": "@jupyter-widgets/controls",
          "model_module_version": "1.5.0",
          "model_name": "DescriptionStyleModel",
          "state": {
            "_model_module": "@jupyter-widgets/controls",
            "_model_module_version": "1.5.0",
            "_model_name": "DescriptionStyleModel",
            "_view_count": null,
            "_view_module": "@jupyter-widgets/base",
            "_view_module_version": "1.2.0",
            "_view_name": "StyleView",
            "description_width": ""
          }
        },
        "7a2d6ee20c3242999503b4eee8c3ff0c": {
          "model_module": "@jupyter-widgets/base",
          "model_module_version": "1.2.0",
          "model_name": "LayoutModel",
          "state": {
            "_model_module": "@jupyter-widgets/base",
            "_model_module_version": "1.2.0",
            "_model_name": "LayoutModel",
            "_view_count": null,
            "_view_module": "@jupyter-widgets/base",
            "_view_module_version": "1.2.0",
            "_view_name": "LayoutView",
            "align_content": null,
            "align_items": null,
            "align_self": null,
            "border": null,
            "bottom": null,
            "display": null,
            "flex": null,
            "flex_flow": null,
            "grid_area": null,
            "grid_auto_columns": null,
            "grid_auto_flow": null,
            "grid_auto_rows": null,
            "grid_column": null,
            "grid_gap": null,
            "grid_row": null,
            "grid_template_areas": null,
            "grid_template_columns": null,
            "grid_template_rows": null,
            "height": null,
            "justify_content": null,
            "justify_items": null,
            "left": null,
            "margin": null,
            "max_height": null,
            "max_width": null,
            "min_height": null,
            "min_width": null,
            "object_fit": null,
            "object_position": null,
            "order": null,
            "overflow": null,
            "overflow_x": null,
            "overflow_y": null,
            "padding": null,
            "right": null,
            "top": null,
            "visibility": null,
            "width": null
          }
        },
        "7e0cf35f57724f47bbaedc0efad7b34a": {
          "model_module": "@jupyter-widgets/controls",
          "model_module_version": "1.5.0",
          "model_name": "HTMLModel",
          "state": {
            "_dom_classes": [],
            "_model_module": "@jupyter-widgets/controls",
            "_model_module_version": "1.5.0",
            "_model_name": "HTMLModel",
            "_view_count": null,
            "_view_module": "@jupyter-widgets/controls",
            "_view_module_version": "1.5.0",
            "_view_name": "HTMLView",
            "description": "",
            "description_tooltip": null,
            "layout": "IPY_MODEL_04e639c7d662404ba1b99aeb9e8d5354",
            "placeholder": "​",
            "style": "IPY_MODEL_6fcbe880e0fc4890b39bd706b359c956",
            "value": " 1.63G/1.63G [00:26&lt;00:00, 93.2MB/s]"
          }
        },
        "8775866e2db14a508c1c2954fad9e2c9": {
          "model_module": "@jupyter-widgets/controls",
          "model_module_version": "1.5.0",
          "model_name": "DescriptionStyleModel",
          "state": {
            "_model_module": "@jupyter-widgets/controls",
            "_model_module_version": "1.5.0",
            "_model_name": "DescriptionStyleModel",
            "_view_count": null,
            "_view_module": "@jupyter-widgets/base",
            "_view_module_version": "1.2.0",
            "_view_name": "StyleView",
            "description_width": ""
          }
        },
        "8809456a76a24fdf91add1eb8307bdac": {
          "model_module": "@jupyter-widgets/base",
          "model_module_version": "1.2.0",
          "model_name": "LayoutModel",
          "state": {
            "_model_module": "@jupyter-widgets/base",
            "_model_module_version": "1.2.0",
            "_model_name": "LayoutModel",
            "_view_count": null,
            "_view_module": "@jupyter-widgets/base",
            "_view_module_version": "1.2.0",
            "_view_name": "LayoutView",
            "align_content": null,
            "align_items": null,
            "align_self": null,
            "border": null,
            "bottom": null,
            "display": null,
            "flex": null,
            "flex_flow": null,
            "grid_area": null,
            "grid_auto_columns": null,
            "grid_auto_flow": null,
            "grid_auto_rows": null,
            "grid_column": null,
            "grid_gap": null,
            "grid_row": null,
            "grid_template_areas": null,
            "grid_template_columns": null,
            "grid_template_rows": null,
            "height": null,
            "justify_content": null,
            "justify_items": null,
            "left": null,
            "margin": null,
            "max_height": null,
            "max_width": null,
            "min_height": null,
            "min_width": null,
            "object_fit": null,
            "object_position": null,
            "order": null,
            "overflow": null,
            "overflow_x": null,
            "overflow_y": null,
            "padding": null,
            "right": null,
            "top": null,
            "visibility": null,
            "width": null
          }
        },
        "89a26cc89a544f10ba5faa6ff1946d6f": {
          "model_module": "@jupyter-widgets/controls",
          "model_module_version": "1.5.0",
          "model_name": "HTMLModel",
          "state": {
            "_dom_classes": [],
            "_model_module": "@jupyter-widgets/controls",
            "_model_module_version": "1.5.0",
            "_model_name": "HTMLModel",
            "_view_count": null,
            "_view_module": "@jupyter-widgets/controls",
            "_view_module_version": "1.5.0",
            "_view_name": "HTMLView",
            "description": "",
            "description_tooltip": null,
            "layout": "IPY_MODEL_7a2d6ee20c3242999503b4eee8c3ff0c",
            "placeholder": "​",
            "style": "IPY_MODEL_47f67e90448241d2b7c65e133a6e0f0a",
            "value": "config.json: 100%"
          }
        },
        "8e973ac9164b4118a573a63c1068bec9": {
          "model_module": "@jupyter-widgets/controls",
          "model_module_version": "1.5.0",
          "model_name": "HBoxModel",
          "state": {
            "_dom_classes": [],
            "_model_module": "@jupyter-widgets/controls",
            "_model_module_version": "1.5.0",
            "_model_name": "HBoxModel",
            "_view_count": null,
            "_view_module": "@jupyter-widgets/controls",
            "_view_module_version": "1.5.0",
            "_view_name": "HBoxView",
            "box_style": "",
            "children": [
              "IPY_MODEL_9690c509d3924ae2aff291ae5e22c79d",
              "IPY_MODEL_2be1058887b0412490a2d545d77a2d2a",
              "IPY_MODEL_d9ed352cc97245c4a4093a3599bb71cc"
            ],
            "layout": "IPY_MODEL_2aa5f8ebd2c64bddbe250fe2d8bec43d"
          }
        },
        "92706e6bec7043498c4bcdefd2c2e01a": {
          "model_module": "@jupyter-widgets/controls",
          "model_module_version": "1.5.0",
          "model_name": "DescriptionStyleModel",
          "state": {
            "_model_module": "@jupyter-widgets/controls",
            "_model_module_version": "1.5.0",
            "_model_name": "DescriptionStyleModel",
            "_view_count": null,
            "_view_module": "@jupyter-widgets/base",
            "_view_module_version": "1.2.0",
            "_view_name": "StyleView",
            "description_width": ""
          }
        },
        "9690c509d3924ae2aff291ae5e22c79d": {
          "model_module": "@jupyter-widgets/controls",
          "model_module_version": "1.5.0",
          "model_name": "HTMLModel",
          "state": {
            "_dom_classes": [],
            "_model_module": "@jupyter-widgets/controls",
            "_model_module_version": "1.5.0",
            "_model_name": "HTMLModel",
            "_view_count": null,
            "_view_module": "@jupyter-widgets/controls",
            "_view_module_version": "1.5.0",
            "_view_name": "HTMLView",
            "description": "",
            "description_tooltip": null,
            "layout": "IPY_MODEL_074e319a2f4e491ab851b505454a6472",
            "placeholder": "​",
            "style": "IPY_MODEL_168b40c0ef794bf79e4f0186da5c45b8",
            "value": "merges.txt: 100%"
          }
        },
        "9b35a1b7fb644e44a84c6e4d98159cd7": {
          "model_module": "@jupyter-widgets/controls",
          "model_module_version": "1.5.0",
          "model_name": "DescriptionStyleModel",
          "state": {
            "_model_module": "@jupyter-widgets/controls",
            "_model_module_version": "1.5.0",
            "_model_name": "DescriptionStyleModel",
            "_view_count": null,
            "_view_module": "@jupyter-widgets/base",
            "_view_module_version": "1.2.0",
            "_view_name": "StyleView",
            "description_width": ""
          }
        },
        "9d93058756fd4f59ba55f9aa22d40d5a": {
          "model_module": "@jupyter-widgets/base",
          "model_module_version": "1.2.0",
          "model_name": "LayoutModel",
          "state": {
            "_model_module": "@jupyter-widgets/base",
            "_model_module_version": "1.2.0",
            "_model_name": "LayoutModel",
            "_view_count": null,
            "_view_module": "@jupyter-widgets/base",
            "_view_module_version": "1.2.0",
            "_view_name": "LayoutView",
            "align_content": null,
            "align_items": null,
            "align_self": null,
            "border": null,
            "bottom": null,
            "display": null,
            "flex": null,
            "flex_flow": null,
            "grid_area": null,
            "grid_auto_columns": null,
            "grid_auto_flow": null,
            "grid_auto_rows": null,
            "grid_column": null,
            "grid_gap": null,
            "grid_row": null,
            "grid_template_areas": null,
            "grid_template_columns": null,
            "grid_template_rows": null,
            "height": null,
            "justify_content": null,
            "justify_items": null,
            "left": null,
            "margin": null,
            "max_height": null,
            "max_width": null,
            "min_height": null,
            "min_width": null,
            "object_fit": null,
            "object_position": null,
            "order": null,
            "overflow": null,
            "overflow_x": null,
            "overflow_y": null,
            "padding": null,
            "right": null,
            "top": null,
            "visibility": null,
            "width": null
          }
        },
        "a72692bb07b94c7ba1eca5edf2f788e1": {
          "model_module": "@jupyter-widgets/controls",
          "model_module_version": "1.5.0",
          "model_name": "ProgressStyleModel",
          "state": {
            "_model_module": "@jupyter-widgets/controls",
            "_model_module_version": "1.5.0",
            "_model_name": "ProgressStyleModel",
            "_view_count": null,
            "_view_module": "@jupyter-widgets/base",
            "_view_module_version": "1.2.0",
            "_view_name": "StyleView",
            "bar_color": null,
            "description_width": ""
          }
        },
        "a98c686fe7ca46eca76fa09a31161e1b": {
          "model_module": "@jupyter-widgets/controls",
          "model_module_version": "1.5.0",
          "model_name": "FloatProgressModel",
          "state": {
            "_dom_classes": [],
            "_model_module": "@jupyter-widgets/controls",
            "_model_module_version": "1.5.0",
            "_model_name": "FloatProgressModel",
            "_view_count": null,
            "_view_module": "@jupyter-widgets/controls",
            "_view_module_version": "1.5.0",
            "_view_name": "ProgressView",
            "bar_style": "success",
            "description": "",
            "description_tooltip": null,
            "layout": "IPY_MODEL_0c24468a0a054b81ac254137e31dee2a",
            "max": 1629437147,
            "min": 0,
            "orientation": "horizontal",
            "style": "IPY_MODEL_dbf751ea1f3c46bc82e3ab1be02be208",
            "value": 1629437147
          }
        },
        "b1a1ddaacc5a489eb71c3fe241406726": {
          "model_module": "@jupyter-widgets/controls",
          "model_module_version": "1.5.0",
          "model_name": "DescriptionStyleModel",
          "state": {
            "_model_module": "@jupyter-widgets/controls",
            "_model_module_version": "1.5.0",
            "_model_name": "DescriptionStyleModel",
            "_view_count": null,
            "_view_module": "@jupyter-widgets/base",
            "_view_module_version": "1.2.0",
            "_view_name": "StyleView",
            "description_width": ""
          }
        },
        "b2109667b93c4c24b269b2dcc0265a16": {
          "model_module": "@jupyter-widgets/base",
          "model_module_version": "1.2.0",
          "model_name": "LayoutModel",
          "state": {
            "_model_module": "@jupyter-widgets/base",
            "_model_module_version": "1.2.0",
            "_model_name": "LayoutModel",
            "_view_count": null,
            "_view_module": "@jupyter-widgets/base",
            "_view_module_version": "1.2.0",
            "_view_name": "LayoutView",
            "align_content": null,
            "align_items": null,
            "align_self": null,
            "border": null,
            "bottom": null,
            "display": null,
            "flex": null,
            "flex_flow": null,
            "grid_area": null,
            "grid_auto_columns": null,
            "grid_auto_flow": null,
            "grid_auto_rows": null,
            "grid_column": null,
            "grid_gap": null,
            "grid_row": null,
            "grid_template_areas": null,
            "grid_template_columns": null,
            "grid_template_rows": null,
            "height": null,
            "justify_content": null,
            "justify_items": null,
            "left": null,
            "margin": null,
            "max_height": null,
            "max_width": null,
            "min_height": null,
            "min_width": null,
            "object_fit": null,
            "object_position": null,
            "order": null,
            "overflow": null,
            "overflow_x": null,
            "overflow_y": null,
            "padding": null,
            "right": null,
            "top": null,
            "visibility": null,
            "width": null
          }
        },
        "b4001f7c2631436fbc9db957fc7fa3f8": {
          "model_module": "@jupyter-widgets/controls",
          "model_module_version": "1.5.0",
          "model_name": "HTMLModel",
          "state": {
            "_dom_classes": [],
            "_model_module": "@jupyter-widgets/controls",
            "_model_module_version": "1.5.0",
            "_model_name": "HTMLModel",
            "_view_count": null,
            "_view_module": "@jupyter-widgets/controls",
            "_view_module_version": "1.5.0",
            "_view_name": "HTMLView",
            "description": "",
            "description_tooltip": null,
            "layout": "IPY_MODEL_ee4750676ac64115ba742122cf894d94",
            "placeholder": "​",
            "style": "IPY_MODEL_b1a1ddaacc5a489eb71c3fe241406726",
            "value": "vocab.json: 100%"
          }
        },
        "d222dbfe039c4ff68247b714919a5211": {
          "model_module": "@jupyter-widgets/controls",
          "model_module_version": "1.5.0",
          "model_name": "HTMLModel",
          "state": {
            "_dom_classes": [],
            "_model_module": "@jupyter-widgets/controls",
            "_model_module_version": "1.5.0",
            "_model_name": "HTMLModel",
            "_view_count": null,
            "_view_module": "@jupyter-widgets/controls",
            "_view_module_version": "1.5.0",
            "_view_name": "HTMLView",
            "description": "",
            "description_tooltip": null,
            "layout": "IPY_MODEL_b2109667b93c4c24b269b2dcc0265a16",
            "placeholder": "​",
            "style": "IPY_MODEL_054e24955e144390944bdd0a7338bce6",
            "value": "tokenizer.json: 100%"
          }
        },
        "d494417866ee47c9b4f6a6cc46418c03": {
          "model_module": "@jupyter-widgets/base",
          "model_module_version": "1.2.0",
          "model_name": "LayoutModel",
          "state": {
            "_model_module": "@jupyter-widgets/base",
            "_model_module_version": "1.2.0",
            "_model_name": "LayoutModel",
            "_view_count": null,
            "_view_module": "@jupyter-widgets/base",
            "_view_module_version": "1.2.0",
            "_view_name": "LayoutView",
            "align_content": null,
            "align_items": null,
            "align_self": null,
            "border": null,
            "bottom": null,
            "display": null,
            "flex": null,
            "flex_flow": null,
            "grid_area": null,
            "grid_auto_columns": null,
            "grid_auto_flow": null,
            "grid_auto_rows": null,
            "grid_column": null,
            "grid_gap": null,
            "grid_row": null,
            "grid_template_areas": null,
            "grid_template_columns": null,
            "grid_template_rows": null,
            "height": null,
            "justify_content": null,
            "justify_items": null,
            "left": null,
            "margin": null,
            "max_height": null,
            "max_width": null,
            "min_height": null,
            "min_width": null,
            "object_fit": null,
            "object_position": null,
            "order": null,
            "overflow": null,
            "overflow_x": null,
            "overflow_y": null,
            "padding": null,
            "right": null,
            "top": null,
            "visibility": null,
            "width": null
          }
        },
        "d9e27cc0d4b942128a2be607cfc6b2a1": {
          "model_module": "@jupyter-widgets/controls",
          "model_module_version": "1.5.0",
          "model_name": "HTMLModel",
          "state": {
            "_dom_classes": [],
            "_model_module": "@jupyter-widgets/controls",
            "_model_module_version": "1.5.0",
            "_model_name": "HTMLModel",
            "_view_count": null,
            "_view_module": "@jupyter-widgets/controls",
            "_view_module_version": "1.5.0",
            "_view_name": "HTMLView",
            "description": "",
            "description_tooltip": null,
            "layout": "IPY_MODEL_3ce8e504ebdd42e59016c6b777defd9b",
            "placeholder": "​",
            "style": "IPY_MODEL_e8fe0585a31b44b69356d3597a9224d2",
            "value": " 1.36M/1.36M [00:00&lt;00:00, 18.4MB/s]"
          }
        },
        "d9ed352cc97245c4a4093a3599bb71cc": {
          "model_module": "@jupyter-widgets/controls",
          "model_module_version": "1.5.0",
          "model_name": "HTMLModel",
          "state": {
            "_dom_classes": [],
            "_model_module": "@jupyter-widgets/controls",
            "_model_module_version": "1.5.0",
            "_model_name": "HTMLModel",
            "_view_count": null,
            "_view_module": "@jupyter-widgets/controls",
            "_view_module_version": "1.5.0",
            "_view_name": "HTMLView",
            "description": "",
            "description_tooltip": null,
            "layout": "IPY_MODEL_219310b525b0487fab9137d466af80d1",
            "placeholder": "​",
            "style": "IPY_MODEL_92706e6bec7043498c4bcdefd2c2e01a",
            "value": " 456k/456k [00:00&lt;00:00, 2.30MB/s]"
          }
        },
        "daf2764c29274ba1ae19eab03bc2d276": {
          "model_module": "@jupyter-widgets/base",
          "model_module_version": "1.2.0",
          "model_name": "LayoutModel",
          "state": {
            "_model_module": "@jupyter-widgets/base",
            "_model_module_version": "1.2.0",
            "_model_name": "LayoutModel",
            "_view_count": null,
            "_view_module": "@jupyter-widgets/base",
            "_view_module_version": "1.2.0",
            "_view_name": "LayoutView",
            "align_content": null,
            "align_items": null,
            "align_self": null,
            "border": null,
            "bottom": null,
            "display": null,
            "flex": null,
            "flex_flow": null,
            "grid_area": null,
            "grid_auto_columns": null,
            "grid_auto_flow": null,
            "grid_auto_rows": null,
            "grid_column": null,
            "grid_gap": null,
            "grid_row": null,
            "grid_template_areas": null,
            "grid_template_columns": null,
            "grid_template_rows": null,
            "height": null,
            "justify_content": null,
            "justify_items": null,
            "left": null,
            "margin": null,
            "max_height": null,
            "max_width": null,
            "min_height": null,
            "min_width": null,
            "object_fit": null,
            "object_position": null,
            "order": null,
            "overflow": null,
            "overflow_x": null,
            "overflow_y": null,
            "padding": null,
            "right": null,
            "top": null,
            "visibility": null,
            "width": null
          }
        },
        "dbf751ea1f3c46bc82e3ab1be02be208": {
          "model_module": "@jupyter-widgets/controls",
          "model_module_version": "1.5.0",
          "model_name": "ProgressStyleModel",
          "state": {
            "_model_module": "@jupyter-widgets/controls",
            "_model_module_version": "1.5.0",
            "_model_name": "ProgressStyleModel",
            "_view_count": null,
            "_view_module": "@jupyter-widgets/base",
            "_view_module_version": "1.2.0",
            "_view_name": "StyleView",
            "bar_color": null,
            "description_width": ""
          }
        },
        "dd5e189a860c4b3cb8e056acb1b07b49": {
          "model_module": "@jupyter-widgets/controls",
          "model_module_version": "1.5.0",
          "model_name": "ProgressStyleModel",
          "state": {
            "_model_module": "@jupyter-widgets/controls",
            "_model_module_version": "1.5.0",
            "_model_name": "ProgressStyleModel",
            "_view_count": null,
            "_view_module": "@jupyter-widgets/base",
            "_view_module_version": "1.2.0",
            "_view_name": "StyleView",
            "bar_color": null,
            "description_width": ""
          }
        },
        "df0087db0d6546f49bc47bd6c169e17f": {
          "model_module": "@jupyter-widgets/controls",
          "model_module_version": "1.5.0",
          "model_name": "HTMLModel",
          "state": {
            "_dom_classes": [],
            "_model_module": "@jupyter-widgets/controls",
            "_model_module_version": "1.5.0",
            "_model_name": "HTMLModel",
            "_view_count": null,
            "_view_module": "@jupyter-widgets/controls",
            "_view_module_version": "1.5.0",
            "_view_name": "HTMLView",
            "description": "",
            "description_tooltip": null,
            "layout": "IPY_MODEL_305354a03a2843a7baf4dc5fac231aed",
            "placeholder": "​",
            "style": "IPY_MODEL_4a5491ca04604d479b5cad9aa7c273fc",
            "value": " 899k/899k [00:00&lt;00:00, 3.38MB/s]"
          }
        },
        "e7834ed36c684f91babb1853a99a8a76": {
          "model_module": "@jupyter-widgets/base",
          "model_module_version": "1.2.0",
          "model_name": "LayoutModel",
          "state": {
            "_model_module": "@jupyter-widgets/base",
            "_model_module_version": "1.2.0",
            "_model_name": "LayoutModel",
            "_view_count": null,
            "_view_module": "@jupyter-widgets/base",
            "_view_module_version": "1.2.0",
            "_view_name": "LayoutView",
            "align_content": null,
            "align_items": null,
            "align_self": null,
            "border": null,
            "bottom": null,
            "display": null,
            "flex": null,
            "flex_flow": null,
            "grid_area": null,
            "grid_auto_columns": null,
            "grid_auto_flow": null,
            "grid_auto_rows": null,
            "grid_column": null,
            "grid_gap": null,
            "grid_row": null,
            "grid_template_areas": null,
            "grid_template_columns": null,
            "grid_template_rows": null,
            "height": null,
            "justify_content": null,
            "justify_items": null,
            "left": null,
            "margin": null,
            "max_height": null,
            "max_width": null,
            "min_height": null,
            "min_width": null,
            "object_fit": null,
            "object_position": null,
            "order": null,
            "overflow": null,
            "overflow_x": null,
            "overflow_y": null,
            "padding": null,
            "right": null,
            "top": null,
            "visibility": null,
            "width": null
          }
        },
        "e82f98ed548640be8ba82fc77ab5eb86": {
          "model_module": "@jupyter-widgets/base",
          "model_module_version": "1.2.0",
          "model_name": "LayoutModel",
          "state": {
            "_model_module": "@jupyter-widgets/base",
            "_model_module_version": "1.2.0",
            "_model_name": "LayoutModel",
            "_view_count": null,
            "_view_module": "@jupyter-widgets/base",
            "_view_module_version": "1.2.0",
            "_view_name": "LayoutView",
            "align_content": null,
            "align_items": null,
            "align_self": null,
            "border": null,
            "bottom": null,
            "display": null,
            "flex": null,
            "flex_flow": null,
            "grid_area": null,
            "grid_auto_columns": null,
            "grid_auto_flow": null,
            "grid_auto_rows": null,
            "grid_column": null,
            "grid_gap": null,
            "grid_row": null,
            "grid_template_areas": null,
            "grid_template_columns": null,
            "grid_template_rows": null,
            "height": null,
            "justify_content": null,
            "justify_items": null,
            "left": null,
            "margin": null,
            "max_height": null,
            "max_width": null,
            "min_height": null,
            "min_width": null,
            "object_fit": null,
            "object_position": null,
            "order": null,
            "overflow": null,
            "overflow_x": null,
            "overflow_y": null,
            "padding": null,
            "right": null,
            "top": null,
            "visibility": null,
            "width": null
          }
        },
        "e8fe0585a31b44b69356d3597a9224d2": {
          "model_module": "@jupyter-widgets/controls",
          "model_module_version": "1.5.0",
          "model_name": "DescriptionStyleModel",
          "state": {
            "_model_module": "@jupyter-widgets/controls",
            "_model_module_version": "1.5.0",
            "_model_name": "DescriptionStyleModel",
            "_view_count": null,
            "_view_module": "@jupyter-widgets/base",
            "_view_module_version": "1.2.0",
            "_view_name": "StyleView",
            "description_width": ""
          }
        },
        "e9302ba82caf4c869459df5ba88f3ef3": {
          "model_module": "@jupyter-widgets/base",
          "model_module_version": "1.2.0",
          "model_name": "LayoutModel",
          "state": {
            "_model_module": "@jupyter-widgets/base",
            "_model_module_version": "1.2.0",
            "_model_name": "LayoutModel",
            "_view_count": null,
            "_view_module": "@jupyter-widgets/base",
            "_view_module_version": "1.2.0",
            "_view_name": "LayoutView",
            "align_content": null,
            "align_items": null,
            "align_self": null,
            "border": null,
            "bottom": null,
            "display": null,
            "flex": null,
            "flex_flow": null,
            "grid_area": null,
            "grid_auto_columns": null,
            "grid_auto_flow": null,
            "grid_auto_rows": null,
            "grid_column": null,
            "grid_gap": null,
            "grid_row": null,
            "grid_template_areas": null,
            "grid_template_columns": null,
            "grid_template_rows": null,
            "height": null,
            "justify_content": null,
            "justify_items": null,
            "left": null,
            "margin": null,
            "max_height": null,
            "max_width": null,
            "min_height": null,
            "min_width": null,
            "object_fit": null,
            "object_position": null,
            "order": null,
            "overflow": null,
            "overflow_x": null,
            "overflow_y": null,
            "padding": null,
            "right": null,
            "top": null,
            "visibility": null,
            "width": null
          }
        },
        "ea295b31656e48e996047e2f2e9c599e": {
          "model_module": "@jupyter-widgets/base",
          "model_module_version": "1.2.0",
          "model_name": "LayoutModel",
          "state": {
            "_model_module": "@jupyter-widgets/base",
            "_model_module_version": "1.2.0",
            "_model_name": "LayoutModel",
            "_view_count": null,
            "_view_module": "@jupyter-widgets/base",
            "_view_module_version": "1.2.0",
            "_view_name": "LayoutView",
            "align_content": null,
            "align_items": null,
            "align_self": null,
            "border": null,
            "bottom": null,
            "display": null,
            "flex": null,
            "flex_flow": null,
            "grid_area": null,
            "grid_auto_columns": null,
            "grid_auto_flow": null,
            "grid_auto_rows": null,
            "grid_column": null,
            "grid_gap": null,
            "grid_row": null,
            "grid_template_areas": null,
            "grid_template_columns": null,
            "grid_template_rows": null,
            "height": null,
            "justify_content": null,
            "justify_items": null,
            "left": null,
            "margin": null,
            "max_height": null,
            "max_width": null,
            "min_height": null,
            "min_width": null,
            "object_fit": null,
            "object_position": null,
            "order": null,
            "overflow": null,
            "overflow_x": null,
            "overflow_y": null,
            "padding": null,
            "right": null,
            "top": null,
            "visibility": null,
            "width": null
          }
        },
        "ee4750676ac64115ba742122cf894d94": {
          "model_module": "@jupyter-widgets/base",
          "model_module_version": "1.2.0",
          "model_name": "LayoutModel",
          "state": {
            "_model_module": "@jupyter-widgets/base",
            "_model_module_version": "1.2.0",
            "_model_name": "LayoutModel",
            "_view_count": null,
            "_view_module": "@jupyter-widgets/base",
            "_view_module_version": "1.2.0",
            "_view_name": "LayoutView",
            "align_content": null,
            "align_items": null,
            "align_self": null,
            "border": null,
            "bottom": null,
            "display": null,
            "flex": null,
            "flex_flow": null,
            "grid_area": null,
            "grid_auto_columns": null,
            "grid_auto_flow": null,
            "grid_auto_rows": null,
            "grid_column": null,
            "grid_gap": null,
            "grid_row": null,
            "grid_template_areas": null,
            "grid_template_columns": null,
            "grid_template_rows": null,
            "height": null,
            "justify_content": null,
            "justify_items": null,
            "left": null,
            "margin": null,
            "max_height": null,
            "max_width": null,
            "min_height": null,
            "min_width": null,
            "object_fit": null,
            "object_position": null,
            "order": null,
            "overflow": null,
            "overflow_x": null,
            "overflow_y": null,
            "padding": null,
            "right": null,
            "top": null,
            "visibility": null,
            "width": null
          }
        },
        "f0b11050761547e1901903bf2f0abf73": {
          "model_module": "@jupyter-widgets/controls",
          "model_module_version": "1.5.0",
          "model_name": "HBoxModel",
          "state": {
            "_dom_classes": [],
            "_model_module": "@jupyter-widgets/controls",
            "_model_module_version": "1.5.0",
            "_model_name": "HBoxModel",
            "_view_count": null,
            "_view_module": "@jupyter-widgets/controls",
            "_view_module_version": "1.5.0",
            "_view_name": "HBoxView",
            "box_style": "",
            "children": [
              "IPY_MODEL_02b7907d1b8a4c1bb9e8881445a1cceb",
              "IPY_MODEL_a98c686fe7ca46eca76fa09a31161e1b",
              "IPY_MODEL_7e0cf35f57724f47bbaedc0efad7b34a"
            ],
            "layout": "IPY_MODEL_f83ad2dbebe4416bb69f36a74a248e59"
          }
        },
        "f4925a15f5814e90acbf6bfbb1b8088a": {
          "model_module": "@jupyter-widgets/base",
          "model_module_version": "1.2.0",
          "model_name": "LayoutModel",
          "state": {
            "_model_module": "@jupyter-widgets/base",
            "_model_module_version": "1.2.0",
            "_model_name": "LayoutModel",
            "_view_count": null,
            "_view_module": "@jupyter-widgets/base",
            "_view_module_version": "1.2.0",
            "_view_name": "LayoutView",
            "align_content": null,
            "align_items": null,
            "align_self": null,
            "border": null,
            "bottom": null,
            "display": null,
            "flex": null,
            "flex_flow": null,
            "grid_area": null,
            "grid_auto_columns": null,
            "grid_auto_flow": null,
            "grid_auto_rows": null,
            "grid_column": null,
            "grid_gap": null,
            "grid_row": null,
            "grid_template_areas": null,
            "grid_template_columns": null,
            "grid_template_rows": null,
            "height": null,
            "justify_content": null,
            "justify_items": null,
            "left": null,
            "margin": null,
            "max_height": null,
            "max_width": null,
            "min_height": null,
            "min_width": null,
            "object_fit": null,
            "object_position": null,
            "order": null,
            "overflow": null,
            "overflow_x": null,
            "overflow_y": null,
            "padding": null,
            "right": null,
            "top": null,
            "visibility": null,
            "width": null
          }
        },
        "f7582011e22b4c3591d94b50f7f8d974": {
          "model_module": "@jupyter-widgets/controls",
          "model_module_version": "1.5.0",
          "model_name": "HBoxModel",
          "state": {
            "_dom_classes": [],
            "_model_module": "@jupyter-widgets/controls",
            "_model_module_version": "1.5.0",
            "_model_name": "HBoxModel",
            "_view_count": null,
            "_view_module": "@jupyter-widgets/controls",
            "_view_module_version": "1.5.0",
            "_view_name": "HBoxView",
            "box_style": "",
            "children": [
              "IPY_MODEL_b4001f7c2631436fbc9db957fc7fa3f8",
              "IPY_MODEL_f881f68ee1314ea788931f660e0e0e81",
              "IPY_MODEL_df0087db0d6546f49bc47bd6c169e17f"
            ],
            "layout": "IPY_MODEL_e7834ed36c684f91babb1853a99a8a76"
          }
        },
        "f83ad2dbebe4416bb69f36a74a248e59": {
          "model_module": "@jupyter-widgets/base",
          "model_module_version": "1.2.0",
          "model_name": "LayoutModel",
          "state": {
            "_model_module": "@jupyter-widgets/base",
            "_model_module_version": "1.2.0",
            "_model_name": "LayoutModel",
            "_view_count": null,
            "_view_module": "@jupyter-widgets/base",
            "_view_module_version": "1.2.0",
            "_view_name": "LayoutView",
            "align_content": null,
            "align_items": null,
            "align_self": null,
            "border": null,
            "bottom": null,
            "display": null,
            "flex": null,
            "flex_flow": null,
            "grid_area": null,
            "grid_auto_columns": null,
            "grid_auto_flow": null,
            "grid_auto_rows": null,
            "grid_column": null,
            "grid_gap": null,
            "grid_row": null,
            "grid_template_areas": null,
            "grid_template_columns": null,
            "grid_template_rows": null,
            "height": null,
            "justify_content": null,
            "justify_items": null,
            "left": null,
            "margin": null,
            "max_height": null,
            "max_width": null,
            "min_height": null,
            "min_width": null,
            "object_fit": null,
            "object_position": null,
            "order": null,
            "overflow": null,
            "overflow_x": null,
            "overflow_y": null,
            "padding": null,
            "right": null,
            "top": null,
            "visibility": null,
            "width": null
          }
        },
        "f881f68ee1314ea788931f660e0e0e81": {
          "model_module": "@jupyter-widgets/controls",
          "model_module_version": "1.5.0",
          "model_name": "FloatProgressModel",
          "state": {
            "_dom_classes": [],
            "_model_module": "@jupyter-widgets/controls",
            "_model_module_version": "1.5.0",
            "_model_name": "FloatProgressModel",
            "_view_count": null,
            "_view_module": "@jupyter-widgets/controls",
            "_view_module_version": "1.5.0",
            "_view_name": "ProgressView",
            "bar_style": "success",
            "description": "",
            "description_tooltip": null,
            "layout": "IPY_MODEL_e82f98ed548640be8ba82fc77ab5eb86",
            "max": 898822,
            "min": 0,
            "orientation": "horizontal",
            "style": "IPY_MODEL_6103149925ef482788d0f10da893cf7e",
            "value": 898822
          }
        },
        "fc97146360244de3841c047c77337c6a": {
          "model_module": "@jupyter-widgets/controls",
          "model_module_version": "1.5.0",
          "model_name": "FloatProgressModel",
          "state": {
            "_dom_classes": [],
            "_model_module": "@jupyter-widgets/controls",
            "_model_module_version": "1.5.0",
            "_model_name": "FloatProgressModel",
            "_view_count": null,
            "_view_module": "@jupyter-widgets/controls",
            "_view_module_version": "1.5.0",
            "_view_name": "ProgressView",
            "bar_style": "success",
            "description": "",
            "description_tooltip": null,
            "layout": "IPY_MODEL_9d93058756fd4f59ba55f9aa22d40d5a",
            "max": 1154,
            "min": 0,
            "orientation": "horizontal",
            "style": "IPY_MODEL_dd5e189a860c4b3cb8e056acb1b07b49",
            "value": 1154
          }
        },
        "fe4b148e017d48579b3019ea14a79e1c": {
          "model_module": "@jupyter-widgets/controls",
          "model_module_version": "1.5.0",
          "model_name": "HBoxModel",
          "state": {
            "_dom_classes": [],
            "_model_module": "@jupyter-widgets/controls",
            "_model_module_version": "1.5.0",
            "_model_name": "HBoxModel",
            "_view_count": null,
            "_view_module": "@jupyter-widgets/controls",
            "_view_module_version": "1.5.0",
            "_view_name": "HBoxView",
            "box_style": "",
            "children": [
              "IPY_MODEL_89a26cc89a544f10ba5faa6ff1946d6f",
              "IPY_MODEL_fc97146360244de3841c047c77337c6a",
              "IPY_MODEL_4490344d11f04fffb04aa7e54f3631ae"
            ],
            "layout": "IPY_MODEL_04608ae5272041e3a216255948438e09"
          }
        }
      }
    }
  },
  "nbformat": 4,
  "nbformat_minor": 0
}
